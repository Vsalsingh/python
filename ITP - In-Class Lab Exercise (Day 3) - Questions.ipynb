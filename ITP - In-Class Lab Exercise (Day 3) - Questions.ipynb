{
 "cells": [
  {
   "cell_type": "markdown",
   "metadata": {},
   "source": [
    "<table align=\"center\" width=100%>\n",
    "    <tr>\n",
    "        <td width=\"10%\">\n",
    "            <img src=\"in_class.png\">\n",
    "        </td>\n",
    "        <td>\n",
    "            <div align=\"center\">\n",
    "                <font color=\"#21618C\" size=8px>\n",
    "                    <b> Inclass-Lab  <br>(Day 3)\n",
    "                    </b>\n",
    "                </font>\n",
    "            </div>\n",
    "        </td>\n",
    "    </tr>\n",
    "</table>"
   ]
  },
  {
   "cell_type": "markdown",
   "metadata": {},
   "source": [
    "## Table of Content\n",
    "\n",
    "1. **[Conditional Statements](#cond)**\n",
    "2. **[Python Flow Control](#flow_control)**\n",
    "3. **[List Comprehension](#lc)**\n",
    "\n"
   ]
  },
  {
   "cell_type": "markdown",
   "metadata": {
    "colab_type": "text",
    "id": "bEAynmvFHq-M"
   },
   "source": [
    "<a id=\"cond\"> </a>\n",
    "## 1. Conditional Statements"
   ]
  },
  {
   "cell_type": "markdown",
   "metadata": {
    "colab_type": "text",
    "id": "lRSkSpPqHq-M"
   },
   "source": [
    "<table align=\"left\">\n",
    "    <tr>\n",
    "        <td width=\"6%\">\n",
    "            <img src=\"question_icon.png\">\n",
    "        </td>\n",
    "        <td>\n",
    "            <div align=\"left\", style=\"font-size:120%\">\n",
    "                <font color=\"#21618C\">\n",
    "                    <b>1. Write a program to check whether a given number is multiple of 7 (use if statement)</b>\n",
    "                </font>\n",
    "            </div>\n",
    "        </td>\n",
    "    </tr>\n",
    "</table>"
   ]
  },
  {
   "cell_type": "code",
   "execution_count": 14,
   "metadata": {},
   "outputs": [
    {
     "name": "stdout",
     "output_type": "stream",
     "text": [
      "enter a number-20\n",
      "20 is not divisible by 7\n"
     ]
    }
   ],
   "source": [
    "x= int(input(\"enter a number-\"))\n",
    "if x % 7 ==0:\n",
    "       print(x, \"is divisible by 7\") \n",
    "else:\n",
    "    print(x,\"is not divisible by 7\")\n",
    "    \n",
    "    \n",
    "    \n",
    "    "
   ]
  },
  {
   "cell_type": "markdown",
   "metadata": {},
   "source": [
    "## or"
   ]
  },
  {
   "cell_type": "code",
   "execution_count": 16,
   "metadata": {
    "colab": {},
    "colab_type": "code",
    "id": "hr63zbq1Hq-Q"
   },
   "outputs": [
    {
     "name": "stdout",
     "output_type": "stream",
     "text": [
      "enter a number- 21\n",
      "yes\n"
     ]
    }
   ],
   "source": [
    "num= int(input(\"enter a number-\"))\n",
    "var= \"yes\"if num % 7 ==0  else \"no\"\n",
    "print(var)"
   ]
  },
  {
   "cell_type": "markdown",
   "metadata": {
    "colab_type": "text",
    "id": "K6Vhhi5AHq-P"
   },
   "source": [
    "\n",
    "<table align=\"left\">\n",
    "    <tr>\n",
    "        <td width=\"6%\">\n",
    "            <img src=\"question_icon.png\">\n",
    "        </td>\n",
    "        <td>\n",
    "            <div align=\"left\", style=\"font-size:120%\">\n",
    "                <font color=\"#21618C\">\n",
    "                    <b>2. Write a code to print the maximum of two numbers (use if-else)</b>\n",
    "                </font>\n",
    "            </div>\n",
    "        </td>\n",
    "    </tr>\n",
    "</table>"
   ]
  },
  {
   "cell_type": "code",
   "execution_count": 1,
   "metadata": {},
   "outputs": [
    {
     "name": "stdout",
     "output_type": "stream",
     "text": [
      "enter a number-5\n",
      " enter a number-3\n",
      "yes\n"
     ]
    }
   ],
   "source": [
    "num1 = int(input(\"enter a number-\"))\n",
    "num2= int(input(\" enter a number-\"))\n",
    "if num1 > num2:\n",
    "    print(\"yes\")\n",
    "else:\n",
    "    print(\"no\") \n",
    "    \n",
    "    \n",
    "    \n",
    "        \n",
    "        "
   ]
  },
  {
   "cell_type": "markdown",
   "metadata": {
    "colab_type": "text",
    "id": "HxI9Dq2jHq-S"
   },
   "source": [
    "<table align=\"left\">\n",
    "    <tr>\n",
    "        <td width=\"6%\">\n",
    "            <img src=\"question_icon.png\">\n",
    "        </td>\n",
    "        <td>\n",
    "            <div align=\"left\", style=\"font-size:120%\">\n",
    "                <font color=\"#21618C\">\n",
    "                    <b>3. Write a program to check whether a number is positive, negative or zero (use if-elif) </b>\n",
    "                </font>\n",
    "            </div>\n",
    "        </td>\n",
    "    </tr>\n",
    "</table>"
   ]
  },
  {
   "cell_type": "code",
   "execution_count": 43,
   "metadata": {
    "colab": {},
    "colab_type": "code",
    "id": "Y47AyVjLHq-T"
   },
   "outputs": [
    {
     "name": "stdout",
     "output_type": "stream",
     "text": [
      "enter a number-0\n",
      "zero\n"
     ]
    }
   ],
   "source": [
    "num = int(input(\"enter a number-\"))\n",
    "if num > 0:\n",
    "    print(num,\"is a positive number\")\n",
    "elif num < 0:\n",
    "    print(num, \" is a negative number\")\n",
    "else:\n",
    "        print(\"zero\")"
   ]
  },
  {
   "cell_type": "markdown",
   "metadata": {},
   "source": [
    "### Let's begin with some hands-on practice exercises"
   ]
  },
  {
   "cell_type": "markdown",
   "metadata": {},
   "source": [
    "<a id= \"flow_control\"> </a>\n",
    "## 2. Python Flow Control"
   ]
  },
  {
   "cell_type": "markdown",
   "metadata": {},
   "source": [
    "<table align=\"left\">\n",
    "    <tr>\n",
    "        <td width=\"6%\">\n",
    "            <img src=\"question_icon.png\">\n",
    "        </td>\n",
    "        <td>\n",
    "            <div align=\"left\", style=\"font-size:120%\">\n",
    "                <font color=\"#21618C\">\n",
    "                    <b>4. Write a code to print table of 5 using assignment operand +=.</b>\n",
    "                </font>\n",
    "            </div>\n",
    "        </td>\n",
    "    </tr>\n",
    "</table>"
   ]
  },
  {
   "cell_type": "code",
   "execution_count": 18,
   "metadata": {},
   "outputs": [
    {
     "name": "stdout",
     "output_type": "stream",
     "text": [
      "5 * 1  =  5\n",
      "5 * 2  =  10\n",
      "5 * 3  =  15\n",
      "5 * 4  =  20\n",
      "5 * 5  =  25\n",
      "5 * 6  =  30\n",
      "5 * 7  =  35\n",
      "5 * 8  =  40\n",
      "5 * 9  =  45\n",
      "5 * 10  =  50\n"
     ]
    }
   ],
   "source": [
    "i= 1\n",
    "n= 5\n",
    "while i<=10:\n",
    "    print(n ,'*', i , ' = ',n*i)\n",
    "    i +=1"
   ]
  },
  {
   "cell_type": "code",
   "execution_count": 5,
   "metadata": {},
   "outputs": [
    {
     "name": "stdout",
     "output_type": "stream",
     "text": [
      "2 * 1 = 2\n",
      "2 * 2 = 4\n",
      "2 * 3 = 6\n",
      "2 * 4 = 8\n",
      "2 * 5 = 10\n",
      "2 * 6 = 12\n",
      "2 * 7 = 14\n",
      "2 * 8 = 16\n",
      "2 * 9 = 18\n",
      "2 * 10 = 20\n"
     ]
    }
   ],
   "source": [
    "  ="
   ]
  },
  {
   "cell_type": "markdown",
   "metadata": {},
   "source": [
    "<table align=\"left\">\n",
    "    <tr>\n",
    "        <td width=\"6%\">\n",
    "            <img src=\"question_icon.png\">\n",
    "        </td>\n",
    "        <td>\n",
    "            <div align=\"left\", style=\"font-size:120%\">\n",
    "                <font color=\"#21618C\">\n",
    "                    <b>5. Write a program for generating a fibonacci series starting with 0 and 1 for the next 10 values using a while loop. </b>\n",
    "                </font>\n",
    "            </div>\n",
    "        </td>\n",
    "    </tr>\n",
    "</table>"
   ]
  },
  {
   "cell_type": "code",
   "execution_count": 6,
   "metadata": {},
   "outputs": [
    {
     "name": "stdout",
     "output_type": "stream",
     "text": [
      "0 1 1 2 3 5 8 13 21 34 55 "
     ]
    }
   ],
   "source": [
    "first=0\n",
    "second=1\n",
    "i=0\n",
    "\n",
    "while i <=10 :\n",
    "    print(first,end=\" \")\n",
    "    third = first + second\n",
    "    first = second\n",
    "    second=third\n",
    "    i += 1"
   ]
  },
  {
   "cell_type": "code",
   "execution_count": 10,
   "metadata": {},
   "outputs": [
    {
     "name": "stdout",
     "output_type": "stream",
     "text": [
      "0 1 1 2 3 5 8 13 21 34 55 "
     ]
    }
   ],
   "source": [
    "first  = 0\n",
    "second = 1\n",
    "i=0\n",
    "\n",
    "while i <=10:\n",
    "    print(first ,end=\" \")\n",
    "    third = first + second\n",
    "    first = second\n",
    "    second = third\n",
    "    i += 1\n",
    "    "
   ]
  },
  {
   "cell_type": "markdown",
   "metadata": {},
   "source": [
    "<table align=\"left\">\n",
    "    <tr>\n",
    "        <td width=\"6%\">\n",
    "            <img src=\"question_icon.png\">\n",
    "        </td>\n",
    "        <td>\n",
    "            <div align=\"left\", style=\"font-size:120%\">\n",
    "                <font color=\"#21618C\">\n",
    "                    <b>6. Write a program to check whether a number is greater than the other using if statement (take the input from user).</b>\n",
    "                </font>\n",
    "            </div>\n",
    "        </td>\n",
    "    </tr>\n",
    "</table>"
   ]
  },
  {
   "cell_type": "code",
   "execution_count": 3,
   "metadata": {},
   "outputs": [
    {
     "name": "stdout",
     "output_type": "stream",
     "text": [
      "\n",
      "True\n",
      "False\n",
      "\n"
     ]
    }
   ],
   "source": [
    "num = [2, 3, 4, 5]\n",
    "print()\n",
    "print(all(x > 1 for x in num))\n",
    "print(all(x > 4 for x in num))\n",
    "print() "
   ]
  },
  {
   "cell_type": "markdown",
   "metadata": {},
   "source": [
    "<table align=\"left\">\n",
    "    <tr>\n",
    "        <td width=\"6%\">\n",
    "            <img src=\"question_icon.png\">\n",
    "        </td>\n",
    "        <td>\n",
    "            <div align=\"left\", style=\"font-size:120%\">\n",
    "                <font color=\"#21618C\">\n",
    "                    <b>7. Write a code to check whether a number is divisible by 7 or not (take the input from user). </b>\n",
    "                </font>\n",
    "            </div>\n",
    "        </td>\n",
    "    </tr>\n",
    "</table>"
   ]
  },
  {
   "cell_type": "code",
   "execution_count": 23,
   "metadata": {},
   "outputs": [
    {
     "name": "stdout",
     "output_type": "stream",
     "text": [
      "enter a number3\n",
      "no\n"
     ]
    }
   ],
   "source": [
    "num = int(input(\"enter a number\"))\n",
    "if num%7==0:\n",
    "    print('yes')\n",
    "else:\n",
    "    print('no')"
   ]
  },
  {
   "cell_type": "markdown",
   "metadata": {},
   "source": [
    "<table align=\"left\">\n",
    "    <tr>\n",
    "        <td width=\"6%\">\n",
    "            <img src=\"question_icon.png\">\n",
    "        </td>\n",
    "        <td>\n",
    "            <div align=\"left\", style=\"font-size:120%\">\n",
    "                <font color=\"#21618C\">\n",
    "                    <b>8. Write a code to find factorial of a number (take the input from user). </b>\n",
    "                </font>\n",
    "            </div>\n",
    "        </td>\n",
    "    </tr>\n",
    "</table>"
   ]
  },
  {
   "cell_type": "code",
   "execution_count": 6,
   "metadata": {},
   "outputs": [
    {
     "name": "stdout",
     "output_type": "stream",
     "text": [
      "Factorial of 5 is 120\n"
     ]
    }
   ],
   "source": [
    "import math\n",
    " \n",
    "def factorial(n):\n",
    "    return(math.factorial(n))\n",
    "\n",
    "num = 5\n",
    "print(\"Factorial of\", num, \"is\",\n",
    "      factorial(num))\n",
    " "
   ]
  },
  {
   "cell_type": "markdown",
   "metadata": {},
   "source": [
    "<table align=\"left\">\n",
    "    <tr>\n",
    "        <td width=\"6%\">\n",
    "            <img src=\"question_icon.png\">\n",
    "        </td>\n",
    "        <td>\n",
    "            <div align=\"left\", style=\"font-size:120%\">\n",
    "                <font color=\"#21618C\">\n",
    "                    <b>9. Write a program to check whether a number is prime or not (take the input from user).</b>\n",
    "                </font>\n",
    "            </div>\n",
    "        </td>\n",
    "    </tr>\n",
    "</table>"
   ]
  },
  {
   "cell_type": "code",
   "execution_count": 5,
   "metadata": {},
   "outputs": [
    {
     "name": "stdout",
     "output_type": "stream",
     "text": [
      "false\n"
     ]
    }
   ],
   "source": [
    "n = 1\n",
    "prime_flag = 0\n",
    " \n",
    "if(n > 1):\n",
    "    for i in range(2, int(sqrt(n)) + 1):\n",
    "        if (n % i == 0):\n",
    "            prime_flag = 1\n",
    "            break\n",
    "    if (prime_flag == 0):\n",
    "        print(\"true\")\n",
    "    else:\n",
    "        print(\"false\")\n",
    "else:\n",
    "    print(\"false\")"
   ]
  },
  {
   "cell_type": "markdown",
   "metadata": {},
   "source": [
    "<table align=\"left\">\n",
    "    <tr>\n",
    "        <td width=\"6%\">\n",
    "            <img src=\"question_icon.png\">\n",
    "        </td>\n",
    "        <td>\n",
    "            <div align=\"left\", style=\"font-size:120%\">\n",
    "                <font color=\"#21618C\">\n",
    "                    <b>10. Write a program to check whether two numbers are amicable or not (take the input from user).</b>\n",
    "                </font>\n",
    "            </div>\n",
    "        </td>\n",
    "    </tr>\n",
    "</table>"
   ]
  },
  {
   "cell_type": "code",
   "execution_count": null,
   "metadata": {},
   "outputs": [],
   "source": [
    "Input  : arr[] = {220, 284, 1184, 1210, 2, 5}\n",
    "Output : 2\n",
    "Explanation : (220, 284) and (1184, 1210) \n",
    "              form amicable pair\n",
    "\n",
    "Input  : arr[] = {2620, 2924, 5020, 5564, 6232, 6368}\n",
    "Output : 3\n",
    "Explanation : (2620, 2924), (5020, 5564) and (6232, 6368)\n",
    "              forms amicable pair"
   ]
  },
  {
   "cell_type": "code",
   "execution_count": 6,
   "metadata": {},
   "outputs": [
    {
     "name": "stdout",
     "output_type": "stream",
     "text": [
      "220\n",
      "284\n",
      "They are Amicable numbers\n"
     ]
    }
   ],
   "source": [
    "x=int(input())\n",
    "y=int(input())\n",
    "sum_x=0\n",
    "sum_y=0\n",
    "for each in range(1,x):\n",
    "    if(x%each==0):\n",
    "        sum_x=sum_x+each\n",
    "for i in range(1,y):\n",
    "    if(y%i==0):\n",
    "        sum_y=sum_y+i\n",
    "if(sum_x==y and sum_y==x):\n",
    "    print(\"They are Amicable numbers\")\n",
    "else:\n",
    "    print(\"No they are not Amicable\")\n",
    "    "
   ]
  },
  {
   "cell_type": "markdown",
   "metadata": {},
   "source": [
    "<table align=\"left\">\n",
    "    <tr>\n",
    "        <td width=\"6%\">\n",
    "            <img src=\"question_icon.png\">\n",
    "        </td>\n",
    "        <td>\n",
    "            <div align=\"left\", style=\"font-size:120%\">\n",
    "                <font color=\"#21618C\">\n",
    "                    <b>11. Reverse string using a for loop (take the input from user).</b>\n",
    "                </font>\n",
    "            </div>\n",
    "        </td>\n",
    "    </tr>\n",
    "</table>"
   ]
  },
  {
   "cell_type": "code",
   "execution_count": 55,
   "metadata": {},
   "outputs": [
    {
     "name": "stdout",
     "output_type": "stream",
     "text": [
      "enter a string -hello\n",
      "reverse of  string without using repurcusion is\n",
      "hello\n"
     ]
    }
   ],
   "source": [
    "my_string = str(input(\"enter a string -\"))\n",
    "print(\"reverse of  string without using repurcusion is\")\n",
    "print(my_string)\n"
   ]
  },
  {
   "cell_type": "markdown",
   "metadata": {},
   "source": [
    "<table align=\"left\">\n",
    "    <tr>\n",
    "        <td width=\"6%\">\n",
    "            <img src=\"question_icon.png\">\n",
    "        </td>\n",
    "        <td>\n",
    "            <div align=\"left\", style=\"font-size:120%\">\n",
    "                <font color=\"#21618C\">\n",
    "                    <b>12. Write a code to find the average of given numbers (take the input from user).</b>\n",
    "                </font>\n",
    "            </div>\n",
    "        </td>\n",
    "    </tr>\n",
    "</table>"
   ]
  },
  {
   "cell_type": "code",
   "execution_count": 1,
   "metadata": {},
   "outputs": [
    {
     "name": "stdout",
     "output_type": "stream",
     "text": [
      "Enter the Value of n: \n",
      "5\n",
      "Enter 5 Numbers: \n",
      "5\n",
      "5\n",
      "5\n",
      "5\n",
      "5\n",
      "\n",
      "Average =  5.0\n"
     ]
    }
   ],
   "source": [
    "print(\"Enter the Value of n: \")\n",
    "n = int(input())\n",
    "print(\"Enter \" +str(n)+ \" Numbers: \")\n",
    "nums = []\n",
    "for i in range(n):\n",
    "    nums.insert(i, int(input()))\n",
    "\n",
    "sum = 0\n",
    "for i in range(n):\n",
    "    sum = sum+nums[i]\n",
    "\n",
    "avg = sum/n\n",
    "print(\"\\nAverage = \", avg)\n",
    "\n"
   ]
  },
  {
   "cell_type": "markdown",
   "metadata": {},
   "source": [
    "5#####\n",
    "            <img src=\"question_icon.png\">\n",
    "        </td>\n",
    "        <td>\n",
    "            <div align=\"left\", style=\"font-size:120%\">\n",
    "                <font color=\"#21618C\">\n",
    "                    <b>13. Write a program to find the area of a circle for a given radius (take the input from user).</b>\n",
    "                </font>\n",
    "            </div>\n",
    "        </td>\n",
    "    </tr>\n",
    "</table>"
   ]
  },
  {
   "cell_type": "code",
   "execution_count": 18,
   "metadata": {},
   "outputs": [
    {
     "name": "stdout",
     "output_type": "stream",
     "text": [
      " enter the radius -5\n",
      "39.0 15.0\n"
     ]
    }
   ],
   "source": [
    "radius = float(input(\" enter the radius -\"))\n",
    "area = 22/7*(radius**2)//2\n",
    "circumference = 2*22/7* radius //2\n",
    "print(area , circumference)\n"
   ]
  },
  {
   "cell_type": "markdown",
   "metadata": {},
   "source": [
    "\n",
    "\n",
    "\n",
    "\n",
    "\n",
    "\n",
    "\n",
    "<table align=\"left\">\n",
    "    <tr>\n",
    "        <td width=\"6%\">\n",
    "            <img src=\"question_icon.png\">\n",
    "        </td>\n",
    "        <td>\n",
    "            <div align=\"left\", style=\"font-size:120%\">\n",
    "                <font color=\"#21618C\">\n",
    "                    <b>14. Write a code to find the simple interest (take the input from user).</b>\n",
    "                </font>\n",
    "            </div>\n",
    "        </td>\n",
    "    </tr>\n",
    "</table>"
   ]
  },
  {
   "cell_type": "code",
   "execution_count": 2,
   "metadata": {},
   "outputs": [
    {
     "name": "stdout",
     "output_type": "stream",
     "text": [
      "Enter the principal amount : 5000\n",
      "Enter the number of years : 1\n",
      "Enter the rate of interest : 6\n",
      "Simple interest : 300.0\n"
     ]
    }
   ],
   "source": [
    "P = float(input(\"Enter the principal amount : \"))\n",
    "N = float(input(\"Enter the number of years : \"))\n",
    "R = float(input(\"Enter the rate of interest : \"))\n",
    "#2\n",
    "SI = (P * N * R)/100\n",
    "print(\"Simple interest : {}\".format(SI))"
   ]
  },
  {
   "cell_type": "markdown",
   "metadata": {},
   "source": [
    "<a id= \"lc\"> </a>\n",
    "## 3. List Comprehension"
   ]
  },
  {
   "cell_type": "markdown",
   "metadata": {},
   "source": [
    "<table align=\"left\">\n",
    "    <tr>\n",
    "        <td width=\"6%\">\n",
    "            <img src=\"question_icon.png\">\n",
    "        </td>\n",
    "        <td>\n",
    "            <div align=\"left\", style=\"font-size:120%\">\n",
    "                <font color=\"#21618C\">\n",
    "                    <b>15. Use list comprehension to obtain the squre root of first 10 natural numbers.</b>\n",
    "                </font>\n",
    "            </div>\n",
    "        </td>\n",
    "    </tr>\n",
    "</table>"
   ]
  },
  {
   "cell_type": "code",
   "execution_count": 44,
   "metadata": {},
   "outputs": [
    {
     "data": {
      "text/plain": [
       "[1, 4, 9, 16, 25, 36, 49, 64, 81, 100]"
      ]
     },
     "execution_count": 44,
     "metadata": {},
     "output_type": "execute_result"
    }
   ],
   "source": [
    "[i**2 for i in range(1,11)]"
   ]
  },
  {
   "cell_type": "markdown",
   "metadata": {},
   "source": [
    "<table align=\"left\">\n",
    "    <tr>\n",
    "        <td width=\"6%\">\n",
    "            <img src=\"question_icon.png\">\n",
    "        </td>\n",
    "        <td>\n",
    "            <div align=\"left\", style=\"font-size:120%\">\n",
    "                <font color=\"#21618C\">\n",
    "                    <b>16. Use list comprehension to find the used vowels in a given sentence and/or word (take the input from user). </b>\n",
    "                </font>\n",
    "            </div>\n",
    "        </td>\n",
    "    </tr>\n",
    "</table>"
   ]
  },
  {
   "cell_type": "code",
   "execution_count": 48,
   "metadata": {},
   "outputs": [],
   "source": [
    "a= (\"a quick for jump over a lazy lamb\")"
   ]
  },
  {
   "cell_type": "code",
   "execution_count": 50,
   "metadata": {},
   "outputs": [
    {
     "data": {
      "text/plain": [
       "['a', 'u', 'i', 'o', 'u', 'o', 'e', 'a', 'a', 'a']"
      ]
     },
     "execution_count": 50,
     "metadata": {},
     "output_type": "execute_result"
    }
   ],
   "source": [
    " [i for i in a if i in 'aeiou']\n",
    "    "
   ]
  },
  {
   "cell_type": "markdown",
   "metadata": {},
   "source": [
    "<table align=\"left\">\n",
    "    <tr>\n",
    "        <td width=\"6%\">\n",
    "            <img src=\"question_icon.png\">\n",
    "        </td>\n",
    "        <td>\n",
    "            <div align=\"left\", style=\"font-size:120%\">\n",
    "                <font color=\"#21618C\">\n",
    "                    <b>17. Create a dictionary and access it values using a condition on its key. The data is given below. Let the condidtion on the key is that it should be a even number.</b>\n",
    "                </font>\n",
    "            </div>\n",
    "       </td>\n",
    "    </tr>\n",
    "</table>\n"
   ]
  },
  {
   "cell_type": "markdown",
   "metadata": {},
   "source": [
    "<table>\n",
    "<tr>\n",
    "    <th>Key</th>\n",
    "    <td>1</td>\n",
    "    <td>2</td>\n",
    "    <td>3</td>\n",
    "    <td>4</td> \n",
    "    <td>5</td> \n",
    "</tr>\n",
    "<tr>\n",
    "    <th>Name</th>\n",
    "    <td>Aman</td>\n",
    "    <td>Mohit</td>\n",
    "    <td>Guari</td>\n",
    "    <td>Imran</td>\n",
    "    <td>Roma</td\n",
    "     </tr>\n",
    "<tr>\n",
    "    <th>Marks</th>\n",
    "    <td>24</td>\n",
    "    <td>25</td>\n",
    "    <td>26</td>\n",
    "    <td>24</td>\n",
    "    <td>27</td>\n",
    "   </tr>\n",
    "</table>"
   ]
  },
  {
   "cell_type": "code",
   "execution_count": 69,
   "metadata": {},
   "outputs": [
    {
     "data": {
      "text/plain": [
       "{2: {'name': 'mohit', 'marks ': 25}, 4: {'name': 'imran', 'marks': 24}}"
      ]
     },
     "execution_count": 69,
     "metadata": {},
     "output_type": "execute_result"
    }
   ],
   "source": [
    "dictionary= {\n",
    "    1:{ \"name \":\"aman\" , \"marks\" : 24},\n",
    "    2:{ \"name\" :\"mohit\" , \"marks \" :25},\n",
    "    3:{ \"name\" :\"gauri\" , \"marks\" : 26},\n",
    "    4:{ \"name\" :\"imran\" , \"marks\" : 24},\n",
    "    5:{ \"name\" :\"roma\" ,  \"marks\" : 27}\n",
    "}\n",
    "{x:dictionary[x] for x in dictionary if x % 2==0}\n",
    "\n"
   ]
  },
  {
   "cell_type": "markdown",
   "metadata": {},
   "source": [
    "<table align=\"left\">\n",
    "    <tr>\n",
    "        <td width=\"6%\">\n",
    "            <img src=\"question_icon.png\">\n",
    "        </td>\n",
    "        <td>\n",
    "            <div align=\"left\", style=\"font-size:120%\">\n",
    "                <font color=\"#21618C\">\n",
    "                    <b>18. Use list comprehension to find even and odd numbers from first 20 whole numbers.</b>\n",
    "                </font>\n",
    "            </div>\n",
    "        </td>\n",
    "    </tr>\n",
    "</table>"
   ]
  },
  {
   "cell_type": "code",
   "execution_count": 74,
   "metadata": {},
   "outputs": [],
   "source": [
    "a =(1,2,3,4,5,6,7,8,9,10,11,12,13,14,15,16,17,19,20,)"
   ]
  },
  {
   "cell_type": "code",
   "execution_count": 76,
   "metadata": {},
   "outputs": [
    {
     "data": {
      "text/plain": [
       "[2, 4, 6, 8, 10, 12, 14, 16, 20]"
      ]
     },
     "execution_count": 76,
     "metadata": {},
     "output_type": "execute_result"
    }
   ],
   "source": [
    "[i for i in a if i%2==0 ]"
   ]
  },
  {
   "cell_type": "markdown",
   "metadata": {},
   "source": [
    "<table align=\"left\">\n",
    "    <tr>\n",
    "        <td width=\"6%\">\n",
    "            <img src=\"question_icon.png\">\n",
    "        </td>\n",
    "        <td>\n",
    "            <div align=\"left\", style=\"font-size:120%\">\n",
    "                <font color=\"#21618C\">\n",
    "                    <b>19. Use list comprehension to print numbers divisible  by 2 and 3 in between 1 and 100. </b>\n",
    "                </font>\n",
    "            </div>\n",
    "        </td>\n",
    "    </tr>\n",
    "</table>"
   ]
  },
  {
   "cell_type": "code",
   "execution_count": null,
   "metadata": {},
   "outputs": [],
   "source": []
  },
  {
   "cell_type": "code",
   "execution_count": 30,
   "metadata": {},
   "outputs": [
    {
     "data": {
      "text/plain": [
       "[6, 12, 18, 24, 30, 36, 42, 48, 54, 60, 66, 72, 78, 84, 90, 96]"
      ]
     },
     "execution_count": 30,
     "metadata": {},
     "output_type": "execute_result"
    }
   ],
   "source": [
    " [ i for i   in range(1,101) if i%2==0 and i%3==0 ]\n"
   ]
  },
  {
   "cell_type": "markdown",
   "metadata": {},
   "source": [
    "<table align=\"left\">\n",
    "    <tr>\n",
    "        <td width=\"6%\">\n",
    "            <img src=\"question_icon.png\">\n",
    "        </td>\n",
    "        <td>\n",
    "            <div align=\"left\", style=\"font-size:120%\">\n",
    "                <font color=\"#21618C\">\n",
    "                    <b>20. Use list comprehension to create a dictionary such that its keys are numbers from 1 to 10 and values are the corresponding to that key are its cube.</b>\n",
    "                </font>\n",
    "            </div>\n",
    "        </td>\n",
    "    </tr>\n",
    "</table>"
   ]
  },
  {
   "cell_type": "code",
   "execution_count": 4,
   "metadata": {},
   "outputs": [
    {
     "name": "stdout",
     "output_type": "stream",
     "text": [
      "{1: 1, 2: 8, 3: 27, 4: 64, 5: 125, 6: 216, 7: 343, 8: 512, 9: 729, 10: 1000}\n"
     ]
    }
   ],
   "source": [
    "myDict = {x: x**3 for x in [1,2,3,4,5,6,7,8,9,10]}\n",
    "print (myDict)"
   ]
  },
  {
   "cell_type": "markdown",
   "metadata": {},
   "source": [
    "<table align=\"left\">\n",
    "    <tr>\n",
    "        <td width=\"6%\">\n",
    "            <img src=\"question_icon.png\">\n",
    "        </td>\n",
    "        <td>\n",
    "            <div align=\"left\", style=\"font-size:120%\">\n",
    "                <font color=\"#21618C\">\n",
    "                    <b>21. Use list comprehension to extract numbers from a string </b>\n",
    "                </font>\n",
    "            </div>\n",
    "        </td>\n",
    "    </tr>\n",
    "</table>"
   ]
  },
  {
   "cell_type": "code",
   "execution_count": 4,
   "metadata": {},
   "outputs": [
    {
     "name": "stdout",
     "output_type": "stream",
     "text": [
      "['apple', 'banana', 'mango']\n"
     ]
    }
   ],
   "source": [
    "fruits = [\"apple\", \"banana\", \"cherry\", \"kiwi\", \"mango\"]\n",
    "newlist = []\n",
    "\n",
    "for x in fruits:\n",
    "  if \"a\" in x:\n",
    "    newlist.append(x)\n",
    "\n",
    "print(newlist)"
   ]
  },
  {
   "cell_type": "markdown",
   "metadata": {},
   "source": [
    "<table align=\"left\">\n",
    "    <tr>\n",
    "        <td width=\"6%\">\n",
    "            <img src=\"question_icon.png\">\n",
    "        </td>\n",
    "        <td>\n",
    "            <div align=\"left\", style=\"font-size:120%\">\n",
    "                <font color=\"#21618C\">\n",
    "                    <b>22. Use list comprehension to print table of 11 to 20 as shown below.</b>\n",
    "                </font>\n",
    "            </div>\n",
    "        </td>\n",
    "    </tr>\n",
    "</table>"
   ]
  },
  {
   "cell_type": "markdown",
   "metadata": {},
   "source": [
    "<table>\n",
    "<tr>\n",
    "    <td>11</td><td>22</td><td>33</td><td>44</td><td>55</td><td>66</td><td>77</td><td>88</td><td>99</td><td>110</td> \n",
    "</tr>\n",
    "    \n",
    "<tr>\n",
    "    <td>12</td><td>24</td><td>36</td><td>48</td><td>60</td><td>72</td><td>84</td><td>96</td><td>108</td><td>120</td> \n",
    "</tr>\n",
    "\n",
    "<tr>\n",
    "    <td>13</td><td>36</td><td>39</td><td>52</td><td>65</td><td>78</td><td>91</td><td>104</td><td>117</td><td>130</td> \n",
    "</tr> \n",
    "\n",
    "<tr>\n",
    "     <td>14</td><td>28</td><td>42</td><td>56</td><td>70</td> <td>84</td><td>98</td><td>112</td><td>126</td><td>140</td> \n",
    "</tr>\n",
    "\n",
    "<tr>\n",
    "     <td>15</td><td>30</td><td>45</td><td>60</td><td>75</td><td>90</td><td>105</td><td>120</td><td>135</td><td>150</td> \n",
    "</tr>\n",
    "\n",
    "<tr>\n",
    "     <td>16</td><td>32</td><td>48</td><td>64</td><td>80</td><td>96</td><td>112</td><td>128</td><td>144</td><td>160</td> \n",
    "</tr> \n",
    "\n",
    "<tr>\n",
    "     <td>17</td><td>34</td><td>51</td><td>68</td><td>85</td><td>102</td><td>119</td><td>136</td><td>153</td><td>170</td> \n",
    "</tr> \n",
    "\n",
    "<tr>\n",
    "     <td>18</td><td>36</td><td>54</td><td>72</td><td>90</td> <td>108</td><td>126</td><td>144</td><td>162</td><td>180</td> \n",
    "</tr>\n",
    "\n",
    "<tr>\n",
    " <td>19</td><td>38</td><td>57</td><td>76</td><td>95</td><td>114</td><td>133</td><td>152</td><td>171</td><td>190</td> \n",
    "</tr>\n",
    "\n",
    "<tr>\n",
    "     <td>20</td><td>40</td><td>60</td><td>80</td><td>100</td><td>120</td><td>140</td><td>160</td><td>180</td><td>200</td> \n",
    "<tr>    \n",
    "    \n",
    "</table>"
   ]
  },
  {
   "cell_type": "code",
   "execution_count": 55,
   "metadata": {},
   "outputs": [
    {
     "data": {
      "text/plain": [
       "[[11, 22, 33, 44, 55, 66, 77, 88, 99, 110],\n",
       " [12, 24, 36, 48, 60, 72, 84, 96, 108, 120],\n",
       " [13, 26, 39, 52, 65, 78, 91, 104, 117, 130],\n",
       " [14, 28, 42, 56, 70, 84, 98, 112, 126, 140],\n",
       " [15, 30, 45, 60, 75, 90, 105, 120, 135, 150],\n",
       " [16, 32, 48, 64, 80, 96, 112, 128, 144, 160],\n",
       " [17, 34, 51, 68, 85, 102, 119, 136, 153, 170],\n",
       " [18, 36, 54, 72, 90, 108, 126, 144, 162, 180],\n",
       " [19, 38, 57, 76, 95, 114, 133, 152, 171, 190],\n",
       " [20, 40, 60, 80, 100, 120, 140, 160, 180, 200]]"
      ]
     },
     "execution_count": 55,
     "metadata": {},
     "output_type": "execute_result"
    }
   ],
   "source": [
    "[[i*j for j in range(1,11)] for i in range(11,21)]"
   ]
  },
  {
   "cell_type": "markdown",
   "metadata": {},
   "source": [
    "<table align=\"left\">\n",
    "    <tr>\n",
    "        <td width=\"6%\">\n",
    "            <img src=\"question_icon.png\">\n",
    "        </td>\n",
    "        <td>\n",
    "            <div align=\"left\", style=\"font-size:120%\">\n",
    "                <font color=\"#21618C\">\n",
    "                    <b>23. Use list comprehension to find transpose of the matrix given below.</b>\n",
    "                </font>\n",
    "            </div>\n",
    "        </td>\n",
    "    </tr>\n",
    "</table>"
   ]
  },
  {
   "cell_type": "markdown",
   "metadata": {},
   "source": [
    "<table>\n",
    "    <tr>\n",
    "        <td>1</td>\n",
    "        <td>2</td>\n",
    "    </tr>\n",
    "    <tr>\n",
    "        <td>3</td>\n",
    "        <td>4</td>\n",
    "    </tr>\n",
    "    <tr>\n",
    "        <td>5</td>\n",
    "        <td>6</td>\n",
    "    </tr>\n",
    "    <tr>\n",
    "        <td>7</td>\n",
    "        <td>8</td>\n",
    "    </tr>\n",
    "    </table>"
   ]
  },
  {
   "cell_type": "code",
   "execution_count": 3,
   "metadata": {},
   "outputs": [
    {
     "name": "stdout",
     "output_type": "stream",
     "text": [
      " A: [[1, 3, 5, 7], [2, 4, 6, 8]]\n",
      " B: [[1, 2], [3, 4], [5, 6], [7, 8]]\n"
     ]
    }
   ],
   "source": [
    "A = [ [1, 3, 5,7], [2, 4, 6,8] ]\n",
    "\n",
    "#initialize B with size of A transpose\n",
    "B = [[0 for j in range(len(A))] for i in range(len(A[0]))]\n",
    "\n",
    "for j in range(len(A)):\n",
    "    for i in range(len(A[0])):\n",
    "        B[i][j] = A[j][i]\n",
    "\n",
    "\n",
    "print(' A:', A)\n",
    "print(' B:', B)"
   ]
  }
 ],
 "metadata": {
  "kernelspec": {
   "display_name": "Python 3",
   "language": "python",
   "name": "python3"
  },
  "language_info": {
   "codemirror_mode": {
    "name": "ipython",
    "version": 3
   },
   "file_extension": ".py",
   "mimetype": "text/x-python",
   "name": "python",
   "nbconvert_exporter": "python",
   "pygments_lexer": "ipython3",
   "version": "3.8.8"
  }
 },
 "nbformat": 4,
 "nbformat_minor": 2
}
