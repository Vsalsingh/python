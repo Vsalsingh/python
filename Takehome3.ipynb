{
 "cells": [
  {
   "cell_type": "code",
   "execution_count": 3,
   "id": "1c2735f9",
   "metadata": {},
   "outputs": [],
   "source": [
    "import numpy as np\n",
    "import pandas as pd\n",
    "import matplotlib.pyplot as plt\n",
    "import seaborn as sns\n",
    "\n",
    "from sklearn.model_selection import train_test_split\n",
    "from sklearn.preprocessing import StandardScaler\n",
    "\n",
    "from sklearn.cluster import AgglomerativeClustering , DBSCAN , KMeans\n",
    "\n",
    "from sklearn.metrics import silhouette_score\n",
    "\n",
    "from sklearn.metrics.pairwise import euclidean_distances\n",
    "\n",
    "from scipy.cluster.hierarchy import dendrogram , cophenet , linkage\n",
    "\n",
    "import warnings\n",
    "warnings.filterwarnings(\"ignore\", category=DeprecationWarning)\n",
    "warnings.filterwarnings(\"ignore\", category=FutureWarning)\n",
    "\n",
    "plt.rcParams['figure.figsize'] = [15,8]\n"
   ]
  },
  {
   "cell_type": "code",
   "execution_count": 22,
   "id": "13f1fd0e",
   "metadata": {},
   "outputs": [
    {
     "data": {
      "text/html": [
       "<div>\n",
       "<style scoped>\n",
       "    .dataframe tbody tr th:only-of-type {\n",
       "        vertical-align: middle;\n",
       "    }\n",
       "\n",
       "    .dataframe tbody tr th {\n",
       "        vertical-align: top;\n",
       "    }\n",
       "\n",
       "    .dataframe thead th {\n",
       "        text-align: right;\n",
       "    }\n",
       "</style>\n",
       "<table border=\"1\" class=\"dataframe\">\n",
       "  <thead>\n",
       "    <tr style=\"text-align: right;\">\n",
       "      <th></th>\n",
       "      <th>ID</th>\n",
       "      <th>ClumpThickness</th>\n",
       "      <th>Cell Size</th>\n",
       "      <th>Cell Shape</th>\n",
       "      <th>Marginal Adhesion</th>\n",
       "      <th>Single Epithelial Cell Size</th>\n",
       "      <th>Bare Nuclei</th>\n",
       "      <th>Normal Nucleoli</th>\n",
       "      <th>Bland Chromatin</th>\n",
       "      <th>Mitoses</th>\n",
       "      <th>Class</th>\n",
       "      <th>Unnamed: 11</th>\n",
       "      <th>Unnamed: 12</th>\n",
       "      <th>Unnamed: 13</th>\n",
       "    </tr>\n",
       "  </thead>\n",
       "  <tbody>\n",
       "    <tr>\n",
       "      <th>0</th>\n",
       "      <td>1000025</td>\n",
       "      <td>5</td>\n",
       "      <td>1</td>\n",
       "      <td>1</td>\n",
       "      <td>1</td>\n",
       "      <td>2</td>\n",
       "      <td>1</td>\n",
       "      <td>3</td>\n",
       "      <td>1</td>\n",
       "      <td>1</td>\n",
       "      <td>2</td>\n",
       "      <td>NaN</td>\n",
       "      <td>NaN</td>\n",
       "      <td>NaN</td>\n",
       "    </tr>\n",
       "    <tr>\n",
       "      <th>1</th>\n",
       "      <td>1002945</td>\n",
       "      <td>5</td>\n",
       "      <td>4</td>\n",
       "      <td>4</td>\n",
       "      <td>5</td>\n",
       "      <td>7</td>\n",
       "      <td>10</td>\n",
       "      <td>3</td>\n",
       "      <td>2</td>\n",
       "      <td>1</td>\n",
       "      <td>2</td>\n",
       "      <td>NaN</td>\n",
       "      <td>NaN</td>\n",
       "      <td>NaN</td>\n",
       "    </tr>\n",
       "    <tr>\n",
       "      <th>2</th>\n",
       "      <td>1015425</td>\n",
       "      <td>3</td>\n",
       "      <td>1</td>\n",
       "      <td>1</td>\n",
       "      <td>1</td>\n",
       "      <td>2</td>\n",
       "      <td>2</td>\n",
       "      <td>3</td>\n",
       "      <td>1</td>\n",
       "      <td>1</td>\n",
       "      <td>2</td>\n",
       "      <td>NaN</td>\n",
       "      <td>NaN</td>\n",
       "      <td>NaN</td>\n",
       "    </tr>\n",
       "    <tr>\n",
       "      <th>3</th>\n",
       "      <td>1016277</td>\n",
       "      <td>6</td>\n",
       "      <td>8</td>\n",
       "      <td>8</td>\n",
       "      <td>1</td>\n",
       "      <td>3</td>\n",
       "      <td>4</td>\n",
       "      <td>3</td>\n",
       "      <td>7</td>\n",
       "      <td>1</td>\n",
       "      <td>2</td>\n",
       "      <td>NaN</td>\n",
       "      <td>NaN</td>\n",
       "      <td>NaN</td>\n",
       "    </tr>\n",
       "    <tr>\n",
       "      <th>4</th>\n",
       "      <td>1017023</td>\n",
       "      <td>4</td>\n",
       "      <td>1</td>\n",
       "      <td>1</td>\n",
       "      <td>3</td>\n",
       "      <td>2</td>\n",
       "      <td>1</td>\n",
       "      <td>3</td>\n",
       "      <td>1</td>\n",
       "      <td>1</td>\n",
       "      <td>2</td>\n",
       "      <td>NaN</td>\n",
       "      <td>NaN</td>\n",
       "      <td>NaN</td>\n",
       "    </tr>\n",
       "  </tbody>\n",
       "</table>\n",
       "</div>"
      ],
      "text/plain": [
       "        ID  ClumpThickness  Cell Size  Cell Shape  Marginal Adhesion  \\\n",
       "0  1000025               5          1           1                  1   \n",
       "1  1002945               5          4           4                  5   \n",
       "2  1015425               3          1           1                  1   \n",
       "3  1016277               6          8           8                  1   \n",
       "4  1017023               4          1           1                  3   \n",
       "\n",
       "   Single Epithelial Cell Size Bare Nuclei  Normal Nucleoli  Bland Chromatin  \\\n",
       "0                            2           1                3                1   \n",
       "1                            7          10                3                2   \n",
       "2                            2           2                3                1   \n",
       "3                            3           4                3                7   \n",
       "4                            2           1                3                1   \n",
       "\n",
       "   Mitoses  Class  Unnamed: 11  Unnamed: 12  Unnamed: 13  \n",
       "0        1      2          NaN          NaN          NaN  \n",
       "1        1      2          NaN          NaN          NaN  \n",
       "2        1      2          NaN          NaN          NaN  \n",
       "3        1      2          NaN          NaN          NaN  \n",
       "4        1      2          NaN          NaN          NaN  "
      ]
     },
     "execution_count": 22,
     "metadata": {},
     "output_type": "execute_result"
    }
   ],
   "source": [
    "df = pd.read_csv(\"cancer.csv\")\n",
    "df.head()"
   ]
  },
  {
   "cell_type": "code",
   "execution_count": 23,
   "id": "7c24eb46",
   "metadata": {},
   "outputs": [
    {
     "data": {
      "text/plain": [
       "(699, 14)"
      ]
     },
     "execution_count": 23,
     "metadata": {},
     "output_type": "execute_result"
    }
   ],
   "source": [
    "df.shape"
   ]
  },
  {
   "cell_type": "code",
   "execution_count": 24,
   "id": "6a8cc213",
   "metadata": {},
   "outputs": [
    {
     "name": "stdout",
     "output_type": "stream",
     "text": [
      "<class 'pandas.core.frame.DataFrame'>\n",
      "RangeIndex: 699 entries, 0 to 698\n",
      "Data columns (total 14 columns):\n",
      " #   Column                       Non-Null Count  Dtype  \n",
      "---  ------                       --------------  -----  \n",
      " 0   ID                           699 non-null    int64  \n",
      " 1   ClumpThickness               699 non-null    int64  \n",
      " 2   Cell Size                    699 non-null    int64  \n",
      " 3   Cell Shape                   699 non-null    int64  \n",
      " 4   Marginal Adhesion            699 non-null    int64  \n",
      " 5   Single Epithelial Cell Size  699 non-null    int64  \n",
      " 6   Bare Nuclei                  699 non-null    object \n",
      " 7   Normal Nucleoli              699 non-null    int64  \n",
      " 8   Bland Chromatin              699 non-null    int64  \n",
      " 9   Mitoses                      699 non-null    int64  \n",
      " 10  Class                        699 non-null    int64  \n",
      " 11  Unnamed: 11                  0 non-null      float64\n",
      " 12  Unnamed: 12                  0 non-null      float64\n",
      " 13  Unnamed: 13                  0 non-null      float64\n",
      "dtypes: float64(3), int64(10), object(1)\n",
      "memory usage: 76.6+ KB\n"
     ]
    }
   ],
   "source": [
    "df.info()"
   ]
  },
  {
   "cell_type": "code",
   "execution_count": 26,
   "id": "d5b3d6f5",
   "metadata": {},
   "outputs": [],
   "source": [
    "df[\"Bare Nuclei\"] = df[\"Bare Nuclei\"].replace(\"?\" ,np.nan)"
   ]
  },
  {
   "cell_type": "code",
   "execution_count": 43,
   "id": "4903f1b4",
   "metadata": {},
   "outputs": [],
   "source": [
    "df[\"Bare Nuclei\"] = df[\"Bare Nuclei\"].astype(\"float\")"
   ]
  },
  {
   "cell_type": "code",
   "execution_count": 44,
   "id": "8086dd5e",
   "metadata": {},
   "outputs": [
    {
     "data": {
      "text/plain": [
       "ID                               int64\n",
       "ClumpThickness                   int64\n",
       "Cell Size                        int64\n",
       "Cell Shape                       int64\n",
       "Marginal Adhesion                int64\n",
       "Single Epithelial Cell Size      int64\n",
       "Bare Nuclei                    float64\n",
       "Normal Nucleoli                  int64\n",
       "Bland Chromatin                  int64\n",
       "Mitoses                          int64\n",
       "Class                            int64\n",
       "Unnamed: 11                    float64\n",
       "Unnamed: 12                    float64\n",
       "Unnamed: 13                    float64\n",
       "dtype: object"
      ]
     },
     "execution_count": 44,
     "metadata": {},
     "output_type": "execute_result"
    }
   ],
   "source": [
    "df.dtypes"
   ]
  },
  {
   "cell_type": "code",
   "execution_count": 45,
   "id": "5718fe22",
   "metadata": {},
   "outputs": [
    {
     "data": {
      "text/plain": [
       "ID                               0\n",
       "ClumpThickness                   0\n",
       "Cell Size                        0\n",
       "Cell Shape                       0\n",
       "Marginal Adhesion                0\n",
       "Single Epithelial Cell Size      0\n",
       "Bare Nuclei                     16\n",
       "Normal Nucleoli                  0\n",
       "Bland Chromatin                  0\n",
       "Mitoses                          0\n",
       "Class                            0\n",
       "Unnamed: 11                    699\n",
       "Unnamed: 12                    699\n",
       "Unnamed: 13                    699\n",
       "dtype: int64"
      ]
     },
     "execution_count": 45,
     "metadata": {},
     "output_type": "execute_result"
    }
   ],
   "source": [
    "df.isnull().sum()"
   ]
  },
  {
   "cell_type": "code",
   "execution_count": 47,
   "id": "ff657512",
   "metadata": {},
   "outputs": [],
   "source": [
    "df = df.dropna(subset = [\"Bare Nuclei\"])"
   ]
  },
  {
   "cell_type": "code",
   "execution_count": 48,
   "id": "47d23924",
   "metadata": {},
   "outputs": [
    {
     "data": {
      "text/plain": [
       "ID                               0\n",
       "ClumpThickness                   0\n",
       "Cell Size                        0\n",
       "Cell Shape                       0\n",
       "Marginal Adhesion                0\n",
       "Single Epithelial Cell Size      0\n",
       "Bare Nuclei                      0\n",
       "Normal Nucleoli                  0\n",
       "Bland Chromatin                  0\n",
       "Mitoses                          0\n",
       "Class                            0\n",
       "Unnamed: 11                    683\n",
       "Unnamed: 12                    683\n",
       "Unnamed: 13                    683\n",
       "dtype: int64"
      ]
     },
     "execution_count": 48,
     "metadata": {},
     "output_type": "execute_result"
    }
   ],
   "source": [
    "df.isnull().sum()"
   ]
  },
  {
   "cell_type": "code",
   "execution_count": 49,
   "id": "fc270d89",
   "metadata": {},
   "outputs": [
    {
     "name": "stderr",
     "output_type": "stream",
     "text": [
      "C:\\Users\\juhib\\anaconda3\\lib\\site-packages\\pandas\\core\\frame.py:4308: SettingWithCopyWarning: \n",
      "A value is trying to be set on a copy of a slice from a DataFrame\n",
      "\n",
      "See the caveats in the documentation: https://pandas.pydata.org/pandas-docs/stable/user_guide/indexing.html#returning-a-view-versus-a-copy\n",
      "  return super().drop(\n"
     ]
    }
   ],
   "source": [
    "df.drop([\"Unnamed: 11\" , \"Unnamed: 12\" , \"Unnamed: 13\" , \"ID\"] , axis = 1 , inplace = True)"
   ]
  },
  {
   "cell_type": "code",
   "execution_count": 50,
   "id": "df7ea93e",
   "metadata": {},
   "outputs": [
    {
     "data": {
      "text/plain": [
       "ClumpThickness                   int64\n",
       "Cell Size                        int64\n",
       "Cell Shape                       int64\n",
       "Marginal Adhesion                int64\n",
       "Single Epithelial Cell Size      int64\n",
       "Bare Nuclei                    float64\n",
       "Normal Nucleoli                  int64\n",
       "Bland Chromatin                  int64\n",
       "Mitoses                          int64\n",
       "Class                            int64\n",
       "dtype: object"
      ]
     },
     "execution_count": 50,
     "metadata": {},
     "output_type": "execute_result"
    }
   ],
   "source": [
    "df.dtypes"
   ]
  },
  {
   "cell_type": "code",
   "execution_count": 51,
   "id": "f9f9850e",
   "metadata": {},
   "outputs": [
    {
     "data": {
      "text/html": [
       "<div>\n",
       "<style scoped>\n",
       "    .dataframe tbody tr th:only-of-type {\n",
       "        vertical-align: middle;\n",
       "    }\n",
       "\n",
       "    .dataframe tbody tr th {\n",
       "        vertical-align: top;\n",
       "    }\n",
       "\n",
       "    .dataframe thead th {\n",
       "        text-align: right;\n",
       "    }\n",
       "</style>\n",
       "<table border=\"1\" class=\"dataframe\">\n",
       "  <thead>\n",
       "    <tr style=\"text-align: right;\">\n",
       "      <th></th>\n",
       "      <th>ClumpThickness</th>\n",
       "      <th>Cell Size</th>\n",
       "      <th>Cell Shape</th>\n",
       "      <th>Marginal Adhesion</th>\n",
       "      <th>Single Epithelial Cell Size</th>\n",
       "      <th>Bare Nuclei</th>\n",
       "      <th>Normal Nucleoli</th>\n",
       "      <th>Bland Chromatin</th>\n",
       "      <th>Mitoses</th>\n",
       "      <th>Class</th>\n",
       "    </tr>\n",
       "  </thead>\n",
       "  <tbody>\n",
       "    <tr>\n",
       "      <th>count</th>\n",
       "      <td>683.000000</td>\n",
       "      <td>683.000000</td>\n",
       "      <td>683.000000</td>\n",
       "      <td>683.000000</td>\n",
       "      <td>683.000000</td>\n",
       "      <td>683.000000</td>\n",
       "      <td>683.000000</td>\n",
       "      <td>683.000000</td>\n",
       "      <td>683.000000</td>\n",
       "      <td>683.000000</td>\n",
       "    </tr>\n",
       "    <tr>\n",
       "      <th>mean</th>\n",
       "      <td>4.442167</td>\n",
       "      <td>3.150805</td>\n",
       "      <td>3.215227</td>\n",
       "      <td>2.830161</td>\n",
       "      <td>3.234261</td>\n",
       "      <td>3.544656</td>\n",
       "      <td>3.445095</td>\n",
       "      <td>2.869693</td>\n",
       "      <td>1.603221</td>\n",
       "      <td>2.699854</td>\n",
       "    </tr>\n",
       "    <tr>\n",
       "      <th>std</th>\n",
       "      <td>2.820761</td>\n",
       "      <td>3.065145</td>\n",
       "      <td>2.988581</td>\n",
       "      <td>2.864562</td>\n",
       "      <td>2.223085</td>\n",
       "      <td>3.643857</td>\n",
       "      <td>2.449697</td>\n",
       "      <td>3.052666</td>\n",
       "      <td>1.732674</td>\n",
       "      <td>0.954592</td>\n",
       "    </tr>\n",
       "    <tr>\n",
       "      <th>min</th>\n",
       "      <td>1.000000</td>\n",
       "      <td>1.000000</td>\n",
       "      <td>1.000000</td>\n",
       "      <td>1.000000</td>\n",
       "      <td>1.000000</td>\n",
       "      <td>1.000000</td>\n",
       "      <td>1.000000</td>\n",
       "      <td>1.000000</td>\n",
       "      <td>1.000000</td>\n",
       "      <td>2.000000</td>\n",
       "    </tr>\n",
       "    <tr>\n",
       "      <th>25%</th>\n",
       "      <td>2.000000</td>\n",
       "      <td>1.000000</td>\n",
       "      <td>1.000000</td>\n",
       "      <td>1.000000</td>\n",
       "      <td>2.000000</td>\n",
       "      <td>1.000000</td>\n",
       "      <td>2.000000</td>\n",
       "      <td>1.000000</td>\n",
       "      <td>1.000000</td>\n",
       "      <td>2.000000</td>\n",
       "    </tr>\n",
       "    <tr>\n",
       "      <th>50%</th>\n",
       "      <td>4.000000</td>\n",
       "      <td>1.000000</td>\n",
       "      <td>1.000000</td>\n",
       "      <td>1.000000</td>\n",
       "      <td>2.000000</td>\n",
       "      <td>1.000000</td>\n",
       "      <td>3.000000</td>\n",
       "      <td>1.000000</td>\n",
       "      <td>1.000000</td>\n",
       "      <td>2.000000</td>\n",
       "    </tr>\n",
       "    <tr>\n",
       "      <th>75%</th>\n",
       "      <td>6.000000</td>\n",
       "      <td>5.000000</td>\n",
       "      <td>5.000000</td>\n",
       "      <td>4.000000</td>\n",
       "      <td>4.000000</td>\n",
       "      <td>6.000000</td>\n",
       "      <td>5.000000</td>\n",
       "      <td>4.000000</td>\n",
       "      <td>1.000000</td>\n",
       "      <td>4.000000</td>\n",
       "    </tr>\n",
       "    <tr>\n",
       "      <th>max</th>\n",
       "      <td>10.000000</td>\n",
       "      <td>10.000000</td>\n",
       "      <td>10.000000</td>\n",
       "      <td>10.000000</td>\n",
       "      <td>10.000000</td>\n",
       "      <td>10.000000</td>\n",
       "      <td>10.000000</td>\n",
       "      <td>10.000000</td>\n",
       "      <td>10.000000</td>\n",
       "      <td>4.000000</td>\n",
       "    </tr>\n",
       "  </tbody>\n",
       "</table>\n",
       "</div>"
      ],
      "text/plain": [
       "       ClumpThickness   Cell Size  Cell Shape  Marginal Adhesion  \\\n",
       "count      683.000000  683.000000  683.000000         683.000000   \n",
       "mean         4.442167    3.150805    3.215227           2.830161   \n",
       "std          2.820761    3.065145    2.988581           2.864562   \n",
       "min          1.000000    1.000000    1.000000           1.000000   \n",
       "25%          2.000000    1.000000    1.000000           1.000000   \n",
       "50%          4.000000    1.000000    1.000000           1.000000   \n",
       "75%          6.000000    5.000000    5.000000           4.000000   \n",
       "max         10.000000   10.000000   10.000000          10.000000   \n",
       "\n",
       "       Single Epithelial Cell Size  Bare Nuclei  Normal Nucleoli  \\\n",
       "count                   683.000000   683.000000       683.000000   \n",
       "mean                      3.234261     3.544656         3.445095   \n",
       "std                       2.223085     3.643857         2.449697   \n",
       "min                       1.000000     1.000000         1.000000   \n",
       "25%                       2.000000     1.000000         2.000000   \n",
       "50%                       2.000000     1.000000         3.000000   \n",
       "75%                       4.000000     6.000000         5.000000   \n",
       "max                      10.000000    10.000000        10.000000   \n",
       "\n",
       "       Bland Chromatin     Mitoses       Class  \n",
       "count       683.000000  683.000000  683.000000  \n",
       "mean          2.869693    1.603221    2.699854  \n",
       "std           3.052666    1.732674    0.954592  \n",
       "min           1.000000    1.000000    2.000000  \n",
       "25%           1.000000    1.000000    2.000000  \n",
       "50%           1.000000    1.000000    2.000000  \n",
       "75%           4.000000    1.000000    4.000000  \n",
       "max          10.000000   10.000000    4.000000  "
      ]
     },
     "execution_count": 51,
     "metadata": {},
     "output_type": "execute_result"
    }
   ],
   "source": [
    "df.describe()"
   ]
  },
  {
   "cell_type": "code",
   "execution_count": 57,
   "id": "f9053fce",
   "metadata": {},
   "outputs": [
    {
     "data": {
      "image/png": "[encoded data removed]",
      "text/plain": [
       "<Figure size 1080x576 with 1 Axes>"
      ]
     },
     "metadata": {
      "needs_background": "light"
     },
     "output_type": "display_data"
    }
   ],
   "source": [
    "df.boxplot()\n",
    "plt.show()"
   ]
  },
  {
   "cell_type": "code",
   "execution_count": 58,
   "id": "4ca90db2",
   "metadata": {},
   "outputs": [
    {
     "data": {
      "image/png": "[encoded data removed]",
      "text/plain": [
       "<Figure size 1080x576 with 1 Axes>"
      ]
     },
     "metadata": {
      "needs_background": "light"
     },
     "output_type": "display_data"
    }
   ],
   "source": [
    "df.drop(\"Mitoses\" , axis = 1).boxplot()\n",
    "plt.show()"
   ]
  },
  {
   "cell_type": "code",
   "execution_count": 59,
   "id": "b91e0734",
   "metadata": {},
   "outputs": [],
   "source": [
    "ss = StandardScaler()\n",
    "\n",
    "\n",
    "scaled_num = ss.fit_transform(df)"
   ]
  },
  {
   "cell_type": "code",
   "execution_count": 60,
   "id": "abef0417",
   "metadata": {},
   "outputs": [],
   "source": [
    "from numpy.linalg import eig\n",
    "from sklearn.decomposition import PCA"
   ]
  },
  {
   "cell_type": "code",
   "execution_count": 61,
   "id": "1f72663b",
   "metadata": {},
   "outputs": [
    {
     "data": {
      "text/plain": [
       "array([[1.00146628, 0.64342355, 0.65442815, 0.48854401, 0.52436377,\n",
       "        0.59396107, 0.55455439, 0.534849  , 0.35147177, 0.71583801],\n",
       "       [0.64342355, 1.00146628, 0.90855848, 0.70801357, 0.75464892,\n",
       "        0.69272299, 0.75666702, 0.7204008 , 0.46143029, 0.82200496],\n",
       "       [0.65442815, 0.90855848, 1.00146628, 0.68695385, 0.72352174,\n",
       "        0.71492429, 0.73642172, 0.71901615, 0.44190459, 0.82309607],\n",
       "       [0.48854401, 0.70801357, 0.68695385, 1.00146628, 0.59541954,\n",
       "        0.67163165, 0.66954737, 0.6040054 , 0.41951256, 0.70732976],\n",
       "       [0.52436377, 0.75464892, 0.72352174, 0.59541954, 1.00146628,\n",
       "        0.58657495, 0.61903424, 0.62984858, 0.48128796, 0.69197129],\n",
       "       [0.59396107, 0.69272299, 0.71492429, 0.67163165, 0.58657495,\n",
       "        1.00146628, 0.68161283, 0.58513691, 0.33970781, 0.82390217],\n",
       "       [0.55455439, 0.75666702, 0.73642172, 0.66954737, 0.61903424,\n",
       "        0.68161283, 1.00146628, 0.66657749, 0.34651824, 0.75933933],\n",
       "       [0.534849  , 0.7204008 , 0.71901615, 0.6040054 , 0.62984858,\n",
       "        0.58513691, 0.66657749, 1.00146628, 0.43439328, 0.71973097],\n",
       "       [0.35147177, 0.46143029, 0.44190459, 0.41951256, 0.48128796,\n",
       "        0.33970781, 0.34651824, 0.43439328, 1.00146628, 0.42406881],\n",
       "       [0.71583801, 0.82200496, 0.82309607, 0.70732976, 0.69197129,\n",
       "        0.82390217, 0.75933933, 0.71973097, 0.42406881, 1.00146628]])"
      ]
     },
     "execution_count": 61,
     "metadata": {},
     "output_type": "execute_result"
    }
   ],
   "source": [
    "cov_mat = np.cov(scaled_num.T)\n",
    "\n",
    "cov_mat"
   ]
  },
  {
   "cell_type": "code",
   "execution_count": 62,
   "id": "70b48ed6",
   "metadata": {},
   "outputs": [
    {
     "data": {
      "text/plain": [
       "(10, 10)"
      ]
     },
     "execution_count": 62,
     "metadata": {},
     "output_type": "execute_result"
    }
   ],
   "source": [
    "cov_mat.shape"
   ]
  },
  {
   "cell_type": "code",
   "execution_count": 63,
   "id": "9ecaa2e6",
   "metadata": {},
   "outputs": [],
   "source": [
    "eig_val , eig_vec = eig(cov_mat)"
   ]
  },
  {
   "cell_type": "code",
   "execution_count": 64,
   "id": "d16bb55d",
   "metadata": {},
   "outputs": [
    {
     "name": "stdout",
     "output_type": "stream",
     "text": [
      "Eigen values:  \n",
      " \n",
      " [6.74104807 0.79431679 0.54676869 0.08801629 0.12652647 0.46598094\n",
      " 0.38093921 0.26160244 0.31300154 0.29646232] \n",
      "\n",
      "Eigen Vectors:  \n",
      " \n",
      " [[-2.85506718e-01 -1.46167143e-01  8.33524250e-01 -2.20075753e-02\n",
      "  -1.65578903e-01  2.68464713e-03  6.72601786e-02 -2.50789617e-01\n",
      "  -3.21398968e-01 -6.11050718e-02]\n",
      " [-3.55249609e-01 -1.37350504e-02 -5.82556917e-02 -7.37430298e-01\n",
      "   1.19332759e-02 -2.25302438e-01 -1.48043687e-01  4.46355674e-01\n",
      "  -1.91384210e-01  1.33154291e-01]\n",
      " [-3.52735271e-01 -5.21791553e-02 -4.06896100e-03  6.49526922e-01\n",
      "  -1.95526758e-01 -2.00725525e-01 -1.10676884e-01  5.82926342e-01\n",
      "  -1.13407317e-01  8.67076944e-02]\n",
      " [-3.09813387e-01 -1.82103380e-02 -4.06761253e-01  4.34869161e-02\n",
      "  -3.97884770e-03  4.85833118e-01 -3.16764282e-02 -1.44012163e-01\n",
      "  -5.95654264e-01 -3.51769339e-01]\n",
      " [-3.11690413e-01  1.96432396e-01 -1.22536433e-01  6.26472658e-02\n",
      "  -3.36857264e-02 -4.24402256e-01 -6.31291442e-01 -4.66543019e-01\n",
      "   1.42743349e-01 -1.65845115e-01]\n",
      " [-3.18313662e-01 -2.58290834e-01  2.11460659e-02 -1.17701350e-01\n",
      "  -3.98102594e-01  4.91928525e-01 -1.25230123e-01  6.62411564e-02\n",
      "   6.17934290e-01 -1.23567327e-01]\n",
      " [-3.23364943e-01 -1.92044578e-01 -2.43783192e-01  5.32624022e-02\n",
      "  -6.89313797e-02  4.79400993e-04  2.22987712e-01 -3.76070147e-01\n",
      "  -3.28398588e-02  7.74147511e-01]\n",
      " [-3.12763487e-01  6.36939565e-02 -1.65695926e-01 -3.47281526e-02\n",
      "  -1.16324615e-01 -3.99691226e-01  6.96354330e-01 -9.45963300e-02\n",
      "   1.76330241e-01 -4.13794915e-01]\n",
      " [-2.10324057e-01  8.97420486e-01  1.39599444e-01  7.29143648e-03\n",
      "  -2.46761948e-03  2.78203961e-01  1.05334776e-01  5.23628056e-02\n",
      "   9.14088250e-02  1.76812637e-01]\n",
      " [-3.56062534e-01 -1.54242746e-01  1.20567832e-01  1.00307066e-01\n",
      "   8.69646616e-01  1.16813316e-01  1.91470459e-02  4.64671174e-02\n",
      "   2.22855854e-01 -5.20520604e-02]] \n",
      "\n"
     ]
    }
   ],
   "source": [
    "print(\"Eigen values: \",'\\n' ,'\\n' , eig_val , '\\n')\n",
    "print(\"Eigen Vectors: \",'\\n', '\\n' , eig_vec , '\\n')"
   ]
  },
  {
   "cell_type": "code",
   "execution_count": 65,
   "id": "607fafa6",
   "metadata": {},
   "outputs": [
    {
     "name": "stdout",
     "output_type": "stream",
     "text": [
      "[6.7410480687704935, 0.7943167897416815, 0.5467686879049735, 0.4659809423417309, 0.3809392112710513, 0.31300154143089537, 0.2964623191990775, 0.2616024447414571, 0.12652646561309233, 0.08801628558378512]\n"
     ]
    }
   ],
   "source": [
    "eig_val = list(eig_val)\n",
    "\n",
    "eig_val.sort(reverse=True)\n",
    "\n",
    "print(eig_val)"
   ]
  },
  {
   "cell_type": "code",
   "execution_count": 66,
   "id": "98f15a69",
   "metadata": {},
   "outputs": [
    {
     "data": {
      "text/plain": [
       "[67.31178305858678,\n",
       " 7.931538076190729,\n",
       " 5.459681480983777,\n",
       " 4.652986862036024,\n",
       " 3.803814671842709,\n",
       " 3.125432668460771,\n",
       " 2.960282601665752,\n",
       " 2.6121942505662337,\n",
       " 1.2634121456534257,\n",
       " 0.878874184013784]"
      ]
     },
     "execution_count": 66,
     "metadata": {},
     "output_type": "execute_result"
    }
   ],
   "source": [
    "per_val = []\n",
    "\n",
    "for i in eig_val:\n",
    "    variation = (i/sum(eig_val))*100\n",
    "    per_val.append(variation)\n",
    "    \n",
    "per_val"
   ]
  },
  {
   "cell_type": "code",
   "execution_count": 67,
   "id": "5bcc768d",
   "metadata": {},
   "outputs": [
    {
     "data": {
      "text/plain": [
       "array([ 67.31178306,  75.24332113,  80.70300262,  85.35598948,\n",
       "        89.15980415,  92.28523682,  95.24551942,  97.85771367,\n",
       "        99.12112582, 100.        ])"
      ]
     },
     "execution_count": 67,
     "metadata": {},
     "output_type": "execute_result"
    }
   ],
   "source": [
    "np.cumsum(per_val)"
   ]
  },
  {
   "cell_type": "markdown",
   "id": "926b4669",
   "metadata": {},
   "source": [
    "We will take 4 componenet to get the 85 percent variation in the data."
   ]
  },
  {
   "cell_type": "code",
   "execution_count": 68,
   "id": "6dd3a5cb",
   "metadata": {},
   "outputs": [],
   "source": [
    "eigen_vec = eig_vec[:,[0,1,2,5]]"
   ]
  },
  {
   "cell_type": "code",
   "execution_count": 69,
   "id": "627949bf",
   "metadata": {},
   "outputs": [
    {
     "data": {
      "text/html": [
       "<div>\n",
       "<style scoped>\n",
       "    .dataframe tbody tr th:only-of-type {\n",
       "        vertical-align: middle;\n",
       "    }\n",
       "\n",
       "    .dataframe tbody tr th {\n",
       "        vertical-align: top;\n",
       "    }\n",
       "\n",
       "    .dataframe thead th {\n",
       "        text-align: right;\n",
       "    }\n",
       "</style>\n",
       "<table border=\"1\" class=\"dataframe\">\n",
       "  <thead>\n",
       "    <tr style=\"text-align: right;\">\n",
       "      <th></th>\n",
       "      <th>PC1</th>\n",
       "      <th>PC2</th>\n",
       "      <th>PC3</th>\n",
       "      <th>PC4</th>\n",
       "    </tr>\n",
       "  </thead>\n",
       "  <tbody>\n",
       "    <tr>\n",
       "      <th>0</th>\n",
       "      <td>1.633335</td>\n",
       "      <td>-0.101183</td>\n",
       "      <td>0.531049</td>\n",
       "      <td>-0.048710</td>\n",
       "    </tr>\n",
       "    <tr>\n",
       "      <th>1</th>\n",
       "      <td>-1.092753</td>\n",
       "      <td>-0.367917</td>\n",
       "      <td>-0.376358</td>\n",
       "      <td>0.337524</td>\n",
       "    </tr>\n",
       "    <tr>\n",
       "      <th>2</th>\n",
       "      <td>1.748495</td>\n",
       "      <td>-0.068406</td>\n",
       "      <td>-0.054569</td>\n",
       "      <td>0.084486</td>\n",
       "    </tr>\n",
       "    <tr>\n",
       "      <th>3</th>\n",
       "      <td>-1.124403</td>\n",
       "      <td>-0.305836</td>\n",
       "      <td>0.320435</td>\n",
       "      <td>-1.605072</td>\n",
       "    </tr>\n",
       "    <tr>\n",
       "      <th>4</th>\n",
       "      <td>1.518159</td>\n",
       "      <td>-0.062050</td>\n",
       "      <td>-0.048867</td>\n",
       "      <td>0.289788</td>\n",
       "    </tr>\n",
       "    <tr>\n",
       "      <th>...</th>\n",
       "      <td>...</td>\n",
       "      <td>...</td>\n",
       "      <td>...</td>\n",
       "      <td>...</td>\n",
       "    </tr>\n",
       "    <tr>\n",
       "      <th>678</th>\n",
       "      <td>1.872384</td>\n",
       "      <td>0.176924</td>\n",
       "      <td>0.089448</td>\n",
       "      <td>-0.106953</td>\n",
       "    </tr>\n",
       "    <tr>\n",
       "      <th>679</th>\n",
       "      <td>2.201403</td>\n",
       "      <td>0.211291</td>\n",
       "      <td>-0.156912</td>\n",
       "      <td>-0.051959</td>\n",
       "    </tr>\n",
       "    <tr>\n",
       "      <th>680</th>\n",
       "      <td>-4.017701</td>\n",
       "      <td>-0.020681</td>\n",
       "      <td>-0.854176</td>\n",
       "      <td>-2.433909</td>\n",
       "    </tr>\n",
       "    <tr>\n",
       "      <th>681</th>\n",
       "      <td>-2.579000</td>\n",
       "      <td>-1.079710</td>\n",
       "      <td>-1.084581</td>\n",
       "      <td>-0.586056</td>\n",
       "    </tr>\n",
       "    <tr>\n",
       "      <th>682</th>\n",
       "      <td>-2.946129</td>\n",
       "      <td>-1.145288</td>\n",
       "      <td>-1.170123</td>\n",
       "      <td>-0.344647</td>\n",
       "    </tr>\n",
       "  </tbody>\n",
       "</table>\n",
       "<p>683 rows × 4 columns</p>\n",
       "</div>"
      ],
      "text/plain": [
       "          PC1       PC2       PC3       PC4\n",
       "0    1.633335 -0.101183  0.531049 -0.048710\n",
       "1   -1.092753 -0.367917 -0.376358  0.337524\n",
       "2    1.748495 -0.068406 -0.054569  0.084486\n",
       "3   -1.124403 -0.305836  0.320435 -1.605072\n",
       "4    1.518159 -0.062050 -0.048867  0.289788\n",
       "..        ...       ...       ...       ...\n",
       "678  1.872384  0.176924  0.089448 -0.106953\n",
       "679  2.201403  0.211291 -0.156912 -0.051959\n",
       "680 -4.017701 -0.020681 -0.854176 -2.433909\n",
       "681 -2.579000 -1.079710 -1.084581 -0.586056\n",
       "682 -2.946129 -1.145288 -1.170123 -0.344647\n",
       "\n",
       "[683 rows x 4 columns]"
      ]
     },
     "execution_count": 69,
     "metadata": {},
     "output_type": "execute_result"
    }
   ],
   "source": [
    "df_pac = pd.DataFrame(scaled_num.dot(eigen_vec) , columns = ['PC1' , 'PC2' , 'PC3' , 'PC4'])\n",
    "\n",
    "df_pac"
   ]
  },
  {
   "cell_type": "code",
   "execution_count": null,
   "id": "fa5c8565",
   "metadata": {},
   "outputs": [],
   "source": []
  }
 ],
 "metadata": {
  "kernelspec": {
   "display_name": "Python 3",
   "language": "python",
   "name": "python3"
  },
  "language_info": {
   "codemirror_mode": {
    "name": "ipython",
    "version": 3
   },
   "file_extension": ".py",
   "mimetype": "text/x-python",
   "name": "python",
   "nbconvert_exporter": "python",
   "pygments_lexer": "ipython3",
   "version": "3.8.8"
  }
 },
 "nbformat": 4,
 "nbformat_minor": 5
}
