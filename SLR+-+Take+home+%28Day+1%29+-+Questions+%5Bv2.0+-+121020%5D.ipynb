{
 "cells": [
  {
   "cell_type": "markdown",
   "metadata": {},
   "source": [
    "<table align=\"center\" width=100%>\n",
    "    <tr>\n",
    "        <td width=\"15%\">\n",
    "            <img src=\"homework.png\">\n",
    "        </td>\n",
    "        <td>\n",
    "            <div align=\"center\">\n",
    "                <font color=\"#21618C\" size=8px>\n",
    "                    <b> Take-Home <br>(Day 1)\n",
    "                    </b>\n",
    "                </font>\n",
    "            </div>\n",
    "        </td>\n",
    "    </tr>\n",
    "</table>"
   ]
  },
  {
   "cell_type": "markdown",
   "metadata": {},
   "source": [
    "### Import the required libraries"
   ]
  },
  {
   "cell_type": "code",
   "execution_count": 1,
   "metadata": {},
   "outputs": [],
   "source": [
    "# type your code here\n",
    "import numpy as np\n",
    "import pandas as pd\n",
    "import matplotlib.pyplot as plt\n",
    "import seaborn as sns\n",
    "import scipy.stats as stats\n",
    "import statsmodels\n",
    "import statsmodels.api as sm"
   ]
  },
  {
   "cell_type": "markdown",
   "metadata": {},
   "source": [
    "#### Read the data\n",
    "\n",
    "Load the csv file and set the first column as index"
   ]
  },
  {
   "cell_type": "code",
   "execution_count": 2,
   "metadata": {},
   "outputs": [
    {
     "data": {
      "text/html": [
       "<div>\n",
       "<style scoped>\n",
       "    .dataframe tbody tr th:only-of-type {\n",
       "        vertical-align: middle;\n",
       "    }\n",
       "\n",
       "    .dataframe tbody tr th {\n",
       "        vertical-align: top;\n",
       "    }\n",
       "\n",
       "    .dataframe thead th {\n",
       "        text-align: right;\n",
       "    }\n",
       "</style>\n",
       "<table border=\"1\" class=\"dataframe\">\n",
       "  <thead>\n",
       "    <tr style=\"text-align: right;\">\n",
       "      <th></th>\n",
       "      <th>Car_Name</th>\n",
       "      <th>Year</th>\n",
       "      <th>Selling_Price</th>\n",
       "      <th>Present_Price</th>\n",
       "      <th>Kms_Driven</th>\n",
       "      <th>Fuel_Type</th>\n",
       "      <th>Seller_Type</th>\n",
       "      <th>Transmission</th>\n",
       "      <th>Owner</th>\n",
       "    </tr>\n",
       "  </thead>\n",
       "  <tbody>\n",
       "    <tr>\n",
       "      <th>0</th>\n",
       "      <td>ritz</td>\n",
       "      <td>2014</td>\n",
       "      <td>3.35</td>\n",
       "      <td>5.59</td>\n",
       "      <td>27000</td>\n",
       "      <td>Petrol</td>\n",
       "      <td>Dealer</td>\n",
       "      <td>Manual</td>\n",
       "      <td>0</td>\n",
       "    </tr>\n",
       "    <tr>\n",
       "      <th>1</th>\n",
       "      <td>sx4</td>\n",
       "      <td>2013</td>\n",
       "      <td>4.75</td>\n",
       "      <td>9.54</td>\n",
       "      <td>43000</td>\n",
       "      <td>Diesel</td>\n",
       "      <td>Dealer</td>\n",
       "      <td>Manual</td>\n",
       "      <td>0</td>\n",
       "    </tr>\n",
       "    <tr>\n",
       "      <th>2</th>\n",
       "      <td>ciaz</td>\n",
       "      <td>2017</td>\n",
       "      <td>7.25</td>\n",
       "      <td>9.85</td>\n",
       "      <td>6900</td>\n",
       "      <td>Petrol</td>\n",
       "      <td>Dealer</td>\n",
       "      <td>Manual</td>\n",
       "      <td>0</td>\n",
       "    </tr>\n",
       "    <tr>\n",
       "      <th>3</th>\n",
       "      <td>wagon r</td>\n",
       "      <td>2011</td>\n",
       "      <td>2.85</td>\n",
       "      <td>4.15</td>\n",
       "      <td>5200</td>\n",
       "      <td>Petrol</td>\n",
       "      <td>Dealer</td>\n",
       "      <td>Manual</td>\n",
       "      <td>0</td>\n",
       "    </tr>\n",
       "    <tr>\n",
       "      <th>4</th>\n",
       "      <td>swift</td>\n",
       "      <td>2014</td>\n",
       "      <td>4.60</td>\n",
       "      <td>6.87</td>\n",
       "      <td>42450</td>\n",
       "      <td>Diesel</td>\n",
       "      <td>Dealer</td>\n",
       "      <td>Manual</td>\n",
       "      <td>0</td>\n",
       "    </tr>\n",
       "  </tbody>\n",
       "</table>\n",
       "</div>"
      ],
      "text/plain": [
       "  Car_Name  Year  Selling_Price  Present_Price  Kms_Driven Fuel_Type  \\\n",
       "0     ritz  2014           3.35           5.59       27000    Petrol   \n",
       "1      sx4  2013           4.75           9.54       43000    Diesel   \n",
       "2     ciaz  2017           7.25           9.85        6900    Petrol   \n",
       "3  wagon r  2011           2.85           4.15        5200    Petrol   \n",
       "4    swift  2014           4.60           6.87       42450    Diesel   \n",
       "\n",
       "  Seller_Type Transmission  Owner  \n",
       "0      Dealer       Manual      0  \n",
       "1      Dealer       Manual      0  \n",
       "2      Dealer       Manual      0  \n",
       "3      Dealer       Manual      0  \n",
       "4      Dealer       Manual      0  "
      ]
     },
     "execution_count": 2,
     "metadata": {},
     "output_type": "execute_result"
    }
   ],
   "source": [
    "# type your code here\n",
    "df=pd.read_csv('car_price.csv')\n",
    "df.head()"
   ]
  },
  {
   "cell_type": "code",
   "execution_count": 3,
   "metadata": {},
   "outputs": [
    {
     "data": {
      "text/html": [
       "<div>\n",
       "<style scoped>\n",
       "    .dataframe tbody tr th:only-of-type {\n",
       "        vertical-align: middle;\n",
       "    }\n",
       "\n",
       "    .dataframe tbody tr th {\n",
       "        vertical-align: top;\n",
       "    }\n",
       "\n",
       "    .dataframe thead th {\n",
       "        text-align: right;\n",
       "    }\n",
       "</style>\n",
       "<table border=\"1\" class=\"dataframe\">\n",
       "  <thead>\n",
       "    <tr style=\"text-align: right;\">\n",
       "      <th></th>\n",
       "      <th>Year</th>\n",
       "      <th>Selling_Price</th>\n",
       "      <th>Present_Price</th>\n",
       "      <th>Kms_Driven</th>\n",
       "      <th>Fuel_Type</th>\n",
       "      <th>Seller_Type</th>\n",
       "      <th>Transmission</th>\n",
       "      <th>Owner</th>\n",
       "    </tr>\n",
       "    <tr>\n",
       "      <th>Car_Name</th>\n",
       "      <th></th>\n",
       "      <th></th>\n",
       "      <th></th>\n",
       "      <th></th>\n",
       "      <th></th>\n",
       "      <th></th>\n",
       "      <th></th>\n",
       "      <th></th>\n",
       "    </tr>\n",
       "  </thead>\n",
       "  <tbody>\n",
       "    <tr>\n",
       "      <th>ritz</th>\n",
       "      <td>2014</td>\n",
       "      <td>3.35</td>\n",
       "      <td>5.59</td>\n",
       "      <td>27000</td>\n",
       "      <td>Petrol</td>\n",
       "      <td>Dealer</td>\n",
       "      <td>Manual</td>\n",
       "      <td>0</td>\n",
       "    </tr>\n",
       "    <tr>\n",
       "      <th>sx4</th>\n",
       "      <td>2013</td>\n",
       "      <td>4.75</td>\n",
       "      <td>9.54</td>\n",
       "      <td>43000</td>\n",
       "      <td>Diesel</td>\n",
       "      <td>Dealer</td>\n",
       "      <td>Manual</td>\n",
       "      <td>0</td>\n",
       "    </tr>\n",
       "  </tbody>\n",
       "</table>\n",
       "</div>"
      ],
      "text/plain": [
       "          Year  Selling_Price  Present_Price  Kms_Driven Fuel_Type  \\\n",
       "Car_Name                                                             \n",
       "ritz      2014           3.35           5.59       27000    Petrol   \n",
       "sx4       2013           4.75           9.54       43000    Diesel   \n",
       "\n",
       "         Seller_Type Transmission  Owner  \n",
       "Car_Name                                  \n",
       "ritz          Dealer       Manual      0  \n",
       "sx4           Dealer       Manual      0  "
      ]
     },
     "execution_count": 3,
     "metadata": {},
     "output_type": "execute_result"
    }
   ],
   "source": [
    "df=df.set_index('Car_Name')\n",
    "df.head(2)"
   ]
  },
  {
   "cell_type": "code",
   "execution_count": 4,
   "metadata": {},
   "outputs": [
    {
     "data": {
      "text/plain": [
       "Manual       261\n",
       "Automatic     40\n",
       "Name: Transmission, dtype: int64"
      ]
     },
     "execution_count": 4,
     "metadata": {},
     "output_type": "execute_result"
    }
   ],
   "source": [
    "df.Transmission.value_counts()"
   ]
  },
  {
   "cell_type": "code",
   "execution_count": 5,
   "metadata": {},
   "outputs": [
    {
     "data": {
      "text/html": [
       "<div>\n",
       "<style scoped>\n",
       "    .dataframe tbody tr th:only-of-type {\n",
       "        vertical-align: middle;\n",
       "    }\n",
       "\n",
       "    .dataframe tbody tr th {\n",
       "        vertical-align: top;\n",
       "    }\n",
       "\n",
       "    .dataframe thead th {\n",
       "        text-align: right;\n",
       "    }\n",
       "</style>\n",
       "<table border=\"1\" class=\"dataframe\">\n",
       "  <thead>\n",
       "    <tr style=\"text-align: right;\">\n",
       "      <th></th>\n",
       "      <th>Year</th>\n",
       "      <th>Selling_Price</th>\n",
       "      <th>Present_Price</th>\n",
       "      <th>Kms_Driven</th>\n",
       "      <th>Owner</th>\n",
       "    </tr>\n",
       "    <tr>\n",
       "      <th>Car_Name</th>\n",
       "      <th></th>\n",
       "      <th></th>\n",
       "      <th></th>\n",
       "      <th></th>\n",
       "      <th></th>\n",
       "    </tr>\n",
       "  </thead>\n",
       "  <tbody>\n",
       "    <tr>\n",
       "      <th>ritz</th>\n",
       "      <td>2014</td>\n",
       "      <td>3.35</td>\n",
       "      <td>5.59</td>\n",
       "      <td>27000</td>\n",
       "      <td>0</td>\n",
       "    </tr>\n",
       "    <tr>\n",
       "      <th>sx4</th>\n",
       "      <td>2013</td>\n",
       "      <td>4.75</td>\n",
       "      <td>9.54</td>\n",
       "      <td>43000</td>\n",
       "      <td>0</td>\n",
       "    </tr>\n",
       "    <tr>\n",
       "      <th>ciaz</th>\n",
       "      <td>2017</td>\n",
       "      <td>7.25</td>\n",
       "      <td>9.85</td>\n",
       "      <td>6900</td>\n",
       "      <td>0</td>\n",
       "    </tr>\n",
       "    <tr>\n",
       "      <th>wagon r</th>\n",
       "      <td>2011</td>\n",
       "      <td>2.85</td>\n",
       "      <td>4.15</td>\n",
       "      <td>5200</td>\n",
       "      <td>0</td>\n",
       "    </tr>\n",
       "    <tr>\n",
       "      <th>swift</th>\n",
       "      <td>2014</td>\n",
       "      <td>4.60</td>\n",
       "      <td>6.87</td>\n",
       "      <td>42450</td>\n",
       "      <td>0</td>\n",
       "    </tr>\n",
       "  </tbody>\n",
       "</table>\n",
       "</div>"
      ],
      "text/plain": [
       "          Year  Selling_Price  Present_Price  Kms_Driven  Owner\n",
       "Car_Name                                                       \n",
       "ritz      2014           3.35           5.59       27000      0\n",
       "sx4       2013           4.75           9.54       43000      0\n",
       "ciaz      2017           7.25           9.85        6900      0\n",
       "wagon r   2011           2.85           4.15        5200      0\n",
       "swift     2014           4.60           6.87       42450      0"
      ]
     },
     "execution_count": 5,
     "metadata": {},
     "output_type": "execute_result"
    }
   ],
   "source": [
    "num_var=df.select_dtypes(include=np.number)\n",
    "num_var.head()"
   ]
  },
  {
   "cell_type": "markdown",
   "metadata": {},
   "source": [
    "Our objective is to predict the selling price of the cars data."
   ]
  },
  {
   "cell_type": "markdown",
   "metadata": {},
   "source": [
    "**The data definition is as follows:** <br><br>\n",
    "**Car_Name:** name of the car <br>\n",
    "\n",
    "**YearThis:** year in which the car was bought <br>\n",
    "\n",
    "**Present_Price:** current ex-showroom price of the car (in lakhs)<br>\n",
    "\n",
    "**Kms_Driven:** distance completed by the car in km <br>\n",
    "\n",
    "**Fuel_Type:** fuel type of the car <br>\n",
    "\n",
    "**Seller_Type:** defines whether the seller is a dealer or an individual<br>\n",
    "\n",
    "**Transmission:** defines whether the car is manual or automatic <br>\n",
    "\n",
    "**Owner:** defines the number of owners the car has previously had <br>\n",
    "\n",
    "**Selling_Price:** price the owner wants to sell the car at (in lakhs) (response variable)"
   ]
  },
  {
   "cell_type": "code",
   "execution_count": 6,
   "metadata": {},
   "outputs": [
    {
     "data": {
      "text/plain": [
       "Index(['Year', 'Selling_Price', 'Present_Price', 'Kms_Driven', 'Fuel_Type',\n",
       "       'Seller_Type', 'Transmission', 'Owner'],\n",
       "      dtype='object')"
      ]
     },
     "execution_count": 6,
     "metadata": {},
     "output_type": "execute_result"
    }
   ],
   "source": [
    "df.columns"
   ]
  },
  {
   "cell_type": "markdown",
   "metadata": {},
   "source": [
    "### Let's begin with some hands-on practice exercises"
   ]
  },
  {
   "cell_type": "markdown",
   "metadata": {},
   "source": [
    "<table align=\"left\">\n",
    "    <tr>\n",
    "        <td width=\"6%\">\n",
    "            <img src=\"question_icon.png\">\n",
    "        </td>\n",
    "        <td>\n",
    "            <div align=\"left\", style=\"font-size:120%\">\n",
    "                <font color=\"#21618C\">\n",
    "                    <b>1. Build a full model and interpret the beta coefficients </b>\n",
    "                </font>\n",
    "            </div>\n",
    "        </td>\n",
    "    </tr>\n",
    "</table>"
   ]
  },
  {
   "cell_type": "markdown",
   "metadata": {},
   "source": [
    "        Hint: A full model is a model which includes all the features "
   ]
  },
  {
   "cell_type": "code",
   "execution_count": 7,
   "metadata": {},
   "outputs": [],
   "source": [
    "df['Fuel_Type']=pd.get_dummies(df['Selling_Price'],drop_first=True)\n",
    "df['Seller_Type']=pd.get_dummies(df['Seller_Type'],drop_first=True)\n",
    "df['Transmission']=pd.get_dummies(df['Transmission'],drop_first=True)"
   ]
  },
  {
   "cell_type": "code",
   "execution_count": 8,
   "metadata": {},
   "outputs": [
    {
     "name": "stdout",
     "output_type": "stream",
     "text": [
      "                            OLS Regression Results                            \n",
      "==============================================================================\n",
      "Dep. Variable:          Selling_Price   R-squared:                       0.868\n",
      "Model:                            OLS   Adj. R-squared:                  0.865\n",
      "Method:                 Least Squares   F-statistic:                     274.5\n",
      "Date:                Fri, 26 Nov 2021   Prob (F-statistic):          1.17e-124\n",
      "Time:                        21:56:32   Log-Likelihood:                -611.59\n",
      "No. Observations:                 301   AIC:                             1239.\n",
      "Df Residuals:                     293   BIC:                             1269.\n",
      "Df Model:                           7                                         \n",
      "Covariance Type:            nonrobust                                         \n",
      "=================================================================================\n",
      "                    coef    std err          t      P>|t|      [0.025      0.975]\n",
      "---------------------------------------------------------------------------------\n",
      "const          -896.1319     91.309     -9.814      0.000   -1075.837    -716.427\n",
      "Year              0.4464      0.045      9.856      0.000       0.357       0.536\n",
      "Present_Price     0.4733      0.016     29.933      0.000       0.442       0.504\n",
      "Kms_Driven    -3.352e-06   3.37e-06     -0.994      0.321   -9.99e-06    3.29e-06\n",
      "Fuel_Type         2.8074      1.900      1.478      0.141      -0.931       6.546\n",
      "Seller_Type      -1.3154      0.270     -4.877      0.000      -1.846      -0.785\n",
      "Transmission     -1.2759      0.346     -3.687      0.000      -1.957      -0.595\n",
      "Owner            -0.7152      0.448     -1.596      0.112      -1.597       0.167\n",
      "==============================================================================\n",
      "Omnibus:                       85.727   Durbin-Watson:                   1.695\n",
      "Prob(Omnibus):                  0.000   Jarque-Bera (JB):              786.371\n",
      "Skew:                           0.862   Prob(JB):                    1.74e-171\n",
      "Kurtosis:                      10.728   Cond. No.                     4.54e+07\n",
      "==============================================================================\n",
      "\n",
      "Notes:\n",
      "[1] Standard Errors assume that the covariance matrix of the errors is correctly specified.\n",
      "[2] The condition number is large, 4.54e+07. This might indicate that there are\n",
      "strong multicollinearity or other numerical problems.\n"
     ]
    }
   ],
   "source": [
    "# type your code here\n",
    "y=df['Selling_Price']\n",
    "\n",
    "x=df.drop('Selling_Price', axis=1)\n",
    "\n",
    "x=sm.add_constant(x)\n",
    "full_model=sm.OLS(y,x).fit()\n",
    "print(full_model.summary())"
   ]
  },
  {
   "cell_type": "markdown",
   "metadata": {},
   "source": [
    "<table align=\"left\">\n",
    "    <tr>\n",
    "        <td width=\"6%\">\n",
    "            <img src=\"question_icon.png\">\n",
    "        </td>\n",
    "        <td>\n",
    "            <div align=\"left\", style=\"font-size:120%\">\n",
    "                <font color=\"#21618C\">\n",
    "                    <b>2. Is there multicollinearity present? If yes, which variables are involved in multicollinearity?    </b>\n",
    "                </font>\n",
    "            </div>\n",
    "        </td>\n",
    "    </tr>\n",
    "</table>"
   ]
  },
  {
   "cell_type": "code",
   "execution_count": 9,
   "metadata": {},
   "outputs": [
    {
     "data": {
      "text/html": [
       "<div>\n",
       "<style scoped>\n",
       "    .dataframe tbody tr th:only-of-type {\n",
       "        vertical-align: middle;\n",
       "    }\n",
       "\n",
       "    .dataframe tbody tr th {\n",
       "        vertical-align: top;\n",
       "    }\n",
       "\n",
       "    .dataframe thead th {\n",
       "        text-align: right;\n",
       "    }\n",
       "</style>\n",
       "<table border=\"1\" class=\"dataframe\">\n",
       "  <thead>\n",
       "    <tr style=\"text-align: right;\">\n",
       "      <th></th>\n",
       "      <th>labels</th>\n",
       "      <th>VIF</th>\n",
       "    </tr>\n",
       "  </thead>\n",
       "  <tbody>\n",
       "    <tr>\n",
       "      <th>0</th>\n",
       "      <td>Year</td>\n",
       "      <td>15.725129</td>\n",
       "    </tr>\n",
       "    <tr>\n",
       "      <th>1</th>\n",
       "      <td>Present_Price</td>\n",
       "      <td>2.851938</td>\n",
       "    </tr>\n",
       "    <tr>\n",
       "      <th>2</th>\n",
       "      <td>Kms_Driven</td>\n",
       "      <td>2.023429</td>\n",
       "    </tr>\n",
       "    <tr>\n",
       "      <th>3</th>\n",
       "      <td>Fuel_Type</td>\n",
       "      <td>1.011669</td>\n",
       "    </tr>\n",
       "    <tr>\n",
       "      <th>4</th>\n",
       "      <td>Seller_Type</td>\n",
       "      <td>2.191655</td>\n",
       "    </tr>\n",
       "    <tr>\n",
       "      <th>5</th>\n",
       "      <td>Transmission</td>\n",
       "      <td>8.834915</td>\n",
       "    </tr>\n",
       "    <tr>\n",
       "      <th>6</th>\n",
       "      <td>Owner</td>\n",
       "      <td>1.063682</td>\n",
       "    </tr>\n",
       "  </tbody>\n",
       "</table>\n",
       "</div>"
      ],
      "text/plain": [
       "          labels        VIF\n",
       "0           Year  15.725129\n",
       "1  Present_Price   2.851938\n",
       "2     Kms_Driven   2.023429\n",
       "3      Fuel_Type   1.011669\n",
       "4    Seller_Type   2.191655\n",
       "5   Transmission   8.834915\n",
       "6          Owner   1.063682"
      ]
     },
     "execution_count": 9,
     "metadata": {},
     "output_type": "execute_result"
    }
   ],
   "source": [
    "# type your code here\n",
    "from statsmodels.stats.outliers_influence import variance_inflation_factor\n",
    "vif_data = df.drop('Selling_Price',axis = 1)\n",
    "num_cols = vif_data.select_dtypes(include = np.number)\n",
    "Vif_Factor = []\n",
    "for i in range(vif_data.shape[1]):\n",
    "        Vif_Factor.append(variance_inflation_factor(num_cols.values,i))\n",
    "pd.DataFrame({'labels':num_cols.columns,'VIF':Vif_Factor}) "
   ]
  },
  {
   "cell_type": "markdown",
   "metadata": {},
   "source": [
    "<table align=\"left\">\n",
    "    <tr>\n",
    "        <td width=\"6%\">\n",
    "            <img src=\"question_icon.png\">\n",
    "        </td>\n",
    "        <td>\n",
    "            <div align=\"left\", style=\"font-size:120%\">\n",
    "                <font color=\"#21618C\">\n",
    "                    <b>3. What is the impact of present price of the car and seller type on the selling price?\n",
    "                    </b>\n",
    "                </font>\n",
    "            </div>\n",
    "        </td>\n",
    "    </tr>\n",
    "</table>"
   ]
  },
  {
   "cell_type": "code",
   "execution_count": 10,
   "metadata": {},
   "outputs": [
    {
     "data": {
      "text/plain": [
       "Index(['Year', 'Selling_Price', 'Present_Price', 'Kms_Driven', 'Fuel_Type',\n",
       "       'Seller_Type', 'Transmission', 'Owner'],\n",
       "      dtype='object')"
      ]
     },
     "execution_count": 10,
     "metadata": {},
     "output_type": "execute_result"
    }
   ],
   "source": [
    "df.columns"
   ]
  },
  {
   "cell_type": "code",
   "execution_count": 11,
   "metadata": {},
   "outputs": [
    {
     "name": "stdout",
     "output_type": "stream",
     "text": [
      "                            OLS Regression Results                            \n",
      "==============================================================================\n",
      "Dep. Variable:          Selling_Price   R-squared:                       0.786\n",
      "Model:                            OLS   Adj. R-squared:                  0.785\n",
      "Method:                 Least Squares   F-statistic:                     548.4\n",
      "Date:                Fri, 26 Nov 2021   Prob (F-statistic):          1.34e-100\n",
      "Time:                        21:56:32   Log-Likelihood:                -683.71\n",
      "No. Observations:                 301   AIC:                             1373.\n",
      "Df Residuals:                     298   BIC:                             1385.\n",
      "Df Model:                           2                                         \n",
      "Covariance Type:            nonrobust                                         \n",
      "=================================================================================\n",
      "                    coef    std err          t      P>|t|      [0.025      0.975]\n",
      "---------------------------------------------------------------------------------\n",
      "const             1.5423      0.261      5.901      0.000       1.028       2.057\n",
      "Present_Price     0.4758      0.018     25.956      0.000       0.440       0.512\n",
      "Seller_Type      -1.4493      0.331     -4.376      0.000      -2.101      -0.798\n",
      "==============================================================================\n",
      "Omnibus:                       72.895   Durbin-Watson:                   1.645\n",
      "Prob(Omnibus):                  0.000   Jarque-Bera (JB):              845.311\n",
      "Skew:                           0.581   Prob(JB):                    2.77e-184\n",
      "Kurtosis:                      11.127   Cond. No.                         33.4\n",
      "==============================================================================\n",
      "\n",
      "Notes:\n",
      "[1] Standard Errors assume that the covariance matrix of the errors is correctly specified.\n"
     ]
    }
   ],
   "source": [
    "# type your code here\n",
    "x = df.loc[:,['Present_Price','Seller_Type']]\n",
    "y = df['Selling_Price']\n",
    "x = sm.add_constant(x)\n",
    "model = sm.OLS(y,x).fit()\n",
    "print(model.summary())"
   ]
  },
  {
   "cell_type": "markdown",
   "metadata": {},
   "source": [
    "<table align=\"left\">\n",
    "    <tr>\n",
    "        <td width=\"6%\">\n",
    "            <img src=\"question_icon.png\">\n",
    "        </td>\n",
    "        <td>\n",
    "            <div align=\"left\", style=\"font-size:120%\">\n",
    "                <font color=\"#21618C\">\n",
    "                    <b>4. Consider all the numeric features in the data. Do all of them significantly contribute to explaining the variation in the selling price?\n",
    "                    </b>\n",
    "                </font>\n",
    "            </div>\n",
    "        </td>\n",
    "    </tr>\n",
    "</table>"
   ]
  },
  {
   "cell_type": "code",
   "execution_count": 12,
   "metadata": {},
   "outputs": [
    {
     "name": "stdout",
     "output_type": "stream",
     "text": [
      "                            OLS Regression Results                            \n",
      "==============================================================================\n",
      "Dep. Variable:          Selling_Price   R-squared:                       0.852\n",
      "Model:                            OLS   Adj. R-squared:                  0.850\n",
      "Method:                 Least Squares   F-statistic:                     426.6\n",
      "Date:                Fri, 26 Nov 2021   Prob (F-statistic):          1.66e-121\n",
      "Time:                        21:56:32   Log-Likelihood:                -628.25\n",
      "No. Observations:                 301   AIC:                             1267.\n",
      "Df Residuals:                     296   BIC:                             1285.\n",
      "Df Model:                           4                                         \n",
      "Covariance Type:            nonrobust                                         \n",
      "=================================================================================\n",
      "                    coef    std err          t      P>|t|      [0.025      0.975]\n",
      "---------------------------------------------------------------------------------\n",
      "const          -937.7642     94.392     -9.935      0.000   -1123.528    -752.000\n",
      "Year              0.4661      0.047      9.949      0.000       0.374       0.558\n",
      "Present_Price     0.5256      0.013     39.067      0.000       0.499       0.552\n",
      "Kms_Driven    -1.267e-06   3.51e-06     -0.361      0.718   -8.17e-06    5.64e-06\n",
      "Owner            -0.9513      0.466     -2.042      0.042      -1.868      -0.034\n",
      "==============================================================================\n",
      "Omnibus:                       69.450   Durbin-Watson:                   1.560\n",
      "Prob(Omnibus):                  0.000   Jarque-Bera (JB):             1362.873\n",
      "Skew:                           0.241   Prob(JB):                    1.14e-296\n",
      "Kurtosis:                      13.413   Cond. No.                     4.46e+07\n",
      "==============================================================================\n",
      "\n",
      "Notes:\n",
      "[1] Standard Errors assume that the covariance matrix of the errors is correctly specified.\n",
      "[2] The condition number is large, 4.46e+07. This might indicate that there are\n",
      "strong multicollinearity or other numerical problems.\n"
     ]
    }
   ],
   "source": [
    "# type your code here\n",
    "x=num_var.drop('Selling_Price', axis=1)\n",
    "y=num_var.Selling_Price\n",
    "x=sm.add_constant(x)\n",
    "model=sm.OLS(y,x).fit()\n",
    "print(model.summary())"
   ]
  },
  {
   "cell_type": "markdown",
   "metadata": {},
   "source": [
    "<table align=\"left\">\n",
    "    <tr>\n",
    "        <td width=\"6%\">\n",
    "            <img src=\"question_icon.png\">\n",
    "        </td>\n",
    "        <td>\n",
    "            <div align=\"left\", style=\"font-size:120%\">\n",
    "                <font color=\"#21618C\">\n",
    "                    <b>5. In the model obtained in question 4, consider the interaction effect of the present price of the car and the year in which it was purchased. Compare the resultant model with the model obtained in previous question and give your interpretation \n",
    "                    </b>\n",
    "                </font>\n",
    "            </div>\n",
    "        </td>\n",
    "    </tr>\n",
    "</table>"
   ]
  },
  {
   "cell_type": "code",
   "execution_count": 13,
   "metadata": {},
   "outputs": [
    {
     "name": "stdout",
     "output_type": "stream",
     "text": [
      "                            OLS Regression Results                            \n",
      "==============================================================================\n",
      "Dep. Variable:          Selling_Price   R-squared:                       0.850\n",
      "Model:                            OLS   Adj. R-squared:                  0.849\n",
      "Method:                 Least Squares   F-statistic:                     844.7\n",
      "Date:                Fri, 26 Nov 2021   Prob (F-statistic):          1.64e-123\n",
      "Time:                        21:56:32   Log-Likelihood:                -630.42\n",
      "No. Observations:                 301   AIC:                             1267.\n",
      "Df Residuals:                     298   BIC:                             1278.\n",
      "Df Model:                           2                                         \n",
      "Covariance Type:            nonrobust                                         \n",
      "=================================================================================\n",
      "                    coef    std err          t      P>|t|      [0.025      0.975]\n",
      "---------------------------------------------------------------------------------\n",
      "const          -985.4594     79.494    -12.397      0.000   -1141.900    -829.019\n",
      "Present_Price     0.5246      0.013     39.731      0.000       0.499       0.551\n",
      "Year              0.4897      0.039     12.406      0.000       0.412       0.567\n",
      "==============================================================================\n",
      "Omnibus:                       67.412   Durbin-Watson:                   1.526\n",
      "Prob(Omnibus):                  0.000   Jarque-Bera (JB):             1300.900\n",
      "Skew:                           0.186   Prob(JB):                    3.26e-283\n",
      "Kurtosis:                      13.178   Cond. No.                     1.41e+06\n",
      "==============================================================================\n",
      "\n",
      "Notes:\n",
      "[1] Standard Errors assume that the covariance matrix of the errors is correctly specified.\n",
      "[2] The condition number is large, 1.41e+06. This might indicate that there are\n",
      "strong multicollinearity or other numerical problems.\n"
     ]
    }
   ],
   "source": [
    "# type your code here\n",
    "x=num_var[['Present_Price', 'Year']]\n",
    "Y=num_var['Selling_Price']\n",
    "x=sm.add_constant(x)\n",
    "model=sm.OLS(y,x).fit()\n",
    "print(model.summary())"
   ]
  },
  {
   "cell_type": "markdown",
   "metadata": {},
   "source": [
    "<table align=\"left\">\n",
    "    <tr>\n",
    "        <td width=\"6%\">\n",
    "            <img src=\"question_icon.png\">\n",
    "        </td>\n",
    "        <td>\n",
    "            <div align=\"left\", style=\"font-size:120%\">\n",
    "                <font color=\"#21618C\">\n",
    "                    <b>6. What is the impact of fuel type of cars on the selling price? \n",
    "                    </b>\n",
    "                </font>\n",
    "            </div>\n",
    "        </td>\n",
    "    </tr>\n",
    "</table>"
   ]
  },
  {
   "cell_type": "code",
   "execution_count": 14,
   "metadata": {},
   "outputs": [
    {
     "data": {
      "text/plain": [
       "Index(['Year', 'Selling_Price', 'Present_Price', 'Kms_Driven', 'Fuel_Type',\n",
       "       'Seller_Type', 'Transmission', 'Owner'],\n",
       "      dtype='object')"
      ]
     },
     "execution_count": 14,
     "metadata": {},
     "output_type": "execute_result"
    }
   ],
   "source": [
    "df.columns"
   ]
  },
  {
   "cell_type": "code",
   "execution_count": 15,
   "metadata": {},
   "outputs": [
    {
     "name": "stdout",
     "output_type": "stream",
     "text": [
      "                            OLS Regression Results                            \n",
      "==============================================================================\n",
      "Dep. Variable:          Selling_Price   R-squared:                       0.003\n",
      "Model:                            OLS   Adj. R-squared:                 -0.001\n",
      "Method:                 Least Squares   F-statistic:                    0.8004\n",
      "Date:                Fri, 26 Nov 2021   Prob (F-statistic):              0.372\n",
      "Time:                        21:56:32   Log-Likelihood:                -915.58\n",
      "No. Observations:                 301   AIC:                             1835.\n",
      "Df Residuals:                     299   BIC:                             1843.\n",
      "Df Model:                           1                                         \n",
      "Covariance Type:            nonrobust                                         \n",
      "==============================================================================\n",
      "                 coef    std err          t      P>|t|      [0.025      0.975]\n",
      "------------------------------------------------------------------------------\n",
      "const          4.6764      0.294     15.930      0.000       4.099       5.254\n",
      "Fuel_Type     -4.5564      5.093     -0.895      0.372     -14.579       5.466\n",
      "==============================================================================\n",
      "Omnibus:                      181.882   Durbin-Watson:                   1.054\n",
      "Prob(Omnibus):                  0.000   Jarque-Bera (JB):             1273.577\n",
      "Skew:                           2.484   Prob(JB):                    2.79e-277\n",
      "Kurtosis:                      11.767   Cond. No.                         17.4\n",
      "==============================================================================\n",
      "\n",
      "Notes:\n",
      "[1] Standard Errors assume that the covariance matrix of the errors is correctly specified.\n"
     ]
    }
   ],
   "source": [
    "# type your code here\n",
    "x = df['Fuel_Type']\n",
    "y = df['Selling_Price']\n",
    "x = sm.add_constant(x)\n",
    "model = sm.OLS(y,x).fit()\n",
    "print(model.summary())"
   ]
  },
  {
   "cell_type": "markdown",
   "metadata": {},
   "source": [
    "<table align=\"left\">\n",
    "    <tr>\n",
    "        <td width=\"6%\">\n",
    "            <img src=\"question_icon.png\">\n",
    "        </td>\n",
    "        <td>\n",
    "            <div align=\"left\", style=\"font-size:120%\">\n",
    "                <font color=\"#21618C\">\n",
    "                    <b>7. Does the model significantly explain variation in the target variable? Justify your answer with analysis of variation \n",
    "                    </b>\n",
    "                </font>\n",
    "            </div>\n",
    "        </td>\n",
    "    </tr>\n",
    "</table>"
   ]
  },
  {
   "cell_type": "markdown",
   "metadata": {},
   "source": [
    "            Regress the selling price over the transmission.\n",
    "            \n",
    "            Selling_Price ~ Transmission"
   ]
  },
  {
   "cell_type": "code",
   "execution_count": 16,
   "metadata": {},
   "outputs": [
    {
     "name": "stdout",
     "output_type": "stream",
     "text": [
      "                            OLS Regression Results                            \n",
      "==============================================================================\n",
      "Dep. Variable:          Selling_Price   R-squared:                       0.135\n",
      "Model:                            OLS   Adj. R-squared:                  0.132\n",
      "Method:                 Least Squares   F-statistic:                     46.58\n",
      "Date:                Fri, 26 Nov 2021   Prob (F-statistic):           4.90e-11\n",
      "Time:                        21:56:33   Log-Likelihood:                -894.20\n",
      "No. Observations:                 301   AIC:                             1792.\n",
      "Df Residuals:                     299   BIC:                             1800.\n",
      "Df Model:                           1                                         \n",
      "Covariance Type:            nonrobust                                         \n",
      "================================================================================\n",
      "                   coef    std err          t      P>|t|      [0.025      0.975]\n",
      "--------------------------------------------------------------------------------\n",
      "const            9.4200      0.749     12.580      0.000       7.946      10.894\n",
      "Transmission    -5.4880      0.804     -6.825      0.000      -7.070      -3.906\n",
      "==============================================================================\n",
      "Omnibus:                      143.925   Durbin-Watson:                   1.182\n",
      "Prob(Omnibus):                  0.000   Jarque-Bera (JB):              946.055\n",
      "Skew:                           1.855   Prob(JB):                    3.69e-206\n",
      "Kurtosis:                      10.853   Cond. No.                         5.31\n",
      "==============================================================================\n",
      "\n",
      "Notes:\n",
      "[1] Standard Errors assume that the covariance matrix of the errors is correctly specified.\n"
     ]
    }
   ],
   "source": [
    "# type your code here\n",
    "y=df.Selling_Price\n",
    "x=df[['Transmission']]\n",
    "x=sm.add_constant(x)\n",
    "model=sm.OLS(y,x).fit()\n",
    "print(model.summary())"
   ]
  },
  {
   "cell_type": "markdown",
   "metadata": {},
   "source": [
    "<table align=\"left\">\n",
    "    <tr>\n",
    "        <td width=\"6%\">\n",
    "            <img src=\"question_icon.png\">\n",
    "        </td>\n",
    "        <td>\n",
    "            <div align=\"left\", style=\"font-size:120%\">\n",
    "                <font color=\"#21618C\">\n",
    "                    <b>8. Regress the selling price over the present price. Compare the 99% and 95% confidence interval of present price of a car\n",
    "                    </b>\n",
    "                </font>\n",
    "            </div>\n",
    "        </td>\n",
    "    </tr>\n",
    "</table>"
   ]
  },
  {
   "cell_type": "code",
   "execution_count": 17,
   "metadata": {},
   "outputs": [
    {
     "name": "stdout",
     "output_type": "stream",
     "text": [
      "                            OLS Regression Results                            \n",
      "==============================================================================\n",
      "Dep. Variable:          Selling_Price   R-squared:                       0.773\n",
      "Model:                            OLS   Adj. R-squared:                  0.772\n",
      "Method:                 Least Squares   F-statistic:                     1016.\n",
      "Date:                Fri, 26 Nov 2021   Prob (F-statistic):           3.60e-98\n",
      "Time:                        21:56:33   Log-Likelihood:                -693.08\n",
      "No. Observations:                 301   AIC:                             1390.\n",
      "Df Residuals:                     299   BIC:                             1398.\n",
      "Df Model:                           1                                         \n",
      "Covariance Type:            nonrobust                                         \n",
      "=================================================================================\n",
      "                    coef    std err          t      P>|t|      [0.025      0.975]\n",
      "---------------------------------------------------------------------------------\n",
      "const             0.7185      0.187      3.847      0.000       0.351       1.086\n",
      "Present_Price     0.5168      0.016     31.874      0.000       0.485       0.549\n",
      "==============================================================================\n",
      "Omnibus:                       59.775   Durbin-Watson:                   1.533\n",
      "Prob(Omnibus):                  0.000   Jarque-Bera (JB):              926.121\n",
      "Skew:                           0.084   Prob(JB):                    7.86e-202\n",
      "Kurtosis:                      11.592   Cond. No.                         15.4\n",
      "==============================================================================\n",
      "\n",
      "Notes:\n",
      "[1] Standard Errors assume that the covariance matrix of the errors is correctly specified.\n"
     ]
    }
   ],
   "source": [
    "# type your code here\n",
    "x=df['Present_Price']\n",
    "y=df['Selling_Price']\n",
    "x=sm.add_constant(x)\n",
    "model=sm.OLS(y,x).fit()\n",
    "print(model.summary())"
   ]
  },
  {
   "cell_type": "code",
   "execution_count": 28,
   "metadata": {},
   "outputs": [
    {
     "name": "stdout",
     "output_type": "stream",
     "text": [
      "95% Confidence interval:  (0.35097710264729065, 1.086077839316249)\n",
      "95% Confidence interval:  (0.4849382834729174, 0.5487597713178757)\n"
     ]
    }
   ],
   "source": [
    "# 95% Interval\n",
    "interval=stats.t.interval(0.95, df=df.shape[0]-1, loc=model.params[0], scale=model.bse[0])\n",
    "print('95% Confidence interval: ', interval)\n",
    "interval=stats.t.interval(0.95, df=df.shape[0]-1, loc=model.params[1], scale=model.bse[1])\n",
    "print('95% Confidence interval: ', interval)"
   ]
  },
  {
   "cell_type": "code",
   "execution_count": 19,
   "metadata": {},
   "outputs": [
    {
     "name": "stdout",
     "output_type": "stream",
     "text": [
      "99% Confidence interval:  (0.23435378650994187, 1.2027011554535976)\n",
      "99% Confidence interval:  (0.4748130405204669, 0.5588850142703261)\n"
     ]
    }
   ],
   "source": [
    "#99% confidence interval\n",
    "interval=stats.t.interval(0.99, df=df.shape[0]-1, loc=model.params[0], scale=model.bse[0])\n",
    "print('99% Confidence interval: ', interval)\n",
    "interval=stats.t.interval(0.99, df=df.shape[0]-1, loc=model.params[1], scale=model.bse[1])\n",
    "print('99% Confidence interval: ', interval)"
   ]
  },
  {
   "cell_type": "markdown",
   "metadata": {},
   "source": [
    "<table align=\"left\">\n",
    "    <tr>\n",
    "        <td width=\"6%\">\n",
    "            <img src=\"question_icon.png\">\n",
    "        </td>\n",
    "        <td>\n",
    "            <div align=\"left\", style=\"font-size:120%\">\n",
    "                <font color=\"#21618C\">\n",
    "                        <b>9. Verify the statement: The sum of the residuals in any regression model that contains an intercept β<sub>0</sub> is always zero\n",
    "                    </b>\n",
    "                </font>\n",
    "            </div>\n",
    "        </td>\n",
    "    </tr>\n",
    "</table>"
   ]
  },
  {
   "cell_type": "markdown",
   "metadata": {},
   "source": [
    "        To verify the result, we will fit a regression model of 'Present_Price' on 'Selling_Price' "
   ]
  },
  {
   "cell_type": "code",
   "execution_count": 25,
   "metadata": {},
   "outputs": [
    {
     "name": "stdout",
     "output_type": "stream",
     "text": [
      "                            OLS Regression Results                            \n",
      "==============================================================================\n",
      "Dep. Variable:          Selling_Price   R-squared:                       0.773\n",
      "Model:                            OLS   Adj. R-squared:                  0.772\n",
      "Method:                 Least Squares   F-statistic:                     1016.\n",
      "Date:                Fri, 26 Nov 2021   Prob (F-statistic):           3.60e-98\n",
      "Time:                        21:59:56   Log-Likelihood:                -693.08\n",
      "No. Observations:                 301   AIC:                             1390.\n",
      "Df Residuals:                     299   BIC:                             1398.\n",
      "Df Model:                           1                                         \n",
      "Covariance Type:            nonrobust                                         \n",
      "=================================================================================\n",
      "                    coef    std err          t      P>|t|      [0.025      0.975]\n",
      "---------------------------------------------------------------------------------\n",
      "const             0.7185      0.187      3.847      0.000       0.351       1.086\n",
      "Present_Price     0.5168      0.016     31.874      0.000       0.485       0.549\n",
      "==============================================================================\n",
      "Omnibus:                       59.775   Durbin-Watson:                   1.533\n",
      "Prob(Omnibus):                  0.000   Jarque-Bera (JB):              926.121\n",
      "Skew:                           0.084   Prob(JB):                    7.86e-202\n",
      "Kurtosis:                      11.592   Cond. No.                         15.4\n",
      "==============================================================================\n",
      "\n",
      "Notes:\n",
      "[1] Standard Errors assume that the covariance matrix of the errors is correctly specified.\n"
     ]
    }
   ],
   "source": [
    "# type your code here\n",
    "x=df['Present_Price']\n",
    "y=df['Selling_Price']\n",
    "x=sm.add_constant(x)\n",
    "model=sm.OLS(y,x).fit()\n",
    "print(model.summary())"
   ]
  },
  {
   "cell_type": "code",
   "execution_count": 34,
   "metadata": {},
   "outputs": [
    {
     "data": {
      "text/plain": [
       "6.726143622276435e-26"
      ]
     },
     "execution_count": 34,
     "metadata": {},
     "output_type": "execute_result"
    }
   ],
   "source": [
    "(model.resid.sum())**2\n",
    "# It is near by zero"
   ]
  },
  {
   "cell_type": "markdown",
   "metadata": {},
   "source": [
    "<table align=\"left\">\n",
    "    <tr>\n",
    "        <td width=\"6%\">\n",
    "            <img src=\"question_icon.png\">\n",
    "        </td>\n",
    "        <td>\n",
    "            <div align=\"left\", style=\"font-size:120%\">\n",
    "                <font color=\"#21618C\">\n",
    "                    <b>10. Consider two models as specified below. Compare the performance of the models\n",
    "                    </b>\n",
    "                </font>\n",
    "            </div>\n",
    "        </td>\n",
    "    </tr>\n",
    "</table>"
   ]
  },
  {
   "cell_type": "markdown",
   "metadata": {},
   "source": [
    "                First model:\n",
    "        \n",
    "        Selling_Price ~ Year + Present_Price + Kms_Driven + Owner + Fuel_Type + Seller_Type + Transmission\n",
    "        \n",
    "        \n",
    "                Second model:\n",
    "        \n",
    "        Selling_Price ~ Year + Present_Price + Kms_Driven + Owner "
   ]
  },
  {
   "cell_type": "code",
   "execution_count": 21,
   "metadata": {},
   "outputs": [
    {
     "name": "stdout",
     "output_type": "stream",
     "text": [
      "                            OLS Regression Results                            \n",
      "==============================================================================\n",
      "Dep. Variable:          Selling_Price   R-squared:                       0.868\n",
      "Model:                            OLS   Adj. R-squared:                  0.865\n",
      "Method:                 Least Squares   F-statistic:                     274.5\n",
      "Date:                Fri, 26 Nov 2021   Prob (F-statistic):          1.17e-124\n",
      "Time:                        21:56:33   Log-Likelihood:                -611.59\n",
      "No. Observations:                 301   AIC:                             1239.\n",
      "Df Residuals:                     293   BIC:                             1269.\n",
      "Df Model:                           7                                         \n",
      "Covariance Type:            nonrobust                                         \n",
      "=================================================================================\n",
      "                    coef    std err          t      P>|t|      [0.025      0.975]\n",
      "---------------------------------------------------------------------------------\n",
      "const          -896.1319     91.309     -9.814      0.000   -1075.837    -716.427\n",
      "Year              0.4464      0.045      9.856      0.000       0.357       0.536\n",
      "Present_Price     0.4733      0.016     29.933      0.000       0.442       0.504\n",
      "Kms_Driven    -3.352e-06   3.37e-06     -0.994      0.321   -9.99e-06    3.29e-06\n",
      "Fuel_Type         2.8074      1.900      1.478      0.141      -0.931       6.546\n",
      "Seller_Type      -1.3154      0.270     -4.877      0.000      -1.846      -0.785\n",
      "Transmission     -1.2759      0.346     -3.687      0.000      -1.957      -0.595\n",
      "Owner            -0.7152      0.448     -1.596      0.112      -1.597       0.167\n",
      "==============================================================================\n",
      "Omnibus:                       85.727   Durbin-Watson:                   1.695\n",
      "Prob(Omnibus):                  0.000   Jarque-Bera (JB):              786.371\n",
      "Skew:                           0.862   Prob(JB):                    1.74e-171\n",
      "Kurtosis:                      10.728   Cond. No.                     4.54e+07\n",
      "==============================================================================\n",
      "\n",
      "Notes:\n",
      "[1] Standard Errors assume that the covariance matrix of the errors is correctly specified.\n",
      "[2] The condition number is large, 4.54e+07. This might indicate that there are\n",
      "strong multicollinearity or other numerical problems.\n"
     ]
    }
   ],
   "source": [
    "x=df.drop('Selling_Price', axis=1)\n",
    "x=sm.add_constant(x)\n",
    "y=df.Selling_Price\n",
    "First_model=sm.OLS(y,x).fit()\n",
    "print(First_model.summary())"
   ]
  },
  {
   "cell_type": "code",
   "execution_count": 22,
   "metadata": {},
   "outputs": [
    {
     "name": "stdout",
     "output_type": "stream",
     "text": [
      "                            OLS Regression Results                            \n",
      "==============================================================================\n",
      "Dep. Variable:          Selling_Price   R-squared:                       0.852\n",
      "Model:                            OLS   Adj. R-squared:                  0.850\n",
      "Method:                 Least Squares   F-statistic:                     426.6\n",
      "Date:                Fri, 26 Nov 2021   Prob (F-statistic):          1.66e-121\n",
      "Time:                        21:56:33   Log-Likelihood:                -628.25\n",
      "No. Observations:                 301   AIC:                             1267.\n",
      "Df Residuals:                     296   BIC:                             1285.\n",
      "Df Model:                           4                                         \n",
      "Covariance Type:            nonrobust                                         \n",
      "=================================================================================\n",
      "                    coef    std err          t      P>|t|      [0.025      0.975]\n",
      "---------------------------------------------------------------------------------\n",
      "const          -937.7642     94.392     -9.935      0.000   -1123.528    -752.000\n",
      "Year              0.4661      0.047      9.949      0.000       0.374       0.558\n",
      "Present_Price     0.5256      0.013     39.067      0.000       0.499       0.552\n",
      "Kms_Driven    -1.267e-06   3.51e-06     -0.361      0.718   -8.17e-06    5.64e-06\n",
      "Owner            -0.9513      0.466     -2.042      0.042      -1.868      -0.034\n",
      "==============================================================================\n",
      "Omnibus:                       69.450   Durbin-Watson:                   1.560\n",
      "Prob(Omnibus):                  0.000   Jarque-Bera (JB):             1362.873\n",
      "Skew:                           0.241   Prob(JB):                    1.14e-296\n",
      "Kurtosis:                      13.413   Cond. No.                     4.46e+07\n",
      "==============================================================================\n",
      "\n",
      "Notes:\n",
      "[1] Standard Errors assume that the covariance matrix of the errors is correctly specified.\n",
      "[2] The condition number is large, 4.46e+07. This might indicate that there are\n",
      "strong multicollinearity or other numerical problems.\n"
     ]
    }
   ],
   "source": [
    "x=df[['Year', 'Present_Price', 'Kms_Driven', 'Owner' ]]\n",
    "x=sm.add_constant(x)\n",
    "y=df.Selling_Price\n",
    "Second_model=sm.OLS(y,x).fit()\n",
    "print(Second_model.summary())"
   ]
  },
  {
   "cell_type": "code",
   "execution_count": 23,
   "metadata": {},
   "outputs": [],
   "source": [
    "# Second_model is better than First_model"
   ]
  }
 ],
 "metadata": {
  "kernelspec": {
   "display_name": "Python 3",
   "language": "python",
   "name": "python3"
  },
  "language_info": {
   "codemirror_mode": {
    "name": "ipython",
    "version": 3
   },
   "file_extension": ".py",
   "mimetype": "text/x-python",
   "name": "python",
   "nbconvert_exporter": "python",
   "pygments_lexer": "ipython3",
   "version": "3.8.8"
  }
 },
 "nbformat": 4,
 "nbformat_minor": 2
}
