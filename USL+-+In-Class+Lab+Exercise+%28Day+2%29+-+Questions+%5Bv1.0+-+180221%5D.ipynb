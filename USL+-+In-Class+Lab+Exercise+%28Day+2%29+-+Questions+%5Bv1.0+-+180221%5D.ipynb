{
 "cells": [
  {
   "cell_type": "markdown",
   "metadata": {},
   "source": [
    "<table align=\"center\" width=100%>\n",
    "    <tr>\n",
    "        <td width=\"15%\">\n",
    "            <img src=\"in_class.png\">\n",
    "        </td>\n",
    "        <td>\n",
    "            <div align=\"center\">\n",
    "                <font color=\"#21618C\" size=8px>\n",
    "                    <b> Inclass-Lab  <br>(Day 2)\n",
    "                    </b>\n",
    "                </font>\n",
    "            </div>\n",
    "        </td>\n",
    "    </tr>\n",
    "</table>"
   ]
  },
  {
   "cell_type": "markdown",
   "metadata": {},
   "source": [
    "### About the dataset (CO<sub>2</sub> emission data)\n",
    "\n",
    "In the dataset, the CO<sub>2</sub> emission for various regions in the world is given. Our objective is to group the regions based on the factors affecting the environment in terms of the greenhouse gases, where CO<sub>2</sub> is a primary greenhouse gas. \n",
    "\n",
    "Many developing and developed countries in the world are contributing to the CO<sub>2</sub> emission in the environment. It is interesting to know that the increase in atmospheric carbon dioxide is responsible for about two-thirds of the total energy imbalance that is causing Earth's temperature to rise and leads to global warming.\n",
    "\n",
    "**Region**: Region of the country\n",
    "\n",
    "**CO2 Emission**: Annual CO<sub>2</sub> emission (in tonnes)\n",
    "\n",
    "**Ease of Business**: The ease of business in the country\n",
    "\n",
    "**Energy Usage**: Energy used by the country in various forms\n",
    "\n",
    "**GDP**: GDP of a country\n",
    "\n",
    "**Internet Usage**: Usage of the internet \n",
    "\n",
    "**Population total**: Total population of a country"
   ]
  },
  {
   "cell_type": "markdown",
   "metadata": {},
   "source": [
    "## Table of Content\n",
    "\n",
    "1. **[Exploratory Data Analysis](#lib)**\n",
    "2. **[Hierarchical Clustering](#hie)**\n",
    "3. **[DBSCAN](#DBSCAN)**"
   ]
  },
  {
   "cell_type": "markdown",
   "metadata": {},
   "source": [
    "#### Import the required libraries"
   ]
  },
  {
   "cell_type": "code",
   "execution_count": 1,
   "metadata": {},
   "outputs": [],
   "source": [
    "# write your code here\n",
    "# import 'numpy' to compute high-level mathematics functions \n",
    "import numpy as np\n",
    "\n",
    "# import 'pandas' to perform data manipulation\n",
    "import pandas as pd\n",
    "\n",
    "# import 'matplotlib.pyplot' for visualization\n",
    "import matplotlib.pyplot as plt\n",
    "\n",
    "# import 'seaborn' for high-level statistical graphics\n",
    "import seaborn as sns\n",
    "\n",
    "# to ignore the warnings run the following code\n",
    "import warnings\n",
    "warnings.filterwarnings(\"ignore\")\n",
    "\n",
    "# run below code to convert the 'exponential' values to float\n",
    "np.set_printoptions(suppress = True)\n",
    "\n",
    "# import functions from sklearn to perform clustering\n",
    "from sklearn.preprocessing import StandardScaler\n",
    "from sklearn.metrics import silhouette_score \n",
    "from sklearn.cluster import AgglomerativeClustering\n",
    "from sklearn.metrics.pairwise import euclidean_distances\n",
    "from sklearn.cluster import DBSCAN\n",
    "\n",
    "# import functions from scipy to perform clustering\n",
    "from scipy.cluster.hierarchy import linkage\n",
    "from scipy.cluster.hierarchy import dendrogram\n",
    "from scipy.cluster.hierarchy import cophenet"
   ]
  },
  {
   "cell_type": "markdown",
   "metadata": {},
   "source": [
    "#### Read the data\n",
    "\n",
    "Load the csv file and print the first five observations."
   ]
  },
  {
   "cell_type": "code",
   "execution_count": 2,
   "metadata": {},
   "outputs": [
    {
     "data": {
      "text/html": [
       "<div>\n",
       "<style scoped>\n",
       "    .dataframe tbody tr th:only-of-type {\n",
       "        vertical-align: middle;\n",
       "    }\n",
       "\n",
       "    .dataframe tbody tr th {\n",
       "        vertical-align: top;\n",
       "    }\n",
       "\n",
       "    .dataframe thead th {\n",
       "        text-align: right;\n",
       "    }\n",
       "</style>\n",
       "<table border=\"1\" class=\"dataframe\">\n",
       "  <thead>\n",
       "    <tr style=\"text-align: right;\">\n",
       "      <th></th>\n",
       "      <th>Region</th>\n",
       "      <th>CO2 Emissions</th>\n",
       "      <th>Ease of Business</th>\n",
       "      <th>Energy Usage</th>\n",
       "      <th>GDP</th>\n",
       "      <th>Internet Usage</th>\n",
       "      <th>Population Total</th>\n",
       "    </tr>\n",
       "  </thead>\n",
       "  <tbody>\n",
       "    <tr>\n",
       "      <th>0</th>\n",
       "      <td>Europe</td>\n",
       "      <td>4294</td>\n",
       "      <td>151</td>\n",
       "      <td>1976</td>\n",
       "      <td>5.652325e+09</td>\n",
       "      <td>0.010</td>\n",
       "      <td>3033659</td>\n",
       "    </tr>\n",
       "    <tr>\n",
       "      <th>1</th>\n",
       "      <td>Europe</td>\n",
       "      <td>4166</td>\n",
       "      <td>151</td>\n",
       "      <td>2172</td>\n",
       "      <td>7.464447e+09</td>\n",
       "      <td>0.024</td>\n",
       "      <td>3014579</td>\n",
       "    </tr>\n",
       "    <tr>\n",
       "      <th>2</th>\n",
       "      <td>Europe</td>\n",
       "      <td>4254</td>\n",
       "      <td>151</td>\n",
       "      <td>2172</td>\n",
       "      <td>8.376484e+09</td>\n",
       "      <td>0.060</td>\n",
       "      <td>2992724</td>\n",
       "    </tr>\n",
       "    <tr>\n",
       "      <th>3</th>\n",
       "      <td>Europe</td>\n",
       "      <td>3865</td>\n",
       "      <td>151</td>\n",
       "      <td>2068</td>\n",
       "      <td>9.132562e+09</td>\n",
       "      <td>0.096</td>\n",
       "      <td>2968028</td>\n",
       "    </tr>\n",
       "    <tr>\n",
       "      <th>4</th>\n",
       "      <td>Europe</td>\n",
       "      <td>4056</td>\n",
       "      <td>151</td>\n",
       "      <td>2025</td>\n",
       "      <td>1.070101e+10</td>\n",
       "      <td>0.150</td>\n",
       "      <td>2940880</td>\n",
       "    </tr>\n",
       "  </tbody>\n",
       "</table>\n",
       "</div>"
      ],
      "text/plain": [
       "   Region  CO2 Emissions  Ease of Business  Energy Usage           GDP  \\\n",
       "0  Europe           4294               151          1976  5.652325e+09   \n",
       "1  Europe           4166               151          2172  7.464447e+09   \n",
       "2  Europe           4254               151          2172  8.376484e+09   \n",
       "3  Europe           3865               151          2068  9.132562e+09   \n",
       "4  Europe           4056               151          2025  1.070101e+10   \n",
       "\n",
       "   Internet Usage  Population Total  \n",
       "0           0.010           3033659  \n",
       "1           0.024           3014579  \n",
       "2           0.060           2992724  \n",
       "3           0.096           2968028  \n",
       "4           0.150           2940880  "
      ]
     },
     "execution_count": 2,
     "metadata": {},
     "output_type": "execute_result"
    }
   ],
   "source": [
    "# write your code here\n",
    "df1 = pd.read_csv('CO2_emission_data.csv')\n",
    "df1.head()"
   ]
  },
  {
   "cell_type": "markdown",
   "metadata": {},
   "source": [
    "\n",
    "### Let's begin with some hands-on practice exercises"
   ]
  },
  {
   "cell_type": "markdown",
   "metadata": {},
   "source": [
    "<a id=\"lib\"> </a>\n",
    "## 1. Exploratory Data Analysis"
   ]
  },
  {
   "cell_type": "markdown",
   "metadata": {},
   "source": [
    "<table align=\"left\">\n",
    "    <tr>\n",
    "        <td width=\"6%\">\n",
    "            <img src=\"question_icon.png\">\n",
    "        </td>\n",
    "        <td>\n",
    "            <div align=\"left\", style=\"font-size:120%\">\n",
    "                <font color=\"#21618C\">\n",
    "                    <b>1. Identify the different regions to which the countries belong and visualize the count of countries.</b>\n",
    "                </font>\n",
    "            </div>\n",
    "        </td>\n",
    "    </tr>\n",
    "</table>"
   ]
  },
  {
   "cell_type": "code",
   "execution_count": 3,
   "metadata": {},
   "outputs": [
    {
     "data": {
      "text/plain": [
       "Europe          302\n",
       "The Americas    289\n",
       "Africa          254\n",
       "Asia            244\n",
       "Middle East      92\n",
       "Oceania          62\n",
       "Name: Region, dtype: int64"
      ]
     },
     "execution_count": 3,
     "metadata": {},
     "output_type": "execute_result"
    }
   ],
   "source": [
    "# write your code here\n",
    "df1['Region'].value_counts()"
   ]
  },
  {
   "cell_type": "markdown",
   "metadata": {},
   "source": [
    "<table align=\"left\">\n",
    "    <tr>\n",
    "        <td width=\"6%\">\n",
    "            <img src=\"question_icon.png\">\n",
    "        </td>\n",
    "        <td>\n",
    "            <div align=\"left\", style=\"font-size:120%\">\n",
    "                <font color=\"#21618C\">\n",
    "                    <b>2. Check the datatype, dimension and summary statistics of the data.</b>\n",
    "                </font>\n",
    "            </div>\n",
    "        </td>\n",
    "    </tr>\n",
    "</table>"
   ]
  },
  {
   "cell_type": "code",
   "execution_count": 4,
   "metadata": {},
   "outputs": [
    {
     "data": {
      "text/plain": [
       "Region               object\n",
       "CO2 Emissions         int64\n",
       "Ease of Business      int64\n",
       "Energy Usage          int64\n",
       "GDP                 float64\n",
       "Internet Usage      float64\n",
       "Population Total      int64\n",
       "dtype: object"
      ]
     },
     "execution_count": 4,
     "metadata": {},
     "output_type": "execute_result"
    }
   ],
   "source": [
    "# write your code here\n",
    "df1.dtypes"
   ]
  },
  {
   "cell_type": "code",
   "execution_count": 5,
   "metadata": {},
   "outputs": [
    {
     "data": {
      "text/plain": [
       "(1243, 7)"
      ]
     },
     "execution_count": 5,
     "metadata": {},
     "output_type": "execute_result"
    }
   ],
   "source": [
    "df1.shape"
   ]
  },
  {
   "cell_type": "code",
   "execution_count": 6,
   "metadata": {},
   "outputs": [
    {
     "data": {
      "text/html": [
       "<div>\n",
       "<style scoped>\n",
       "    .dataframe tbody tr th:only-of-type {\n",
       "        vertical-align: middle;\n",
       "    }\n",
       "\n",
       "    .dataframe tbody tr th {\n",
       "        vertical-align: top;\n",
       "    }\n",
       "\n",
       "    .dataframe thead th {\n",
       "        text-align: right;\n",
       "    }\n",
       "</style>\n",
       "<table border=\"1\" class=\"dataframe\">\n",
       "  <thead>\n",
       "    <tr style=\"text-align: right;\">\n",
       "      <th></th>\n",
       "      <th>CO2 Emissions</th>\n",
       "      <th>Ease of Business</th>\n",
       "      <th>Energy Usage</th>\n",
       "      <th>GDP</th>\n",
       "      <th>Internet Usage</th>\n",
       "      <th>Population Total</th>\n",
       "    </tr>\n",
       "  </thead>\n",
       "  <tbody>\n",
       "    <tr>\n",
       "      <th>count</th>\n",
       "      <td>1.243000e+03</td>\n",
       "      <td>1243.000000</td>\n",
       "      <td>1.243000e+03</td>\n",
       "      <td>1.243000e+03</td>\n",
       "      <td>1236.000000</td>\n",
       "      <td>1.243000e+03</td>\n",
       "    </tr>\n",
       "    <tr>\n",
       "      <th>mean</th>\n",
       "      <td>1.897666e+05</td>\n",
       "      <td>88.279968</td>\n",
       "      <td>7.541842e+04</td>\n",
       "      <td>3.535548e+11</td>\n",
       "      <td>0.329983</td>\n",
       "      <td>4.513494e+07</td>\n",
       "    </tr>\n",
       "    <tr>\n",
       "      <th>std</th>\n",
       "      <td>7.697027e+05</td>\n",
       "      <td>52.770388</td>\n",
       "      <td>2.707586e+05</td>\n",
       "      <td>1.358970e+12</td>\n",
       "      <td>1.634042</td>\n",
       "      <td>1.600483e+08</td>\n",
       "    </tr>\n",
       "    <tr>\n",
       "      <th>min</th>\n",
       "      <td>4.800000e+01</td>\n",
       "      <td>1.000000</td>\n",
       "      <td>3.000000e+01</td>\n",
       "      <td>1.232585e+08</td>\n",
       "      <td>0.000000</td>\n",
       "      <td>6.966000e+04</td>\n",
       "    </tr>\n",
       "    <tr>\n",
       "      <th>25%</th>\n",
       "      <td>3.111500e+03</td>\n",
       "      <td>45.000000</td>\n",
       "      <td>2.721000e+03</td>\n",
       "      <td>7.746581e+09</td>\n",
       "      <td>0.062000</td>\n",
       "      <td>2.097088e+06</td>\n",
       "    </tr>\n",
       "    <tr>\n",
       "      <th>50%</th>\n",
       "      <td>1.620800e+04</td>\n",
       "      <td>85.000000</td>\n",
       "      <td>9.318000e+03</td>\n",
       "      <td>2.468037e+10</td>\n",
       "      <td>0.200500</td>\n",
       "      <td>7.739900e+06</td>\n",
       "    </tr>\n",
       "    <tr>\n",
       "      <th>75%</th>\n",
       "      <td>7.581200e+04</td>\n",
       "      <td>131.000000</td>\n",
       "      <td>3.495650e+04</td>\n",
       "      <td>1.770000e+11</td>\n",
       "      <td>0.460000</td>\n",
       "      <td>2.884664e+07</td>\n",
       "    </tr>\n",
       "    <tr>\n",
       "      <th>max</th>\n",
       "      <td>8.286892e+06</td>\n",
       "      <td>186.000000</td>\n",
       "      <td>2.727728e+06</td>\n",
       "      <td>1.620000e+13</td>\n",
       "      <td>57.000000</td>\n",
       "      <td>1.350695e+09</td>\n",
       "    </tr>\n",
       "  </tbody>\n",
       "</table>\n",
       "</div>"
      ],
      "text/plain": [
       "       CO2 Emissions  Ease of Business  Energy Usage           GDP  \\\n",
       "count   1.243000e+03       1243.000000  1.243000e+03  1.243000e+03   \n",
       "mean    1.897666e+05         88.279968  7.541842e+04  3.535548e+11   \n",
       "std     7.697027e+05         52.770388  2.707586e+05  1.358970e+12   \n",
       "min     4.800000e+01          1.000000  3.000000e+01  1.232585e+08   \n",
       "25%     3.111500e+03         45.000000  2.721000e+03  7.746581e+09   \n",
       "50%     1.620800e+04         85.000000  9.318000e+03  2.468037e+10   \n",
       "75%     7.581200e+04        131.000000  3.495650e+04  1.770000e+11   \n",
       "max     8.286892e+06        186.000000  2.727728e+06  1.620000e+13   \n",
       "\n",
       "       Internet Usage  Population Total  \n",
       "count     1236.000000      1.243000e+03  \n",
       "mean         0.329983      4.513494e+07  \n",
       "std          1.634042      1.600483e+08  \n",
       "min          0.000000      6.966000e+04  \n",
       "25%          0.062000      2.097088e+06  \n",
       "50%          0.200500      7.739900e+06  \n",
       "75%          0.460000      2.884664e+07  \n",
       "max         57.000000      1.350695e+09  "
      ]
     },
     "execution_count": 6,
     "metadata": {},
     "output_type": "execute_result"
    }
   ],
   "source": [
    "df1.describe()"
   ]
  },
  {
   "cell_type": "markdown",
   "metadata": {},
   "source": [
    "<table align=\"left\">\n",
    "    <tr>\n",
    "        <td width=\"6%\">\n",
    "            <img src=\"question_icon.png\">\n",
    "        </td>\n",
    "        <td>\n",
    "            <div align=\"left\", style=\"font-size:120%\">\n",
    "                <font color=\"#21618C\">\n",
    "                    <b>3. Drop the variables 'Region', 'Ease of Business', 'Internet Usage'.</b>\n",
    "                </font>\n",
    "            </div>\n",
    "        </td>\n",
    "    </tr>\n",
    "</table>"
   ]
  },
  {
   "cell_type": "code",
   "execution_count": 7,
   "metadata": {},
   "outputs": [],
   "source": [
    "# write your code here\n",
    "df1 = df1.drop(['Region','Ease of Business', 'Internet Usage'], axis=1)"
   ]
  },
  {
   "cell_type": "code",
   "execution_count": 8,
   "metadata": {},
   "outputs": [
    {
     "data": {
      "text/html": [
       "<div>\n",
       "<style scoped>\n",
       "    .dataframe tbody tr th:only-of-type {\n",
       "        vertical-align: middle;\n",
       "    }\n",
       "\n",
       "    .dataframe tbody tr th {\n",
       "        vertical-align: top;\n",
       "    }\n",
       "\n",
       "    .dataframe thead th {\n",
       "        text-align: right;\n",
       "    }\n",
       "</style>\n",
       "<table border=\"1\" class=\"dataframe\">\n",
       "  <thead>\n",
       "    <tr style=\"text-align: right;\">\n",
       "      <th></th>\n",
       "      <th>CO2 Emissions</th>\n",
       "      <th>Energy Usage</th>\n",
       "      <th>GDP</th>\n",
       "      <th>Population Total</th>\n",
       "    </tr>\n",
       "  </thead>\n",
       "  <tbody>\n",
       "    <tr>\n",
       "      <th>0</th>\n",
       "      <td>4294</td>\n",
       "      <td>1976</td>\n",
       "      <td>5.652325e+09</td>\n",
       "      <td>3033659</td>\n",
       "    </tr>\n",
       "    <tr>\n",
       "      <th>1</th>\n",
       "      <td>4166</td>\n",
       "      <td>2172</td>\n",
       "      <td>7.464447e+09</td>\n",
       "      <td>3014579</td>\n",
       "    </tr>\n",
       "    <tr>\n",
       "      <th>2</th>\n",
       "      <td>4254</td>\n",
       "      <td>2172</td>\n",
       "      <td>8.376484e+09</td>\n",
       "      <td>2992724</td>\n",
       "    </tr>\n",
       "    <tr>\n",
       "      <th>3</th>\n",
       "      <td>3865</td>\n",
       "      <td>2068</td>\n",
       "      <td>9.132562e+09</td>\n",
       "      <td>2968028</td>\n",
       "    </tr>\n",
       "    <tr>\n",
       "      <th>4</th>\n",
       "      <td>4056</td>\n",
       "      <td>2025</td>\n",
       "      <td>1.070101e+10</td>\n",
       "      <td>2940880</td>\n",
       "    </tr>\n",
       "  </tbody>\n",
       "</table>\n",
       "</div>"
      ],
      "text/plain": [
       "   CO2 Emissions  Energy Usage           GDP  Population Total\n",
       "0           4294          1976  5.652325e+09           3033659\n",
       "1           4166          2172  7.464447e+09           3014579\n",
       "2           4254          2172  8.376484e+09           2992724\n",
       "3           3865          2068  9.132562e+09           2968028\n",
       "4           4056          2025  1.070101e+10           2940880"
      ]
     },
     "execution_count": 8,
     "metadata": {},
     "output_type": "execute_result"
    }
   ],
   "source": [
    "df1.head()"
   ]
  },
  {
   "cell_type": "markdown",
   "metadata": {},
   "source": [
    "<table align=\"left\">\n",
    "    <tr>\n",
    "        <td width=\"6%\">\n",
    "            <img src=\"question_icon.png\">\n",
    "        </td>\n",
    "        <td>\n",
    "            <div align=\"left\", style=\"font-size:120%\">\n",
    "                <font color=\"#21618C\">\n",
    "                    <b>4. Check if there are missing values, if yes then remove the observations with missing values.</b>\n",
    "                </font>\n",
    "            </div>\n",
    "        </td>\n",
    "    </tr>\n",
    "</table>"
   ]
  },
  {
   "cell_type": "code",
   "execution_count": 9,
   "metadata": {},
   "outputs": [
    {
     "data": {
      "text/plain": [
       "CO2 Emissions       0\n",
       "Energy Usage        0\n",
       "GDP                 0\n",
       "Population Total    0\n",
       "dtype: int64"
      ]
     },
     "execution_count": 9,
     "metadata": {},
     "output_type": "execute_result"
    }
   ],
   "source": [
    "# write your code here\n",
    "df1.isnull().sum()"
   ]
  },
  {
   "cell_type": "markdown",
   "metadata": {},
   "source": [
    "There are no missing values in tha data."
   ]
  },
  {
   "cell_type": "markdown",
   "metadata": {},
   "source": [
    "<table align=\"left\">\n",
    "    <tr>\n",
    "        <td width=\"6%\">\n",
    "            <img src=\"question_icon.png\">\n",
    "        </td>\n",
    "        <td>\n",
    "            <div align=\"left\", style=\"font-size:120%\">\n",
    "                <font color=\"#21618C\">\n",
    "                    <b>5. Check if there are outliers in the data and visualize the outliers using a boxplot.</b>\n",
    "                </font>\n",
    "            </div>\n",
    "        </td>\n",
    "    </tr>\n",
    "</table>"
   ]
  },
  {
   "cell_type": "code",
   "execution_count": 10,
   "metadata": {},
   "outputs": [
    {
     "data": {
      "image/png": "[encoded data removed]",
      "text/plain": [
       "<Figure size 1080x720 with 1 Axes>"
      ]
     },
     "metadata": {
      "needs_background": "light"
     },
     "output_type": "display_data"
    }
   ],
   "source": [
    "# write your code here\n",
    "plt.figure(figsize=(15,10))\n",
    "sns.boxplot(data = df1)\n",
    "plt.show()"
   ]
  },
  {
   "cell_type": "code",
   "execution_count": 11,
   "metadata": {},
   "outputs": [
    {
     "data": {
      "image/png": "[encoded data removed]",
      "text/plain": [
       "<Figure size 1080x576 with 6 Axes>"
      ]
     },
     "metadata": {
      "needs_background": "light"
     },
     "output_type": "display_data"
    }
   ],
   "source": [
    "fig, ax = plt.subplots(nrows = 2, ncols = 3, figsize=(15, 8))\n",
    "\n",
    "# use for loop to plot the boxplot for each variable\n",
    "for variable, subplot in zip(df1.columns, ax.flatten()):\n",
    "    \n",
    "    # use boxplot() to plot the graph\n",
    "    # pass the axes for the plot to the parameter, 'ax'\n",
    "    sns.boxplot(df1[variable], ax = subplot)\n",
    "\n",
    "# display the plot\n",
    "plt.show()"
   ]
  },
  {
   "cell_type": "markdown",
   "metadata": {},
   "source": [
    "<table align=\"left\">\n",
    "    <tr>\n",
    "        <td width=\"6%\">\n",
    "            <img src=\"question_icon.png\">\n",
    "        </td>\n",
    "        <td>\n",
    "            <div align=\"left\", style=\"font-size:120%\">\n",
    "                <font color=\"#21618C\">\n",
    "                    <b>6. Remove the outliers using 3.5IQR and check the shape of the data.</b>\n",
    "                </font>\n",
    "            </div>\n",
    "        </td>\n",
    "    </tr>\n",
    "</table>"
   ]
  },
  {
   "cell_type": "code",
   "execution_count": 12,
   "metadata": {},
   "outputs": [],
   "source": [
    "# write your code here\n",
    "Q1 = df1.quantile(0.25)\n",
    "Q3 = df1.quantile(0.75)\n",
    "IQR = Q3 - Q1\n",
    "df2 = df1[~((df1 < (Q1 - 3.5 * IQR)) | (df1 > (Q3 + 3.5 * IQR))).any(axis=1)]"
   ]
  },
  {
   "cell_type": "code",
   "execution_count": 13,
   "metadata": {},
   "outputs": [
    {
     "data": {
      "text/plain": [
       "(1054, 4)"
      ]
     },
     "execution_count": 13,
     "metadata": {},
     "output_type": "execute_result"
    }
   ],
   "source": [
    "df2.shape"
   ]
  },
  {
   "cell_type": "markdown",
   "metadata": {},
   "source": [
    "<table align=\"left\">\n",
    "    <tr>\n",
    "        <td width=\"6%\">\n",
    "            <img src=\"question_icon.png\">\n",
    "        </td>\n",
    "        <td>\n",
    "            <div align=\"left\", style=\"font-size:120%\">\n",
    "                <font color=\"#21618C\">\n",
    "                    <b>7. Visualize the data obtained after removing the outliers with the help of a boxplot.</b>\n",
    "                </font>\n",
    "            </div>\n",
    "        </td>\n",
    "    </tr>\n",
    "</table>"
   ]
  },
  {
   "cell_type": "code",
   "execution_count": 29,
   "metadata": {},
   "outputs": [
    {
     "data": {
      "image/png": "[encoded data removed]",
      "text/plain": [
       "<Figure size 1080x576 with 4 Axes>"
      ]
     },
     "metadata": {
      "needs_background": "light"
     },
     "output_type": "display_data"
    }
   ],
   "source": [
    "# write your code here\n",
    "fig, ax = plt.subplots(nrows = 2, ncols = 2, figsize=(15, 8))\n",
    "\n",
    "# use for loop to plot the boxplot for each variable\n",
    "for variable, subplot in zip(df2.columns, ax.flatten()):\n",
    "    \n",
    "    # use boxplot() to plot the graph\n",
    "    # pass the axes for the plot to the parameter, 'ax'\n",
    "    sns.boxplot(df2[variable], ax = subplot)\n",
    "\n",
    "# display the plot\n",
    "plt.show()"
   ]
  },
  {
   "cell_type": "markdown",
   "metadata": {},
   "source": [
    "By observing the range of the boxplot, we can say that the extreme outliers are removed from the original data.\n",
    "\n",
    "The new outliers are the moderate outliers that lies between the min/ max range before removing actual outliers."
   ]
  },
  {
   "cell_type": "markdown",
   "metadata": {},
   "source": [
    "<table align=\"left\">\n",
    "    <tr>\n",
    "        <td width=\"6%\">\n",
    "            <img src=\"question_icon.png\">\n",
    "        </td>\n",
    "        <td>\n",
    "            <div align=\"left\", style=\"font-size:120%\">\n",
    "                <font color=\"#21618C\">\n",
    "                    <b>8. Transform the variables in the standard form such that they will have mean 0 and standard deviation 1 and get the summary.</b>\n",
    "                </font>\n",
    "            </div>\n",
    "        </td>\n",
    "    </tr>\n",
    "</table>"
   ]
  },
  {
   "cell_type": "code",
   "execution_count": 31,
   "metadata": {},
   "outputs": [],
   "source": [
    "# write your code here\n",
    "df2_feature = df2[['CO2 Emissions','Energy Usage','GDP','Population Total']]\n",
    "ss = StandardScaler()\n",
    "df2_feature_scaled = ss.fit_transform(df2_feature)\n",
    "df2_scaled = pd.DataFrame(df2_feature_scaled, columns = df2.columns)"
   ]
  },
  {
   "cell_type": "code",
   "execution_count": 33,
   "metadata": {},
   "outputs": [
    {
     "data": {
      "text/html": [
       "<div>\n",
       "<style scoped>\n",
       "    .dataframe tbody tr th:only-of-type {\n",
       "        vertical-align: middle;\n",
       "    }\n",
       "\n",
       "    .dataframe tbody tr th {\n",
       "        vertical-align: top;\n",
       "    }\n",
       "\n",
       "    .dataframe thead th {\n",
       "        text-align: right;\n",
       "    }\n",
       "</style>\n",
       "<table border=\"1\" class=\"dataframe\">\n",
       "  <thead>\n",
       "    <tr style=\"text-align: right;\">\n",
       "      <th></th>\n",
       "      <th>CO2 Emissions</th>\n",
       "      <th>Energy Usage</th>\n",
       "      <th>GDP</th>\n",
       "      <th>Population Total</th>\n",
       "    </tr>\n",
       "  </thead>\n",
       "  <tbody>\n",
       "    <tr>\n",
       "      <th>count</th>\n",
       "      <td>1054.0</td>\n",
       "      <td>1054.0</td>\n",
       "      <td>1054.0</td>\n",
       "      <td>1054.0</td>\n",
       "    </tr>\n",
       "    <tr>\n",
       "      <th>mean</th>\n",
       "      <td>0.0</td>\n",
       "      <td>0.0</td>\n",
       "      <td>0.0</td>\n",
       "      <td>-0.0</td>\n",
       "    </tr>\n",
       "    <tr>\n",
       "      <th>std</th>\n",
       "      <td>1.0</td>\n",
       "      <td>1.0</td>\n",
       "      <td>1.0</td>\n",
       "      <td>1.0</td>\n",
       "    </tr>\n",
       "    <tr>\n",
       "      <th>min</th>\n",
       "      <td>-1.0</td>\n",
       "      <td>-1.0</td>\n",
       "      <td>-1.0</td>\n",
       "      <td>-1.0</td>\n",
       "    </tr>\n",
       "    <tr>\n",
       "      <th>25%</th>\n",
       "      <td>-1.0</td>\n",
       "      <td>-1.0</td>\n",
       "      <td>-1.0</td>\n",
       "      <td>-1.0</td>\n",
       "    </tr>\n",
       "    <tr>\n",
       "      <th>50%</th>\n",
       "      <td>-0.0</td>\n",
       "      <td>-0.0</td>\n",
       "      <td>-0.0</td>\n",
       "      <td>-0.0</td>\n",
       "    </tr>\n",
       "    <tr>\n",
       "      <th>75%</th>\n",
       "      <td>0.0</td>\n",
       "      <td>0.0</td>\n",
       "      <td>-0.0</td>\n",
       "      <td>0.0</td>\n",
       "    </tr>\n",
       "    <tr>\n",
       "      <th>max</th>\n",
       "      <td>5.0</td>\n",
       "      <td>5.0</td>\n",
       "      <td>5.0</td>\n",
       "      <td>5.0</td>\n",
       "    </tr>\n",
       "  </tbody>\n",
       "</table>\n",
       "</div>"
      ],
      "text/plain": [
       "       CO2 Emissions  Energy Usage     GDP  Population Total\n",
       "count         1054.0        1054.0  1054.0            1054.0\n",
       "mean             0.0           0.0     0.0              -0.0\n",
       "std              1.0           1.0     1.0               1.0\n",
       "min             -1.0          -1.0    -1.0              -1.0\n",
       "25%             -1.0          -1.0    -1.0              -1.0\n",
       "50%             -0.0          -0.0    -0.0              -0.0\n",
       "75%              0.0           0.0    -0.0               0.0\n",
       "max              5.0           5.0     5.0               5.0"
      ]
     },
     "execution_count": 33,
     "metadata": {},
     "output_type": "execute_result"
    }
   ],
   "source": [
    "round(df2_scaled.describe())"
   ]
  },
  {
   "cell_type": "markdown",
   "metadata": {},
   "source": [
    "<a id=\"hie\"></a>\n",
    "## 2. Hierarchical Clustering"
   ]
  },
  {
   "cell_type": "markdown",
   "metadata": {},
   "source": [
    "<table align=\"left\">\n",
    "    <tr>\n",
    "        <td width=\"6%\">\n",
    "            <img src=\"question_icon.png\">\n",
    "        </td>\n",
    "        <td>\n",
    "            <div align=\"left\", style=\"font-size:120%\">\n",
    "                <font color=\"#21618C\">\n",
    "                    <b>9. Use the 'ward' linkage method and print the first 10 observations of the linkage matrix.</b>\n",
    "                </font>\n",
    "            </div>\n",
    "        </td>\n",
    "    </tr>\n",
    "</table>"
   ]
  },
  {
   "cell_type": "code",
   "execution_count": 34,
   "metadata": {},
   "outputs": [
    {
     "name": "stdout",
     "output_type": "stream",
     "text": [
      "[[380.         382.           0.00002257   2.        ]\n",
      " [391.         392.           0.00003782   2.        ]\n",
      " [381.         383.           0.0000863    2.        ]\n",
      " [ 36.          37.           0.00008787   2.        ]\n",
      " [ 26.          27.           0.00010737   2.        ]\n",
      " [495.         496.           0.00011967   2.        ]\n",
      " [384.         385.           0.00012006   2.        ]\n",
      " [816.         818.           0.00014106   2.        ]\n",
      " [960.         961.           0.00014553   2.        ]\n",
      " [389.         390.           0.00014886   2.        ]]\n"
     ]
    }
   ],
   "source": [
    "# write your code here\n",
    "link_mat = linkage(df2_scaled, method='ward')\n",
    "print(link_mat[0:10])"
   ]
  },
  {
   "cell_type": "markdown",
   "metadata": {},
   "source": [
    "<table align=\"left\">\n",
    "    <tr>\n",
    "        <td width=\"6%\">\n",
    "            <img src=\"question_icon.png\">\n",
    "        </td>\n",
    "        <td>\n",
    "            <div align=\"left\", style=\"font-size:120%\">\n",
    "                <font color=\"#21618C\">\n",
    "                    <b>10. Visualize the clusters obtained using dendrogram and find the optimal number of clusters.</b>\n",
    "                </font>\n",
    "            </div>\n",
    "        </td>\n",
    "    </tr>\n",
    "</table>"
   ]
  },
  {
   "cell_type": "code",
   "execution_count": 35,
   "metadata": {},
   "outputs": [
    {
     "data": {
      "image/png": "[encoded data removed]",
      "text/plain": [
       "<Figure size 1080x576 with 1 Axes>"
      ]
     },
     "metadata": {
      "needs_background": "light"
     },
     "output_type": "display_data"
    }
   ],
   "source": [
    "# write your code here\n",
    "plt.figure(figsize = (15,8))\n",
    "dendro = dendrogram(link_mat)\n",
    "for i, d, c in zip(dendro['icoord'], dendro['dcoord'], dendro['color_list']):\n",
    "    x = sum(i[1:3])/2\n",
    "    y = d[1]\n",
    "    if y > 15:\n",
    "        plt.plot(x, y , 'o', c=c)\n",
    "        plt.annotate(\"%.3g\" % y, (x, y), xytext=(0, -5), textcoords='offset points', va='top', ha='center')\n",
    "\n",
    "plt.axhline(y = 100)\n",
    "\n",
    "plt.title('Dendrogram', fontsize = 15)\n",
    "plt.xlabel('Index', fontsize = 15)\n",
    "plt.ylabel('Distance', fontsize = 15)\n",
    "\n",
    "plt.show()"
   ]
  },
  {
   "cell_type": "markdown",
   "metadata": {},
   "source": [
    "<table align=\"left\">\n",
    "    <tr>\n",
    "        <td width=\"6%\">\n",
    "            <img src=\"question_icon.png\">\n",
    "        </td>\n",
    "        <td>\n",
    "            <div align=\"left\", style=\"font-size:120%\">\n",
    "                <font color=\"#21618C\">\n",
    "                    <b>11. Find the cophenetic correlation coefficient and interpret it.</b>\n",
    "                </font>\n",
    "            </div>\n",
    "        </td>\n",
    "    </tr>\n",
    "</table>"
   ]
  },
  {
   "cell_type": "code",
   "execution_count": 37,
   "metadata": {},
   "outputs": [
    {
     "name": "stdout",
     "output_type": "stream",
     "text": [
      "0.7973822617121825\n"
     ]
    }
   ],
   "source": [
    "# write your code here\n",
    "eucli_dist = euclidean_distances(df2_scaled)\n",
    "\n",
    "dist_array = eucli_dist[np.triu_indices(1054, k = 1)]\n",
    "\n",
    "coeff, cophenet_dist = cophenet(link_mat, dist_array)\n",
    "\n",
    "print(coeff)"
   ]
  },
  {
   "cell_type": "markdown",
   "metadata": {},
   "source": [
    "<table align=\"left\">\n",
    "    <tr>\n",
    "        <td width=\"6%\">\n",
    "            <img src=\"question_icon.png\">\n",
    "        </td>\n",
    "        <td>\n",
    "            <div align=\"left\", style=\"font-size:120%\">\n",
    "                <font color=\"#21618C\">\n",
    "                    <b>12. Instantiate clustering method with an optimal number of clusters and 'ward' linkage method.</b>\n",
    "                </font>\n",
    "            </div>\n",
    "        </td>\n",
    "    </tr>\n",
    "</table>"
   ]
  },
  {
   "cell_type": "code",
   "execution_count": 38,
   "metadata": {},
   "outputs": [
    {
     "data": {
      "text/plain": [
       "AgglomerativeClustering()"
      ]
     },
     "execution_count": 38,
     "metadata": {},
     "output_type": "execute_result"
    }
   ],
   "source": [
    "# write your code here\n",
    "clusters = AgglomerativeClustering(n_clusters=2, linkage='ward')\n",
    "\n",
    "clusters.fit(df2_scaled)"
   ]
  },
  {
   "cell_type": "markdown",
   "metadata": {},
   "source": [
    "<table align=\"left\">\n",
    "    <tr>\n",
    "        <td width=\"6%\">\n",
    "            <img src=\"question_icon.png\">\n",
    "        </td>\n",
    "        <td>\n",
    "            <div align=\"left\", style=\"font-size:120%\">\n",
    "                <font color=\"#21618C\">\n",
    "                    <b>13. Obtain the cluster labels and add a column containing the cluster number to the original data.</b>\n",
    "                </font>\n",
    "            </div>\n",
    "        </td>\n",
    "    </tr>\n",
    "</table>"
   ]
  },
  {
   "cell_type": "code",
   "execution_count": 40,
   "metadata": {},
   "outputs": [
    {
     "data": {
      "text/html": [
       "<div>\n",
       "<style scoped>\n",
       "    .dataframe tbody tr th:only-of-type {\n",
       "        vertical-align: middle;\n",
       "    }\n",
       "\n",
       "    .dataframe tbody tr th {\n",
       "        vertical-align: top;\n",
       "    }\n",
       "\n",
       "    .dataframe thead th {\n",
       "        text-align: right;\n",
       "    }\n",
       "</style>\n",
       "<table border=\"1\" class=\"dataframe\">\n",
       "  <thead>\n",
       "    <tr style=\"text-align: right;\">\n",
       "      <th></th>\n",
       "      <th>CO2 Emissions</th>\n",
       "      <th>Energy Usage</th>\n",
       "      <th>GDP</th>\n",
       "      <th>Population Total</th>\n",
       "      <th>Cluster</th>\n",
       "    </tr>\n",
       "  </thead>\n",
       "  <tbody>\n",
       "    <tr>\n",
       "      <th>0</th>\n",
       "      <td>4294</td>\n",
       "      <td>1976</td>\n",
       "      <td>5.652325e+09</td>\n",
       "      <td>3033659</td>\n",
       "      <td>1</td>\n",
       "    </tr>\n",
       "    <tr>\n",
       "      <th>1</th>\n",
       "      <td>4166</td>\n",
       "      <td>2172</td>\n",
       "      <td>7.464447e+09</td>\n",
       "      <td>3014579</td>\n",
       "      <td>1</td>\n",
       "    </tr>\n",
       "    <tr>\n",
       "      <th>2</th>\n",
       "      <td>4254</td>\n",
       "      <td>2172</td>\n",
       "      <td>8.376484e+09</td>\n",
       "      <td>2992724</td>\n",
       "      <td>1</td>\n",
       "    </tr>\n",
       "    <tr>\n",
       "      <th>3</th>\n",
       "      <td>3865</td>\n",
       "      <td>2068</td>\n",
       "      <td>9.132562e+09</td>\n",
       "      <td>2968028</td>\n",
       "      <td>1</td>\n",
       "    </tr>\n",
       "    <tr>\n",
       "      <th>4</th>\n",
       "      <td>4056</td>\n",
       "      <td>2025</td>\n",
       "      <td>1.070101e+10</td>\n",
       "      <td>2940880</td>\n",
       "      <td>1</td>\n",
       "    </tr>\n",
       "  </tbody>\n",
       "</table>\n",
       "</div>"
      ],
      "text/plain": [
       "   CO2 Emissions  Energy Usage           GDP  Population Total  Cluster\n",
       "0           4294          1976  5.652325e+09           3033659        1\n",
       "1           4166          2172  7.464447e+09           3014579        1\n",
       "2           4254          2172  8.376484e+09           2992724        1\n",
       "3           3865          2068  9.132562e+09           2968028        1\n",
       "4           4056          2025  1.070101e+10           2940880        1"
      ]
     },
     "execution_count": 40,
     "metadata": {},
     "output_type": "execute_result"
    }
   ],
   "source": [
    "# write your code here\n",
    "df2['Cluster'] = clusters.labels_\n",
    "\n",
    "# print head() of the newly formed dataframe\n",
    "df2.head()"
   ]
  },
  {
   "cell_type": "markdown",
   "metadata": {},
   "source": [
    "<table align=\"left\">\n",
    "    <tr>\n",
    "        <td width=\"6%\">\n",
    "            <img src=\"question_icon.png\">\n",
    "        </td>\n",
    "        <td>\n",
    "            <div align=\"left\", style=\"font-size:120%\">\n",
    "                <font color=\"#21618C\">\n",
    "                    <b>14. Find the size of each cluster and plot the count plot for the cluster size.</b>\n",
    "                </font>\n",
    "            </div>\n",
    "        </td>\n",
    "    </tr>\n",
    "</table>"
   ]
  },
  {
   "cell_type": "code",
   "execution_count": 41,
   "metadata": {},
   "outputs": [
    {
     "data": {
      "text/plain": [
       "1    820\n",
       "0    234\n",
       "Name: Cluster, dtype: int64"
      ]
     },
     "execution_count": 41,
     "metadata": {},
     "output_type": "execute_result"
    }
   ],
   "source": [
    "# write your code here\n",
    "df2['Cluster'].value_counts()"
   ]
  },
  {
   "cell_type": "code",
   "execution_count": 42,
   "metadata": {},
   "outputs": [
    {
     "data": {
      "image/png": "[encoded data removed]",
      "text/plain": [
       "<Figure size 1080x720 with 1 Axes>"
      ]
     },
     "metadata": {
      "needs_background": "light"
     },
     "output_type": "display_data"
    }
   ],
   "source": [
    "plt.figure(figsize=(15,10))\n",
    "sns.countplot(data = df2, x = 'Cluster')\n",
    "plt.show()"
   ]
  },
  {
   "cell_type": "markdown",
   "metadata": {},
   "source": [
    "<table align=\"left\">\n",
    "    <tr>\n",
    "        <td width=\"6%\">\n",
    "            <img src=\"question_icon.png\">\n",
    "        </td>\n",
    "        <td>\n",
    "            <div align=\"left\", style=\"font-size:120%\">\n",
    "                <font color=\"#21618C\">\n",
    "                    <b>15. Plot the scatterplot to visualize the clusters using 'CO2 Emissions' and 'Energy Usage'.</b>\n",
    "                </font>\n",
    "            </div>\n",
    "        </td>\n",
    "    </tr>\n",
    "</table>"
   ]
  },
  {
   "cell_type": "code",
   "execution_count": 43,
   "metadata": {},
   "outputs": [
    {
     "data": {
      "image/png": "[encoded data removed]",
      "text/plain": [
       "<Figure size 1080x720 with 1 Axes>"
      ]
     },
     "metadata": {
      "needs_background": "light"
     },
     "output_type": "display_data"
    }
   ],
   "source": [
    "# write your code here\n",
    "plt.figure(figsize=(15,10))\n",
    "sns.scatterplot(x = 'CO2 Emissions', y = 'Energy Usage', data = df2, hue = 'Cluster')\n",
    "\n",
    "plt.title('Hierarchical Clustering', fontsize = 15)\n",
    "plt.xlabel('CO2 Emissions', fontsize = 15)\n",
    "plt.ylabel('Energy Usage', fontsize = 15)\n",
    "\n",
    "plt.show()"
   ]
  },
  {
   "cell_type": "markdown",
   "metadata": {},
   "source": [
    "<table align=\"left\">\n",
    "    <tr>\n",
    "        <td width=\"6%\">\n",
    "            <img src=\"question_icon.png\">\n",
    "        </td>\n",
    "        <td>\n",
    "            <div align=\"left\", style=\"font-size:120%\">\n",
    "                <font color=\"#21618C\">\n",
    "                    <b>16. Obtain the first 10 observations for 1st cluster and find its summary.</b>\n",
    "                </font>\n",
    "            </div>\n",
    "        </td>\n",
    "    </tr>\n",
    "</table>"
   ]
  },
  {
   "cell_type": "code",
   "execution_count": 44,
   "metadata": {},
   "outputs": [
    {
     "data": {
      "text/html": [
       "<div>\n",
       "<style scoped>\n",
       "    .dataframe tbody tr th:only-of-type {\n",
       "        vertical-align: middle;\n",
       "    }\n",
       "\n",
       "    .dataframe tbody tr th {\n",
       "        vertical-align: top;\n",
       "    }\n",
       "\n",
       "    .dataframe thead th {\n",
       "        text-align: right;\n",
       "    }\n",
       "</style>\n",
       "<table border=\"1\" class=\"dataframe\">\n",
       "  <thead>\n",
       "    <tr style=\"text-align: right;\">\n",
       "      <th></th>\n",
       "      <th>CO2 Emissions</th>\n",
       "      <th>Energy Usage</th>\n",
       "      <th>GDP</th>\n",
       "      <th>Population Total</th>\n",
       "      <th>Cluster</th>\n",
       "    </tr>\n",
       "  </thead>\n",
       "  <tbody>\n",
       "    <tr>\n",
       "      <th>8</th>\n",
       "      <td>92533</td>\n",
       "      <td>30698</td>\n",
       "      <td>6.786383e+10</td>\n",
       "      <td>33003442</td>\n",
       "      <td>0</td>\n",
       "    </tr>\n",
       "    <tr>\n",
       "      <th>9</th>\n",
       "      <td>89493</td>\n",
       "      <td>30974</td>\n",
       "      <td>8.532500e+10</td>\n",
       "      <td>33461345</td>\n",
       "      <td>0</td>\n",
       "    </tr>\n",
       "    <tr>\n",
       "      <th>10</th>\n",
       "      <td>107128</td>\n",
       "      <td>32335</td>\n",
       "      <td>1.030000e+11</td>\n",
       "      <td>33960903</td>\n",
       "      <td>0</td>\n",
       "    </tr>\n",
       "    <tr>\n",
       "      <th>11</th>\n",
       "      <td>103963</td>\n",
       "      <td>34658</td>\n",
       "      <td>1.170000e+11</td>\n",
       "      <td>34507214</td>\n",
       "      <td>0</td>\n",
       "    </tr>\n",
       "    <tr>\n",
       "      <th>12</th>\n",
       "      <td>112339</td>\n",
       "      <td>36793</td>\n",
       "      <td>1.350000e+11</td>\n",
       "      <td>35097043</td>\n",
       "      <td>0</td>\n",
       "    </tr>\n",
       "    <tr>\n",
       "      <th>13</th>\n",
       "      <td>114619</td>\n",
       "      <td>37425</td>\n",
       "      <td>1.710000e+11</td>\n",
       "      <td>35725377</td>\n",
       "      <td>0</td>\n",
       "    </tr>\n",
       "    <tr>\n",
       "      <th>14</th>\n",
       "      <td>124586</td>\n",
       "      <td>40823</td>\n",
       "      <td>1.370000e+11</td>\n",
       "      <td>36383302</td>\n",
       "      <td>0</td>\n",
       "    </tr>\n",
       "    <tr>\n",
       "      <th>15</th>\n",
       "      <td>123475</td>\n",
       "      <td>40105</td>\n",
       "      <td>1.610000e+11</td>\n",
       "      <td>37062820</td>\n",
       "      <td>0</td>\n",
       "    </tr>\n",
       "    <tr>\n",
       "      <th>16</th>\n",
       "      <td>123475</td>\n",
       "      <td>41852</td>\n",
       "      <td>1.990000e+11</td>\n",
       "      <td>37762962</td>\n",
       "      <td>0</td>\n",
       "    </tr>\n",
       "    <tr>\n",
       "      <th>17</th>\n",
       "      <td>123475</td>\n",
       "      <td>41852</td>\n",
       "      <td>2.040000e+11</td>\n",
       "      <td>38481705</td>\n",
       "      <td>0</td>\n",
       "    </tr>\n",
       "  </tbody>\n",
       "</table>\n",
       "</div>"
      ],
      "text/plain": [
       "    CO2 Emissions  Energy Usage           GDP  Population Total  Cluster\n",
       "8           92533         30698  6.786383e+10          33003442        0\n",
       "9           89493         30974  8.532500e+10          33461345        0\n",
       "10         107128         32335  1.030000e+11          33960903        0\n",
       "11         103963         34658  1.170000e+11          34507214        0\n",
       "12         112339         36793  1.350000e+11          35097043        0\n",
       "13         114619         37425  1.710000e+11          35725377        0\n",
       "14         124586         40823  1.370000e+11          36383302        0\n",
       "15         123475         40105  1.610000e+11          37062820        0\n",
       "16         123475         41852  1.990000e+11          37762962        0\n",
       "17         123475         41852  2.040000e+11          38481705        0"
      ]
     },
     "execution_count": 44,
     "metadata": {},
     "output_type": "execute_result"
    }
   ],
   "source": [
    "# write your code here\n",
    "df2[df2.Cluster == 0].head(10)"
   ]
  },
  {
   "cell_type": "code",
   "execution_count": 45,
   "metadata": {},
   "outputs": [
    {
     "data": {
      "text/html": [
       "<div>\n",
       "<style scoped>\n",
       "    .dataframe tbody tr th:only-of-type {\n",
       "        vertical-align: middle;\n",
       "    }\n",
       "\n",
       "    .dataframe tbody tr th {\n",
       "        vertical-align: top;\n",
       "    }\n",
       "\n",
       "    .dataframe thead th {\n",
       "        text-align: right;\n",
       "    }\n",
       "</style>\n",
       "<table border=\"1\" class=\"dataframe\">\n",
       "  <thead>\n",
       "    <tr style=\"text-align: right;\">\n",
       "      <th></th>\n",
       "      <th>CO2 Emissions</th>\n",
       "      <th>Energy Usage</th>\n",
       "      <th>GDP</th>\n",
       "      <th>Population Total</th>\n",
       "      <th>Cluster</th>\n",
       "    </tr>\n",
       "  </thead>\n",
       "  <tbody>\n",
       "    <tr>\n",
       "      <th>count</th>\n",
       "      <td>234.000000</td>\n",
       "      <td>234.000000</td>\n",
       "      <td>2.340000e+02</td>\n",
       "      <td>2.340000e+02</td>\n",
       "      <td>234.0</td>\n",
       "    </tr>\n",
       "    <tr>\n",
       "      <th>mean</th>\n",
       "      <td>114965.598291</td>\n",
       "      <td>49870.944444</td>\n",
       "      <td>2.367197e+11</td>\n",
       "      <td>3.243600e+07</td>\n",
       "      <td>0.0</td>\n",
       "    </tr>\n",
       "    <tr>\n",
       "      <th>std</th>\n",
       "      <td>83140.404911</td>\n",
       "      <td>26678.211790</td>\n",
       "      <td>1.530802e+11</td>\n",
       "      <td>2.677078e+07</td>\n",
       "      <td>0.0</td>\n",
       "    </tr>\n",
       "    <tr>\n",
       "      <th>min</th>\n",
       "      <td>2226.000000</td>\n",
       "      <td>19971.000000</td>\n",
       "      <td>7.707035e+09</td>\n",
       "      <td>1.359114e+06</td>\n",
       "      <td>0.0</td>\n",
       "    </tr>\n",
       "    <tr>\n",
       "      <th>25%</th>\n",
       "      <td>63767.500000</td>\n",
       "      <td>30598.250000</td>\n",
       "      <td>1.300000e+11</td>\n",
       "      <td>9.097402e+06</td>\n",
       "      <td>0.0</td>\n",
       "    </tr>\n",
       "    <tr>\n",
       "      <th>50%</th>\n",
       "      <td>95160.500000</td>\n",
       "      <td>39972.500000</td>\n",
       "      <td>2.050000e+11</td>\n",
       "      <td>2.751649e+07</td>\n",
       "      <td>0.0</td>\n",
       "    </tr>\n",
       "    <tr>\n",
       "      <th>75%</th>\n",
       "      <td>159756.500000</td>\n",
       "      <td>62885.750000</td>\n",
       "      <td>3.415000e+11</td>\n",
       "      <td>4.585367e+07</td>\n",
       "      <td>0.0</td>\n",
       "    </tr>\n",
       "    <tr>\n",
       "      <th>max</th>\n",
       "      <td>329605.000000</td>\n",
       "      <td>137343.000000</td>\n",
       "      <td>6.780000e+11</td>\n",
       "      <td>9.670676e+07</td>\n",
       "      <td>0.0</td>\n",
       "    </tr>\n",
       "  </tbody>\n",
       "</table>\n",
       "</div>"
      ],
      "text/plain": [
       "       CO2 Emissions   Energy Usage           GDP  Population Total  Cluster\n",
       "count     234.000000     234.000000  2.340000e+02      2.340000e+02    234.0\n",
       "mean   114965.598291   49870.944444  2.367197e+11      3.243600e+07      0.0\n",
       "std     83140.404911   26678.211790  1.530802e+11      2.677078e+07      0.0\n",
       "min      2226.000000   19971.000000  7.707035e+09      1.359114e+06      0.0\n",
       "25%     63767.500000   30598.250000  1.300000e+11      9.097402e+06      0.0\n",
       "50%     95160.500000   39972.500000  2.050000e+11      2.751649e+07      0.0\n",
       "75%    159756.500000   62885.750000  3.415000e+11      4.585367e+07      0.0\n",
       "max    329605.000000  137343.000000  6.780000e+11      9.670676e+07      0.0"
      ]
     },
     "execution_count": 45,
     "metadata": {},
     "output_type": "execute_result"
    }
   ],
   "source": [
    "df2[df2.Cluster == 0].describe()"
   ]
  },
  {
   "cell_type": "markdown",
   "metadata": {},
   "source": [
    "<table align=\"left\">\n",
    "    <tr>\n",
    "        <td width=\"6%\">\n",
    "            <img src=\"question_icon.png\">\n",
    "        </td>\n",
    "        <td>\n",
    "            <div align=\"left\", style=\"font-size:120%\">\n",
    "                <font color=\"#21618C\">\n",
    "                    <b>17. Obtain the first 10 observations for the 2nd cluster and find its summary.</b>\n",
    "                </font>\n",
    "            </div>\n",
    "        </td>\n",
    "    </tr>\n",
    "</table>"
   ]
  },
  {
   "cell_type": "code",
   "execution_count": 46,
   "metadata": {},
   "outputs": [
    {
     "data": {
      "text/html": [
       "<div>\n",
       "<style scoped>\n",
       "    .dataframe tbody tr th:only-of-type {\n",
       "        vertical-align: middle;\n",
       "    }\n",
       "\n",
       "    .dataframe tbody tr th {\n",
       "        vertical-align: top;\n",
       "    }\n",
       "\n",
       "    .dataframe thead th {\n",
       "        text-align: right;\n",
       "    }\n",
       "</style>\n",
       "<table border=\"1\" class=\"dataframe\">\n",
       "  <thead>\n",
       "    <tr style=\"text-align: right;\">\n",
       "      <th></th>\n",
       "      <th>CO2 Emissions</th>\n",
       "      <th>Energy Usage</th>\n",
       "      <th>GDP</th>\n",
       "      <th>Population Total</th>\n",
       "      <th>Cluster</th>\n",
       "    </tr>\n",
       "  </thead>\n",
       "  <tbody>\n",
       "    <tr>\n",
       "      <th>0</th>\n",
       "      <td>4294</td>\n",
       "      <td>1976</td>\n",
       "      <td>5.652325e+09</td>\n",
       "      <td>3033659</td>\n",
       "      <td>1</td>\n",
       "    </tr>\n",
       "    <tr>\n",
       "      <th>1</th>\n",
       "      <td>4166</td>\n",
       "      <td>2172</td>\n",
       "      <td>7.464447e+09</td>\n",
       "      <td>3014579</td>\n",
       "      <td>1</td>\n",
       "    </tr>\n",
       "    <tr>\n",
       "      <th>2</th>\n",
       "      <td>4254</td>\n",
       "      <td>2172</td>\n",
       "      <td>8.376484e+09</td>\n",
       "      <td>2992724</td>\n",
       "      <td>1</td>\n",
       "    </tr>\n",
       "    <tr>\n",
       "      <th>3</th>\n",
       "      <td>3865</td>\n",
       "      <td>2068</td>\n",
       "      <td>9.132562e+09</td>\n",
       "      <td>2968028</td>\n",
       "      <td>1</td>\n",
       "    </tr>\n",
       "    <tr>\n",
       "      <th>4</th>\n",
       "      <td>4056</td>\n",
       "      <td>2025</td>\n",
       "      <td>1.070101e+10</td>\n",
       "      <td>2940880</td>\n",
       "      <td>1</td>\n",
       "    </tr>\n",
       "    <tr>\n",
       "      <th>5</th>\n",
       "      <td>4129</td>\n",
       "      <td>2061</td>\n",
       "      <td>1.288135e+10</td>\n",
       "      <td>2912559</td>\n",
       "      <td>1</td>\n",
       "    </tr>\n",
       "    <tr>\n",
       "      <th>6</th>\n",
       "      <td>3880</td>\n",
       "      <td>2068</td>\n",
       "      <td>1.204421e+10</td>\n",
       "      <td>2884303</td>\n",
       "      <td>1</td>\n",
       "    </tr>\n",
       "    <tr>\n",
       "      <th>7</th>\n",
       "      <td>4283</td>\n",
       "      <td>2059</td>\n",
       "      <td>1.192695e+10</td>\n",
       "      <td>2856673</td>\n",
       "      <td>1</td>\n",
       "    </tr>\n",
       "    <tr>\n",
       "      <th>18</th>\n",
       "      <td>9065</td>\n",
       "      <td>9004</td>\n",
       "      <td>1.418895e+10</td>\n",
       "      <td>15421075</td>\n",
       "      <td>1</td>\n",
       "    </tr>\n",
       "    <tr>\n",
       "      <th>19</th>\n",
       "      <td>18793</td>\n",
       "      <td>9676</td>\n",
       "      <td>1.964086e+10</td>\n",
       "      <td>15976715</td>\n",
       "      <td>1</td>\n",
       "    </tr>\n",
       "  </tbody>\n",
       "</table>\n",
       "</div>"
      ],
      "text/plain": [
       "    CO2 Emissions  Energy Usage           GDP  Population Total  Cluster\n",
       "0            4294          1976  5.652325e+09           3033659        1\n",
       "1            4166          2172  7.464447e+09           3014579        1\n",
       "2            4254          2172  8.376484e+09           2992724        1\n",
       "3            3865          2068  9.132562e+09           2968028        1\n",
       "4            4056          2025  1.070101e+10           2940880        1\n",
       "5            4129          2061  1.288135e+10           2912559        1\n",
       "6            3880          2068  1.204421e+10           2884303        1\n",
       "7            4283          2059  1.192695e+10           2856673        1\n",
       "18           9065          9004  1.418895e+10          15421075        1\n",
       "19          18793          9676  1.964086e+10          15976715        1"
      ]
     },
     "execution_count": 46,
     "metadata": {},
     "output_type": "execute_result"
    }
   ],
   "source": [
    "# write your code here\n",
    "df2[df2.Cluster == 1].head(10)"
   ]
  },
  {
   "cell_type": "code",
   "execution_count": 47,
   "metadata": {},
   "outputs": [
    {
     "data": {
      "text/html": [
       "<div>\n",
       "<style scoped>\n",
       "    .dataframe tbody tr th:only-of-type {\n",
       "        vertical-align: middle;\n",
       "    }\n",
       "\n",
       "    .dataframe tbody tr th {\n",
       "        vertical-align: top;\n",
       "    }\n",
       "\n",
       "    .dataframe thead th {\n",
       "        text-align: right;\n",
       "    }\n",
       "</style>\n",
       "<table border=\"1\" class=\"dataframe\">\n",
       "  <thead>\n",
       "    <tr style=\"text-align: right;\">\n",
       "      <th></th>\n",
       "      <th>CO2 Emissions</th>\n",
       "      <th>Energy Usage</th>\n",
       "      <th>GDP</th>\n",
       "      <th>Population Total</th>\n",
       "      <th>Cluster</th>\n",
       "    </tr>\n",
       "  </thead>\n",
       "  <tbody>\n",
       "    <tr>\n",
       "      <th>count</th>\n",
       "      <td>820.000000</td>\n",
       "      <td>820.000000</td>\n",
       "      <td>8.200000e+02</td>\n",
       "      <td>8.200000e+02</td>\n",
       "      <td>820.0</td>\n",
       "    </tr>\n",
       "    <tr>\n",
       "      <th>mean</th>\n",
       "      <td>12706.826829</td>\n",
       "      <td>6355.904878</td>\n",
       "      <td>2.261635e+10</td>\n",
       "      <td>6.981027e+06</td>\n",
       "      <td>1.0</td>\n",
       "    </tr>\n",
       "    <tr>\n",
       "      <th>std</th>\n",
       "      <td>15888.052856</td>\n",
       "      <td>6865.604551</td>\n",
       "      <td>3.244548e+10</td>\n",
       "      <td>9.259193e+06</td>\n",
       "      <td>0.0</td>\n",
       "    </tr>\n",
       "    <tr>\n",
       "      <th>min</th>\n",
       "      <td>48.000000</td>\n",
       "      <td>30.000000</td>\n",
       "      <td>1.232585e+08</td>\n",
       "      <td>6.966000e+04</td>\n",
       "      <td>1.0</td>\n",
       "    </tr>\n",
       "    <tr>\n",
       "      <th>25%</th>\n",
       "      <td>1503.000000</td>\n",
       "      <td>758.500000</td>\n",
       "      <td>3.407603e+09</td>\n",
       "      <td>7.656738e+05</td>\n",
       "      <td>1.0</td>\n",
       "    </tr>\n",
       "    <tr>\n",
       "      <th>50%</th>\n",
       "      <td>5865.500000</td>\n",
       "      <td>3917.000000</td>\n",
       "      <td>1.147868e+10</td>\n",
       "      <td>3.684119e+06</td>\n",
       "      <td>1.0</td>\n",
       "    </tr>\n",
       "    <tr>\n",
       "      <th>75%</th>\n",
       "      <td>18806.000000</td>\n",
       "      <td>9156.250000</td>\n",
       "      <td>2.614448e+10</td>\n",
       "      <td>9.407482e+06</td>\n",
       "      <td>1.0</td>\n",
       "    </tr>\n",
       "    <tr>\n",
       "      <th>max</th>\n",
       "      <td>67242.000000</td>\n",
       "      <td>29501.000000</td>\n",
       "      <td>2.030000e+11</td>\n",
       "      <td>5.248729e+07</td>\n",
       "      <td>1.0</td>\n",
       "    </tr>\n",
       "  </tbody>\n",
       "</table>\n",
       "</div>"
      ],
      "text/plain": [
       "       CO2 Emissions  Energy Usage           GDP  Population Total  Cluster\n",
       "count     820.000000    820.000000  8.200000e+02      8.200000e+02    820.0\n",
       "mean    12706.826829   6355.904878  2.261635e+10      6.981027e+06      1.0\n",
       "std     15888.052856   6865.604551  3.244548e+10      9.259193e+06      0.0\n",
       "min        48.000000     30.000000  1.232585e+08      6.966000e+04      1.0\n",
       "25%      1503.000000    758.500000  3.407603e+09      7.656738e+05      1.0\n",
       "50%      5865.500000   3917.000000  1.147868e+10      3.684119e+06      1.0\n",
       "75%     18806.000000   9156.250000  2.614448e+10      9.407482e+06      1.0\n",
       "max     67242.000000  29501.000000  2.030000e+11      5.248729e+07      1.0"
      ]
     },
     "execution_count": 47,
     "metadata": {},
     "output_type": "execute_result"
    }
   ],
   "source": [
    "df2[df2.Cluster == 1].describe()"
   ]
  },
  {
   "cell_type": "markdown",
   "metadata": {},
   "source": [
    "<a id=\"DBSCAN\"></a>\n",
    "## 3. DBSCAN"
   ]
  },
  {
   "cell_type": "markdown",
   "metadata": {},
   "source": [
    "<table align=\"left\">\n",
    "    <tr>\n",
    "        <td width=\"6%\">\n",
    "            <img src=\"question_icon.png\">\n",
    "        </td>\n",
    "        <td>\n",
    "            <div align=\"left\", style=\"font-size:120%\">\n",
    "                <font color=\"#21618C\">\n",
    "                    <b>18. Perform DBSCAN for the data given using 0.7 as epsilon and 9 minimum samples. Display the unique number of clusters.</b>\n",
    "                </font>\n",
    "            </div>\n",
    "        </td>\n",
    "    </tr>\n",
    "</table>"
   ]
  },
  {
   "cell_type": "code",
   "execution_count": 49,
   "metadata": {},
   "outputs": [
    {
     "data": {
      "text/plain": [
       "DBSCAN(eps=0.7, min_samples=9)"
      ]
     },
     "execution_count": 49,
     "metadata": {},
     "output_type": "execute_result"
    }
   ],
   "source": [
    "# write your code here\n",
    "model = DBSCAN(eps = 0.7, min_samples = 9)\n",
    "\n",
    "# fit the model on the scaled data\n",
    "model.fit(df2_scaled)"
   ]
  },
  {
   "cell_type": "code",
   "execution_count": 50,
   "metadata": {},
   "outputs": [
    {
     "data": {
      "text/plain": [
       "{-1, 0, 1}"
      ]
     },
     "execution_count": 50,
     "metadata": {},
     "output_type": "execute_result"
    }
   ],
   "source": [
    "(set(model.labels_))"
   ]
  },
  {
   "cell_type": "markdown",
   "metadata": {},
   "source": [
    "The DBSCAN algorithm forms 2 clusters where 0 and 1 are the cluster labels and the outliers are represented by -1."
   ]
  },
  {
   "cell_type": "markdown",
   "metadata": {},
   "source": [
    "<table align=\"left\">\n",
    "    <tr>\n",
    "        <td width=\"6%\">\n",
    "            <img src=\"question_icon.png\">\n",
    "        </td>\n",
    "        <td>\n",
    "            <div align=\"left\", style=\"font-size:120%\">\n",
    "                <font color=\"#21618C\">\n",
    "                    <b>19. Check for the size of each cluster and plot the count plot for the cluster size.</b>\n",
    "                </font>\n",
    "            </div>\n",
    "        </td>\n",
    "    </tr>\n",
    "</table>"
   ]
  },
  {
   "cell_type": "code",
   "execution_count": 51,
   "metadata": {},
   "outputs": [
    {
     "data": {
      "text/plain": [
       " 0    953\n",
       "-1     92\n",
       " 1      9\n",
       "Name: Cluster_DBSCAN, dtype: int64"
      ]
     },
     "execution_count": 51,
     "metadata": {},
     "output_type": "execute_result"
    }
   ],
   "source": [
    "# write your code here\n",
    "df2['Cluster_DBSCAN'] = model.labels_\n",
    "df2['Cluster_DBSCAN'].value_counts()"
   ]
  },
  {
   "cell_type": "markdown",
   "metadata": {},
   "source": [
    "The maximum number of observations is in the 1st cluster."
   ]
  },
  {
   "cell_type": "code",
   "execution_count": 52,
   "metadata": {},
   "outputs": [
    {
     "data": {
      "image/png": "[encoded data removed]",
      "text/plain": [
       "<Figure size 1080x720 with 1 Axes>"
      ]
     },
     "metadata": {
      "needs_background": "light"
     },
     "output_type": "display_data"
    }
   ],
   "source": [
    "plt.figure(figsize=(15,10))\n",
    "sns.countplot(data = df2, x = 'Cluster_DBSCAN')\n",
    "\n",
    "\n",
    "plt.title('Size of Cluster', fontsize = 15)\n",
    "plt.xlabel('Cluster', fontsize = 15)\n",
    "plt.ylabel('CO2 Emission', fontsize = 15)\n",
    "\n",
    "plt.show()"
   ]
  },
  {
   "cell_type": "markdown",
   "metadata": {},
   "source": [
    "<table align=\"left\">\n",
    "    <tr>\n",
    "        <td width=\"6%\">\n",
    "            <img src=\"question_icon.png\">\n",
    "        </td>\n",
    "        <td>\n",
    "            <div align=\"left\", style=\"font-size:120%\">\n",
    "                <font color=\"#21618C\">\n",
    "                    <b>20. Describe the outliers identified by the DBSCAN algorithm in the previous question.</b>\n",
    "                </font>\n",
    "            </div>\n",
    "        </td>\n",
    "    </tr>\n",
    "</table>"
   ]
  },
  {
   "cell_type": "code",
   "execution_count": 53,
   "metadata": {},
   "outputs": [
    {
     "data": {
      "text/plain": [
       "92"
      ]
     },
     "execution_count": 53,
     "metadata": {},
     "output_type": "execute_result"
    }
   ],
   "source": [
    "# write your code here\n",
    "outliers = df2[df2.Cluster_DBSCAN == -1]\n",
    "outliers.index.value_counts().sum()"
   ]
  },
  {
   "cell_type": "code",
   "execution_count": 55,
   "metadata": {},
   "outputs": [
    {
     "data": {
      "text/html": [
       "<div>\n",
       "<style scoped>\n",
       "    .dataframe tbody tr th:only-of-type {\n",
       "        vertical-align: middle;\n",
       "    }\n",
       "\n",
       "    .dataframe tbody tr th {\n",
       "        vertical-align: top;\n",
       "    }\n",
       "\n",
       "    .dataframe thead th {\n",
       "        text-align: right;\n",
       "    }\n",
       "</style>\n",
       "<table border=\"1\" class=\"dataframe\">\n",
       "  <thead>\n",
       "    <tr style=\"text-align: right;\">\n",
       "      <th></th>\n",
       "      <th>CO2 Emissions</th>\n",
       "      <th>Energy Usage</th>\n",
       "      <th>GDP</th>\n",
       "      <th>Population Total</th>\n",
       "      <th>Cluster</th>\n",
       "      <th>Cluster_DBSCAN</th>\n",
       "    </tr>\n",
       "  </thead>\n",
       "  <tbody>\n",
       "    <tr>\n",
       "      <th>count</th>\n",
       "      <td>92.000000</td>\n",
       "      <td>92.000000</td>\n",
       "      <td>9.200000e+01</td>\n",
       "      <td>9.200000e+01</td>\n",
       "      <td>92.0</td>\n",
       "      <td>92.0</td>\n",
       "    </tr>\n",
       "    <tr>\n",
       "      <th>mean</th>\n",
       "      <td>174416.717391</td>\n",
       "      <td>70841.358696</td>\n",
       "      <td>3.091656e+11</td>\n",
       "      <td>4.643370e+07</td>\n",
       "      <td>0.0</td>\n",
       "      <td>-1.0</td>\n",
       "    </tr>\n",
       "    <tr>\n",
       "      <th>std</th>\n",
       "      <td>91331.691829</td>\n",
       "      <td>29678.904804</td>\n",
       "      <td>1.569702e+11</td>\n",
       "      <td>2.634551e+07</td>\n",
       "      <td>0.0</td>\n",
       "      <td>0.0</td>\n",
       "    </tr>\n",
       "    <tr>\n",
       "      <th>min</th>\n",
       "      <td>38757.000000</td>\n",
       "      <td>25375.000000</td>\n",
       "      <td>5.763326e+10</td>\n",
       "      <td>7.824909e+06</td>\n",
       "      <td>0.0</td>\n",
       "      <td>-1.0</td>\n",
       "    </tr>\n",
       "    <tr>\n",
       "      <th>25%</th>\n",
       "      <td>101327.500000</td>\n",
       "      <td>48957.250000</td>\n",
       "      <td>1.755000e+11</td>\n",
       "      <td>2.897220e+07</td>\n",
       "      <td>0.0</td>\n",
       "      <td>-1.0</td>\n",
       "    </tr>\n",
       "    <tr>\n",
       "      <th>50%</th>\n",
       "      <td>173233.000000</td>\n",
       "      <td>69597.000000</td>\n",
       "      <td>3.045000e+11</td>\n",
       "      <td>4.090783e+07</td>\n",
       "      <td>0.0</td>\n",
       "      <td>-1.0</td>\n",
       "    </tr>\n",
       "    <tr>\n",
       "      <th>75%</th>\n",
       "      <td>261361.500000</td>\n",
       "      <td>94637.250000</td>\n",
       "      <td>4.175000e+11</td>\n",
       "      <td>6.662850e+07</td>\n",
       "      <td>0.0</td>\n",
       "      <td>-1.0</td>\n",
       "    </tr>\n",
       "    <tr>\n",
       "      <th>max</th>\n",
       "      <td>329605.000000</td>\n",
       "      <td>137343.000000</td>\n",
       "      <td>6.780000e+11</td>\n",
       "      <td>9.670676e+07</td>\n",
       "      <td>0.0</td>\n",
       "      <td>-1.0</td>\n",
       "    </tr>\n",
       "  </tbody>\n",
       "</table>\n",
       "</div>"
      ],
      "text/plain": [
       "       CO2 Emissions   Energy Usage           GDP  Population Total  Cluster  \\\n",
       "count      92.000000      92.000000  9.200000e+01      9.200000e+01     92.0   \n",
       "mean   174416.717391   70841.358696  3.091656e+11      4.643370e+07      0.0   \n",
       "std     91331.691829   29678.904804  1.569702e+11      2.634551e+07      0.0   \n",
       "min     38757.000000   25375.000000  5.763326e+10      7.824909e+06      0.0   \n",
       "25%    101327.500000   48957.250000  1.755000e+11      2.897220e+07      0.0   \n",
       "50%    173233.000000   69597.000000  3.045000e+11      4.090783e+07      0.0   \n",
       "75%    261361.500000   94637.250000  4.175000e+11      6.662850e+07      0.0   \n",
       "max    329605.000000  137343.000000  6.780000e+11      9.670676e+07      0.0   \n",
       "\n",
       "       Cluster_DBSCAN  \n",
       "count            92.0  \n",
       "mean             -1.0  \n",
       "std               0.0  \n",
       "min              -1.0  \n",
       "25%              -1.0  \n",
       "50%              -1.0  \n",
       "75%              -1.0  \n",
       "max              -1.0  "
      ]
     },
     "execution_count": 55,
     "metadata": {},
     "output_type": "execute_result"
    }
   ],
   "source": [
    "outliers.describe()"
   ]
  }
 ],
 "metadata": {
  "kernelspec": {
   "display_name": "Python 3",
   "language": "python",
   "name": "python3"
  },
  "language_info": {
   "codemirror_mode": {
    "name": "ipython",
    "version": 3
   },
   "file_extension": ".py",
   "mimetype": "text/x-python",
   "name": "python",
   "nbconvert_exporter": "python",
   "pygments_lexer": "ipython3",
   "version": "3.8.8"
  }
 },
 "nbformat": 4,
 "nbformat_minor": 2
}
