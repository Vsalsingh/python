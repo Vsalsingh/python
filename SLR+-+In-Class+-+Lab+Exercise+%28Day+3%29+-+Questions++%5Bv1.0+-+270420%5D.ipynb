{
 "cells": [
  {
   "cell_type": "markdown",
   "metadata": {},
   "source": [
    "<table align=\"center\" width=100%>\n",
    "    <tr>\n",
    "        <td width=\"15%\">\n",
    "            <img src=\"in_class.png\">\n",
    "        </td>\n",
    "        <td>\n",
    "            <div align=\"center\">\n",
    "                <font color=\"#21618C\" size=8px>\n",
    "                    <b> Inclass - Lab <br>(Day 3)\n",
    "                    </b>\n",
    "                </font>\n",
    "            </div>\n",
    "        </td>\n",
    "    </tr>\n",
    "</table>"
   ]
  },
  {
   "cell_type": "markdown",
   "metadata": {},
   "source": [
    "### About the data set  (Life Expectancy data)\n",
    "\n",
    "The dataset contains information about several health and economic factors that contribute to average life expectancy for different countries. <br> Attribute information: \n",
    "\n",
    "**Country:** Name of the country\n",
    "\n",
    "**Year:** Year the observations were recorded\n",
    "\n",
    "**Status:** Whether the country is Developed or Developing\n",
    "\n",
    "**Adult_Mortality:** Mortality rate for age group 15-60 out of every 1000 individuals of the population\n",
    "\n",
    "**Infant_Deaths:** Number of infant deaths per 1000 population\n",
    "\n",
    "**Alcohol:** Alcohol, recorded per capita (15+) consumption (in litres of pure alcohol)\n",
    "\n",
    "**Hepatitis B:** Hepatitis B (HepB) immunization coverage for 1 year olds (Percentage)\n",
    "\n",
    "**Measles:** Number of reported cases for measles per 1000 from population\n",
    "\n",
    "**BMI:** Average Body Mass Index for entire population\n",
    "\n",
    "**Underfive_Deaths:** Number of deaths under 5 years of age per 1000 population\n",
    "\n",
    "**Polio:** Polio (Pol3) immunization coverage for 1 year olds (Percentage)\n",
    "\n",
    "**Diphtheria:** Diphtheria tetanus toxoid and pertussis (DTP3) immunization coverage for 1 year olds (Percentage)\n",
    "\n",
    "**HIV:** Deaths per 1000 live births due to HIV/AIDS (0-4 years)\n",
    "\n",
    "**GDP:** Gross Domestic Product per capita (in USD)\n",
    "\n",
    "**Population:** Population of the country\n",
    "\n",
    "**Malnourished10_19:** Prevalence of malnutrition among children and adolescents for Age 10 to 19 (Percentage)\n",
    "\n",
    "**Malnourished5_9:** Prevalence of malnutrition among children for Age 5 to 9 (Percentage)\n",
    "\n",
    "**Income_Index:** Human Development Index (HDI) in terms of national income per capita (index ranging from 0 to 1)\n",
    "\n",
    "**Schooling:** Number of years of Schooling\n",
    "\n",
    "**Life_Expectancy:** Life Expectancy in age for the country\n"
   ]
  },
  {
   "cell_type": "markdown",
   "metadata": {},
   "source": [
    "##  Table of Content\n",
    "\n",
    "1. **[Data Preparation](#eda)**\n",
    "2. **[Linear Regression](#lf)**\n",
    "3. **[Gradient Descent](#gd)**\n",
    "4. **[Regularization](#reg)**\n",
    "5. **[Grid Search](#gs)**"
   ]
  },
  {
   "cell_type": "markdown",
   "metadata": {},
   "source": [
    "**Import the required libraries**"
   ]
  },
  {
   "cell_type": "code",
   "execution_count": 88,
   "metadata": {},
   "outputs": [],
   "source": [
    "# type your code here\n",
    "import numpy as np\n",
    "import pandas as pd\n",
    "import matplotlib.pyplot as plt\n",
    "import seaborn as sns \n",
    "import scipy.stats as stats"
   ]
  },
  {
   "cell_type": "markdown",
   "metadata": {},
   "source": [
    "#### Load the Life expectancy dataset and display the first five records "
   ]
  },
  {
   "cell_type": "code",
   "execution_count": 89,
   "metadata": {},
   "outputs": [
    {
     "data": {
      "text/html": [
       "<div>\n",
       "<style scoped>\n",
       "    .dataframe tbody tr th:only-of-type {\n",
       "        vertical-align: middle;\n",
       "    }\n",
       "\n",
       "    .dataframe tbody tr th {\n",
       "        vertical-align: top;\n",
       "    }\n",
       "\n",
       "    .dataframe thead th {\n",
       "        text-align: right;\n",
       "    }\n",
       "</style>\n",
       "<table border=\"1\" class=\"dataframe\">\n",
       "  <thead>\n",
       "    <tr style=\"text-align: right;\">\n",
       "      <th></th>\n",
       "      <th>Country</th>\n",
       "      <th>Year</th>\n",
       "      <th>Status</th>\n",
       "      <th>Adult_Mortality</th>\n",
       "      <th>Infant_Deaths</th>\n",
       "      <th>Alcohol</th>\n",
       "      <th>Hepatitis B</th>\n",
       "      <th>Measles</th>\n",
       "      <th>BMI</th>\n",
       "      <th>Underfive_Deaths</th>\n",
       "      <th>Polio</th>\n",
       "      <th>Diphtheria</th>\n",
       "      <th>HIV</th>\n",
       "      <th>GDP</th>\n",
       "      <th>Population</th>\n",
       "      <th>Malnourished10_19</th>\n",
       "      <th>Malnourished5_9</th>\n",
       "      <th>Income_Index</th>\n",
       "      <th>Schooling</th>\n",
       "      <th>Life_Expectancy</th>\n",
       "    </tr>\n",
       "  </thead>\n",
       "  <tbody>\n",
       "    <tr>\n",
       "      <th>0</th>\n",
       "      <td>Afghanistan</td>\n",
       "      <td>2015</td>\n",
       "      <td>Developing</td>\n",
       "      <td>263.0</td>\n",
       "      <td>62</td>\n",
       "      <td>0.01</td>\n",
       "      <td>65.0</td>\n",
       "      <td>1154</td>\n",
       "      <td>19.1</td>\n",
       "      <td>83</td>\n",
       "      <td>6</td>\n",
       "      <td>65</td>\n",
       "      <td>0.1</td>\n",
       "      <td>584.259210</td>\n",
       "      <td>33736494.0</td>\n",
       "      <td>17.2</td>\n",
       "      <td>17.3</td>\n",
       "      <td>0.479</td>\n",
       "      <td>10.1</td>\n",
       "      <td>65.0</td>\n",
       "    </tr>\n",
       "    <tr>\n",
       "      <th>1</th>\n",
       "      <td>Albania</td>\n",
       "      <td>2015</td>\n",
       "      <td>Developing</td>\n",
       "      <td>74.0</td>\n",
       "      <td>0</td>\n",
       "      <td>4.60</td>\n",
       "      <td>99.0</td>\n",
       "      <td>0</td>\n",
       "      <td>58.0</td>\n",
       "      <td>0</td>\n",
       "      <td>99</td>\n",
       "      <td>99</td>\n",
       "      <td>0.1</td>\n",
       "      <td>3954.227830</td>\n",
       "      <td>28873.0</td>\n",
       "      <td>1.2</td>\n",
       "      <td>1.3</td>\n",
       "      <td>0.762</td>\n",
       "      <td>14.2</td>\n",
       "      <td>77.8</td>\n",
       "    </tr>\n",
       "    <tr>\n",
       "      <th>2</th>\n",
       "      <td>Algeria</td>\n",
       "      <td>2015</td>\n",
       "      <td>Developing</td>\n",
       "      <td>19.0</td>\n",
       "      <td>21</td>\n",
       "      <td>NaN</td>\n",
       "      <td>95.0</td>\n",
       "      <td>63</td>\n",
       "      <td>59.5</td>\n",
       "      <td>24</td>\n",
       "      <td>95</td>\n",
       "      <td>95</td>\n",
       "      <td>0.1</td>\n",
       "      <td>4132.762920</td>\n",
       "      <td>39871528.0</td>\n",
       "      <td>6.0</td>\n",
       "      <td>5.8</td>\n",
       "      <td>0.743</td>\n",
       "      <td>14.4</td>\n",
       "      <td>75.6</td>\n",
       "    </tr>\n",
       "    <tr>\n",
       "      <th>3</th>\n",
       "      <td>Angola</td>\n",
       "      <td>2015</td>\n",
       "      <td>Developing</td>\n",
       "      <td>335.0</td>\n",
       "      <td>66</td>\n",
       "      <td>NaN</td>\n",
       "      <td>64.0</td>\n",
       "      <td>118</td>\n",
       "      <td>23.3</td>\n",
       "      <td>98</td>\n",
       "      <td>7</td>\n",
       "      <td>64</td>\n",
       "      <td>1.9</td>\n",
       "      <td>3695.793748</td>\n",
       "      <td>2785935.0</td>\n",
       "      <td>8.3</td>\n",
       "      <td>8.2</td>\n",
       "      <td>0.531</td>\n",
       "      <td>11.4</td>\n",
       "      <td>52.4</td>\n",
       "    </tr>\n",
       "    <tr>\n",
       "      <th>4</th>\n",
       "      <td>Antigua</td>\n",
       "      <td>2015</td>\n",
       "      <td>Developing</td>\n",
       "      <td>13.0</td>\n",
       "      <td>0</td>\n",
       "      <td>NaN</td>\n",
       "      <td>99.0</td>\n",
       "      <td>0</td>\n",
       "      <td>47.7</td>\n",
       "      <td>0</td>\n",
       "      <td>86</td>\n",
       "      <td>99</td>\n",
       "      <td>0.2</td>\n",
       "      <td>13566.954100</td>\n",
       "      <td>NaN</td>\n",
       "      <td>3.3</td>\n",
       "      <td>3.3</td>\n",
       "      <td>0.784</td>\n",
       "      <td>13.9</td>\n",
       "      <td>76.4</td>\n",
       "    </tr>\n",
       "  </tbody>\n",
       "</table>\n",
       "</div>"
      ],
      "text/plain": [
       "       Country  Year      Status  Adult_Mortality  Infant_Deaths  Alcohol  \\\n",
       "0  Afghanistan  2015  Developing            263.0             62     0.01   \n",
       "1      Albania  2015  Developing             74.0              0     4.60   \n",
       "2      Algeria  2015  Developing             19.0             21      NaN   \n",
       "3       Angola  2015  Developing            335.0             66      NaN   \n",
       "4      Antigua  2015  Developing             13.0              0      NaN   \n",
       "\n",
       "   Hepatitis B  Measles    BMI  Underfive_Deaths   Polio  Diphtheria   HIV  \\\n",
       "0         65.0      1154  19.1                 83      6           65  0.1   \n",
       "1         99.0         0  58.0                  0     99           99  0.1   \n",
       "2         95.0        63  59.5                 24     95           95  0.1   \n",
       "3         64.0       118  23.3                 98      7           64  1.9   \n",
       "4         99.0         0  47.7                  0     86           99  0.2   \n",
       "\n",
       "            GDP  Population  Malnourished10_19  Malnourished5_9  Income_Index  \\\n",
       "0    584.259210  33736494.0               17.2             17.3         0.479   \n",
       "1   3954.227830     28873.0                1.2              1.3         0.762   \n",
       "2   4132.762920  39871528.0                6.0              5.8         0.743   \n",
       "3   3695.793748   2785935.0                8.3              8.2         0.531   \n",
       "4  13566.954100         NaN                3.3              3.3         0.784   \n",
       "\n",
       "   Schooling  Life_Expectancy  \n",
       "0       10.1             65.0  \n",
       "1       14.2             77.8  \n",
       "2       14.4             75.6  \n",
       "3       11.4             52.4  \n",
       "4       13.9             76.4  "
      ]
     },
     "execution_count": 89,
     "metadata": {},
     "output_type": "execute_result"
    }
   ],
   "source": [
    "# load the csv file\n",
    "\n",
    "# type your code here\n",
    "df = pd.read_csv('Life_Expectancy.csv')\n",
    "# display the first five observations\n",
    "df.head()\n",
    "# type your code here"
   ]
  },
  {
   "cell_type": "markdown",
   "metadata": {},
   "source": [
    "#### Check the shape of the data and display its information"
   ]
  },
  {
   "cell_type": "code",
   "execution_count": 90,
   "metadata": {
    "scrolled": true
   },
   "outputs": [
    {
     "data": {
      "text/plain": [
       "(182, 20)"
      ]
     },
     "execution_count": 90,
     "metadata": {},
     "output_type": "execute_result"
    }
   ],
   "source": [
    "# check the size of the dataframe\n",
    "df.shape\n",
    "# type your code here"
   ]
  },
  {
   "cell_type": "code",
   "execution_count": 91,
   "metadata": {},
   "outputs": [
    {
     "name": "stdout",
     "output_type": "stream",
     "text": [
      "<class 'pandas.core.frame.DataFrame'>\n",
      "RangeIndex: 182 entries, 0 to 181\n",
      "Data columns (total 20 columns):\n",
      " #   Column             Non-Null Count  Dtype  \n",
      "---  ------             --------------  -----  \n",
      " 0   Country            182 non-null    object \n",
      " 1   Year               182 non-null    int64  \n",
      " 2   Status             182 non-null    object \n",
      " 3   Adult_Mortality    173 non-null    float64\n",
      " 4   Infant_Deaths      182 non-null    int64  \n",
      " 5   Alcohol            15 non-null     float64\n",
      " 6   Hepatitis B        173 non-null    float64\n",
      " 7   Measles            182 non-null    int64  \n",
      " 8   BMI                178 non-null    float64\n",
      " 9   Underfive_Deaths   182 non-null    int64  \n",
      " 10  Polio              182 non-null    int64  \n",
      " 11  Diphtheria         182 non-null    int64  \n",
      " 12  HIV                182 non-null    float64\n",
      " 13  GDP                157 non-null    float64\n",
      " 14  Population         141 non-null    float64\n",
      " 15  Malnourished10_19  178 non-null    float64\n",
      " 16  Malnourished5_9    178 non-null    float64\n",
      " 17  Income_Index       169 non-null    float64\n",
      " 18  Schooling          173 non-null    float64\n",
      " 19  Life_Expectancy    173 non-null    float64\n",
      "dtypes: float64(12), int64(6), object(2)\n",
      "memory usage: 28.6+ KB\n"
     ]
    }
   ],
   "source": [
    "# display dataset information understand the dataset\n",
    "df.info()\n",
    "# type your code here"
   ]
  },
  {
   "cell_type": "markdown",
   "metadata": {},
   "source": [
    "### Let's begin with some hands-on practice exercises"
   ]
  },
  {
   "cell_type": "markdown",
   "metadata": {},
   "source": [
    "<a id=\"eda\"> </a>\n",
    "## 1. Data Preparation"
   ]
  },
  {
   "cell_type": "markdown",
   "metadata": {
    "collapsed": true
   },
   "source": [
    "<table align=\"left\">\n",
    "    <tr>\n",
    "        <td width=\"6%\">\n",
    "            <img src=\"question_icon.png\">\n",
    "        </td>\n",
    "        <td>\n",
    "            <div align=\"left\", style=\"font-size:120%\">\n",
    "                <font color=\"#21618C\">\n",
    "                    <b>1. The dataset gives the life expectancy for different countries. Check if any information about life expectancy is missing from the given records. How do we fix the problem if present?</b>\n",
    "                </font>\n",
    "            </div>\n",
    "        </td>\n",
    "    </tr>\n",
    "</table>"
   ]
  },
  {
   "cell_type": "code",
   "execution_count": 92,
   "metadata": {},
   "outputs": [
    {
     "data": {
      "text/plain": [
       "9"
      ]
     },
     "execution_count": 92,
     "metadata": {},
     "output_type": "execute_result"
    }
   ],
   "source": [
    "# type your code here\n",
    "df.Life_Expectancy.isnull().sum()"
   ]
  },
  {
   "cell_type": "code",
   "execution_count": 93,
   "metadata": {},
   "outputs": [
    {
     "data": {
      "text/plain": [
       "0"
      ]
     },
     "execution_count": 93,
     "metadata": {},
     "output_type": "execute_result"
    }
   ],
   "source": [
    "#since life expectancy is the target variable we cannot impute it with any value\n",
    "df.dropna(subset = ['Life_Expectancy'],how = 'all',inplace = True,axis = 0)\n",
    "df.Life_Expectancy.isnull().sum()"
   ]
  },
  {
   "cell_type": "markdown",
   "metadata": {
    "collapsed": true
   },
   "source": [
    "<table align=\"left\">\n",
    "    <tr>\n",
    "        <td width=\"6%\">\n",
    "            <img src=\"question_icon.png\">\n",
    "        </td>\n",
    "        <td>\n",
    "            <div align=\"left\", style=\"font-size:120%\">\n",
    "                <font color=\"#21618C\">\n",
    "                    <b>2. How do we handle the missing values from the entire dataset?</b>\n",
    "                </font>\n",
    "            </div>\n",
    "        </td>\n",
    "    </tr>\n",
    "</table>"
   ]
  },
  {
   "cell_type": "code",
   "execution_count": 94,
   "metadata": {},
   "outputs": [
    {
     "data": {
      "text/plain": [
       "Country               0.000000\n",
       "Year                  0.000000\n",
       "Status                0.000000\n",
       "Adult_Mortality       0.000000\n",
       "Infant_Deaths         0.000000\n",
       "Alcohol              95.953757\n",
       "Hepatitis B           5.202312\n",
       "Measles               0.000000\n",
       "BMI                   1.156069\n",
       "Underfive_Deaths      0.000000\n",
       "Polio                 0.000000\n",
       "Diphtheria            0.000000\n",
       "HIV                   0.000000\n",
       "GDP                  12.138728\n",
       "Population           19.653179\n",
       "Malnourished10_19     1.156069\n",
       "Malnourished5_9       1.156069\n",
       "Income_Index          4.046243\n",
       "Schooling             4.046243\n",
       "Life_Expectancy       0.000000\n",
       "dtype: float64"
      ]
     },
     "execution_count": 94,
     "metadata": {},
     "output_type": "execute_result"
    }
   ],
   "source": [
    "# type your code here\n",
    "df.isnull().sum()/len(df)*100"
   ]
  },
  {
   "cell_type": "code",
   "execution_count": 95,
   "metadata": {
    "scrolled": true
   },
   "outputs": [
    {
     "data": {
      "text/plain": [
       "Index(['Country', 'Year', 'Status', 'Adult_Mortality', 'Infant_Deaths',\n",
       "       'Hepatitis B', 'Measles ', 'BMI', 'Underfive_Deaths ', 'Polio',\n",
       "       'Diphtheria ', 'HIV', 'GDP', 'Population', 'Malnourished10_19',\n",
       "       'Malnourished5_9', 'Income_Index', 'Schooling', 'Life_Expectancy'],\n",
       "      dtype='object')"
      ]
     },
     "execution_count": 95,
     "metadata": {},
     "output_type": "execute_result"
    }
   ],
   "source": [
    "df = df.drop(labels = \"Alcohol\",axis = 1)\n",
    "df.columns"
   ]
  },
  {
   "cell_type": "code",
   "execution_count": 96,
   "metadata": {},
   "outputs": [
    {
     "data": {
      "image/png": "[encoded data removed]",
      "text/plain": [
       "<Figure size 1080x576 with 20 Axes>"
      ]
     },
     "metadata": {
      "needs_background": "light"
     },
     "output_type": "display_data"
    }
   ],
   "source": [
    "df.hist(bins = 20,figsize = (15,8))\n",
    "plt.tight_layout()"
   ]
  },
  {
   "cell_type": "code",
   "execution_count": 97,
   "metadata": {},
   "outputs": [],
   "source": [
    "df['GDP'] = df['GDP'].fillna(df['GDP'].median())\n",
    "df['Hepatitis B'] = df['Hepatitis B'].fillna(df['Hepatitis B'].median())\n",
    "df['Malnourished5_9'] = df['Malnourished5_9'].fillna(df['Malnourished5_9'].median())\n",
    "df['Malnourished10_19'] = df['Malnourished10_19'].fillna(df['Malnourished10_19'].median())\n",
    "df['Population'] = df['Population'].fillna(df['Population'].median())"
   ]
  },
  {
   "cell_type": "code",
   "execution_count": 98,
   "metadata": {},
   "outputs": [],
   "source": [
    "df['BMI'] = df['BMI'].fillna(df['BMI'].mean())\n",
    "df['Income_Index'] = df['Income_Index'].fillna(df['Income_Index'].mean())\n",
    "df['Schooling'] = df['Schooling'].fillna(df['Schooling'].mean())"
   ]
  },
  {
   "cell_type": "code",
   "execution_count": 99,
   "metadata": {},
   "outputs": [
    {
     "data": {
      "text/plain": [
       "Country              0\n",
       "Year                 0\n",
       "Status               0\n",
       "Adult_Mortality      0\n",
       "Infant_Deaths        0\n",
       "Hepatitis B          0\n",
       "Measles              0\n",
       "BMI                  0\n",
       "Underfive_Deaths     0\n",
       "Polio                0\n",
       "Diphtheria           0\n",
       "HIV                  0\n",
       "GDP                  0\n",
       "Population           0\n",
       "Malnourished10_19    0\n",
       "Malnourished5_9      0\n",
       "Income_Index         0\n",
       "Schooling            0\n",
       "Life_Expectancy      0\n",
       "dtype: int64"
      ]
     },
     "execution_count": 99,
     "metadata": {},
     "output_type": "execute_result"
    }
   ],
   "source": [
    "df.isnull().sum()"
   ]
  },
  {
   "cell_type": "markdown",
   "metadata": {
    "collapsed": true
   },
   "source": [
    "<table align=\"left\">\n",
    "    <tr>\n",
    "        <td width=\"6%\">\n",
    "            <img src=\"question_icon.png\">\n",
    "        </td>\n",
    "        <td>\n",
    "            <div align=\"left\", style=\"font-size:120%\">\n",
    "                <font color=\"#21618C\">\n",
    "                    <b>3. Are there any redundant features in the data?</b>\n",
    "                </font>\n",
    "            </div>\n",
    "        </td>\n",
    "    </tr>\n",
    "</table>"
   ]
  },
  {
   "cell_type": "code",
   "execution_count": 100,
   "metadata": {},
   "outputs": [
    {
     "data": {
      "text/html": [
       "<div>\n",
       "<style scoped>\n",
       "    .dataframe tbody tr th:only-of-type {\n",
       "        vertical-align: middle;\n",
       "    }\n",
       "\n",
       "    .dataframe tbody tr th {\n",
       "        vertical-align: top;\n",
       "    }\n",
       "\n",
       "    .dataframe thead th {\n",
       "        text-align: right;\n",
       "    }\n",
       "</style>\n",
       "<table border=\"1\" class=\"dataframe\">\n",
       "  <thead>\n",
       "    <tr style=\"text-align: right;\">\n",
       "      <th></th>\n",
       "      <th>Country</th>\n",
       "      <th>Status</th>\n",
       "    </tr>\n",
       "  </thead>\n",
       "  <tbody>\n",
       "    <tr>\n",
       "      <th>count</th>\n",
       "      <td>173</td>\n",
       "      <td>173</td>\n",
       "    </tr>\n",
       "    <tr>\n",
       "      <th>unique</th>\n",
       "      <td>173</td>\n",
       "      <td>2</td>\n",
       "    </tr>\n",
       "    <tr>\n",
       "      <th>top</th>\n",
       "      <td>Nepal</td>\n",
       "      <td>Developing</td>\n",
       "    </tr>\n",
       "    <tr>\n",
       "      <th>freq</th>\n",
       "      <td>1</td>\n",
       "      <td>141</td>\n",
       "    </tr>\n",
       "  </tbody>\n",
       "</table>\n",
       "</div>"
      ],
      "text/plain": [
       "       Country      Status\n",
       "count      173         173\n",
       "unique     173           2\n",
       "top      Nepal  Developing\n",
       "freq         1         141"
      ]
     },
     "execution_count": 100,
     "metadata": {},
     "output_type": "execute_result"
    }
   ],
   "source": [
    "df.describe(include = 'object')"
   ]
  },
  {
   "cell_type": "code",
   "execution_count": 101,
   "metadata": {},
   "outputs": [
    {
     "data": {
      "text/html": [
       "<div>\n",
       "<style scoped>\n",
       "    .dataframe tbody tr th:only-of-type {\n",
       "        vertical-align: middle;\n",
       "    }\n",
       "\n",
       "    .dataframe tbody tr th {\n",
       "        vertical-align: top;\n",
       "    }\n",
       "\n",
       "    .dataframe thead th {\n",
       "        text-align: right;\n",
       "    }\n",
       "</style>\n",
       "<table border=\"1\" class=\"dataframe\">\n",
       "  <thead>\n",
       "    <tr style=\"text-align: right;\">\n",
       "      <th></th>\n",
       "      <th>Year</th>\n",
       "      <th>Adult_Mortality</th>\n",
       "      <th>Infant_Deaths</th>\n",
       "      <th>Hepatitis B</th>\n",
       "      <th>Measles</th>\n",
       "      <th>BMI</th>\n",
       "      <th>Underfive_Deaths</th>\n",
       "      <th>Polio</th>\n",
       "      <th>Diphtheria</th>\n",
       "      <th>HIV</th>\n",
       "      <th>GDP</th>\n",
       "      <th>Population</th>\n",
       "      <th>Malnourished10_19</th>\n",
       "      <th>Malnourished5_9</th>\n",
       "      <th>Income_Index</th>\n",
       "      <th>Schooling</th>\n",
       "      <th>Life_Expectancy</th>\n",
       "    </tr>\n",
       "  </thead>\n",
       "  <tbody>\n",
       "    <tr>\n",
       "      <th>count</th>\n",
       "      <td>173.000000</td>\n",
       "      <td>173.000000</td>\n",
       "      <td>173.000000</td>\n",
       "      <td>173.000000</td>\n",
       "      <td>173.000000</td>\n",
       "      <td>173.000000</td>\n",
       "      <td>173.000000</td>\n",
       "      <td>173.000000</td>\n",
       "      <td>173.000000</td>\n",
       "      <td>173.000000</td>\n",
       "      <td>173.000000</td>\n",
       "      <td>1.730000e+02</td>\n",
       "      <td>173.000000</td>\n",
       "      <td>173.000000</td>\n",
       "      <td>173.000000</td>\n",
       "      <td>173.000000</td>\n",
       "      <td>173.000000</td>\n",
       "    </tr>\n",
       "    <tr>\n",
       "      <th>mean</th>\n",
       "      <td>2014.988439</td>\n",
       "      <td>149.971098</td>\n",
       "      <td>22.872832</td>\n",
       "      <td>82.716763</td>\n",
       "      <td>1559.208092</td>\n",
       "      <td>43.466667</td>\n",
       "      <td>30.352601</td>\n",
       "      <td>83.040462</td>\n",
       "      <td>84.508671</td>\n",
       "      <td>0.647399</td>\n",
       "      <td>6764.134560</td>\n",
       "      <td>9.663690e+06</td>\n",
       "      <td>4.492486</td>\n",
       "      <td>4.539306</td>\n",
       "      <td>0.695627</td>\n",
       "      <td>12.995783</td>\n",
       "      <td>72.007514</td>\n",
       "    </tr>\n",
       "    <tr>\n",
       "      <th>std</th>\n",
       "      <td>0.152057</td>\n",
       "      <td>95.679846</td>\n",
       "      <td>84.268577</td>\n",
       "      <td>24.066903</td>\n",
       "      <td>8055.443243</td>\n",
       "      <td>20.378109</td>\n",
       "      <td>108.428722</td>\n",
       "      <td>24.833951</td>\n",
       "      <td>22.687364</td>\n",
       "      <td>1.361795</td>\n",
       "      <td>11095.340318</td>\n",
       "      <td>2.650522e+07</td>\n",
       "      <td>4.131178</td>\n",
       "      <td>4.217814</td>\n",
       "      <td>0.150721</td>\n",
       "      <td>2.879849</td>\n",
       "      <td>8.032405</td>\n",
       "    </tr>\n",
       "    <tr>\n",
       "      <th>min</th>\n",
       "      <td>2013.000000</td>\n",
       "      <td>1.000000</td>\n",
       "      <td>0.000000</td>\n",
       "      <td>6.000000</td>\n",
       "      <td>0.000000</td>\n",
       "      <td>2.500000</td>\n",
       "      <td>0.000000</td>\n",
       "      <td>5.000000</td>\n",
       "      <td>6.000000</td>\n",
       "      <td>0.100000</td>\n",
       "      <td>33.681223</td>\n",
       "      <td>2.966000e+03</td>\n",
       "      <td>0.100000</td>\n",
       "      <td>0.100000</td>\n",
       "      <td>0.347000</td>\n",
       "      <td>4.900000</td>\n",
       "      <td>51.000000</td>\n",
       "    </tr>\n",
       "    <tr>\n",
       "      <th>25%</th>\n",
       "      <td>2015.000000</td>\n",
       "      <td>74.000000</td>\n",
       "      <td>0.000000</td>\n",
       "      <td>81.000000</td>\n",
       "      <td>0.000000</td>\n",
       "      <td>24.400000</td>\n",
       "      <td>0.000000</td>\n",
       "      <td>84.000000</td>\n",
       "      <td>84.000000</td>\n",
       "      <td>0.100000</td>\n",
       "      <td>918.677154</td>\n",
       "      <td>5.874820e+05</td>\n",
       "      <td>1.500000</td>\n",
       "      <td>1.500000</td>\n",
       "      <td>0.576000</td>\n",
       "      <td>11.100000</td>\n",
       "      <td>66.200000</td>\n",
       "    </tr>\n",
       "    <tr>\n",
       "      <th>50%</th>\n",
       "      <td>2015.000000</td>\n",
       "      <td>137.000000</td>\n",
       "      <td>2.000000</td>\n",
       "      <td>93.000000</td>\n",
       "      <td>16.000000</td>\n",
       "      <td>51.000000</td>\n",
       "      <td>3.000000</td>\n",
       "      <td>93.000000</td>\n",
       "      <td>94.000000</td>\n",
       "      <td>0.100000</td>\n",
       "      <td>3124.343999</td>\n",
       "      <td>2.174645e+06</td>\n",
       "      <td>3.300000</td>\n",
       "      <td>3.300000</td>\n",
       "      <td>0.723000</td>\n",
       "      <td>13.100000</td>\n",
       "      <td>74.100000</td>\n",
       "    </tr>\n",
       "    <tr>\n",
       "      <th>75%</th>\n",
       "      <td>2015.000000</td>\n",
       "      <td>199.000000</td>\n",
       "      <td>17.000000</td>\n",
       "      <td>97.000000</td>\n",
       "      <td>212.000000</td>\n",
       "      <td>61.600000</td>\n",
       "      <td>21.000000</td>\n",
       "      <td>97.000000</td>\n",
       "      <td>97.000000</td>\n",
       "      <td>0.300000</td>\n",
       "      <td>6461.192554</td>\n",
       "      <td>7.177991e+06</td>\n",
       "      <td>6.400000</td>\n",
       "      <td>6.400000</td>\n",
       "      <td>0.798000</td>\n",
       "      <td>15.000000</td>\n",
       "      <td>77.100000</td>\n",
       "    </tr>\n",
       "    <tr>\n",
       "      <th>max</th>\n",
       "      <td>2015.000000</td>\n",
       "      <td>484.000000</td>\n",
       "      <td>910.000000</td>\n",
       "      <td>99.000000</td>\n",
       "      <td>90387.000000</td>\n",
       "      <td>77.600000</td>\n",
       "      <td>1100.000000</td>\n",
       "      <td>99.000000</td>\n",
       "      <td>99.000000</td>\n",
       "      <td>9.300000</td>\n",
       "      <td>66346.522670</td>\n",
       "      <td>2.581621e+08</td>\n",
       "      <td>26.700000</td>\n",
       "      <td>27.300000</td>\n",
       "      <td>0.948000</td>\n",
       "      <td>20.400000</td>\n",
       "      <td>88.000000</td>\n",
       "    </tr>\n",
       "  </tbody>\n",
       "</table>\n",
       "</div>"
      ],
      "text/plain": [
       "              Year  Adult_Mortality  Infant_Deaths  Hepatitis B      Measles   \\\n",
       "count   173.000000       173.000000     173.000000   173.000000    173.000000   \n",
       "mean   2014.988439       149.971098      22.872832    82.716763   1559.208092   \n",
       "std       0.152057        95.679846      84.268577    24.066903   8055.443243   \n",
       "min    2013.000000         1.000000       0.000000     6.000000      0.000000   \n",
       "25%    2015.000000        74.000000       0.000000    81.000000      0.000000   \n",
       "50%    2015.000000       137.000000       2.000000    93.000000     16.000000   \n",
       "75%    2015.000000       199.000000      17.000000    97.000000    212.000000   \n",
       "max    2015.000000       484.000000     910.000000    99.000000  90387.000000   \n",
       "\n",
       "              BMI  Underfive_Deaths        Polio  Diphtheria          HIV  \\\n",
       "count  173.000000         173.000000  173.000000   173.000000  173.000000   \n",
       "mean    43.466667          30.352601   83.040462    84.508671    0.647399   \n",
       "std     20.378109         108.428722   24.833951    22.687364    1.361795   \n",
       "min      2.500000           0.000000    5.000000     6.000000    0.100000   \n",
       "25%     24.400000           0.000000   84.000000    84.000000    0.100000   \n",
       "50%     51.000000           3.000000   93.000000    94.000000    0.100000   \n",
       "75%     61.600000          21.000000   97.000000    97.000000    0.300000   \n",
       "max     77.600000        1100.000000   99.000000    99.000000    9.300000   \n",
       "\n",
       "                GDP    Population  Malnourished10_19  Malnourished5_9  \\\n",
       "count    173.000000  1.730000e+02         173.000000       173.000000   \n",
       "mean    6764.134560  9.663690e+06           4.492486         4.539306   \n",
       "std    11095.340318  2.650522e+07           4.131178         4.217814   \n",
       "min       33.681223  2.966000e+03           0.100000         0.100000   \n",
       "25%      918.677154  5.874820e+05           1.500000         1.500000   \n",
       "50%     3124.343999  2.174645e+06           3.300000         3.300000   \n",
       "75%     6461.192554  7.177991e+06           6.400000         6.400000   \n",
       "max    66346.522670  2.581621e+08          26.700000        27.300000   \n",
       "\n",
       "       Income_Index   Schooling  Life_Expectancy  \n",
       "count    173.000000  173.000000       173.000000  \n",
       "mean       0.695627   12.995783        72.007514  \n",
       "std        0.150721    2.879849         8.032405  \n",
       "min        0.347000    4.900000        51.000000  \n",
       "25%        0.576000   11.100000        66.200000  \n",
       "50%        0.723000   13.100000        74.100000  \n",
       "75%        0.798000   15.000000        77.100000  \n",
       "max        0.948000   20.400000        88.000000  "
      ]
     },
     "execution_count": 101,
     "metadata": {},
     "output_type": "execute_result"
    }
   ],
   "source": [
    "df.describe(include = np.number)"
   ]
  },
  {
   "cell_type": "code",
   "execution_count": 102,
   "metadata": {},
   "outputs": [
    {
     "data": {
      "text/html": [
       "<div>\n",
       "<style scoped>\n",
       "    .dataframe tbody tr th:only-of-type {\n",
       "        vertical-align: middle;\n",
       "    }\n",
       "\n",
       "    .dataframe tbody tr th {\n",
       "        vertical-align: top;\n",
       "    }\n",
       "\n",
       "    .dataframe thead th {\n",
       "        text-align: right;\n",
       "    }\n",
       "</style>\n",
       "<table border=\"1\" class=\"dataframe\">\n",
       "  <thead>\n",
       "    <tr style=\"text-align: right;\">\n",
       "      <th></th>\n",
       "      <th>Year</th>\n",
       "      <th>Status</th>\n",
       "      <th>Adult_Mortality</th>\n",
       "      <th>Infant_Deaths</th>\n",
       "      <th>Hepatitis B</th>\n",
       "      <th>Measles</th>\n",
       "      <th>BMI</th>\n",
       "      <th>Underfive_Deaths</th>\n",
       "      <th>Polio</th>\n",
       "      <th>Diphtheria</th>\n",
       "      <th>HIV</th>\n",
       "      <th>GDP</th>\n",
       "      <th>Population</th>\n",
       "      <th>Malnourished10_19</th>\n",
       "      <th>Malnourished5_9</th>\n",
       "      <th>Income_Index</th>\n",
       "      <th>Schooling</th>\n",
       "      <th>Life_Expectancy</th>\n",
       "    </tr>\n",
       "    <tr>\n",
       "      <th>Country</th>\n",
       "      <th></th>\n",
       "      <th></th>\n",
       "      <th></th>\n",
       "      <th></th>\n",
       "      <th></th>\n",
       "      <th></th>\n",
       "      <th></th>\n",
       "      <th></th>\n",
       "      <th></th>\n",
       "      <th></th>\n",
       "      <th></th>\n",
       "      <th></th>\n",
       "      <th></th>\n",
       "      <th></th>\n",
       "      <th></th>\n",
       "      <th></th>\n",
       "      <th></th>\n",
       "      <th></th>\n",
       "    </tr>\n",
       "  </thead>\n",
       "  <tbody>\n",
       "    <tr>\n",
       "      <th>Afghanistan</th>\n",
       "      <td>2015</td>\n",
       "      <td>Developing</td>\n",
       "      <td>263.0</td>\n",
       "      <td>62</td>\n",
       "      <td>65.0</td>\n",
       "      <td>1154</td>\n",
       "      <td>19.1</td>\n",
       "      <td>83</td>\n",
       "      <td>6</td>\n",
       "      <td>65</td>\n",
       "      <td>0.1</td>\n",
       "      <td>584.259210</td>\n",
       "      <td>33736494.0</td>\n",
       "      <td>17.2</td>\n",
       "      <td>17.3</td>\n",
       "      <td>0.479</td>\n",
       "      <td>10.1</td>\n",
       "      <td>65.0</td>\n",
       "    </tr>\n",
       "    <tr>\n",
       "      <th>Albania</th>\n",
       "      <td>2015</td>\n",
       "      <td>Developing</td>\n",
       "      <td>74.0</td>\n",
       "      <td>0</td>\n",
       "      <td>99.0</td>\n",
       "      <td>0</td>\n",
       "      <td>58.0</td>\n",
       "      <td>0</td>\n",
       "      <td>99</td>\n",
       "      <td>99</td>\n",
       "      <td>0.1</td>\n",
       "      <td>3954.227830</td>\n",
       "      <td>28873.0</td>\n",
       "      <td>1.2</td>\n",
       "      <td>1.3</td>\n",
       "      <td>0.762</td>\n",
       "      <td>14.2</td>\n",
       "      <td>77.8</td>\n",
       "    </tr>\n",
       "    <tr>\n",
       "      <th>Algeria</th>\n",
       "      <td>2015</td>\n",
       "      <td>Developing</td>\n",
       "      <td>19.0</td>\n",
       "      <td>21</td>\n",
       "      <td>95.0</td>\n",
       "      <td>63</td>\n",
       "      <td>59.5</td>\n",
       "      <td>24</td>\n",
       "      <td>95</td>\n",
       "      <td>95</td>\n",
       "      <td>0.1</td>\n",
       "      <td>4132.762920</td>\n",
       "      <td>39871528.0</td>\n",
       "      <td>6.0</td>\n",
       "      <td>5.8</td>\n",
       "      <td>0.743</td>\n",
       "      <td>14.4</td>\n",
       "      <td>75.6</td>\n",
       "    </tr>\n",
       "    <tr>\n",
       "      <th>Angola</th>\n",
       "      <td>2015</td>\n",
       "      <td>Developing</td>\n",
       "      <td>335.0</td>\n",
       "      <td>66</td>\n",
       "      <td>64.0</td>\n",
       "      <td>118</td>\n",
       "      <td>23.3</td>\n",
       "      <td>98</td>\n",
       "      <td>7</td>\n",
       "      <td>64</td>\n",
       "      <td>1.9</td>\n",
       "      <td>3695.793748</td>\n",
       "      <td>2785935.0</td>\n",
       "      <td>8.3</td>\n",
       "      <td>8.2</td>\n",
       "      <td>0.531</td>\n",
       "      <td>11.4</td>\n",
       "      <td>52.4</td>\n",
       "    </tr>\n",
       "    <tr>\n",
       "      <th>Antigua</th>\n",
       "      <td>2015</td>\n",
       "      <td>Developing</td>\n",
       "      <td>13.0</td>\n",
       "      <td>0</td>\n",
       "      <td>99.0</td>\n",
       "      <td>0</td>\n",
       "      <td>47.7</td>\n",
       "      <td>0</td>\n",
       "      <td>86</td>\n",
       "      <td>99</td>\n",
       "      <td>0.2</td>\n",
       "      <td>13566.954100</td>\n",
       "      <td>2174645.0</td>\n",
       "      <td>3.3</td>\n",
       "      <td>3.3</td>\n",
       "      <td>0.784</td>\n",
       "      <td>13.9</td>\n",
       "      <td>76.4</td>\n",
       "    </tr>\n",
       "  </tbody>\n",
       "</table>\n",
       "</div>"
      ],
      "text/plain": [
       "             Year      Status  Adult_Mortality  Infant_Deaths  Hepatitis B  \\\n",
       "Country                                                                      \n",
       "Afghanistan  2015  Developing            263.0             62         65.0   \n",
       "Albania      2015  Developing             74.0              0         99.0   \n",
       "Algeria      2015  Developing             19.0             21         95.0   \n",
       "Angola       2015  Developing            335.0             66         64.0   \n",
       "Antigua      2015  Developing             13.0              0         99.0   \n",
       "\n",
       "             Measles    BMI  Underfive_Deaths   Polio  Diphtheria   HIV  \\\n",
       "Country                                                                   \n",
       "Afghanistan      1154  19.1                 83      6           65  0.1   \n",
       "Albania             0  58.0                  0     99           99  0.1   \n",
       "Algeria            63  59.5                 24     95           95  0.1   \n",
       "Angola            118  23.3                 98      7           64  1.9   \n",
       "Antigua             0  47.7                  0     86           99  0.2   \n",
       "\n",
       "                      GDP  Population  Malnourished10_19  Malnourished5_9  \\\n",
       "Country                                                                     \n",
       "Afghanistan    584.259210  33736494.0               17.2             17.3   \n",
       "Albania       3954.227830     28873.0                1.2              1.3   \n",
       "Algeria       4132.762920  39871528.0                6.0              5.8   \n",
       "Angola        3695.793748   2785935.0                8.3              8.2   \n",
       "Antigua      13566.954100   2174645.0                3.3              3.3   \n",
       "\n",
       "             Income_Index  Schooling  Life_Expectancy  \n",
       "Country                                                \n",
       "Afghanistan         0.479       10.1             65.0  \n",
       "Albania             0.762       14.2             77.8  \n",
       "Algeria             0.743       14.4             75.6  \n",
       "Angola              0.531       11.4             52.4  \n",
       "Antigua             0.784       13.9             76.4  "
      ]
     },
     "execution_count": 102,
     "metadata": {},
     "output_type": "execute_result"
    }
   ],
   "source": [
    "df.set_index(['Country'],inplace = True)\n",
    "df.head()"
   ]
  },
  {
   "cell_type": "code",
   "execution_count": 103,
   "metadata": {},
   "outputs": [],
   "source": [
    "df.set_index(['Year'],inplace = True)"
   ]
  },
  {
   "cell_type": "code",
   "execution_count": 104,
   "metadata": {},
   "outputs": [],
   "source": [
    "df.drop('Infant_Deaths',axis = 1,inplace = True)"
   ]
  },
  {
   "cell_type": "code",
   "execution_count": 105,
   "metadata": {},
   "outputs": [],
   "source": [
    "# type your code here"
   ]
  },
  {
   "cell_type": "markdown",
   "metadata": {
    "collapsed": true
   },
   "source": [
    "<table align=\"left\">\n",
    "    <tr>\n",
    "        <td width=\"6%\">\n",
    "            <img src=\"question_icon.png\">\n",
    "        </td>\n",
    "        <td>\n",
    "            <div align=\"left\", style=\"font-size:120%\">\n",
    "                <font color=\"#21618C\">\n",
    "                    <b>4. Perform dummy encoding for appropriate variables of the dataset if required</b>\n",
    "                </font>\n",
    "            </div>\n",
    "        </td>\n",
    "    </tr>\n",
    "</table>"
   ]
  },
  {
   "cell_type": "code",
   "execution_count": 106,
   "metadata": {
    "scrolled": true
   },
   "outputs": [],
   "source": [
    "# type your code here\n",
    "df['Status'] = pd.get_dummies(data = df['Status'],drop_first=True)"
   ]
  },
  {
   "cell_type": "markdown",
   "metadata": {},
   "source": [
    "<a id=\"lf\"> </a>\n",
    "## 2. Linear Regression"
   ]
  },
  {
   "cell_type": "markdown",
   "metadata": {
    "collapsed": true
   },
   "source": [
    "<table align=\"left\">\n",
    "    <tr>\n",
    "        <td width=\"6%\">\n",
    "            <img src=\"question_icon.png\">\n",
    "        </td>\n",
    "        <td>\n",
    "            <div align=\"left\", style=\"font-size:120%\">\n",
    "                <font color=\"#21618C\">\n",
    "                    <b>5.  Build a full model on the given data. Check whether the obtained residuals have constant variance\n",
    "</b>\n",
    "                </font>\n",
    "            </div>\n",
    "        </td>\n",
    "    </tr>\n",
    "</table>"
   ]
  },
  {
   "cell_type": "code",
   "execution_count": 107,
   "metadata": {},
   "outputs": [
    {
     "data": {
      "text/plain": [
       "Index(['Status', 'Adult_Mortality', 'Hepatitis B', 'Measles ', 'BMI',\n",
       "       'Underfive_Deaths ', 'Polio', 'Diphtheria ', 'HIV', 'GDP', 'Population',\n",
       "       'Malnourished10_19', 'Malnourished5_9', 'Income_Index', 'Schooling',\n",
       "       'Life_Expectancy'],\n",
       "      dtype='object')"
      ]
     },
     "execution_count": 107,
     "metadata": {},
     "output_type": "execute_result"
    }
   ],
   "source": [
    "df.columns"
   ]
  },
  {
   "cell_type": "code",
   "execution_count": 108,
   "metadata": {},
   "outputs": [],
   "source": [
    "# type your code here\n",
    "import statsmodels.api as sm\n",
    "from sklearn.model_selection import train_test_split\n",
    "x = df.drop('Life_Expectancy',axis = 1)\n",
    "x = sm.add_constant(x)\n",
    "y = df.Life_Expectancy\n",
    "xtrain,xtest,ytrain,ytest = train_test_split(x,y,random_state = 1,test_size = 0.2)\n",
    "MLR_model = sm.OLS(ytrain,xtrain).fit()"
   ]
  },
  {
   "cell_type": "code",
   "execution_count": 109,
   "metadata": {},
   "outputs": [
    {
     "data": {
      "text/html": [
       "<table class=\"simpletable\">\n",
       "<caption>OLS Regression Results</caption>\n",
       "<tr>\n",
       "  <th>Dep. Variable:</th>     <td>Life_Expectancy</td> <th>  R-squared:         </th> <td>   0.871</td>\n",
       "</tr>\n",
       "<tr>\n",
       "  <th>Model:</th>                   <td>OLS</td>       <th>  Adj. R-squared:    </th> <td>   0.855</td>\n",
       "</tr>\n",
       "<tr>\n",
       "  <th>Method:</th>             <td>Least Squares</td>  <th>  F-statistic:       </th> <td>   54.83</td>\n",
       "</tr>\n",
       "<tr>\n",
       "  <th>Date:</th>             <td>Mon, 23 Aug 2021</td> <th>  Prob (F-statistic):</th> <td>7.90e-47</td>\n",
       "</tr>\n",
       "<tr>\n",
       "  <th>Time:</th>                 <td>09:29:34</td>     <th>  Log-Likelihood:    </th> <td> -339.72</td>\n",
       "</tr>\n",
       "<tr>\n",
       "  <th>No. Observations:</th>      <td>   138</td>      <th>  AIC:               </th> <td>   711.4</td>\n",
       "</tr>\n",
       "<tr>\n",
       "  <th>Df Residuals:</th>          <td>   122</td>      <th>  BIC:               </th> <td>   758.3</td>\n",
       "</tr>\n",
       "<tr>\n",
       "  <th>Df Model:</th>              <td>    15</td>      <th>                     </th>     <td> </td>   \n",
       "</tr>\n",
       "<tr>\n",
       "  <th>Covariance Type:</th>      <td>nonrobust</td>    <th>                     </th>     <td> </td>   \n",
       "</tr>\n",
       "</table>\n",
       "<table class=\"simpletable\">\n",
       "<tr>\n",
       "          <td></td>             <th>coef</th>     <th>std err</th>      <th>t</th>      <th>P>|t|</th>  <th>[0.025</th>    <th>0.975]</th>  \n",
       "</tr>\n",
       "<tr>\n",
       "  <th>const</th>             <td>   52.7834</td> <td>    2.852</td> <td>   18.508</td> <td> 0.000</td> <td>   47.138</td> <td>   58.429</td>\n",
       "</tr>\n",
       "<tr>\n",
       "  <th>Status</th>            <td>   -1.1090</td> <td>    0.852</td> <td>   -1.302</td> <td> 0.195</td> <td>   -2.795</td> <td>    0.577</td>\n",
       "</tr>\n",
       "<tr>\n",
       "  <th>Adult_Mortality</th>   <td>   -0.0236</td> <td>    0.004</td> <td>   -5.383</td> <td> 0.000</td> <td>   -0.032</td> <td>   -0.015</td>\n",
       "</tr>\n",
       "<tr>\n",
       "  <th>Hepatitis B</th>       <td>    0.0577</td> <td>    0.034</td> <td>    1.707</td> <td> 0.090</td> <td>   -0.009</td> <td>    0.125</td>\n",
       "</tr>\n",
       "<tr>\n",
       "  <th>Measles </th>          <td> 2.848e-05</td> <td> 5.47e-05</td> <td>    0.520</td> <td> 0.604</td> <td>-7.99e-05</td> <td>    0.000</td>\n",
       "</tr>\n",
       "<tr>\n",
       "  <th>BMI</th>               <td>   -0.0140</td> <td>    0.017</td> <td>   -0.846</td> <td> 0.399</td> <td>   -0.047</td> <td>    0.019</td>\n",
       "</tr>\n",
       "<tr>\n",
       "  <th>Underfive_Deaths </th> <td>   -0.0024</td> <td>    0.005</td> <td>   -0.505</td> <td> 0.614</td> <td>   -0.012</td> <td>    0.007</td>\n",
       "</tr>\n",
       "<tr>\n",
       "  <th>Polio</th>             <td>    0.0121</td> <td>    0.016</td> <td>    0.779</td> <td> 0.438</td> <td>   -0.019</td> <td>    0.043</td>\n",
       "</tr>\n",
       "<tr>\n",
       "  <th>Diphtheria </th>       <td>   -0.0119</td> <td>    0.036</td> <td>   -0.325</td> <td> 0.745</td> <td>   -0.084</td> <td>    0.060</td>\n",
       "</tr>\n",
       "<tr>\n",
       "  <th>HIV</th>               <td>   -0.6763</td> <td>    0.262</td> <td>   -2.580</td> <td> 0.011</td> <td>   -1.195</td> <td>   -0.157</td>\n",
       "</tr>\n",
       "<tr>\n",
       "  <th>GDP</th>               <td>-1.209e-06</td> <td> 2.93e-05</td> <td>   -0.041</td> <td> 0.967</td> <td>-5.91e-05</td> <td> 5.67e-05</td>\n",
       "</tr>\n",
       "<tr>\n",
       "  <th>Population</th>        <td>-4.461e-09</td> <td> 1.06e-08</td> <td>   -0.422</td> <td> 0.674</td> <td>-2.54e-08</td> <td> 1.64e-08</td>\n",
       "</tr>\n",
       "<tr>\n",
       "  <th>Malnourished10_19</th> <td>   -0.1450</td> <td>    0.257</td> <td>   -0.565</td> <td> 0.573</td> <td>   -0.653</td> <td>    0.363</td>\n",
       "</tr>\n",
       "<tr>\n",
       "  <th>Malnourished5_9</th>   <td>    0.0360</td> <td>    0.253</td> <td>    0.143</td> <td> 0.887</td> <td>   -0.464</td> <td>    0.536</td>\n",
       "</tr>\n",
       "<tr>\n",
       "  <th>Income_Index</th>      <td>   29.1717</td> <td>    5.180</td> <td>    5.632</td> <td> 0.000</td> <td>   18.918</td> <td>   39.425</td>\n",
       "</tr>\n",
       "<tr>\n",
       "  <th>Schooling</th>         <td>    0.0184</td> <td>    0.234</td> <td>    0.079</td> <td> 0.937</td> <td>   -0.445</td> <td>    0.482</td>\n",
       "</tr>\n",
       "</table>\n",
       "<table class=\"simpletable\">\n",
       "<tr>\n",
       "  <th>Omnibus:</th>       <td> 8.293</td> <th>  Durbin-Watson:     </th> <td>   2.134</td>\n",
       "</tr>\n",
       "<tr>\n",
       "  <th>Prob(Omnibus):</th> <td> 0.016</td> <th>  Jarque-Bera (JB):  </th> <td>  13.932</td>\n",
       "</tr>\n",
       "<tr>\n",
       "  <th>Skew:</th>          <td>-0.219</td> <th>  Prob(JB):          </th> <td>0.000943</td>\n",
       "</tr>\n",
       "<tr>\n",
       "  <th>Kurtosis:</th>      <td> 4.493</td> <th>  Cond. No.          </th> <td>6.46e+08</td>\n",
       "</tr>\n",
       "</table><br/><br/>Notes:<br/>[1] Standard Errors assume that the covariance matrix of the errors is correctly specified.<br/>[2] The condition number is large, 6.46e+08. This might indicate that there are<br/>strong multicollinearity or other numerical problems."
      ],
      "text/plain": [
       "<class 'statsmodels.iolib.summary.Summary'>\n",
       "\"\"\"\n",
       "                            OLS Regression Results                            \n",
       "==============================================================================\n",
       "Dep. Variable:        Life_Expectancy   R-squared:                       0.871\n",
       "Model:                            OLS   Adj. R-squared:                  0.855\n",
       "Method:                 Least Squares   F-statistic:                     54.83\n",
       "Date:                Mon, 23 Aug 2021   Prob (F-statistic):           7.90e-47\n",
       "Time:                        09:29:34   Log-Likelihood:                -339.72\n",
       "No. Observations:                 138   AIC:                             711.4\n",
       "Df Residuals:                     122   BIC:                             758.3\n",
       "Df Model:                          15                                         \n",
       "Covariance Type:            nonrobust                                         \n",
       "=====================================================================================\n",
       "                        coef    std err          t      P>|t|      [0.025      0.975]\n",
       "-------------------------------------------------------------------------------------\n",
       "const                52.7834      2.852     18.508      0.000      47.138      58.429\n",
       "Status               -1.1090      0.852     -1.302      0.195      -2.795       0.577\n",
       "Adult_Mortality      -0.0236      0.004     -5.383      0.000      -0.032      -0.015\n",
       "Hepatitis B           0.0577      0.034      1.707      0.090      -0.009       0.125\n",
       "Measles            2.848e-05   5.47e-05      0.520      0.604   -7.99e-05       0.000\n",
       "BMI                  -0.0140      0.017     -0.846      0.399      -0.047       0.019\n",
       "Underfive_Deaths     -0.0024      0.005     -0.505      0.614      -0.012       0.007\n",
       "Polio                 0.0121      0.016      0.779      0.438      -0.019       0.043\n",
       "Diphtheria           -0.0119      0.036     -0.325      0.745      -0.084       0.060\n",
       "HIV                  -0.6763      0.262     -2.580      0.011      -1.195      -0.157\n",
       "GDP               -1.209e-06   2.93e-05     -0.041      0.967   -5.91e-05    5.67e-05\n",
       "Population        -4.461e-09   1.06e-08     -0.422      0.674   -2.54e-08    1.64e-08\n",
       "Malnourished10_19    -0.1450      0.257     -0.565      0.573      -0.653       0.363\n",
       "Malnourished5_9       0.0360      0.253      0.143      0.887      -0.464       0.536\n",
       "Income_Index         29.1717      5.180      5.632      0.000      18.918      39.425\n",
       "Schooling             0.0184      0.234      0.079      0.937      -0.445       0.482\n",
       "==============================================================================\n",
       "Omnibus:                        8.293   Durbin-Watson:                   2.134\n",
       "Prob(Omnibus):                  0.016   Jarque-Bera (JB):               13.932\n",
       "Skew:                          -0.219   Prob(JB):                     0.000943\n",
       "Kurtosis:                       4.493   Cond. No.                     6.46e+08\n",
       "==============================================================================\n",
       "\n",
       "Notes:\n",
       "[1] Standard Errors assume that the covariance matrix of the errors is correctly specified.\n",
       "[2] The condition number is large, 6.46e+08. This might indicate that there are\n",
       "strong multicollinearity or other numerical problems.\n",
       "\"\"\""
      ]
     },
     "execution_count": 109,
     "metadata": {},
     "output_type": "execute_result"
    }
   ],
   "source": [
    "MLR_model.summary()"
   ]
  },
  {
   "cell_type": "code",
   "execution_count": 110,
   "metadata": {},
   "outputs": [],
   "source": [
    "# since durbin waston test value is >2 thus the residuals does not have equal variance"
   ]
  },
  {
   "cell_type": "code",
   "execution_count": 111,
   "metadata": {},
   "outputs": [
    {
     "data": {
      "image/png": "[encoded data removed]",
      "text/plain": [
       "<Figure size 720x504 with 1 Axes>"
      ]
     },
     "metadata": {
      "needs_background": "light"
     },
     "output_type": "display_data"
    }
   ],
   "source": [
    "ypred = MLR_model.fittedvalues\n",
    "res = MLR_model.resid\n",
    "plt.figure(figsize = (10,7))\n",
    "plt.scatter(x = ypred,y = res)\n",
    "plt.title('scatter plot for fitted values and residuals',fontsize = 15)\n",
    "plt.show()"
   ]
  },
  {
   "cell_type": "markdown",
   "metadata": {
    "collapsed": true
   },
   "source": [
    "<table align=\"left\">\n",
    "    <tr>\n",
    "        <td width=\"6%\">\n",
    "            <img src=\"question_icon.png\">\n",
    "        </td>\n",
    "        <td>\n",
    "            <div align=\"left\", style=\"font-size:120%\">\n",
    "                <font color=\"#21618C\">\n",
    "                    <b>6. Build a model to study the impact of immunization on life expectancy, using least squares regression. Find the unexplained variation for the model\n",
    "</b>\n",
    "                </font>\n",
    "            </div>\n",
    "        </td>\n",
    "    </tr>\n",
    "</table>"
   ]
  },
  {
   "cell_type": "code",
   "execution_count": 112,
   "metadata": {},
   "outputs": [
    {
     "data": {
      "text/plain": [
       "Index(['Status', 'Adult_Mortality', 'Hepatitis B', 'Measles ', 'BMI',\n",
       "       'Underfive_Deaths ', 'Polio', 'Diphtheria ', 'HIV', 'GDP', 'Population',\n",
       "       'Malnourished10_19', 'Malnourished5_9', 'Income_Index', 'Schooling',\n",
       "       'Life_Expectancy'],\n",
       "      dtype='object')"
      ]
     },
     "execution_count": 112,
     "metadata": {},
     "output_type": "execute_result"
    }
   ],
   "source": [
    "# type your code here\n",
    "df.columns"
   ]
  },
  {
   "cell_type": "code",
   "execution_count": 113,
   "metadata": {},
   "outputs": [],
   "source": [
    "x = df.iloc[:,[2,6,7]]\n",
    "y = df['Life_Expectancy']\n",
    "x = sm.add_constant(x)\n",
    "xtrain,xtest,ytrain,ytest = train_test_split(x,y,random_state = 10,test_size = 0.2)\n",
    "model = sm.OLS(ytrain,xtrain).fit()"
   ]
  },
  {
   "cell_type": "code",
   "execution_count": 114,
   "metadata": {},
   "outputs": [
    {
     "data": {
      "text/plain": [
       "1248.758274755534"
      ]
     },
     "execution_count": 114,
     "metadata": {},
     "output_type": "execute_result"
    }
   ],
   "source": [
    "ypred = model.predict(xtest)\n",
    "SSE = np.sum((ytest - ypred)**2)\n",
    "SSE"
   ]
  },
  {
   "cell_type": "markdown",
   "metadata": {
    "collapsed": true
   },
   "source": [
    "<table align=\"left\">\n",
    "    <tr>\n",
    "        <td width=\"6%\">\n",
    "            <img src=\"question_icon.png\">\n",
    "        </td>\n",
    "        <td>\n",
    "            <div align=\"left\", style=\"font-size:120%\">\n",
    "                <font color=\"#21618C\">\n",
    "                    <b>7. Build a model to study the impact of malnutrition on life expectancy, using least squares regression. Interpret the coeffients</b>\n",
    "                </font>\n",
    "            </div>\n",
    "        </td>\n",
    "    </tr>\n",
    "</table>"
   ]
  },
  {
   "cell_type": "code",
   "execution_count": 115,
   "metadata": {},
   "outputs": [],
   "source": [
    "# type your code here\n",
    "x = df.iloc[:,[11,12]]\n",
    "y = df['Life_Expectancy']\n",
    "x = sm.add_constant(x)\n",
    "xtrain,xtest,ytrain,ytest = train_test_split(x,y,random_state = 10,test_size = 0.3)\n",
    "model1 = sm.OLS(ytrain,xtrain).fit()"
   ]
  },
  {
   "cell_type": "code",
   "execution_count": 116,
   "metadata": {},
   "outputs": [
    {
     "data": {
      "text/html": [
       "<table class=\"simpletable\">\n",
       "<caption>OLS Regression Results</caption>\n",
       "<tr>\n",
       "  <th>Dep. Variable:</th>     <td>Life_Expectancy</td> <th>  R-squared:         </th> <td>   0.326</td>\n",
       "</tr>\n",
       "<tr>\n",
       "  <th>Model:</th>                   <td>OLS</td>       <th>  Adj. R-squared:    </th> <td>   0.311</td>\n",
       "</tr>\n",
       "<tr>\n",
       "  <th>Method:</th>             <td>Least Squares</td>  <th>  F-statistic:       </th> <td>   21.65</td>\n",
       "</tr>\n",
       "<tr>\n",
       "  <th>Date:</th>             <td>Mon, 23 Aug 2021</td> <th>  Prob (F-statistic):</th> <td>1.71e-11</td>\n",
       "</tr>\n",
       "<tr>\n",
       "  <th>Time:</th>                 <td>09:29:35</td>     <th>  Log-Likelihood:    </th> <td> -456.40</td>\n",
       "</tr>\n",
       "<tr>\n",
       "  <th>No. Observations:</th>      <td>   138</td>      <th>  AIC:               </th> <td>   920.8</td>\n",
       "</tr>\n",
       "<tr>\n",
       "  <th>Df Residuals:</th>          <td>   134</td>      <th>  BIC:               </th> <td>   932.5</td>\n",
       "</tr>\n",
       "<tr>\n",
       "  <th>Df Model:</th>              <td>     3</td>      <th>                     </th>     <td> </td>   \n",
       "</tr>\n",
       "<tr>\n",
       "  <th>Covariance Type:</th>      <td>nonrobust</td>    <th>                     </th>     <td> </td>   \n",
       "</tr>\n",
       "</table>\n",
       "<table class=\"simpletable\">\n",
       "<tr>\n",
       "       <td></td>          <th>coef</th>     <th>std err</th>      <th>t</th>      <th>P>|t|</th>  <th>[0.025</th>    <th>0.975]</th>  \n",
       "</tr>\n",
       "<tr>\n",
       "  <th>const</th>       <td>   53.7379</td> <td>    2.442</td> <td>   22.004</td> <td> 0.000</td> <td>   48.908</td> <td>   58.568</td>\n",
       "</tr>\n",
       "<tr>\n",
       "  <th>Hepatitis B</th> <td>   -0.0522</td> <td>    0.053</td> <td>   -0.983</td> <td> 0.327</td> <td>   -0.157</td> <td>    0.053</td>\n",
       "</tr>\n",
       "<tr>\n",
       "  <th>Polio</th>       <td>    0.1106</td> <td>    0.030</td> <td>    3.693</td> <td> 0.000</td> <td>    0.051</td> <td>    0.170</td>\n",
       "</tr>\n",
       "<tr>\n",
       "  <th>Diphtheria </th> <td>    0.1574</td> <td>    0.063</td> <td>    2.509</td> <td> 0.013</td> <td>    0.033</td> <td>    0.281</td>\n",
       "</tr>\n",
       "</table>\n",
       "<table class=\"simpletable\">\n",
       "<tr>\n",
       "  <th>Omnibus:</th>       <td> 5.065</td> <th>  Durbin-Watson:     </th> <td>   1.868</td>\n",
       "</tr>\n",
       "<tr>\n",
       "  <th>Prob(Omnibus):</th> <td> 0.079</td> <th>  Jarque-Bera (JB):  </th> <td>   5.099</td>\n",
       "</tr>\n",
       "<tr>\n",
       "  <th>Skew:</th>          <td>-0.467</td> <th>  Prob(JB):          </th> <td>  0.0781</td>\n",
       "</tr>\n",
       "<tr>\n",
       "  <th>Kurtosis:</th>      <td> 2.880</td> <th>  Cond. No.          </th> <td>    641.</td>\n",
       "</tr>\n",
       "</table><br/><br/>Notes:<br/>[1] Standard Errors assume that the covariance matrix of the errors is correctly specified."
      ],
      "text/plain": [
       "<class 'statsmodels.iolib.summary.Summary'>\n",
       "\"\"\"\n",
       "                            OLS Regression Results                            \n",
       "==============================================================================\n",
       "Dep. Variable:        Life_Expectancy   R-squared:                       0.326\n",
       "Model:                            OLS   Adj. R-squared:                  0.311\n",
       "Method:                 Least Squares   F-statistic:                     21.65\n",
       "Date:                Mon, 23 Aug 2021   Prob (F-statistic):           1.71e-11\n",
       "Time:                        09:29:35   Log-Likelihood:                -456.40\n",
       "No. Observations:                 138   AIC:                             920.8\n",
       "Df Residuals:                     134   BIC:                             932.5\n",
       "Df Model:                           3                                         \n",
       "Covariance Type:            nonrobust                                         \n",
       "===============================================================================\n",
       "                  coef    std err          t      P>|t|      [0.025      0.975]\n",
       "-------------------------------------------------------------------------------\n",
       "const          53.7379      2.442     22.004      0.000      48.908      58.568\n",
       "Hepatitis B    -0.0522      0.053     -0.983      0.327      -0.157       0.053\n",
       "Polio           0.1106      0.030      3.693      0.000       0.051       0.170\n",
       "Diphtheria      0.1574      0.063      2.509      0.013       0.033       0.281\n",
       "==============================================================================\n",
       "Omnibus:                        5.065   Durbin-Watson:                   1.868\n",
       "Prob(Omnibus):                  0.079   Jarque-Bera (JB):                5.099\n",
       "Skew:                          -0.467   Prob(JB):                       0.0781\n",
       "Kurtosis:                       2.880   Cond. No.                         641.\n",
       "==============================================================================\n",
       "\n",
       "Notes:\n",
       "[1] Standard Errors assume that the covariance matrix of the errors is correctly specified.\n",
       "\"\"\""
      ]
     },
     "execution_count": 116,
     "metadata": {},
     "output_type": "execute_result"
    }
   ],
   "source": [
    "model.summary()"
   ]
  },
  {
   "cell_type": "markdown",
   "metadata": {},
   "source": [
    "<a id=\"gd\"> </a>\n",
    "## 3. Gradient Descent"
   ]
  },
  {
   "cell_type": "markdown",
   "metadata": {
    "collapsed": true
   },
   "source": [
    "<table align=\"left\">\n",
    "    <tr>\n",
    "        <td width=\"6%\">\n",
    "            <img src=\"question_icon.png\">\n",
    "        </td>\n",
    "        <td>\n",
    "            <div align=\"left\", style=\"font-size:120%\">\n",
    "                <font color=\"#21618C\">\n",
    "                    <b>8. Build a model to study the influence of adult mortality rate on life expectancy using both the least squares regression and gradient descent approach. Are the fits for both the models different?</b>\n",
    "                </font>\n",
    "            </div>\n",
    "        </td>\n",
    "    </tr>\n",
    "</table>"
   ]
  },
  {
   "cell_type": "code",
   "execution_count": 132,
   "metadata": {},
   "outputs": [],
   "source": [
    "# type your code here\n",
    "x = df.Adult_Mortality\n",
    "y = df.Life_Expectancy\n",
    "x = sm.add_constant(x)\n",
    "xtrain,xtest,ytrain,ytest = train_test_split(x,y,test_size = 0.3,random_state = 0)\n",
    "from sklearn.linear_model import LinearRegression,SGDRegressor,Ridge,Lasso\n",
    "lr = LinearRegression()\n",
    "model1 = lr.fit(xtrain,ytrain)\n",
    "lrypred = model1.predict(xtest)"
   ]
  },
  {
   "cell_type": "code",
   "execution_count": 133,
   "metadata": {},
   "outputs": [],
   "source": [
    "xtrain,xtest,ytrain,ytest = train_test_split(x,y,test_size = 0.3,random_state = 0)\n",
    "\n",
    "sgd = SGDRegressor()\n",
    "model2 = sgd.fit(xtrain,ytrain)\n",
    "sgdypred = model2.predict(xtest)"
   ]
  },
  {
   "cell_type": "code",
   "execution_count": 131,
   "metadata": {},
   "outputs": [
    {
     "data": {
      "text/plain": [
       "((121, 2), (121,))"
      ]
     },
     "execution_count": 131,
     "metadata": {},
     "output_type": "execute_result"
    }
   ],
   "source": [
    "xtrain.shape,ytrain.shape"
   ]
  },
  {
   "cell_type": "code",
   "execution_count": 134,
   "metadata": {},
   "outputs": [
    {
     "ename": "ValueError",
     "evalue": "x and y must be the same size",
     "output_type": "error",
     "traceback": [
      "\u001b[1;31m---------------------------------------------------------------------------\u001b[0m",
      "\u001b[1;31mValueError\u001b[0m                                Traceback (most recent call last)",
      "\u001b[1;32m<ipython-input-134-fb540ec67ed8>\u001b[0m in \u001b[0;36m<module>\u001b[1;34m\u001b[0m\n\u001b[1;32m----> 1\u001b[1;33m \u001b[0mplt\u001b[0m\u001b[1;33m.\u001b[0m\u001b[0mscatter\u001b[0m\u001b[1;33m(\u001b[0m\u001b[0mxtrain\u001b[0m\u001b[1;33m,\u001b[0m\u001b[0mytrain\u001b[0m\u001b[1;33m,\u001b[0m\u001b[0mcolor\u001b[0m \u001b[1;33m=\u001b[0m \u001b[1;34m'grey'\u001b[0m\u001b[1;33m)\u001b[0m\u001b[1;33m\u001b[0m\u001b[1;33m\u001b[0m\u001b[0m\n\u001b[0m\u001b[0;32m      2\u001b[0m \u001b[0mplt\u001b[0m\u001b[1;33m.\u001b[0m\u001b[0mplot\u001b[0m\u001b[1;33m(\u001b[0m\u001b[0mxtrain\u001b[0m\u001b[1;33m,\u001b[0m\u001b[0msgdypred\u001b[0m\u001b[1;33m,\u001b[0m\u001b[0mcolor\u001b[0m \u001b[1;33m=\u001b[0m \u001b[1;34m'red'\u001b[0m\u001b[1;33m,\u001b[0m\u001b[0mlabel\u001b[0m \u001b[1;33m=\u001b[0m \u001b[1;34m'SGD regressor'\u001b[0m\u001b[1;33m)\u001b[0m\u001b[1;33m\u001b[0m\u001b[1;33m\u001b[0m\u001b[0m\n\u001b[0;32m      3\u001b[0m \u001b[0mplt\u001b[0m\u001b[1;33m.\u001b[0m\u001b[0mplot\u001b[0m\u001b[1;33m(\u001b[0m\u001b[0mxtrain\u001b[0m\u001b[1;33m,\u001b[0m\u001b[0mlrypred\u001b[0m\u001b[1;33m,\u001b[0m\u001b[0mcolor\u001b[0m \u001b[1;33m=\u001b[0m \u001b[1;34m'blue'\u001b[0m\u001b[1;33m,\u001b[0m\u001b[0mlabel\u001b[0m \u001b[1;33m=\u001b[0m \u001b[1;34m'LR regressor'\u001b[0m\u001b[1;33m)\u001b[0m\u001b[1;33m\u001b[0m\u001b[1;33m\u001b[0m\u001b[0m\n\u001b[0;32m      4\u001b[0m \u001b[0mplt\u001b[0m\u001b[1;33m.\u001b[0m\u001b[0mshow\u001b[0m\u001b[1;33m(\u001b[0m\u001b[1;33m)\u001b[0m\u001b[1;33m\u001b[0m\u001b[1;33m\u001b[0m\u001b[0m\n",
      "\u001b[1;32m~\\anaconda3\\lib\\site-packages\\matplotlib\\pyplot.py\u001b[0m in \u001b[0;36mscatter\u001b[1;34m(x, y, s, c, marker, cmap, norm, vmin, vmax, alpha, linewidths, verts, edgecolors, plotnonfinite, data, **kwargs)\u001b[0m\n\u001b[0;32m   2888\u001b[0m         \u001b[0mverts\u001b[0m\u001b[1;33m=\u001b[0m\u001b[0mcbook\u001b[0m\u001b[1;33m.\u001b[0m\u001b[0mdeprecation\u001b[0m\u001b[1;33m.\u001b[0m\u001b[0m_deprecated_parameter\u001b[0m\u001b[1;33m,\u001b[0m\u001b[1;33m\u001b[0m\u001b[1;33m\u001b[0m\u001b[0m\n\u001b[0;32m   2889\u001b[0m         edgecolors=None, *, plotnonfinite=False, data=None, **kwargs):\n\u001b[1;32m-> 2890\u001b[1;33m     __ret = gca().scatter(\n\u001b[0m\u001b[0;32m   2891\u001b[0m         \u001b[0mx\u001b[0m\u001b[1;33m,\u001b[0m \u001b[0my\u001b[0m\u001b[1;33m,\u001b[0m \u001b[0ms\u001b[0m\u001b[1;33m=\u001b[0m\u001b[0ms\u001b[0m\u001b[1;33m,\u001b[0m \u001b[0mc\u001b[0m\u001b[1;33m=\u001b[0m\u001b[0mc\u001b[0m\u001b[1;33m,\u001b[0m \u001b[0mmarker\u001b[0m\u001b[1;33m=\u001b[0m\u001b[0mmarker\u001b[0m\u001b[1;33m,\u001b[0m \u001b[0mcmap\u001b[0m\u001b[1;33m=\u001b[0m\u001b[0mcmap\u001b[0m\u001b[1;33m,\u001b[0m \u001b[0mnorm\u001b[0m\u001b[1;33m=\u001b[0m\u001b[0mnorm\u001b[0m\u001b[1;33m,\u001b[0m\u001b[1;33m\u001b[0m\u001b[1;33m\u001b[0m\u001b[0m\n\u001b[0;32m   2892\u001b[0m         \u001b[0mvmin\u001b[0m\u001b[1;33m=\u001b[0m\u001b[0mvmin\u001b[0m\u001b[1;33m,\u001b[0m \u001b[0mvmax\u001b[0m\u001b[1;33m=\u001b[0m\u001b[0mvmax\u001b[0m\u001b[1;33m,\u001b[0m \u001b[0malpha\u001b[0m\u001b[1;33m=\u001b[0m\u001b[0malpha\u001b[0m\u001b[1;33m,\u001b[0m \u001b[0mlinewidths\u001b[0m\u001b[1;33m=\u001b[0m\u001b[0mlinewidths\u001b[0m\u001b[1;33m,\u001b[0m\u001b[1;33m\u001b[0m\u001b[1;33m\u001b[0m\u001b[0m\n",
      "\u001b[1;32m~\\anaconda3\\lib\\site-packages\\matplotlib\\__init__.py\u001b[0m in \u001b[0;36minner\u001b[1;34m(ax, data, *args, **kwargs)\u001b[0m\n\u001b[0;32m   1436\u001b[0m     \u001b[1;32mdef\u001b[0m \u001b[0minner\u001b[0m\u001b[1;33m(\u001b[0m\u001b[0max\u001b[0m\u001b[1;33m,\u001b[0m \u001b[1;33m*\u001b[0m\u001b[0margs\u001b[0m\u001b[1;33m,\u001b[0m \u001b[0mdata\u001b[0m\u001b[1;33m=\u001b[0m\u001b[1;32mNone\u001b[0m\u001b[1;33m,\u001b[0m \u001b[1;33m**\u001b[0m\u001b[0mkwargs\u001b[0m\u001b[1;33m)\u001b[0m\u001b[1;33m:\u001b[0m\u001b[1;33m\u001b[0m\u001b[1;33m\u001b[0m\u001b[0m\n\u001b[0;32m   1437\u001b[0m         \u001b[1;32mif\u001b[0m \u001b[0mdata\u001b[0m \u001b[1;32mis\u001b[0m \u001b[1;32mNone\u001b[0m\u001b[1;33m:\u001b[0m\u001b[1;33m\u001b[0m\u001b[1;33m\u001b[0m\u001b[0m\n\u001b[1;32m-> 1438\u001b[1;33m             \u001b[1;32mreturn\u001b[0m \u001b[0mfunc\u001b[0m\u001b[1;33m(\u001b[0m\u001b[0max\u001b[0m\u001b[1;33m,\u001b[0m \u001b[1;33m*\u001b[0m\u001b[0mmap\u001b[0m\u001b[1;33m(\u001b[0m\u001b[0msanitize_sequence\u001b[0m\u001b[1;33m,\u001b[0m \u001b[0margs\u001b[0m\u001b[1;33m)\u001b[0m\u001b[1;33m,\u001b[0m \u001b[1;33m**\u001b[0m\u001b[0mkwargs\u001b[0m\u001b[1;33m)\u001b[0m\u001b[1;33m\u001b[0m\u001b[1;33m\u001b[0m\u001b[0m\n\u001b[0m\u001b[0;32m   1439\u001b[0m \u001b[1;33m\u001b[0m\u001b[0m\n\u001b[0;32m   1440\u001b[0m         \u001b[0mbound\u001b[0m \u001b[1;33m=\u001b[0m \u001b[0mnew_sig\u001b[0m\u001b[1;33m.\u001b[0m\u001b[0mbind\u001b[0m\u001b[1;33m(\u001b[0m\u001b[0max\u001b[0m\u001b[1;33m,\u001b[0m \u001b[1;33m*\u001b[0m\u001b[0margs\u001b[0m\u001b[1;33m,\u001b[0m \u001b[1;33m**\u001b[0m\u001b[0mkwargs\u001b[0m\u001b[1;33m)\u001b[0m\u001b[1;33m\u001b[0m\u001b[1;33m\u001b[0m\u001b[0m\n",
      "\u001b[1;32m~\\anaconda3\\lib\\site-packages\\matplotlib\\cbook\\deprecation.py\u001b[0m in \u001b[0;36mwrapper\u001b[1;34m(*inner_args, **inner_kwargs)\u001b[0m\n\u001b[0;32m    409\u001b[0m                          \u001b[1;32melse\u001b[0m \u001b[0mdeprecation_addendum\u001b[0m\u001b[1;33m,\u001b[0m\u001b[1;33m\u001b[0m\u001b[1;33m\u001b[0m\u001b[0m\n\u001b[0;32m    410\u001b[0m                 **kwargs)\n\u001b[1;32m--> 411\u001b[1;33m         \u001b[1;32mreturn\u001b[0m \u001b[0mfunc\u001b[0m\u001b[1;33m(\u001b[0m\u001b[1;33m*\u001b[0m\u001b[0minner_args\u001b[0m\u001b[1;33m,\u001b[0m \u001b[1;33m**\u001b[0m\u001b[0minner_kwargs\u001b[0m\u001b[1;33m)\u001b[0m\u001b[1;33m\u001b[0m\u001b[1;33m\u001b[0m\u001b[0m\n\u001b[0m\u001b[0;32m    412\u001b[0m \u001b[1;33m\u001b[0m\u001b[0m\n\u001b[0;32m    413\u001b[0m     \u001b[1;32mreturn\u001b[0m \u001b[0mwrapper\u001b[0m\u001b[1;33m\u001b[0m\u001b[1;33m\u001b[0m\u001b[0m\n",
      "\u001b[1;32m~\\anaconda3\\lib\\site-packages\\matplotlib\\axes\\_axes.py\u001b[0m in \u001b[0;36mscatter\u001b[1;34m(self, x, y, s, c, marker, cmap, norm, vmin, vmax, alpha, linewidths, verts, edgecolors, plotnonfinite, **kwargs)\u001b[0m\n\u001b[0;32m   4439\u001b[0m         \u001b[0my\u001b[0m \u001b[1;33m=\u001b[0m \u001b[0mnp\u001b[0m\u001b[1;33m.\u001b[0m\u001b[0mma\u001b[0m\u001b[1;33m.\u001b[0m\u001b[0mravel\u001b[0m\u001b[1;33m(\u001b[0m\u001b[0my\u001b[0m\u001b[1;33m)\u001b[0m\u001b[1;33m\u001b[0m\u001b[1;33m\u001b[0m\u001b[0m\n\u001b[0;32m   4440\u001b[0m         \u001b[1;32mif\u001b[0m \u001b[0mx\u001b[0m\u001b[1;33m.\u001b[0m\u001b[0msize\u001b[0m \u001b[1;33m!=\u001b[0m \u001b[0my\u001b[0m\u001b[1;33m.\u001b[0m\u001b[0msize\u001b[0m\u001b[1;33m:\u001b[0m\u001b[1;33m\u001b[0m\u001b[1;33m\u001b[0m\u001b[0m\n\u001b[1;32m-> 4441\u001b[1;33m             \u001b[1;32mraise\u001b[0m \u001b[0mValueError\u001b[0m\u001b[1;33m(\u001b[0m\u001b[1;34m\"x and y must be the same size\"\u001b[0m\u001b[1;33m)\u001b[0m\u001b[1;33m\u001b[0m\u001b[1;33m\u001b[0m\u001b[0m\n\u001b[0m\u001b[0;32m   4442\u001b[0m \u001b[1;33m\u001b[0m\u001b[0m\n\u001b[0;32m   4443\u001b[0m         \u001b[1;32mif\u001b[0m \u001b[0ms\u001b[0m \u001b[1;32mis\u001b[0m \u001b[1;32mNone\u001b[0m\u001b[1;33m:\u001b[0m\u001b[1;33m\u001b[0m\u001b[1;33m\u001b[0m\u001b[0m\n",
      "\u001b[1;31mValueError\u001b[0m: x and y must be the same size"
     ]
    },
    {
     "data": {
      "image/png": "[encoded data removed]",
      "text/plain": [
       "<Figure size 432x288 with 1 Axes>"
      ]
     },
     "metadata": {
      "needs_background": "light"
     },
     "output_type": "display_data"
    }
   ],
   "source": [
    "plt.scatter(xtrain,ytrain,color = 'grey')\n",
    "plt.plot(xtrain,sgdypred,color = 'red',label = 'SGD regressor')\n",
    "plt.plot(xtrain,lrypred,color = 'blue',label = 'LR regressor')\n",
    "plt.show()"
   ]
  },
  {
   "cell_type": "markdown",
   "metadata": {
    "collapsed": true
   },
   "source": [
    "<table align=\"left\">\n",
    "    <tr>\n",
    "        <td width=\"6%\">\n",
    "            <img src=\"question_icon.png\">\n",
    "        </td>\n",
    "        <td>\n",
    "            <div align=\"left\", style=\"font-size:120%\">\n",
    "                <font color=\"#21618C\">\n",
    "                    <b>9. Build a model to analyze the influence of immunization on life expectancy. Use SGD and plot a horizontal multiple barchart to compare the values of beta coefficients with values obtained by the full model build least squares regression.</b>\n",
    "                </font>\n",
    "            </div>\n",
    "        </td>\n",
    "    </tr>\n",
    "</table>"
   ]
  },
  {
   "cell_type": "code",
   "execution_count": 147,
   "metadata": {},
   "outputs": [],
   "source": [
    "# type your code here\n",
    "x = df.iloc[:,[2,6,7]]\n",
    "y = df.Life_Expectancy\n",
    "#x = sm.add_constant(x)\n",
    "xtrain,xtest,ytrain,ytest = train_test_split(x,y,test_size = 0.3,random_state = 0)\n",
    "#from sklearn.linear_model import LinearRegression,SGDRegressor,Ridge,Lasso\n",
    "lr = LinearRegression()\n",
    "model1 = lr.fit(xtrain,ytrain)\n",
    "lrypred = model1.predict(xtest)"
   ]
  },
  {
   "cell_type": "code",
   "execution_count": 148,
   "metadata": {},
   "outputs": [],
   "source": [
    "sgd = SGDRegressor(random_state = 1)\n",
    "model2 = sgd.fit(xtrain,ytrain)\n",
    "sgdypred = model2.predict(xtest)"
   ]
  },
  {
   "cell_type": "code",
   "execution_count": 149,
   "metadata": {},
   "outputs": [
    {
     "data": {
      "text/plain": [
       "array([-0.02860623,  0.12218467,  0.12136721])"
      ]
     },
     "execution_count": 149,
     "metadata": {},
     "output_type": "execute_result"
    }
   ],
   "source": [
    "model1.coef_"
   ]
  },
  {
   "cell_type": "code",
   "execution_count": 150,
   "metadata": {},
   "outputs": [
    {
     "data": {
      "text/plain": [
       "array([-3.63370445e+10, -4.19287351e+10, -1.06631918e+10])"
      ]
     },
     "execution_count": 150,
     "metadata": {},
     "output_type": "execute_result"
    }
   ],
   "source": [
    "model2.coef_"
   ]
  },
  {
   "cell_type": "markdown",
   "metadata": {
    "collapsed": true
   },
   "source": [
    "<table align=\"left\">\n",
    "    <tr>\n",
    "        <td width=\"6%\">\n",
    "            <img src=\"question_icon.png\">\n",
    "        </td>\n",
    "        <td>\n",
    "            <div align=\"left\", style=\"font-size:120%\">\n",
    "                <font color=\"#21618C\">\n",
    "                    <b>10. Build a full model using least squares regression. Check whether the model overfits the training data or not.\n",
    "</b>\n",
    "                </font>\n",
    "            </div>\n",
    "        </td>\n",
    "    </tr>\n",
    "</table>"
   ]
  },
  {
   "cell_type": "code",
   "execution_count": 158,
   "metadata": {
    "scrolled": true
   },
   "outputs": [
    {
     "data": {
      "text/html": [
       "<table class=\"simpletable\">\n",
       "<caption>OLS Regression Results</caption>\n",
       "<tr>\n",
       "  <th>Dep. Variable:</th>     <td>Life_Expectancy</td> <th>  R-squared:         </th> <td>   0.875</td>\n",
       "</tr>\n",
       "<tr>\n",
       "  <th>Model:</th>                   <td>OLS</td>       <th>  Adj. R-squared:    </th> <td>   0.857</td>\n",
       "</tr>\n",
       "<tr>\n",
       "  <th>Method:</th>             <td>Least Squares</td>  <th>  F-statistic:       </th> <td>   48.84</td>\n",
       "</tr>\n",
       "<tr>\n",
       "  <th>Date:</th>             <td>Mon, 23 Aug 2021</td> <th>  Prob (F-statistic):</th> <td>2.43e-40</td>\n",
       "</tr>\n",
       "<tr>\n",
       "  <th>Time:</th>                 <td>09:56:56</td>     <th>  Log-Likelihood:    </th> <td> -298.23</td>\n",
       "</tr>\n",
       "<tr>\n",
       "  <th>No. Observations:</th>      <td>   121</td>      <th>  AIC:               </th> <td>   628.5</td>\n",
       "</tr>\n",
       "<tr>\n",
       "  <th>Df Residuals:</th>          <td>   105</td>      <th>  BIC:               </th> <td>   673.2</td>\n",
       "</tr>\n",
       "<tr>\n",
       "  <th>Df Model:</th>              <td>    15</td>      <th>                     </th>     <td> </td>   \n",
       "</tr>\n",
       "<tr>\n",
       "  <th>Covariance Type:</th>      <td>nonrobust</td>    <th>                     </th>     <td> </td>   \n",
       "</tr>\n",
       "</table>\n",
       "<table class=\"simpletable\">\n",
       "<tr>\n",
       "          <td></td>             <th>coef</th>     <th>std err</th>      <th>t</th>      <th>P>|t|</th>  <th>[0.025</th>    <th>0.975]</th>  \n",
       "</tr>\n",
       "<tr>\n",
       "  <th>const</th>             <td>   52.4293</td> <td>    2.809</td> <td>   18.667</td> <td> 0.000</td> <td>   46.860</td> <td>   57.998</td>\n",
       "</tr>\n",
       "<tr>\n",
       "  <th>Status</th>            <td>   -0.6353</td> <td>    0.950</td> <td>   -0.669</td> <td> 0.505</td> <td>   -2.519</td> <td>    1.248</td>\n",
       "</tr>\n",
       "<tr>\n",
       "  <th>Adult_Mortality</th>   <td>   -0.0235</td> <td>    0.004</td> <td>   -5.689</td> <td> 0.000</td> <td>   -0.032</td> <td>   -0.015</td>\n",
       "</tr>\n",
       "<tr>\n",
       "  <th>Hepatitis B</th>       <td>    0.0684</td> <td>    0.034</td> <td>    2.001</td> <td> 0.048</td> <td>    0.001</td> <td>    0.136</td>\n",
       "</tr>\n",
       "<tr>\n",
       "  <th>Measles </th>          <td> 3.632e-06</td> <td> 5.04e-05</td> <td>    0.072</td> <td> 0.943</td> <td>-9.63e-05</td> <td>    0.000</td>\n",
       "</tr>\n",
       "<tr>\n",
       "  <th>BMI</th>               <td>   -0.0046</td> <td>    0.018</td> <td>   -0.246</td> <td> 0.806</td> <td>   -0.041</td> <td>    0.032</td>\n",
       "</tr>\n",
       "<tr>\n",
       "  <th>Underfive_Deaths </th> <td>    0.0006</td> <td>    0.005</td> <td>    0.134</td> <td> 0.894</td> <td>   -0.009</td> <td>    0.010</td>\n",
       "</tr>\n",
       "<tr>\n",
       "  <th>Polio</th>             <td>    0.0147</td> <td>    0.015</td> <td>    0.963</td> <td> 0.338</td> <td>   -0.016</td> <td>    0.045</td>\n",
       "</tr>\n",
       "<tr>\n",
       "  <th>Diphtheria </th>       <td>   -0.0233</td> <td>    0.037</td> <td>   -0.633</td> <td> 0.528</td> <td>   -0.096</td> <td>    0.050</td>\n",
       "</tr>\n",
       "<tr>\n",
       "  <th>HIV</th>               <td>   -0.4564</td> <td>    0.258</td> <td>   -1.766</td> <td> 0.080</td> <td>   -0.969</td> <td>    0.056</td>\n",
       "</tr>\n",
       "<tr>\n",
       "  <th>GDP</th>               <td>-1.454e-05</td> <td> 4.32e-05</td> <td>   -0.336</td> <td> 0.737</td> <td>   -0.000</td> <td> 7.12e-05</td>\n",
       "</tr>\n",
       "<tr>\n",
       "  <th>Population</th>        <td>-6.373e-09</td> <td> 1.11e-08</td> <td>   -0.573</td> <td> 0.568</td> <td>-2.84e-08</td> <td> 1.57e-08</td>\n",
       "</tr>\n",
       "<tr>\n",
       "  <th>Malnourished10_19</th> <td>   -0.2316</td> <td>    0.265</td> <td>   -0.873</td> <td> 0.384</td> <td>   -0.758</td> <td>    0.294</td>\n",
       "</tr>\n",
       "<tr>\n",
       "  <th>Malnourished5_9</th>   <td>    0.0657</td> <td>    0.259</td> <td>    0.253</td> <td> 0.801</td> <td>   -0.449</td> <td>    0.580</td>\n",
       "</tr>\n",
       "<tr>\n",
       "  <th>Income_Index</th>      <td>   32.0118</td> <td>    6.396</td> <td>    5.005</td> <td> 0.000</td> <td>   19.329</td> <td>   44.695</td>\n",
       "</tr>\n",
       "<tr>\n",
       "  <th>Schooling</th>         <td>   -0.1868</td> <td>    0.305</td> <td>   -0.612</td> <td> 0.542</td> <td>   -0.792</td> <td>    0.419</td>\n",
       "</tr>\n",
       "</table>\n",
       "<table class=\"simpletable\">\n",
       "<tr>\n",
       "  <th>Omnibus:</th>       <td> 9.031</td> <th>  Durbin-Watson:     </th> <td>   1.904</td>\n",
       "</tr>\n",
       "<tr>\n",
       "  <th>Prob(Omnibus):</th> <td> 0.011</td> <th>  Jarque-Bera (JB):  </th> <td>  12.938</td>\n",
       "</tr>\n",
       "<tr>\n",
       "  <th>Skew:</th>          <td>-0.365</td> <th>  Prob(JB):          </th> <td> 0.00155</td>\n",
       "</tr>\n",
       "<tr>\n",
       "  <th>Kurtosis:</th>      <td> 4.426</td> <th>  Cond. No.          </th> <td>7.41e+08</td>\n",
       "</tr>\n",
       "</table><br/><br/>Notes:<br/>[1] Standard Errors assume that the covariance matrix of the errors is correctly specified.<br/>[2] The condition number is large, 7.41e+08. This might indicate that there are<br/>strong multicollinearity or other numerical problems."
      ],
      "text/plain": [
       "<class 'statsmodels.iolib.summary.Summary'>\n",
       "\"\"\"\n",
       "                            OLS Regression Results                            \n",
       "==============================================================================\n",
       "Dep. Variable:        Life_Expectancy   R-squared:                       0.875\n",
       "Model:                            OLS   Adj. R-squared:                  0.857\n",
       "Method:                 Least Squares   F-statistic:                     48.84\n",
       "Date:                Mon, 23 Aug 2021   Prob (F-statistic):           2.43e-40\n",
       "Time:                        09:56:56   Log-Likelihood:                -298.23\n",
       "No. Observations:                 121   AIC:                             628.5\n",
       "Df Residuals:                     105   BIC:                             673.2\n",
       "Df Model:                          15                                         \n",
       "Covariance Type:            nonrobust                                         \n",
       "=====================================================================================\n",
       "                        coef    std err          t      P>|t|      [0.025      0.975]\n",
       "-------------------------------------------------------------------------------------\n",
       "const                52.4293      2.809     18.667      0.000      46.860      57.998\n",
       "Status               -0.6353      0.950     -0.669      0.505      -2.519       1.248\n",
       "Adult_Mortality      -0.0235      0.004     -5.689      0.000      -0.032      -0.015\n",
       "Hepatitis B           0.0684      0.034      2.001      0.048       0.001       0.136\n",
       "Measles            3.632e-06   5.04e-05      0.072      0.943   -9.63e-05       0.000\n",
       "BMI                  -0.0046      0.018     -0.246      0.806      -0.041       0.032\n",
       "Underfive_Deaths      0.0006      0.005      0.134      0.894      -0.009       0.010\n",
       "Polio                 0.0147      0.015      0.963      0.338      -0.016       0.045\n",
       "Diphtheria           -0.0233      0.037     -0.633      0.528      -0.096       0.050\n",
       "HIV                  -0.4564      0.258     -1.766      0.080      -0.969       0.056\n",
       "GDP               -1.454e-05   4.32e-05     -0.336      0.737      -0.000    7.12e-05\n",
       "Population        -6.373e-09   1.11e-08     -0.573      0.568   -2.84e-08    1.57e-08\n",
       "Malnourished10_19    -0.2316      0.265     -0.873      0.384      -0.758       0.294\n",
       "Malnourished5_9       0.0657      0.259      0.253      0.801      -0.449       0.580\n",
       "Income_Index         32.0118      6.396      5.005      0.000      19.329      44.695\n",
       "Schooling            -0.1868      0.305     -0.612      0.542      -0.792       0.419\n",
       "==============================================================================\n",
       "Omnibus:                        9.031   Durbin-Watson:                   1.904\n",
       "Prob(Omnibus):                  0.011   Jarque-Bera (JB):               12.938\n",
       "Skew:                          -0.365   Prob(JB):                      0.00155\n",
       "Kurtosis:                       4.426   Cond. No.                     7.41e+08\n",
       "==============================================================================\n",
       "\n",
       "Notes:\n",
       "[1] Standard Errors assume that the covariance matrix of the errors is correctly specified.\n",
       "[2] The condition number is large, 7.41e+08. This might indicate that there are\n",
       "strong multicollinearity or other numerical problems.\n",
       "\"\"\""
      ]
     },
     "execution_count": 158,
     "metadata": {},
     "output_type": "execute_result"
    }
   ],
   "source": [
    "# type your code here\n",
    "x = df.drop('Life_Expectancy',axis = 1)\n",
    "y = df.Life_Expectancy\n",
    "x = sm.add_constant(x)\n",
    "xtrain,xtest,ytrain,ytest = train_test_split(x,y,test_size = 0.3,random_state = 0)\n",
    "#from sklearn.linear_model import LinearRegression,SGDRegressor,Ridge,Lasso\n",
    "model1 = sm.OLS(ytrain,xtrain).fit()\n",
    "model1.summary()"
   ]
  },
  {
   "cell_type": "code",
   "execution_count": 159,
   "metadata": {},
   "outputs": [
    {
     "data": {
      "text/html": [
       "<table class=\"simpletable\">\n",
       "<caption>OLS Regression Results</caption>\n",
       "<tr>\n",
       "  <th>Dep. Variable:</th>     <td>Life_Expectancy</td> <th>  R-squared:         </th> <td>   0.909</td>\n",
       "</tr>\n",
       "<tr>\n",
       "  <th>Model:</th>                   <td>OLS</td>       <th>  Adj. R-squared:    </th> <td>   0.871</td>\n",
       "</tr>\n",
       "<tr>\n",
       "  <th>Method:</th>             <td>Least Squares</td>  <th>  F-statistic:       </th> <td>   24.06</td>\n",
       "</tr>\n",
       "<tr>\n",
       "  <th>Date:</th>             <td>Mon, 23 Aug 2021</td> <th>  Prob (F-statistic):</th> <td>2.49e-14</td>\n",
       "</tr>\n",
       "<tr>\n",
       "  <th>Time:</th>                 <td>09:57:39</td>     <th>  Log-Likelihood:    </th> <td> -117.87</td>\n",
       "</tr>\n",
       "<tr>\n",
       "  <th>No. Observations:</th>      <td>    52</td>      <th>  AIC:               </th> <td>   267.7</td>\n",
       "</tr>\n",
       "<tr>\n",
       "  <th>Df Residuals:</th>          <td>    36</td>      <th>  BIC:               </th> <td>   299.0</td>\n",
       "</tr>\n",
       "<tr>\n",
       "  <th>Df Model:</th>              <td>    15</td>      <th>                     </th>     <td> </td>   \n",
       "</tr>\n",
       "<tr>\n",
       "  <th>Covariance Type:</th>      <td>nonrobust</td>    <th>                     </th>     <td> </td>   \n",
       "</tr>\n",
       "</table>\n",
       "<table class=\"simpletable\">\n",
       "<tr>\n",
       "          <td></td>             <th>coef</th>     <th>std err</th>      <th>t</th>      <th>P>|t|</th>  <th>[0.025</th>    <th>0.975]</th>  \n",
       "</tr>\n",
       "<tr>\n",
       "  <th>const</th>             <td>   57.8383</td> <td>    6.511</td> <td>    8.883</td> <td> 0.000</td> <td>   44.632</td> <td>   71.044</td>\n",
       "</tr>\n",
       "<tr>\n",
       "  <th>Status</th>            <td>   -1.4670</td> <td>    1.189</td> <td>   -1.233</td> <td> 0.225</td> <td>   -3.879</td> <td>    0.945</td>\n",
       "</tr>\n",
       "<tr>\n",
       "  <th>Adult_Mortality</th>   <td>   -0.0352</td> <td>    0.010</td> <td>   -3.465</td> <td> 0.001</td> <td>   -0.056</td> <td>   -0.015</td>\n",
       "</tr>\n",
       "<tr>\n",
       "  <th>Hepatitis B</th>       <td>    0.0170</td> <td>    0.038</td> <td>    0.450</td> <td> 0.655</td> <td>   -0.059</td> <td>    0.093</td>\n",
       "</tr>\n",
       "<tr>\n",
       "  <th>Measles </th>          <td>    0.0015</td> <td>    0.002</td> <td>    0.889</td> <td> 0.380</td> <td>   -0.002</td> <td>    0.005</td>\n",
       "</tr>\n",
       "<tr>\n",
       "  <th>BMI</th>               <td>   -0.0042</td> <td>    0.027</td> <td>   -0.155</td> <td> 0.878</td> <td>   -0.059</td> <td>    0.050</td>\n",
       "</tr>\n",
       "<tr>\n",
       "  <th>Underfive_Deaths </th> <td>   -0.0258</td> <td>    0.031</td> <td>   -0.829</td> <td> 0.413</td> <td>   -0.089</td> <td>    0.037</td>\n",
       "</tr>\n",
       "<tr>\n",
       "  <th>Polio</th>             <td>    0.0132</td> <td>    0.043</td> <td>    0.305</td> <td> 0.762</td> <td>   -0.075</td> <td>    0.101</td>\n",
       "</tr>\n",
       "<tr>\n",
       "  <th>Diphtheria </th>       <td>    0.0120</td> <td>    0.084</td> <td>    0.143</td> <td> 0.887</td> <td>   -0.158</td> <td>    0.182</td>\n",
       "</tr>\n",
       "<tr>\n",
       "  <th>HIV</th>               <td>   -0.4828</td> <td>    0.933</td> <td>   -0.517</td> <td> 0.608</td> <td>   -2.375</td> <td>    1.409</td>\n",
       "</tr>\n",
       "<tr>\n",
       "  <th>GDP</th>               <td>-2.981e-05</td> <td> 3.33e-05</td> <td>   -0.896</td> <td> 0.376</td> <td>-9.73e-05</td> <td> 3.77e-05</td>\n",
       "</tr>\n",
       "<tr>\n",
       "  <th>Population</th>        <td>-3.835e-08</td> <td> 4.14e-08</td> <td>   -0.926</td> <td> 0.360</td> <td>-1.22e-07</td> <td> 4.56e-08</td>\n",
       "</tr>\n",
       "<tr>\n",
       "  <th>Malnourished10_19</th> <td>   -0.1919</td> <td>    2.314</td> <td>   -0.083</td> <td> 0.934</td> <td>   -4.885</td> <td>    4.501</td>\n",
       "</tr>\n",
       "<tr>\n",
       "  <th>Malnourished5_9</th>   <td>    0.1603</td> <td>    2.274</td> <td>    0.071</td> <td> 0.944</td> <td>   -4.451</td> <td>    4.771</td>\n",
       "</tr>\n",
       "<tr>\n",
       "  <th>Income_Index</th>      <td>   24.3202</td> <td>    8.826</td> <td>    2.755</td> <td> 0.009</td> <td>    6.419</td> <td>   42.221</td>\n",
       "</tr>\n",
       "<tr>\n",
       "  <th>Schooling</th>         <td>    0.1515</td> <td>    0.310</td> <td>    0.488</td> <td> 0.628</td> <td>   -0.478</td> <td>    0.781</td>\n",
       "</tr>\n",
       "</table>\n",
       "<table class=\"simpletable\">\n",
       "<tr>\n",
       "  <th>Omnibus:</th>       <td> 1.182</td> <th>  Durbin-Watson:     </th> <td>   2.574</td>\n",
       "</tr>\n",
       "<tr>\n",
       "  <th>Prob(Omnibus):</th> <td> 0.554</td> <th>  Jarque-Bera (JB):  </th> <td>   0.661</td>\n",
       "</tr>\n",
       "<tr>\n",
       "  <th>Skew:</th>          <td> 0.264</td> <th>  Prob(JB):          </th> <td>   0.719</td>\n",
       "</tr>\n",
       "<tr>\n",
       "  <th>Kurtosis:</th>      <td> 3.164</td> <th>  Cond. No.          </th> <td>4.30e+08</td>\n",
       "</tr>\n",
       "</table><br/><br/>Notes:<br/>[1] Standard Errors assume that the covariance matrix of the errors is correctly specified.<br/>[2] The condition number is large, 4.3e+08. This might indicate that there are<br/>strong multicollinearity or other numerical problems."
      ],
      "text/plain": [
       "<class 'statsmodels.iolib.summary.Summary'>\n",
       "\"\"\"\n",
       "                            OLS Regression Results                            \n",
       "==============================================================================\n",
       "Dep. Variable:        Life_Expectancy   R-squared:                       0.909\n",
       "Model:                            OLS   Adj. R-squared:                  0.871\n",
       "Method:                 Least Squares   F-statistic:                     24.06\n",
       "Date:                Mon, 23 Aug 2021   Prob (F-statistic):           2.49e-14\n",
       "Time:                        09:57:39   Log-Likelihood:                -117.87\n",
       "No. Observations:                  52   AIC:                             267.7\n",
       "Df Residuals:                      36   BIC:                             299.0\n",
       "Df Model:                          15                                         \n",
       "Covariance Type:            nonrobust                                         \n",
       "=====================================================================================\n",
       "                        coef    std err          t      P>|t|      [0.025      0.975]\n",
       "-------------------------------------------------------------------------------------\n",
       "const                57.8383      6.511      8.883      0.000      44.632      71.044\n",
       "Status               -1.4670      1.189     -1.233      0.225      -3.879       0.945\n",
       "Adult_Mortality      -0.0352      0.010     -3.465      0.001      -0.056      -0.015\n",
       "Hepatitis B           0.0170      0.038      0.450      0.655      -0.059       0.093\n",
       "Measles               0.0015      0.002      0.889      0.380      -0.002       0.005\n",
       "BMI                  -0.0042      0.027     -0.155      0.878      -0.059       0.050\n",
       "Underfive_Deaths     -0.0258      0.031     -0.829      0.413      -0.089       0.037\n",
       "Polio                 0.0132      0.043      0.305      0.762      -0.075       0.101\n",
       "Diphtheria            0.0120      0.084      0.143      0.887      -0.158       0.182\n",
       "HIV                  -0.4828      0.933     -0.517      0.608      -2.375       1.409\n",
       "GDP               -2.981e-05   3.33e-05     -0.896      0.376   -9.73e-05    3.77e-05\n",
       "Population        -3.835e-08   4.14e-08     -0.926      0.360   -1.22e-07    4.56e-08\n",
       "Malnourished10_19    -0.1919      2.314     -0.083      0.934      -4.885       4.501\n",
       "Malnourished5_9       0.1603      2.274      0.071      0.944      -4.451       4.771\n",
       "Income_Index         24.3202      8.826      2.755      0.009       6.419      42.221\n",
       "Schooling             0.1515      0.310      0.488      0.628      -0.478       0.781\n",
       "==============================================================================\n",
       "Omnibus:                        1.182   Durbin-Watson:                   2.574\n",
       "Prob(Omnibus):                  0.554   Jarque-Bera (JB):                0.661\n",
       "Skew:                           0.264   Prob(JB):                        0.719\n",
       "Kurtosis:                       3.164   Cond. No.                     4.30e+08\n",
       "==============================================================================\n",
       "\n",
       "Notes:\n",
       "[1] Standard Errors assume that the covariance matrix of the errors is correctly specified.\n",
       "[2] The condition number is large, 4.3e+08. This might indicate that there are\n",
       "strong multicollinearity or other numerical problems.\n",
       "\"\"\""
      ]
     },
     "execution_count": 159,
     "metadata": {},
     "output_type": "execute_result"
    }
   ],
   "source": [
    "model2 = sm.OLS(ytest,xtest).fit()\n",
    "model2.summary()"
   ]
  },
  {
   "cell_type": "code",
   "execution_count": null,
   "metadata": {},
   "outputs": [],
   "source": [
    "# the model underfits the data"
   ]
  },
  {
   "cell_type": "markdown",
   "metadata": {
    "collapsed": true
   },
   "source": [
    "<table align=\"left\">\n",
    "    <tr>\n",
    "        <td width=\"6%\">\n",
    "            <img src=\"question_icon.png\">\n",
    "        </td>\n",
    "        <td>\n",
    "            <div align=\"left\", style=\"font-size:120%\">\n",
    "                <font color=\"#21618C\">\n",
    "                    <b>11. Can we use a linear regression model to analyze how all features from the dataset impact life expectancy?</b>\n",
    "                </font>\n",
    "            </div>\n",
    "        </td>\n",
    "    </tr>\n",
    "</table>"
   ]
  },
  {
   "cell_type": "code",
   "execution_count": 161,
   "metadata": {},
   "outputs": [
    {
     "data": {
      "text/plain": [
       "<AxesSubplot:>"
      ]
     },
     "execution_count": 161,
     "metadata": {},
     "output_type": "execute_result"
    },
    {
     "data": {
      "image/png": "[encoded data removed]",
      "text/plain": [
       "<Figure size 1296x720 with 2 Axes>"
      ]
     },
     "metadata": {
      "needs_background": "light"
     },
     "output_type": "display_data"
    }
   ],
   "source": [
    "# type your code here\n",
    "plt.figure(figsize = (18,10))\n",
    "sns.heatmap(df.corr(),annot = True,annot_kws = {'size':10})"
   ]
  },
  {
   "cell_type": "markdown",
   "metadata": {},
   "source": [
    "<a id=\"reg\"> </a>\n",
    "## 4. Regularization"
   ]
  },
  {
   "cell_type": "markdown",
   "metadata": {
    "collapsed": true
   },
   "source": [
    "<table align=\"left\">\n",
    "    <tr>\n",
    "        <td width=\"6%\">\n",
    "            <img src=\"question_icon.png\">\n",
    "        </td>\n",
    "        <td>\n",
    "            <div align=\"left\", style=\"font-size:120%\">\n",
    "                <font color=\"#21618C\">\n",
    "                    <b>12. Can we perform regression analysis without eliminating features involved in multicollinearity detected in question 11?</b>\n",
    "                </font>\n",
    "            </div>\n",
    "        </td>\n",
    "    </tr>\n",
    "</table>"
   ]
  },
  {
   "cell_type": "code",
   "execution_count": 165,
   "metadata": {
    "scrolled": false
   },
   "outputs": [
    {
     "name": "stdout",
     "output_type": "stream",
     "text": [
      "Root mean squared error (RMSE) on training set 3.0011\n",
      "Root mean squared error (RMSE) on test set 2.8637\n"
     ]
    },
    {
     "name": "stderr",
     "output_type": "stream",
     "text": [
      "C:\\Users\\lenovo\\anaconda3\\lib\\site-packages\\sklearn\\linear_model\\_ridge.py:147: LinAlgWarning: Ill-conditioned matrix (rcond=4.59984e-18): result may not be accurate.\n",
      "  return linalg.solve(A, Xy, sym_pos=True,\n"
     ]
    }
   ],
   "source": [
    "# type your code here\n",
    "from sklearn.metrics import  mean_squared_error\n",
    "ridge = Ridge(alpha = 0.5)\n",
    "ridge_model = ridge.fit(xtrain,ytrain)\n",
    "train_pred = ridge_model.predict(xtrain)\n",
    "\n",
    "mse_train = mean_squared_error(ytrain,train_pred)\n",
    "rmse_train = round(np.sqrt(mse_train),4)\n",
    "print('Root mean squared error (RMSE) on training set',rmse_train)\n",
    "\n",
    "\n",
    "test_pred = ridge_model.predict(xtest)\n",
    "mse_test = mean_squared_error(ytest,test_pred)\n",
    "rmse_test = round(np.sqrt(mse_test),4)\n",
    "print('Root mean squared error (RMSE) on test set',rmse_test)\n"
   ]
  },
  {
   "cell_type": "code",
   "execution_count": 166,
   "metadata": {},
   "outputs": [],
   "source": [
    "# there is barely any difference in the rmses and thus ridge has generalized the model fairly even during presence of multicollinearity"
   ]
  },
  {
   "cell_type": "markdown",
   "metadata": {
    "collapsed": true
   },
   "source": [
    "<table align=\"left\">\n",
    "    <tr>\n",
    "        <td width=\"6%\">\n",
    "            <img src=\"question_icon.png\">\n",
    "        </td>\n",
    "        <td>\n",
    "            <div align=\"left\", style=\"font-size:120%\">\n",
    "                <font color=\"#21618C\">\n",
    "                    <b>13. Build a model to study the impact of diseases and immunization on life expectancy. Identify the significant variables from the model. Use 'alpha = 1.5' if required.\n",
    "</b>\n",
    "                </font>\n",
    "            </div>\n",
    "        </td>\n",
    "    </tr>\n",
    "</table>"
   ]
  },
  {
   "cell_type": "code",
   "execution_count": 169,
   "metadata": {},
   "outputs": [
    {
     "name": "stdout",
     "output_type": "stream",
     "text": [
      "Root mean squared error (RMSE) on training set 5.7034\n",
      "Root mean squared error (RMSE) on test set 5.7282\n"
     ]
    }
   ],
   "source": [
    "# type your code here\n",
    "x = df.iloc[:,[3,8,2,6,7]]\n",
    "y = df.Life_Expectancy\n",
    "x = sm.add_constant(x)\n",
    "xtrain,xtest,ytrain,ytest = train_test_split(x,y,test_size = 0.2,random_state = 10)\n",
    "\n",
    "\n",
    "model1 = sm.OLS(ytrain,xtrain).fit()\n",
    "train_pred = model1.predict(xtrain)\n",
    "\n",
    "mse_train = mean_squared_error(ytrain,train_pred)\n",
    "rmse_train = round(np.sqrt(mse_train),4)\n",
    "print('Root mean squared error (RMSE) on training set',rmse_train)\n",
    "\n",
    "\n",
    "test_pred = model1.predict(xtest)\n",
    "mse_test = mean_squared_error(ytest,test_pred)\n",
    "rmse_test = round(np.sqrt(mse_test),4)\n",
    "print('Root mean squared error (RMSE) on test set',rmse_test)"
   ]
  },
  {
   "cell_type": "markdown",
   "metadata": {
    "collapsed": true
   },
   "source": [
    "<table align=\"left\">\n",
    "    <tr>\n",
    "        <td width=\"6%\">\n",
    "            <img src=\"question_icon.png\">\n",
    "        </td>\n",
    "        <td>\n",
    "            <div align=\"left\", style=\"font-size:120%\">\n",
    "                <font color=\"#21618C\">\n",
    "                    <b>14. Build a model to study the impact of malnutrition and diseases on life expectancy. Identify the insignificant variables from the model. Use 'alpha = 1' if required.</b>\n",
    "                </font>\n",
    "            </div>\n",
    "        </td>\n",
    "    </tr>\n",
    "</table>"
   ]
  },
  {
   "cell_type": "code",
   "execution_count": 170,
   "metadata": {},
   "outputs": [
    {
     "name": "stdout",
     "output_type": "stream",
     "text": [
      "Root mean squared error (RMSE) on training set 5.5044\n",
      "Root mean squared error (RMSE) on test set 6.3994\n"
     ]
    }
   ],
   "source": [
    "# type your code here\n",
    "x = df.iloc[:,[3,8,12,11]]\n",
    "y = df.Life_Expectancy\n",
    "x = sm.add_constant(x)\n",
    "xtrain,xtest,ytrain,ytest = train_test_split(x,y,test_size = 0.2,random_state = 30)\n",
    "\n",
    "\n",
    "model1 = sm.OLS(ytrain,xtrain).fit()\n",
    "train_pred = model1.predict(xtrain)\n",
    "\n",
    "mse_train = mean_squared_error(ytrain,train_pred)\n",
    "rmse_train = round(np.sqrt(mse_train),4)\n",
    "print('Root mean squared error (RMSE) on training set',rmse_train)\n",
    "\n",
    "\n",
    "test_pred = model1.predict(xtest)\n",
    "mse_test = mean_squared_error(ytest,test_pred)\n",
    "rmse_test = round(np.sqrt(mse_test),4)\n",
    "print('Root mean squared error (RMSE) on test set',rmse_test)"
   ]
  },
  {
   "cell_type": "markdown",
   "metadata": {
    "collapsed": true
   },
   "source": [
    "<table align=\"left\">\n",
    "    <tr>\n",
    "        <td width=\"6%\">\n",
    "            <img src=\"question_icon.png\">\n",
    "        </td>\n",
    "        <td>\n",
    "            <div align=\"left\", style=\"font-size:120%\">\n",
    "                <font color=\"#21618C\">\n",
    "                    <b>15. Build a full model using the elastic net regression. Use 'alpha = 0.1' and 'l1_ratio=0.001'. Also, compute the RMSE for train and test sets.\n",
    " </b>\n",
    "                </font>\n",
    "            </div>\n",
    "        </td>\n",
    "    </tr>\n",
    "</table>"
   ]
  },
  {
   "cell_type": "code",
   "execution_count": 172,
   "metadata": {
    "scrolled": true
   },
   "outputs": [
    {
     "name": "stdout",
     "output_type": "stream",
     "text": [
      "Root mean squared error (RMSE) on training set 5.5044\n",
      "Root mean squared error (RMSE) on test set 5.5802\n"
     ]
    }
   ],
   "source": [
    "# type your code here\n",
    "from sklearn.preprocessing import StandardScaler\n",
    "ss = StandardScaler()\n",
    "x = ss.fit_transform(x)\n",
    "y = (y - y.mean())/y.std()\n",
    "\n",
    "lasso = Lasso(alpha = 1)\n",
    "lasso_model = lasso.fit(xtrain,ytrain)\n",
    "train_pred = model1.predict(xtrain)\n",
    "\n",
    "mse_train = mean_squared_error(ytrain,train_pred)\n",
    "rmse_train = round(np.sqrt(mse_train),4)\n",
    "print('Root mean squared error (RMSE) on training set',rmse_train)\n",
    "\n",
    "\n",
    "test_pred = lasso_model.predict(xtest)\n",
    "mse_test = mean_squared_error(ytest,test_pred)\n",
    "rmse_test = round(np.sqrt(mse_test),4)\n",
    "print('Root mean squared error (RMSE) on test set',rmse_test)"
   ]
  },
  {
   "cell_type": "markdown",
   "metadata": {
    "collapsed": true
   },
   "source": [
    "<table align=\"left\">\n",
    "    <tr>\n",
    "        <td width=\"6%\">\n",
    "            <img src=\"question_icon.png\">\n",
    "        </td>\n",
    "        <td>\n",
    "            <div align=\"left\", style=\"font-size:120%\">\n",
    "                <font color=\"#21618C\">\n",
    "                    <b>16. Build a full model. Identify the features that are significantly influencing the life expectancy. Use 'alpha = 0.5' if required. </b>\n",
    "                </font>\n",
    "            </div>\n",
    "        </td>\n",
    "    </tr>\n",
    "</table>"
   ]
  },
  {
   "cell_type": "code",
   "execution_count": null,
   "metadata": {
    "scrolled": true
   },
   "outputs": [],
   "source": [
    "# type your code here\n"
   ]
  },
  {
   "cell_type": "markdown",
   "metadata": {},
   "source": [
    "<a id=\"gs\"> </a>\n",
    "## 5. Grid Search "
   ]
  },
  {
   "cell_type": "markdown",
   "metadata": {
    "collapsed": true
   },
   "source": [
    "<table align=\"left\">\n",
    "    <tr>\n",
    "        <td width=\"6%\">\n",
    "            <img src=\"question_icon.png\">\n",
    "        </td>\n",
    "        <td>\n",
    "            <div align=\"left\", style=\"font-size:120%\">\n",
    "                <font color=\"#21618C\">\n",
    "                    <b>17. If ridge regression is used to build a full model. Which value is the best alpha from the list of values?<br><br>Consider the alpha values: [7,8,9,10,11]</b>\n",
    "                </font>\n",
    "            </div>\n",
    "        </td>\n",
    "    </tr>\n",
    "</table>"
   ]
  },
  {
   "cell_type": "code",
   "execution_count": 176,
   "metadata": {
    "scrolled": true
   },
   "outputs": [
    {
     "name": "stdout",
     "output_type": "stream",
     "text": [
      "best parameter {'alpha': 11}\n"
     ]
    }
   ],
   "source": [
    "# type your code here\n",
    "from sklearn.model_selection import GridSearchCV\n",
    "x = df.drop('Life_Expectancy',axis = 1)\n",
    "y = df.Life_Expectancy\n",
    "x = sm.add_constant(x)\n",
    "xtrain,xtest,ytrain,ytest = train_test_split(x,y,test_size = 0.2,random_state = 30)\n",
    "list_of_alpha ={'alpha': [7,8,9,10,11]}\n",
    "ridge = Ridge()\n",
    "grid = GridSearchCV(estimator = ridge,param_grid = list_of_alpha,cv = 3)\n",
    "grid.fit(xtrain,ytrain)\n",
    "print('best parameter',grid.best_params_)"
   ]
  },
  {
   "cell_type": "markdown",
   "metadata": {
    "collapsed": true
   },
   "source": [
    "<table align=\"left\">\n",
    "    <tr>\n",
    "        <td width=\"6%\">\n",
    "            <img src=\"question_icon.png\">\n",
    "        </td>\n",
    "        <td>\n",
    "            <div align=\"left\", style=\"font-size:120%\">\n",
    "                <font color=\"#21618C\">\n",
    "                    <b>18. If lasso regression is used to build a full model. Which value is the best alpha from the list of values?<br><br>Consider the alpha values: [7,8,9,10,11]</b>\n",
    "                </font>\n",
    "            </div>\n",
    "        </td>\n",
    "    </tr>\n",
    "</table>"
   ]
  },
  {
   "cell_type": "code",
   "execution_count": 179,
   "metadata": {},
   "outputs": [
    {
     "name": "stdout",
     "output_type": "stream",
     "text": [
      "best parameter {'alpha': 7}\n"
     ]
    }
   ],
   "source": [
    "# type your code here\n",
    "x = df.drop('Life_Expectancy',axis = 1)\n",
    "y = df.Life_Expectancy\n",
    "x = sm.add_constant(x)\n",
    "xtrain,xtest,ytrain,ytest = train_test_split(x,y,test_size = 0.2,random_state = 30)\n",
    "list_of_alpha ={'alpha': [7,8,9,10,11]}\n",
    "lasso = Lasso()\n",
    "grid = GridSearchCV(estimator = lasso,param_grid = list_of_alpha,cv = 5)\n",
    "grid.fit(xtrain,ytrain)\n",
    "print('best parameter',grid.best_params_)"
   ]
  },
  {
   "cell_type": "markdown",
   "metadata": {
    "collapsed": true
   },
   "source": [
    "<table align=\"left\">\n",
    "    <tr>\n",
    "        <td width=\"6%\">\n",
    "            <img src=\"question_icon.png\">\n",
    "        </td>\n",
    "        <td>\n",
    "            <div align=\"left\", style=\"font-size:120%\">\n",
    "                <font color=\"#21618C\">\n",
    "                    <b>19. Perform regression analysis to study the impact of malnutrition and diseases on life expectancy. Determine the optimal value of alpha and mixing parameter if elastic net regression is used to build the model. Consider the following list of values:<br><br> alpha : [0.1,0.5,1,1.5,2,2.5,3,3.5,4]<br> l1_ratio : [0.5,0.55,0.6,0.65,0.7,0.75,0.8,0.85,0.9] </b>\n",
    "                </font>\n",
    "            </div>\n",
    "        </td>\n",
    "    </tr>\n",
    "</table>"
   ]
  },
  {
   "cell_type": "code",
   "execution_count": 183,
   "metadata": {},
   "outputs": [
    {
     "name": "stdout",
     "output_type": "stream",
     "text": [
      "best parameter {'alpha': 1.5, 'l1_ratio': 0.9}\n"
     ]
    }
   ],
   "source": [
    "# type your code here\n",
    "x = df.drop('Life_Expectancy',axis = 1)\n",
    "y = df.Life_Expectancy\n",
    "x = sm.add_constant(x)\n",
    "xtrain,xtest,ytrain,ytest = train_test_split(x,y,test_size = 0.3,random_state = 30)\n",
    "list_of_alpha ={'alpha': [7,8,9,10,11]}\n",
    "from sklearn.linear_model import ElasticNet\n",
    "tuned_parameters = [{'alpha':[0.1,0.5,1,1.5,2,2.5,3,3.5,4] ,'l1_ratio':[0.5,0.55,0.6,0.65,0.7,0.75,0.8,0.85,0.9]}]\n",
    "enet = ElasticNet()\n",
    "enet_grid = GridSearchCV(estimator = enet,param_grid = tuned_parameters,cv = 10)\n",
    "enet_grid.fit(xtrain,ytrain)\n",
    "print('best parameter',enet_grid.best_params_)"
   ]
  },
  {
   "cell_type": "markdown",
   "metadata": {
    "collapsed": true
   },
   "source": [
    "<table align=\"left\">\n",
    "    <tr>\n",
    "        <td width=\"6%\">\n",
    "            <img src=\"question_icon.png\">\n",
    "        </td>\n",
    "        <td>\n",
    "            <div align=\"left\", style=\"font-size:120%\">\n",
    "                <font color=\"#21618C\">\n",
    "                    <b>20. Build a full model. Select the optimal value for elastic net mixing parameter if the alpha value is 0.8<br><br>Consider the values: l1_ratio : [0.001, 0.005, 0.01, 0.05, 0.1, 0.5, 1]</b>\n",
    "                </font>\n",
    "            </div>\n",
    "        </td>\n",
    "    </tr>\n",
    "</table>"
   ]
  },
  {
   "cell_type": "code",
   "execution_count": null,
   "metadata": {
    "scrolled": true
   },
   "outputs": [],
   "source": [
    "# type your code here"
   ]
  },
  {
   "cell_type": "code",
   "execution_count": 185,
   "metadata": {},
   "outputs": [
    {
     "name": "stdout",
     "output_type": "stream",
     "text": [
      "best parameter {'l1_ratio': 0.005}\n"
     ]
    }
   ],
   "source": [
    "x = df.iloc[:,:15]\n",
    "y = df.Life_Expectancy\n",
    "\n",
    "ss = StandardScaler()\n",
    "x = ss.fit_transform(x)\n",
    "y = (y - y.mean())/y.std()\n",
    "\n",
    "xtrain,xtest,ytrain,ytest = train_test_split(x,y,test_size = 0.2,random_state = 110)\n",
    "#from sklearn.linear_model import ElasticNet\n",
    "tuned_parameters = { 'l1_ratio' : [0.001, 0.005, 0.01, 0.05, 0.1, 0.5, 1]}\n",
    "enet = ElasticNet(alpha = 0.8)\n",
    "enet_grid = GridSearchCV(estimator = enet,param_grid = tuned_parameters,cv = 10)\n",
    "enet_grid.fit(xtrain,ytrain)\n",
    "print('best parameter',enet_grid.best_params_)"
   ]
  },
  {
   "cell_type": "code",
   "execution_count": null,
   "metadata": {},
   "outputs": [],
   "source": []
  },
  {
   "cell_type": "code",
   "execution_count": null,
   "metadata": {},
   "outputs": [],
   "source": []
  }
 ],
 "metadata": {
  "kernelspec": {
   "display_name": "Python 3",
   "language": "python",
   "name": "python3"
  },
  "language_info": {
   "codemirror_mode": {
    "name": "ipython",
    "version": 3
   },
   "file_extension": ".py",
   "mimetype": "text/x-python",
   "name": "python",
   "nbconvert_exporter": "python",
   "pygments_lexer": "ipython3",
   "version": "3.8.5"
  }
 },
 "nbformat": 4,
 "nbformat_minor": 2
}
