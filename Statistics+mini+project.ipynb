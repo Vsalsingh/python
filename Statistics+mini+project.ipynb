{
 "cells": [
  {
   "cell_type": "code",
   "execution_count": 16,
   "id": "fe7be60f",
   "metadata": {},
   "outputs": [],
   "source": [
    "import numpy as np\n",
    "import pandas as pd\n",
    "import matplotlib.pyplot as plt\n",
    "import seaborn as sns\n",
    "import scipy.stats as stats"
   ]
  },
  {
   "cell_type": "code",
   "execution_count": 2,
   "id": "b912a458",
   "metadata": {},
   "outputs": [],
   "source": [
    "fifa=pd.read_csv('fifa_stats.csv')"
   ]
  },
  {
   "cell_type": "code",
   "execution_count": 3,
   "id": "a999ed41",
   "metadata": {},
   "outputs": [
    {
     "data": {
      "text/html": [
       "<div>\n",
       "<style scoped>\n",
       "    .dataframe tbody tr th:only-of-type {\n",
       "        vertical-align: middle;\n",
       "    }\n",
       "\n",
       "    .dataframe tbody tr th {\n",
       "        vertical-align: top;\n",
       "    }\n",
       "\n",
       "    .dataframe thead th {\n",
       "        text-align: right;\n",
       "    }\n",
       "</style>\n",
       "<table border=\"1\" class=\"dataframe\">\n",
       "  <thead>\n",
       "    <tr style=\"text-align: right;\">\n",
       "      <th></th>\n",
       "      <th>Name</th>\n",
       "      <th>Age</th>\n",
       "      <th>Nationality</th>\n",
       "      <th>Overall_rating</th>\n",
       "      <th>Potential</th>\n",
       "      <th>Club</th>\n",
       "      <th>Preferred Foot</th>\n",
       "      <th>International Reputation</th>\n",
       "      <th>Weak Foot</th>\n",
       "      <th>Skill Moves</th>\n",
       "      <th>Work Rate</th>\n",
       "      <th>Position</th>\n",
       "      <th>Jersey Number</th>\n",
       "      <th>Height</th>\n",
       "      <th>Weight</th>\n",
       "    </tr>\n",
       "  </thead>\n",
       "  <tbody>\n",
       "    <tr>\n",
       "      <th>0</th>\n",
       "      <td>L. Messi</td>\n",
       "      <td>31</td>\n",
       "      <td>Argentina</td>\n",
       "      <td>94</td>\n",
       "      <td>94</td>\n",
       "      <td>FC Barcelona</td>\n",
       "      <td>Left</td>\n",
       "      <td>5</td>\n",
       "      <td>4</td>\n",
       "      <td>4</td>\n",
       "      <td>Medium/ Medium</td>\n",
       "      <td>RF</td>\n",
       "      <td>10</td>\n",
       "      <td>5.583333</td>\n",
       "      <td>159</td>\n",
       "    </tr>\n",
       "    <tr>\n",
       "      <th>1</th>\n",
       "      <td>Cristiano Ronaldo</td>\n",
       "      <td>33</td>\n",
       "      <td>Portugal</td>\n",
       "      <td>94</td>\n",
       "      <td>94</td>\n",
       "      <td>Juventus</td>\n",
       "      <td>Right</td>\n",
       "      <td>5</td>\n",
       "      <td>4</td>\n",
       "      <td>5</td>\n",
       "      <td>High/ Low</td>\n",
       "      <td>ST</td>\n",
       "      <td>7</td>\n",
       "      <td>6.166667</td>\n",
       "      <td>183</td>\n",
       "    </tr>\n",
       "    <tr>\n",
       "      <th>2</th>\n",
       "      <td>Neymar Jr</td>\n",
       "      <td>26</td>\n",
       "      <td>Brazil</td>\n",
       "      <td>92</td>\n",
       "      <td>93</td>\n",
       "      <td>Paris Saint-Germain</td>\n",
       "      <td>Right</td>\n",
       "      <td>5</td>\n",
       "      <td>5</td>\n",
       "      <td>5</td>\n",
       "      <td>High/ Medium</td>\n",
       "      <td>LW</td>\n",
       "      <td>10</td>\n",
       "      <td>5.750000</td>\n",
       "      <td>150</td>\n",
       "    </tr>\n",
       "    <tr>\n",
       "      <th>3</th>\n",
       "      <td>De Gea</td>\n",
       "      <td>27</td>\n",
       "      <td>Spain</td>\n",
       "      <td>91</td>\n",
       "      <td>93</td>\n",
       "      <td>Manchester United</td>\n",
       "      <td>Right</td>\n",
       "      <td>4</td>\n",
       "      <td>3</td>\n",
       "      <td>1</td>\n",
       "      <td>Medium/ Medium</td>\n",
       "      <td>GK</td>\n",
       "      <td>1</td>\n",
       "      <td>6.333333</td>\n",
       "      <td>168</td>\n",
       "    </tr>\n",
       "    <tr>\n",
       "      <th>4</th>\n",
       "      <td>K. De Bruyne</td>\n",
       "      <td>27</td>\n",
       "      <td>Belgium</td>\n",
       "      <td>91</td>\n",
       "      <td>92</td>\n",
       "      <td>Manchester City</td>\n",
       "      <td>Right</td>\n",
       "      <td>4</td>\n",
       "      <td>5</td>\n",
       "      <td>4</td>\n",
       "      <td>High/ High</td>\n",
       "      <td>RCM</td>\n",
       "      <td>7</td>\n",
       "      <td>5.083333</td>\n",
       "      <td>154</td>\n",
       "    </tr>\n",
       "  </tbody>\n",
       "</table>\n",
       "</div>"
      ],
      "text/plain": [
       "                Name  Age Nationality  Overall_rating  Potential  \\\n",
       "0           L. Messi   31   Argentina              94         94   \n",
       "1  Cristiano Ronaldo   33    Portugal              94         94   \n",
       "2          Neymar Jr   26      Brazil              92         93   \n",
       "3             De Gea   27       Spain              91         93   \n",
       "4       K. De Bruyne   27     Belgium              91         92   \n",
       "\n",
       "                  Club Preferred Foot  International Reputation  Weak Foot  \\\n",
       "0         FC Barcelona           Left                         5          4   \n",
       "1             Juventus          Right                         5          4   \n",
       "2  Paris Saint-Germain          Right                         5          5   \n",
       "3    Manchester United          Right                         4          3   \n",
       "4      Manchester City          Right                         4          5   \n",
       "\n",
       "   Skill Moves       Work Rate Position  Jersey Number    Height  Weight  \n",
       "0            4  Medium/ Medium       RF             10  5.583333     159  \n",
       "1            5       High/ Low       ST              7  6.166667     183  \n",
       "2            5    High/ Medium       LW             10  5.750000     150  \n",
       "3            1  Medium/ Medium       GK              1  6.333333     168  \n",
       "4            4      High/ High      RCM              7  5.083333     154  "
      ]
     },
     "execution_count": 3,
     "metadata": {},
     "output_type": "execute_result"
    }
   ],
   "source": [
    "fifa.head()"
   ]
  },
  {
   "cell_type": "code",
   "execution_count": 5,
   "id": "795c1335",
   "metadata": {},
   "outputs": [
    {
     "data": {
      "text/plain": [
       "Index(['Name', 'Age', 'Nationality', 'Overall_rating', 'Potential', 'Club',\n",
       "       'Preferred Foot', 'International Reputation', 'Weak Foot',\n",
       "       'Skill Moves', 'Work Rate', 'Position', 'Jersey Number', 'Height',\n",
       "       'Weight'],\n",
       "      dtype='object')"
      ]
     },
     "execution_count": 5,
     "metadata": {},
     "output_type": "execute_result"
    }
   ],
   "source": [
    "fifa.columns"
   ]
  },
  {
   "cell_type": "code",
   "execution_count": 7,
   "id": "703906ba",
   "metadata": {},
   "outputs": [
    {
     "data": {
      "text/plain": [
       "Name                         object\n",
       "Age                           int64\n",
       "Nationality                  object\n",
       "Overall_rating                int64\n",
       "Potential                     int64\n",
       "Club                         object\n",
       "Preferred Foot               object\n",
       "International Reputation      int64\n",
       "Weak Foot                     int64\n",
       "Skill Moves                   int64\n",
       "Work Rate                    object\n",
       "Position                     object\n",
       "Jersey Number                 int64\n",
       "Height                      float64\n",
       "Weight                        int64\n",
       "dtype: object"
      ]
     },
     "execution_count": 7,
     "metadata": {},
     "output_type": "execute_result"
    }
   ],
   "source": [
    "fifa.dtypes"
   ]
  },
  {
   "cell_type": "code",
   "execution_count": 8,
   "id": "ddbccb5e",
   "metadata": {},
   "outputs": [
    {
     "data": {
      "text/html": [
       "<div>\n",
       "<style scoped>\n",
       "    .dataframe tbody tr th:only-of-type {\n",
       "        vertical-align: middle;\n",
       "    }\n",
       "\n",
       "    .dataframe tbody tr th {\n",
       "        vertical-align: top;\n",
       "    }\n",
       "\n",
       "    .dataframe thead th {\n",
       "        text-align: right;\n",
       "    }\n",
       "</style>\n",
       "<table border=\"1\" class=\"dataframe\">\n",
       "  <thead>\n",
       "    <tr style=\"text-align: right;\">\n",
       "      <th></th>\n",
       "      <th>Age</th>\n",
       "      <th>Overall_rating</th>\n",
       "      <th>Potential</th>\n",
       "      <th>International Reputation</th>\n",
       "      <th>Weak Foot</th>\n",
       "      <th>Skill Moves</th>\n",
       "      <th>Jersey Number</th>\n",
       "      <th>Height</th>\n",
       "      <th>Weight</th>\n",
       "    </tr>\n",
       "  </thead>\n",
       "  <tbody>\n",
       "    <tr>\n",
       "      <th>count</th>\n",
       "      <td>2000.000000</td>\n",
       "      <td>2000.000000</td>\n",
       "      <td>2000.000000</td>\n",
       "      <td>2000.000000</td>\n",
       "      <td>2000.000000</td>\n",
       "      <td>2000.000000</td>\n",
       "      <td>2000.000000</td>\n",
       "      <td>2000.000000</td>\n",
       "      <td>2000.000000</td>\n",
       "    </tr>\n",
       "    <tr>\n",
       "      <th>mean</th>\n",
       "      <td>27.231500</td>\n",
       "      <td>78.197000</td>\n",
       "      <td>80.303500</td>\n",
       "      <td>1.774500</td>\n",
       "      <td>3.204000</td>\n",
       "      <td>2.919500</td>\n",
       "      <td>15.205500</td>\n",
       "      <td>5.781042</td>\n",
       "      <td>169.478000</td>\n",
       "    </tr>\n",
       "    <tr>\n",
       "      <th>std</th>\n",
       "      <td>3.859061</td>\n",
       "      <td>3.285969</td>\n",
       "      <td>4.114104</td>\n",
       "      <td>0.811775</td>\n",
       "      <td>0.728457</td>\n",
       "      <td>0.964098</td>\n",
       "      <td>13.210508</td>\n",
       "      <td>0.443337</td>\n",
       "      <td>16.050306</td>\n",
       "    </tr>\n",
       "    <tr>\n",
       "      <th>min</th>\n",
       "      <td>17.000000</td>\n",
       "      <td>75.000000</td>\n",
       "      <td>75.000000</td>\n",
       "      <td>1.000000</td>\n",
       "      <td>1.000000</td>\n",
       "      <td>1.000000</td>\n",
       "      <td>1.000000</td>\n",
       "      <td>5.083333</td>\n",
       "      <td>123.000000</td>\n",
       "    </tr>\n",
       "    <tr>\n",
       "      <th>25%</th>\n",
       "      <td>24.000000</td>\n",
       "      <td>76.000000</td>\n",
       "      <td>77.000000</td>\n",
       "      <td>1.000000</td>\n",
       "      <td>3.000000</td>\n",
       "      <td>2.000000</td>\n",
       "      <td>7.000000</td>\n",
       "      <td>5.500000</td>\n",
       "      <td>159.000000</td>\n",
       "    </tr>\n",
       "    <tr>\n",
       "      <th>50%</th>\n",
       "      <td>27.000000</td>\n",
       "      <td>77.000000</td>\n",
       "      <td>80.000000</td>\n",
       "      <td>2.000000</td>\n",
       "      <td>3.000000</td>\n",
       "      <td>3.000000</td>\n",
       "      <td>12.000000</td>\n",
       "      <td>6.000000</td>\n",
       "      <td>170.000000</td>\n",
       "    </tr>\n",
       "    <tr>\n",
       "      <th>75%</th>\n",
       "      <td>30.000000</td>\n",
       "      <td>80.000000</td>\n",
       "      <td>83.000000</td>\n",
       "      <td>2.000000</td>\n",
       "      <td>4.000000</td>\n",
       "      <td>4.000000</td>\n",
       "      <td>20.000000</td>\n",
       "      <td>6.166667</td>\n",
       "      <td>181.000000</td>\n",
       "    </tr>\n",
       "    <tr>\n",
       "      <th>max</th>\n",
       "      <td>41.000000</td>\n",
       "      <td>94.000000</td>\n",
       "      <td>95.000000</td>\n",
       "      <td>5.000000</td>\n",
       "      <td>5.000000</td>\n",
       "      <td>5.000000</td>\n",
       "      <td>99.000000</td>\n",
       "      <td>6.583333</td>\n",
       "      <td>227.000000</td>\n",
       "    </tr>\n",
       "  </tbody>\n",
       "</table>\n",
       "</div>"
      ],
      "text/plain": [
       "               Age  Overall_rating    Potential  International Reputation  \\\n",
       "count  2000.000000     2000.000000  2000.000000               2000.000000   \n",
       "mean     27.231500       78.197000    80.303500                  1.774500   \n",
       "std       3.859061        3.285969     4.114104                  0.811775   \n",
       "min      17.000000       75.000000    75.000000                  1.000000   \n",
       "25%      24.000000       76.000000    77.000000                  1.000000   \n",
       "50%      27.000000       77.000000    80.000000                  2.000000   \n",
       "75%      30.000000       80.000000    83.000000                  2.000000   \n",
       "max      41.000000       94.000000    95.000000                  5.000000   \n",
       "\n",
       "         Weak Foot  Skill Moves  Jersey Number       Height       Weight  \n",
       "count  2000.000000  2000.000000    2000.000000  2000.000000  2000.000000  \n",
       "mean      3.204000     2.919500      15.205500     5.781042   169.478000  \n",
       "std       0.728457     0.964098      13.210508     0.443337    16.050306  \n",
       "min       1.000000     1.000000       1.000000     5.083333   123.000000  \n",
       "25%       3.000000     2.000000       7.000000     5.500000   159.000000  \n",
       "50%       3.000000     3.000000      12.000000     6.000000   170.000000  \n",
       "75%       4.000000     4.000000      20.000000     6.166667   181.000000  \n",
       "max       5.000000     5.000000      99.000000     6.583333   227.000000  "
      ]
     },
     "execution_count": 8,
     "metadata": {},
     "output_type": "execute_result"
    }
   ],
   "source": [
    "fifa.describe()"
   ]
  },
  {
   "cell_type": "code",
   "execution_count": 25,
   "id": "438cd0a4",
   "metadata": {},
   "outputs": [
    {
     "data": {
      "text/plain": [
       "(2000, 15)"
      ]
     },
     "execution_count": 25,
     "metadata": {},
     "output_type": "execute_result"
    }
   ],
   "source": [
    "fifa.shape"
   ]
  },
  {
   "cell_type": "markdown",
   "id": "ef30701d",
   "metadata": {},
   "source": [
    "# a)\tAssuming age as population, perform the central limit theorem with sample size of 200. Find the standard error and the mean of sampling distribution. Compare the results with population mean and standard deviation. Explain in non-technical terms why the estimated standard error of a sample mean tends to decrease with an increase in sample size"
   ]
  },
  {
   "cell_type": "code",
   "execution_count": 13,
   "id": "9b97663f",
   "metadata": {},
   "outputs": [],
   "source": [
    "sample=fifa['Age'].sample(200)"
   ]
  },
  {
   "cell_type": "code",
   "execution_count": 14,
   "id": "a2d1b254",
   "metadata": {},
   "outputs": [
    {
     "data": {
      "text/plain": [
       "1622    26\n",
       "261     27\n",
       "1040    26\n",
       "1323    31\n",
       "618     29\n",
       "Name: Age, dtype: int64"
      ]
     },
     "execution_count": 14,
     "metadata": {},
     "output_type": "execute_result"
    }
   ],
   "source": [
    "sample.head()"
   ]
  },
  {
   "cell_type": "markdown",
   "id": "2cbcf4fe",
   "metadata": {},
   "source": [
    "# Central Limit Theorem\n",
    "The distribution of the sample mean will be normally distributed for the large sample size irrespective of the distribution of the populations from which the sample is drawn."
   ]
  },
  {
   "cell_type": "code",
   "execution_count": 18,
   "id": "c8e7ce0e",
   "metadata": {},
   "outputs": [
    {
     "data": {
      "text/plain": [
       "3.8580963894127795"
      ]
     },
     "execution_count": 18,
     "metadata": {},
     "output_type": "execute_result"
    }
   ],
   "source": [
    "sigma=np.std(fifa['Age'])\n",
    "n=200"
   ]
  },
  {
   "cell_type": "markdown",
   "id": "bd8befbd",
   "metadata": {},
   "source": [
    "# Standard error"
   ]
  },
  {
   "cell_type": "code",
   "execution_count": 21,
   "id": "34aa67b9",
   "metadata": {},
   "outputs": [
    {
     "name": "stdout",
     "output_type": "stream",
     "text": [
      "Standard error: 0.2728086119425111\n"
     ]
    }
   ],
   "source": [
    "se=sigma/np.sqrt(n)\n",
    "print('Standard error:', se)"
   ]
  },
  {
   "cell_type": "markdown",
   "id": "efd0e7a9",
   "metadata": {},
   "source": [
    "Mean of the sampling distribution is same as the mean of the population"
   ]
  },
  {
   "cell_type": "code",
   "execution_count": 23,
   "id": "b302402c",
   "metadata": {},
   "outputs": [
    {
     "name": "stdout",
     "output_type": "stream",
     "text": [
      "Mean of the sampling distribution: 27.2315\n"
     ]
    }
   ],
   "source": [
    "samp_mean=np.mean(fifa['Age'])\n",
    "print('Mean of the sampling distribution:', samp_mean)"
   ]
  },
  {
   "cell_type": "markdown",
   "id": "b86fd0d2",
   "metadata": {},
   "source": [
    "In the formula of Standard error,  n is in the denominator and with increase in trhe value of n,value of se started decreasing. "
   ]
  },
  {
   "cell_type": "markdown",
   "id": "391c381d",
   "metadata": {},
   "source": [
    "In non technical terms, we observe that when the sample size increase it starts representing the population more accurately\n",
    "and mean of the distribution of means of samples start moving towards the population mean and therefore Standard error decreases.\n"
   ]
  },
  {
   "cell_type": "markdown",
   "id": "e31aef4d",
   "metadata": {},
   "source": [
    "# b)\tIs there any evidence that the players overall rating is greater than 80?"
   ]
  },
  {
   "cell_type": "markdown",
   "id": "a6ec8ed6",
   "metadata": {},
   "source": [
    "# Constructing the Hypothesis"
   ]
  },
  {
   "cell_type": "markdown",
   "id": "7857f672",
   "metadata": {},
   "source": [
    "# Null Hypothesis\n",
    " players overall rating is less than equal to 80.\n",
    " "
   ]
  },
  {
   "cell_type": "markdown",
   "id": "ac21be59",
   "metadata": {},
   "source": [
    "# Alternate hypothesis\n",
    " players overall rating is greater than 80."
   ]
  },
  {
   "cell_type": "markdown",
   "id": "7e2be61d",
   "metadata": {},
   "source": [
    "It is right tailed test."
   ]
  },
  {
   "cell_type": "code",
   "execution_count": 30,
   "id": "7df67c53",
   "metadata": {
    "scrolled": true
   },
   "outputs": [
    {
     "data": {
      "text/html": [
       "<div>\n",
       "<style scoped>\n",
       "    .dataframe tbody tr th:only-of-type {\n",
       "        vertical-align: middle;\n",
       "    }\n",
       "\n",
       "    .dataframe tbody tr th {\n",
       "        vertical-align: top;\n",
       "    }\n",
       "\n",
       "    .dataframe thead th {\n",
       "        text-align: right;\n",
       "    }\n",
       "</style>\n",
       "<table border=\"1\" class=\"dataframe\">\n",
       "  <thead>\n",
       "    <tr style=\"text-align: right;\">\n",
       "      <th></th>\n",
       "      <th>Name</th>\n",
       "      <th>Age</th>\n",
       "      <th>Nationality</th>\n",
       "      <th>Overall_rating</th>\n",
       "      <th>Potential</th>\n",
       "      <th>Club</th>\n",
       "      <th>Preferred Foot</th>\n",
       "      <th>International Reputation</th>\n",
       "      <th>Weak Foot</th>\n",
       "      <th>Skill Moves</th>\n",
       "      <th>Work Rate</th>\n",
       "      <th>Position</th>\n",
       "      <th>Jersey Number</th>\n",
       "      <th>Height</th>\n",
       "      <th>Weight</th>\n",
       "    </tr>\n",
       "  </thead>\n",
       "  <tbody>\n",
       "    <tr>\n",
       "      <th>0</th>\n",
       "      <td>L. Messi</td>\n",
       "      <td>31</td>\n",
       "      <td>Argentina</td>\n",
       "      <td>94</td>\n",
       "      <td>94</td>\n",
       "      <td>FC Barcelona</td>\n",
       "      <td>Left</td>\n",
       "      <td>5</td>\n",
       "      <td>4</td>\n",
       "      <td>4</td>\n",
       "      <td>Medium/ Medium</td>\n",
       "      <td>RF</td>\n",
       "      <td>10</td>\n",
       "      <td>5.583333</td>\n",
       "      <td>159</td>\n",
       "    </tr>\n",
       "    <tr>\n",
       "      <th>1</th>\n",
       "      <td>Cristiano Ronaldo</td>\n",
       "      <td>33</td>\n",
       "      <td>Portugal</td>\n",
       "      <td>94</td>\n",
       "      <td>94</td>\n",
       "      <td>Juventus</td>\n",
       "      <td>Right</td>\n",
       "      <td>5</td>\n",
       "      <td>4</td>\n",
       "      <td>5</td>\n",
       "      <td>High/ Low</td>\n",
       "      <td>ST</td>\n",
       "      <td>7</td>\n",
       "      <td>6.166667</td>\n",
       "      <td>183</td>\n",
       "    </tr>\n",
       "    <tr>\n",
       "      <th>2</th>\n",
       "      <td>Neymar Jr</td>\n",
       "      <td>26</td>\n",
       "      <td>Brazil</td>\n",
       "      <td>92</td>\n",
       "      <td>93</td>\n",
       "      <td>Paris Saint-Germain</td>\n",
       "      <td>Right</td>\n",
       "      <td>5</td>\n",
       "      <td>5</td>\n",
       "      <td>5</td>\n",
       "      <td>High/ Medium</td>\n",
       "      <td>LW</td>\n",
       "      <td>10</td>\n",
       "      <td>5.750000</td>\n",
       "      <td>150</td>\n",
       "    </tr>\n",
       "    <tr>\n",
       "      <th>3</th>\n",
       "      <td>De Gea</td>\n",
       "      <td>27</td>\n",
       "      <td>Spain</td>\n",
       "      <td>91</td>\n",
       "      <td>93</td>\n",
       "      <td>Manchester United</td>\n",
       "      <td>Right</td>\n",
       "      <td>4</td>\n",
       "      <td>3</td>\n",
       "      <td>1</td>\n",
       "      <td>Medium/ Medium</td>\n",
       "      <td>GK</td>\n",
       "      <td>1</td>\n",
       "      <td>6.333333</td>\n",
       "      <td>168</td>\n",
       "    </tr>\n",
       "    <tr>\n",
       "      <th>4</th>\n",
       "      <td>K. De Bruyne</td>\n",
       "      <td>27</td>\n",
       "      <td>Belgium</td>\n",
       "      <td>91</td>\n",
       "      <td>92</td>\n",
       "      <td>Manchester City</td>\n",
       "      <td>Right</td>\n",
       "      <td>4</td>\n",
       "      <td>5</td>\n",
       "      <td>4</td>\n",
       "      <td>High/ High</td>\n",
       "      <td>RCM</td>\n",
       "      <td>7</td>\n",
       "      <td>5.083333</td>\n",
       "      <td>154</td>\n",
       "    </tr>\n",
       "  </tbody>\n",
       "</table>\n",
       "</div>"
      ],
      "text/plain": [
       "                Name  Age Nationality  Overall_rating  Potential  \\\n",
       "0           L. Messi   31   Argentina              94         94   \n",
       "1  Cristiano Ronaldo   33    Portugal              94         94   \n",
       "2          Neymar Jr   26      Brazil              92         93   \n",
       "3             De Gea   27       Spain              91         93   \n",
       "4       K. De Bruyne   27     Belgium              91         92   \n",
       "\n",
       "                  Club Preferred Foot  International Reputation  Weak Foot  \\\n",
       "0         FC Barcelona           Left                         5          4   \n",
       "1             Juventus          Right                         5          4   \n",
       "2  Paris Saint-Germain          Right                         5          5   \n",
       "3    Manchester United          Right                         4          3   \n",
       "4      Manchester City          Right                         4          5   \n",
       "\n",
       "   Skill Moves       Work Rate Position  Jersey Number    Height  Weight  \n",
       "0            4  Medium/ Medium       RF             10  5.583333     159  \n",
       "1            5       High/ Low       ST              7  6.166667     183  \n",
       "2            5    High/ Medium       LW             10  5.750000     150  \n",
       "3            1  Medium/ Medium       GK              1  6.333333     168  \n",
       "4            4      High/ High      RCM              7  5.083333     154  "
      ]
     },
     "execution_count": 30,
     "metadata": {},
     "output_type": "execute_result"
    }
   ],
   "source": [
    "fifa.head()"
   ]
  },
  {
   "cell_type": "code",
   "execution_count": 37,
   "id": "45834be5",
   "metadata": {},
   "outputs": [],
   "source": [
    "x_bar=np.mean(fifa['Overall_rating'])"
   ]
  },
  {
   "cell_type": "code",
   "execution_count": 38,
   "id": "96a1f281",
   "metadata": {},
   "outputs": [
    {
     "data": {
      "text/plain": [
       "78.197"
      ]
     },
     "execution_count": 38,
     "metadata": {},
     "output_type": "execute_result"
    }
   ],
   "source": [
    "x_bar"
   ]
  },
  {
   "cell_type": "code",
   "execution_count": 31,
   "id": "a8ad4388",
   "metadata": {},
   "outputs": [],
   "source": [
    "sigma=np.std(fifa['Overall_rating'])\n",
    "n=fifa.shape[0]"
   ]
  },
  {
   "cell_type": "code",
   "execution_count": 33,
   "id": "b0b3fb9c",
   "metadata": {},
   "outputs": [],
   "source": [
    "se=sigma/np.sqrt(n)"
   ]
  },
  {
   "cell_type": "code",
   "execution_count": 60,
   "id": "8682976b",
   "metadata": {},
   "outputs": [
    {
     "data": {
      "text/plain": [
       "(71.75823013988202, 84.63576986011799)"
      ]
     },
     "execution_count": 60,
     "metadata": {},
     "output_type": "execute_result"
    }
   ],
   "source": [
    "stats.norm.interval(0.95, loc=x_bar, scale=sigma)"
   ]
  },
  {
   "cell_type": "markdown",
   "id": "e0efb2ec",
   "metadata": {},
   "source": [
    "# Inference:-\n",
    "Since, hypothesisedValue=80 is in confidence interval, we failed to reject the null hypothesis.\n",
    "Therefore, players overall rating is not greater than 80."
   ]
  },
  {
   "cell_type": "markdown",
   "id": "0479c63d",
   "metadata": {},
   "source": [
    "# Critical value approach"
   ]
  },
  {
   "cell_type": "code",
   "execution_count": 45,
   "id": "eaf8558a",
   "metadata": {},
   "outputs": [
    {
     "name": "stdout",
     "output_type": "stream",
     "text": [
      "Critical value 1.6448536269514729\n"
     ]
    }
   ],
   "source": [
    "#Critical value\n",
    "z_critical=stats.norm.isf(0.05)\n",
    "print('Critical value', z_critical)"
   ]
  },
  {
   "cell_type": "code",
   "execution_count": 51,
   "id": "741669ca",
   "metadata": {},
   "outputs": [
    {
     "data": {
      "text/plain": [
       "-24.544597415236936"
      ]
     },
     "execution_count": 51,
     "metadata": {},
     "output_type": "execute_result"
    }
   ],
   "source": [
    "#Finding the test statistics\n",
    "test_stats=(x_bar-80)/se\n",
    "test_stats"
   ]
  },
  {
   "cell_type": "code",
   "execution_count": 52,
   "id": "e102077c",
   "metadata": {},
   "outputs": [],
   "source": [
    "from statsmodels.stats import weightstats as stests"
   ]
  },
  {
   "cell_type": "code",
   "execution_count": 54,
   "id": "844ecf18",
   "metadata": {},
   "outputs": [
    {
     "data": {
      "text/plain": [
       "(-24.538460498672062, 1.0)"
      ]
     },
     "execution_count": 54,
     "metadata": {},
     "output_type": "execute_result"
    }
   ],
   "source": [
    "stests.ztest(fifa['Overall_rating'], value=80, alternative='larger')"
   ]
  },
  {
   "cell_type": "code",
   "execution_count": 58,
   "id": "55a4cac4",
   "metadata": {},
   "outputs": [
    {
     "data": {
      "text/plain": [
       "1.0"
      ]
     },
     "execution_count": 58,
     "metadata": {},
     "output_type": "execute_result"
    }
   ],
   "source": [
    "pvalue=stats.norm.sf(-24.544597415236936)\n",
    "pvalue"
   ]
  },
  {
   "cell_type": "markdown",
   "id": "676b1b77",
   "metadata": {},
   "source": [
    "# c)\tPerform the statistical test to identify whether preferred foot has any impact on potential. Also, perform the graphical analysis.\n",
    "\n"
   ]
  },
  {
   "cell_type": "code",
   "execution_count": 61,
   "id": "272d6d51",
   "metadata": {},
   "outputs": [
    {
     "data": {
      "text/plain": [
       "Name                         object\n",
       "Age                           int64\n",
       "Nationality                  object\n",
       "Overall_rating                int64\n",
       "Potential                     int64\n",
       "Club                         object\n",
       "Preferred Foot               object\n",
       "International Reputation      int64\n",
       "Weak Foot                     int64\n",
       "Skill Moves                   int64\n",
       "Work Rate                    object\n",
       "Position                     object\n",
       "Jersey Number                 int64\n",
       "Height                      float64\n",
       "Weight                        int64\n",
       "dtype: object"
      ]
     },
     "execution_count": 61,
     "metadata": {},
     "output_type": "execute_result"
    }
   ],
   "source": [
    "fifa.dtypes"
   ]
  },
  {
   "cell_type": "code",
   "execution_count": 62,
   "id": "1b0e28c5",
   "metadata": {},
   "outputs": [
    {
     "data": {
      "text/plain": [
       "array(['Left', 'Right'], dtype=object)"
      ]
     },
     "execution_count": 62,
     "metadata": {},
     "output_type": "execute_result"
    }
   ],
   "source": [
    "fifa['Preferred Foot'].unique()"
   ]
  },
  {
   "cell_type": "markdown",
   "id": "494d085a",
   "metadata": {},
   "source": [
    "# Constructing the hypothesis"
   ]
  },
  {
   "cell_type": "markdown",
   "id": "85b8687c",
   "metadata": {},
   "source": [
    "# Null Hypothesis\n",
    "preferred foot has no impact on potential."
   ]
  },
  {
   "cell_type": "markdown",
   "id": "26aadffb",
   "metadata": {},
   "source": [
    "# Alternate hypothesis\n",
    "preferred foot has any impact on potential."
   ]
  },
  {
   "cell_type": "markdown",
   "id": "298e2ff2",
   "metadata": {},
   "source": [
    "It is two tailed test"
   ]
  },
  {
   "cell_type": "code",
   "execution_count": 67,
   "id": "4d840530",
   "metadata": {},
   "outputs": [
    {
     "data": {
      "text/plain": [
       "Right    1534\n",
       "Left      466\n",
       "Name: Preferred Foot, dtype: int64"
      ]
     },
     "execution_count": 67,
     "metadata": {},
     "output_type": "execute_result"
    }
   ],
   "source": [
    "fifa['Preferred Foot'].value_counts()"
   ]
  },
  {
   "cell_type": "code",
   "execution_count": 66,
   "id": "de9130e2",
   "metadata": {},
   "outputs": [
    {
     "data": {
      "text/plain": [
       "<AxesSubplot:xlabel='Preferred Foot', ylabel='Potential'>"
      ]
     },
     "execution_count": 66,
     "metadata": {},
     "output_type": "execute_result"
    },
    {
     "data": {
      "image/png": "[encoded data removed]",
      "text/plain": [
       "<Figure size 432x288 with 1 Axes>"
      ]
     },
     "metadata": {
      "needs_background": "light"
     },
     "output_type": "display_data"
    }
   ],
   "source": [
    "sns.boxplot(data=fifa, x='Preferred Foot', y='Potential')"
   ]
  },
  {
   "cell_type": "code",
   "execution_count": 76,
   "id": "24e6ec70",
   "metadata": {},
   "outputs": [],
   "source": [
    "left=fifa[fifa['Preferred Foot']=='Left']['Potential']\n",
    "right=fifa[fifa['Preferred Foot']=='Right']['Potential']"
   ]
  },
  {
   "cell_type": "code",
   "execution_count": 68,
   "id": "a5df256c",
   "metadata": {},
   "outputs": [],
   "source": [
    "from statsmodels.stats import weightstats as stests"
   ]
  },
  {
   "cell_type": "code",
   "execution_count": 78,
   "id": "ba520966",
   "metadata": {},
   "outputs": [
    {
     "name": "stdout",
     "output_type": "stream",
     "text": [
      "P value: 0.1240966083204813\n"
     ]
    }
   ],
   "source": [
    "test_stats, pvalue=stests.ztest(x1=left, x2=right,value=0 )\n",
    "print('P value:', pvalue)"
   ]
  },
  {
   "cell_type": "markdown",
   "id": "87b00f1c",
   "metadata": {},
   "source": [
    "# Inference:-\n",
    "Since, pvalue is greater than the alpha=0.05. Failed to reject(accept) H0.\n",
    "Therefore, preferred foot has no impact on potential."
   ]
  },
  {
   "cell_type": "markdown",
   "id": "17d9c992",
   "metadata": {},
   "source": [
    "# d)\tPerform the statistical test to identify the relation between the overall rating and potential. [Assume both are continuous data points]."
   ]
  },
  {
   "cell_type": "markdown",
   "id": "7b51d27a",
   "metadata": {},
   "source": [
    "# Constructing the null hypothesis"
   ]
  },
  {
   "cell_type": "markdown",
   "id": "6c30123e",
   "metadata": {},
   "source": [
    "# Null Hypothesis\n",
    "There is no relation between overall rating and potential.\n"
   ]
  },
  {
   "cell_type": "markdown",
   "id": "3ce559c7",
   "metadata": {},
   "source": [
    "# Alternate hypothesis\n",
    "There is a relation between overall rating and potential."
   ]
  },
  {
   "cell_type": "code",
   "execution_count": 79,
   "id": "d66224d5",
   "metadata": {},
   "outputs": [],
   "source": [
    "from statsmodels.stats import weightstats as stests"
   ]
  },
  {
   "cell_type": "code",
   "execution_count": 82,
   "id": "537670c2",
   "metadata": {},
   "outputs": [
    {
     "data": {
      "text/plain": [
       "(-17.89175319557915, 1.367376995153535e-71)"
      ]
     },
     "execution_count": 82,
     "metadata": {},
     "output_type": "execute_result"
    }
   ],
   "source": [
    "stests.ztest(x1=fifa['Overall_rating'], x2=fifa['Potential'], value=0)"
   ]
  },
  {
   "cell_type": "markdown",
   "id": "b01b3667",
   "metadata": {},
   "source": [
    "# Inference:-\n",
    "Since pvalue is less then the alpha=0.05.\n",
    "We reject the null hyp.\n",
    "Therefore, There is a relation between the overall rating and the potential of palyers. "
   ]
  },
  {
   "cell_type": "code",
   "execution_count": 108,
   "id": "32e45e07",
   "metadata": {},
   "outputs": [
    {
     "data": {
      "image/png": "[encoded data removed]",
      "text/plain": [
       "<Figure size 360x360 with 1 Axes>"
      ]
     },
     "metadata": {
      "needs_background": "light"
     },
     "output_type": "display_data"
    }
   ],
   "source": [
    "sns.lmplot(data=fifa, x='Potential', y='Overall_rating');"
   ]
  },
  {
   "cell_type": "markdown",
   "id": "1442f7a5",
   "metadata": {},
   "source": [
    "# e)\tDoes skill move have any effect in overall rating? Perform the graphical analysis and the statistical analysis."
   ]
  },
  {
   "cell_type": "code",
   "execution_count": 88,
   "id": "96431219",
   "metadata": {},
   "outputs": [
    {
     "data": {
      "text/plain": [
       "array([4, 5, 1, 3, 2], dtype=int64)"
      ]
     },
     "execution_count": 88,
     "metadata": {},
     "output_type": "execute_result"
    }
   ],
   "source": [
    "fifa['Skill Moves'].unique()"
   ]
  },
  {
   "cell_type": "code",
   "execution_count": 89,
   "id": "d823cf4e",
   "metadata": {},
   "outputs": [
    {
     "data": {
      "text/plain": [
       "Name                         object\n",
       "Age                           int64\n",
       "Nationality                  object\n",
       "Overall_rating                int64\n",
       "Potential                     int64\n",
       "Club                         object\n",
       "Preferred Foot               object\n",
       "International Reputation      int64\n",
       "Weak Foot                     int64\n",
       "Skill Moves                   int64\n",
       "Work Rate                    object\n",
       "Position                     object\n",
       "Jersey Number                 int64\n",
       "Height                      float64\n",
       "Weight                        int64\n",
       "dtype: object"
      ]
     },
     "execution_count": 89,
     "metadata": {},
     "output_type": "execute_result"
    }
   ],
   "source": [
    "fifa.dtypes"
   ]
  },
  {
   "cell_type": "markdown",
   "id": "c31129f4",
   "metadata": {},
   "source": [
    "Since, the skill move is a categorical variable and overall rating is numerical variable.\n",
    "To use one way anova test to check the variability of the overall rating with respect to different skill moves;\n",
    "the sample should be drawn from normally distributed data and the population variannces for the different skill move is equal. "
   ]
  },
  {
   "cell_type": "markdown",
   "id": "262a70ed",
   "metadata": {},
   "source": [
    "# Constructing the hypothesis"
   ]
  },
  {
   "cell_type": "markdown",
   "id": "ec5c4928",
   "metadata": {},
   "source": [
    "# Null hypothesis\n",
    "Different skill moves has no effect on the overall rating"
   ]
  },
  {
   "cell_type": "markdown",
   "id": "60cba95c",
   "metadata": {},
   "source": [
    "# Alternative Hypothesis\n",
    "There is atleast one move which has effect on overall rating"
   ]
  },
  {
   "cell_type": "markdown",
   "id": "dc87ef6c",
   "metadata": {},
   "source": [
    "It is Right tailed test"
   ]
  },
  {
   "cell_type": "code",
   "execution_count": 104,
   "id": "f6aab00f",
   "metadata": {},
   "outputs": [],
   "source": [
    "fifa['Skill Moves']=fifa['Skill Moves'].astype('int64')"
   ]
  },
  {
   "cell_type": "code",
   "execution_count": 105,
   "id": "0a068e0f",
   "metadata": {},
   "outputs": [
    {
     "data": {
      "text/plain": [
       "Name                         object\n",
       "Age                           int64\n",
       "Nationality                  object\n",
       "Overall_rating                int64\n",
       "Potential                     int64\n",
       "Club                         object\n",
       "Preferred Foot               object\n",
       "International Reputation      int64\n",
       "Weak Foot                     int64\n",
       "Skill Moves                   int64\n",
       "Work Rate                    object\n",
       "Position                     object\n",
       "Jersey Number                 int64\n",
       "Height                      float64\n",
       "Weight                        int64\n",
       "dtype: object"
      ]
     },
     "execution_count": 105,
     "metadata": {},
     "output_type": "execute_result"
    }
   ],
   "source": [
    "fifa.dtypes"
   ]
  },
  {
   "cell_type": "code",
   "execution_count": 114,
   "id": "159a45d4",
   "metadata": {},
   "outputs": [],
   "source": [
    "rating1=fifa[fifa['Skill Moves']==1]['Overall_rating']\n",
    "rating2=fifa[fifa['Skill Moves']==2]['Overall_rating']\n",
    "rating3=fifa[fifa['Skill Moves']==3]['Overall_rating']\n",
    "rating4=fifa[fifa['Skill Moves']==4]['Overall_rating']\n",
    "rating5=fifa[fifa['Skill Moves']==5]['Overall_rating']"
   ]
  },
  {
   "cell_type": "code",
   "execution_count": 107,
   "id": "697a3218",
   "metadata": {},
   "outputs": [
    {
     "data": {
      "text/plain": [
       "F_onewayResult(statistic=31.085141826531746, pvalue=3.8236370526660514e-25)"
      ]
     },
     "execution_count": 107,
     "metadata": {},
     "output_type": "execute_result"
    }
   ],
   "source": [
    "stats.f_oneway(rating1,rating2, rating3, rating4, rating5)"
   ]
  },
  {
   "cell_type": "markdown",
   "id": "3dd3ea7a",
   "metadata": {},
   "source": [
    "# Inference:-\n",
    "Since, pvalue is less than the alpha=0.05.\n",
    "So, reject the H0.\n",
    "Therefore, There is atleast one skill moves which has effect on overall rating."
   ]
  },
  {
   "cell_type": "code",
   "execution_count": 115,
   "id": "d0e78fb6",
   "metadata": {},
   "outputs": [
    {
     "data": {
      "text/plain": [
       "<AxesSubplot:xlabel='Skill Moves', ylabel='Overall_rating'>"
      ]
     },
     "execution_count": 115,
     "metadata": {},
     "output_type": "execute_result"
    },
    {
     "data": {
      "image/png": "[encoded data removed]",
      "text/plain": [
       "<Figure size 432x288 with 1 Axes>"
      ]
     },
     "metadata": {
      "needs_background": "light"
     },
     "output_type": "display_data"
    }
   ],
   "source": [
    "sns.boxplot(x=fifa['Skill Moves'], y=fifa['Overall_rating'])"
   ]
  },
  {
   "cell_type": "markdown",
   "id": "0aefb19b",
   "metadata": {},
   "source": [
    "# 2. Perform the following statistical analysis on the mobile network dataset given. The given data set contains information about the internet, calls, and messages of various network. Data Cleaning and basic EDA process needs to be performed. "
   ]
  },
  {
   "cell_type": "markdown",
   "id": "4c9f69a6",
   "metadata": {},
   "source": [
    "# a) With 95% & 99% Confidence Interval, find the range estimate of average duration calls made by the entire network. Which of the Intervals are wider? Interpret the results."
   ]
  },
  {
   "cell_type": "code",
   "execution_count": 116,
   "id": "1c402ef6",
   "metadata": {},
   "outputs": [],
   "source": [
    "phone=pd.read_csv('phone.csv')"
   ]
  },
  {
   "cell_type": "code",
   "execution_count": 117,
   "id": "e543dfae",
   "metadata": {},
   "outputs": [
    {
     "data": {
      "text/html": [
       "<div>\n",
       "<style scoped>\n",
       "    .dataframe tbody tr th:only-of-type {\n",
       "        vertical-align: middle;\n",
       "    }\n",
       "\n",
       "    .dataframe tbody tr th {\n",
       "        vertical-align: top;\n",
       "    }\n",
       "\n",
       "    .dataframe thead th {\n",
       "        text-align: right;\n",
       "    }\n",
       "</style>\n",
       "<table border=\"1\" class=\"dataframe\">\n",
       "  <thead>\n",
       "    <tr style=\"text-align: right;\">\n",
       "      <th></th>\n",
       "      <th>date</th>\n",
       "      <th>duration</th>\n",
       "      <th>item</th>\n",
       "      <th>month</th>\n",
       "      <th>network</th>\n",
       "      <th>network_type</th>\n",
       "    </tr>\n",
       "  </thead>\n",
       "  <tbody>\n",
       "    <tr>\n",
       "      <th>0</th>\n",
       "      <td>15-10-14 6:58</td>\n",
       "      <td>221.321120</td>\n",
       "      <td>data</td>\n",
       "      <td>2014-11</td>\n",
       "      <td>data</td>\n",
       "      <td>data</td>\n",
       "    </tr>\n",
       "    <tr>\n",
       "      <th>1</th>\n",
       "      <td>15-10-14 6:58</td>\n",
       "      <td>81.610599</td>\n",
       "      <td>call</td>\n",
       "      <td>2014-11</td>\n",
       "      <td>Vodafone</td>\n",
       "      <td>mobile</td>\n",
       "    </tr>\n",
       "    <tr>\n",
       "      <th>2</th>\n",
       "      <td>15-10-14 14:46</td>\n",
       "      <td>143.109111</td>\n",
       "      <td>call</td>\n",
       "      <td>2014-11</td>\n",
       "      <td>Meteor</td>\n",
       "      <td>mobile</td>\n",
       "    </tr>\n",
       "    <tr>\n",
       "      <th>3</th>\n",
       "      <td>15-10-14 14:48</td>\n",
       "      <td>111.888670</td>\n",
       "      <td>call</td>\n",
       "      <td>2014-11</td>\n",
       "      <td>Tesco</td>\n",
       "      <td>mobile</td>\n",
       "    </tr>\n",
       "    <tr>\n",
       "      <th>4</th>\n",
       "      <td>15-10-14 17:27</td>\n",
       "      <td>246.695171</td>\n",
       "      <td>call</td>\n",
       "      <td>2014-11</td>\n",
       "      <td>Tesco</td>\n",
       "      <td>mobile</td>\n",
       "    </tr>\n",
       "  </tbody>\n",
       "</table>\n",
       "</div>"
      ],
      "text/plain": [
       "             date    duration  item    month   network network_type\n",
       "0   15-10-14 6:58  221.321120  data  2014-11      data         data\n",
       "1   15-10-14 6:58   81.610599  call  2014-11  Vodafone       mobile\n",
       "2  15-10-14 14:46  143.109111  call  2014-11    Meteor       mobile\n",
       "3  15-10-14 14:48  111.888670  call  2014-11     Tesco       mobile\n",
       "4  15-10-14 17:27  246.695171  call  2014-11     Tesco       mobile"
      ]
     },
     "execution_count": 117,
     "metadata": {},
     "output_type": "execute_result"
    }
   ],
   "source": [
    "phone.head()"
   ]
  },
  {
   "cell_type": "code",
   "execution_count": 118,
   "id": "110e2c85",
   "metadata": {},
   "outputs": [
    {
     "data": {
      "text/plain": [
       "date             object\n",
       "duration        float64\n",
       "item             object\n",
       "month            object\n",
       "network          object\n",
       "network_type     object\n",
       "dtype: object"
      ]
     },
     "execution_count": 118,
     "metadata": {},
     "output_type": "execute_result"
    }
   ],
   "source": [
    "phone.dtypes"
   ]
  },
  {
   "cell_type": "markdown",
   "id": "dd7d0198",
   "metadata": {},
   "source": [
    "# 95% Confidence interval"
   ]
  },
  {
   "cell_type": "code",
   "execution_count": 125,
   "id": "90397fa0",
   "metadata": {},
   "outputs": [],
   "source": [
    "samp_mean=np.mean(phone['duration'])"
   ]
  },
  {
   "cell_type": "code",
   "execution_count": 124,
   "id": "faf733fc",
   "metadata": {},
   "outputs": [],
   "source": [
    "samp_std=np.std(phone['duration'])"
   ]
  },
  {
   "cell_type": "code",
   "execution_count": 136,
   "id": "b95af510",
   "metadata": {},
   "outputs": [
    {
     "data": {
      "text/plain": [
       "(141.1797470762666, 147.4301240434043)"
      ]
     },
     "execution_count": 136,
     "metadata": {},
     "output_type": "execute_result"
    }
   ],
   "source": [
    "stats.norm.interval(0.95, loc=samp_mean, scale=samp_std/np.sqrt(len(phone)))"
   ]
  },
  {
   "cell_type": "markdown",
   "id": "051fed2b",
   "metadata": {},
   "source": [
    "# 99% Confidence interval"
   ]
  },
  {
   "cell_type": "code",
   "execution_count": 137,
   "id": "f2eae081",
   "metadata": {},
   "outputs": [
    {
     "data": {
      "text/plain": [
       "(140.1977416835259, 148.41212943614502)"
      ]
     },
     "execution_count": 137,
     "metadata": {},
     "output_type": "execute_result"
    }
   ],
   "source": [
    "stats.norm.interval(0.99, loc=samp_mean, scale=samp_std/np.sqrt(len(phone)))"
   ]
  },
  {
   "cell_type": "markdown",
   "id": "0dd933fa",
   "metadata": {},
   "source": [
    "99% confidence interval is wider because in this interval we decreasing the rejection region."
   ]
  },
  {
   "cell_type": "markdown",
   "id": "a1d373fb",
   "metadata": {},
   "source": [
    "# Perform statistical analysis to check whether the networks are equally distributed in the dataset."
   ]
  },
  {
   "cell_type": "code",
   "execution_count": 139,
   "id": "baaef9c8",
   "metadata": {},
   "outputs": [
    {
     "data": {
      "text/html": [
       "<div>\n",
       "<style scoped>\n",
       "    .dataframe tbody tr th:only-of-type {\n",
       "        vertical-align: middle;\n",
       "    }\n",
       "\n",
       "    .dataframe tbody tr th {\n",
       "        vertical-align: top;\n",
       "    }\n",
       "\n",
       "    .dataframe thead th {\n",
       "        text-align: right;\n",
       "    }\n",
       "</style>\n",
       "<table border=\"1\" class=\"dataframe\">\n",
       "  <thead>\n",
       "    <tr style=\"text-align: right;\">\n",
       "      <th></th>\n",
       "      <th>date</th>\n",
       "      <th>duration</th>\n",
       "      <th>item</th>\n",
       "      <th>month</th>\n",
       "      <th>network</th>\n",
       "      <th>network_type</th>\n",
       "    </tr>\n",
       "  </thead>\n",
       "  <tbody>\n",
       "    <tr>\n",
       "      <th>0</th>\n",
       "      <td>15-10-14 6:58</td>\n",
       "      <td>221.321120</td>\n",
       "      <td>data</td>\n",
       "      <td>2014-11</td>\n",
       "      <td>data</td>\n",
       "      <td>data</td>\n",
       "    </tr>\n",
       "    <tr>\n",
       "      <th>1</th>\n",
       "      <td>15-10-14 6:58</td>\n",
       "      <td>81.610599</td>\n",
       "      <td>call</td>\n",
       "      <td>2014-11</td>\n",
       "      <td>Vodafone</td>\n",
       "      <td>mobile</td>\n",
       "    </tr>\n",
       "    <tr>\n",
       "      <th>2</th>\n",
       "      <td>15-10-14 14:46</td>\n",
       "      <td>143.109111</td>\n",
       "      <td>call</td>\n",
       "      <td>2014-11</td>\n",
       "      <td>Meteor</td>\n",
       "      <td>mobile</td>\n",
       "    </tr>\n",
       "    <tr>\n",
       "      <th>3</th>\n",
       "      <td>15-10-14 14:48</td>\n",
       "      <td>111.888670</td>\n",
       "      <td>call</td>\n",
       "      <td>2014-11</td>\n",
       "      <td>Tesco</td>\n",
       "      <td>mobile</td>\n",
       "    </tr>\n",
       "    <tr>\n",
       "      <th>4</th>\n",
       "      <td>15-10-14 17:27</td>\n",
       "      <td>246.695171</td>\n",
       "      <td>call</td>\n",
       "      <td>2014-11</td>\n",
       "      <td>Tesco</td>\n",
       "      <td>mobile</td>\n",
       "    </tr>\n",
       "  </tbody>\n",
       "</table>\n",
       "</div>"
      ],
      "text/plain": [
       "             date    duration  item    month   network network_type\n",
       "0   15-10-14 6:58  221.321120  data  2014-11      data         data\n",
       "1   15-10-14 6:58   81.610599  call  2014-11  Vodafone       mobile\n",
       "2  15-10-14 14:46  143.109111  call  2014-11    Meteor       mobile\n",
       "3  15-10-14 14:48  111.888670  call  2014-11     Tesco       mobile\n",
       "4  15-10-14 17:27  246.695171  call  2014-11     Tesco       mobile"
      ]
     },
     "execution_count": 139,
     "metadata": {},
     "output_type": "execute_result"
    }
   ],
   "source": [
    "phone.head()"
   ]
  },
  {
   "cell_type": "code",
   "execution_count": 145,
   "id": "641ceb98",
   "metadata": {},
   "outputs": [
    {
     "data": {
      "text/plain": [
       "array(['data', 'Vodafone', 'Meteor', 'Tesco', 'Three', 'voicemail',\n",
       "       'landline'], dtype=object)"
      ]
     },
     "execution_count": 145,
     "metadata": {},
     "output_type": "execute_result"
    }
   ],
   "source": [
    "phone.network.unique()"
   ]
  },
  {
   "cell_type": "markdown",
   "id": "28e64f60",
   "metadata": {},
   "source": [
    "# Constructing the hypothesis"
   ]
  },
  {
   "cell_type": "markdown",
   "id": "f620c7c7",
   "metadata": {},
   "source": [
    "# Null Hypothesis\n",
    "There is no difference between observed value and expected value."
   ]
  },
  {
   "cell_type": "markdown",
   "id": "c7576b78",
   "metadata": {},
   "source": [
    "# Alternate Hypothesis\n",
    "There is no difference between observed value and expected value."
   ]
  },
  {
   "cell_type": "code",
   "execution_count": 170,
   "id": "cf2e2610",
   "metadata": {},
   "outputs": [
    {
     "data": {
      "text/plain": [
       "Vodafone     215\n",
       "Three        215\n",
       "data         150\n",
       "Meteor        87\n",
       "Tesco         84\n",
       "landline      42\n",
       "voicemail     27\n",
       "Name: network, dtype: int64"
      ]
     },
     "execution_count": 170,
     "metadata": {},
     "output_type": "execute_result"
    }
   ],
   "source": [
    "phone.network.value_counts()"
   ]
  },
  {
   "cell_type": "code",
   "execution_count": 177,
   "id": "49a26818",
   "metadata": {},
   "outputs": [
    {
     "data": {
      "text/plain": [
       "[117.0, 117.0, 117.0, 117.0, 117.0, 117.0, 117.0]"
      ]
     },
     "execution_count": 177,
     "metadata": {},
     "output_type": "execute_result"
    }
   ],
   "source": [
    "obs=phone.network.value_counts().values\n",
    "exp=[np.round(len(phone)/7)]*7\n",
    "exp"
   ]
  },
  {
   "cell_type": "code",
   "execution_count": 178,
   "id": "aa10d658",
   "metadata": {},
   "outputs": [
    {
     "data": {
      "text/plain": [
       "Power_divergenceResult(statistic=307.7863247863248, pvalue=1.7542899243536984e-63)"
      ]
     },
     "execution_count": 178,
     "metadata": {},
     "output_type": "execute_result"
    }
   ],
   "source": [
    "stats.chisquare(obs,exp)"
   ]
  },
  {
   "cell_type": "markdown",
   "id": "f99bab58",
   "metadata": {},
   "source": [
    "# inference:-\n",
    "Since, pvalue is less then 0.05.\n",
    "So, Reject the H0.\n",
    "Therefore, All different categories of network is not equally distributed."
   ]
  },
  {
   "cell_type": "markdown",
   "id": "a4add012",
   "metadata": {},
   "source": [
    "# Plot the distribution of duration with respect to each network in the same graph and interpret the results from the graph."
   ]
  },
  {
   "cell_type": "code",
   "execution_count": 156,
   "id": "b00c8d1c",
   "metadata": {},
   "outputs": [
    {
     "data": {
      "text/plain": [
       "<AxesSubplot:xlabel='network', ylabel='duration'>"
      ]
     },
     "execution_count": 156,
     "metadata": {},
     "output_type": "execute_result"
    },
    {
     "data": {
      "image/png": "[encoded data removed]",
      "text/plain": [
       "<Figure size 432x288 with 1 Axes>"
      ]
     },
     "metadata": {
      "needs_background": "light"
     },
     "output_type": "display_data"
    }
   ],
   "source": [
    "sns.boxplot(x=phone['network'], y=phone['duration'])"
   ]
  },
  {
   "cell_type": "code",
   "execution_count": 152,
   "id": "10ba5cf1",
   "metadata": {},
   "outputs": [
    {
     "data": {
      "image/png": "[encoded data removed]",
      "text/plain": [
       "<Figure size 432x288 with 1 Axes>"
      ]
     },
     "metadata": {
      "needs_background": "light"
     },
     "output_type": "display_data"
    }
   ],
   "source": [
    "sns.kdeplot(x=phone['duration'], hue=phone['network']);"
   ]
  },
  {
   "cell_type": "markdown",
   "id": "3f96192b",
   "metadata": {},
   "source": [
    "# d)\tPerform statistical tests to identify the relation between item and duration. Detailed explanation of relation between the classes is required."
   ]
  },
  {
   "cell_type": "code",
   "execution_count": 157,
   "id": "b8e4459c",
   "metadata": {},
   "outputs": [
    {
     "data": {
      "text/plain": [
       "date             object\n",
       "duration        float64\n",
       "item             object\n",
       "month            object\n",
       "network          object\n",
       "network_type     object\n",
       "dtype: object"
      ]
     },
     "execution_count": 157,
     "metadata": {},
     "output_type": "execute_result"
    }
   ],
   "source": [
    "phone.dtypes"
   ]
  },
  {
   "cell_type": "code",
   "execution_count": 158,
   "id": "1a80d9cb",
   "metadata": {},
   "outputs": [
    {
     "data": {
      "text/plain": [
       "array(['data', 'call', 'sms'], dtype=object)"
      ]
     },
     "execution_count": 158,
     "metadata": {},
     "output_type": "execute_result"
    }
   ],
   "source": [
    "phone.item.unique()"
   ]
  },
  {
   "cell_type": "markdown",
   "id": "fe8bf2f1",
   "metadata": {},
   "source": [
    "# Constructing the Hypothesis"
   ]
  },
  {
   "cell_type": "markdown",
   "id": "998e7d00",
   "metadata": {},
   "source": [
    "# Null Hypothesis\n",
    "There is no relation between item and duration.\n"
   ]
  },
  {
   "cell_type": "markdown",
   "id": "453be1d9",
   "metadata": {},
   "source": [
    "# Alternate hypothesis\n",
    "Atleast one of the item has relation with the duration."
   ]
  },
  {
   "cell_type": "markdown",
   "id": "eca3f63e",
   "metadata": {},
   "source": [
    "Since, item is categorical variable and duration is numerical variable.\n",
    "Apply one way anova test,  "
   ]
  },
  {
   "cell_type": "code",
   "execution_count": 161,
   "id": "bfb4a7ca",
   "metadata": {},
   "outputs": [],
   "source": [
    "data=phone[phone['item']=='data']['duration']\n",
    "call=phone[phone['item']=='call']['duration']\n",
    "sms=phone[phone['item']=='sms']['duration']"
   ]
  },
  {
   "cell_type": "code",
   "execution_count": 162,
   "id": "fe2dc23c",
   "metadata": {},
   "outputs": [
    {
     "data": {
      "text/plain": [
       "F_onewayResult(statistic=1.9313964906864995, pvalue=0.1456068656611744)"
      ]
     },
     "execution_count": 162,
     "metadata": {},
     "output_type": "execute_result"
    }
   ],
   "source": [
    "stats.f_oneway(data, call, sms)"
   ]
  },
  {
   "cell_type": "markdown",
   "id": "c8468322",
   "metadata": {},
   "source": [
    "Conclusion:-There is atleast one category in item which has a relation with duration."
   ]
  },
  {
   "cell_type": "markdown",
   "id": "8210a6ef",
   "metadata": {},
   "source": [
    "# e)\tPerform statistical tests to identify the relation between network and network_type. "
   ]
  },
  {
   "cell_type": "markdown",
   "id": "1c354a28",
   "metadata": {},
   "source": [
    "# Constructing the hypothesis"
   ]
  },
  {
   "cell_type": "markdown",
   "id": "31ae96d7",
   "metadata": {},
   "source": [
    "# Null Hypothesis\n",
    "There is no relation between netwok and network type."
   ]
  },
  {
   "cell_type": "markdown",
   "id": "79fe2411",
   "metadata": {},
   "source": [
    "# Alternate Hypothesis\n",
    "There is a relation between netwok and network type."
   ]
  },
  {
   "cell_type": "code",
   "execution_count": 165,
   "id": "79d55193",
   "metadata": {},
   "outputs": [
    {
     "data": {
      "text/html": [
       "<div>\n",
       "<style scoped>\n",
       "    .dataframe tbody tr th:only-of-type {\n",
       "        vertical-align: middle;\n",
       "    }\n",
       "\n",
       "    .dataframe tbody tr th {\n",
       "        vertical-align: top;\n",
       "    }\n",
       "\n",
       "    .dataframe thead th {\n",
       "        text-align: right;\n",
       "    }\n",
       "</style>\n",
       "<table border=\"1\" class=\"dataframe\">\n",
       "  <thead>\n",
       "    <tr style=\"text-align: right;\">\n",
       "      <th>network_type</th>\n",
       "      <th>data</th>\n",
       "      <th>landline</th>\n",
       "      <th>mobile</th>\n",
       "      <th>voicemail</th>\n",
       "    </tr>\n",
       "    <tr>\n",
       "      <th>network</th>\n",
       "      <th></th>\n",
       "      <th></th>\n",
       "      <th></th>\n",
       "      <th></th>\n",
       "    </tr>\n",
       "  </thead>\n",
       "  <tbody>\n",
       "    <tr>\n",
       "      <th>Meteor</th>\n",
       "      <td>0</td>\n",
       "      <td>0</td>\n",
       "      <td>87</td>\n",
       "      <td>0</td>\n",
       "    </tr>\n",
       "    <tr>\n",
       "      <th>Tesco</th>\n",
       "      <td>0</td>\n",
       "      <td>0</td>\n",
       "      <td>84</td>\n",
       "      <td>0</td>\n",
       "    </tr>\n",
       "    <tr>\n",
       "      <th>Three</th>\n",
       "      <td>0</td>\n",
       "      <td>0</td>\n",
       "      <td>215</td>\n",
       "      <td>0</td>\n",
       "    </tr>\n",
       "    <tr>\n",
       "      <th>Vodafone</th>\n",
       "      <td>0</td>\n",
       "      <td>0</td>\n",
       "      <td>215</td>\n",
       "      <td>0</td>\n",
       "    </tr>\n",
       "    <tr>\n",
       "      <th>data</th>\n",
       "      <td>150</td>\n",
       "      <td>0</td>\n",
       "      <td>0</td>\n",
       "      <td>0</td>\n",
       "    </tr>\n",
       "    <tr>\n",
       "      <th>landline</th>\n",
       "      <td>0</td>\n",
       "      <td>42</td>\n",
       "      <td>0</td>\n",
       "      <td>0</td>\n",
       "    </tr>\n",
       "    <tr>\n",
       "      <th>voicemail</th>\n",
       "      <td>0</td>\n",
       "      <td>0</td>\n",
       "      <td>0</td>\n",
       "      <td>27</td>\n",
       "    </tr>\n",
       "  </tbody>\n",
       "</table>\n",
       "</div>"
      ],
      "text/plain": [
       "network_type  data  landline  mobile  voicemail\n",
       "network                                        \n",
       "Meteor           0         0      87          0\n",
       "Tesco            0         0      84          0\n",
       "Three            0         0     215          0\n",
       "Vodafone         0         0     215          0\n",
       "data           150         0       0          0\n",
       "landline         0        42       0          0\n",
       "voicemail        0         0       0         27"
      ]
     },
     "execution_count": 165,
     "metadata": {},
     "output_type": "execute_result"
    }
   ],
   "source": [
    "tb1=pd.crosstab(phone['network'], phone['network_type'])\n",
    "tb1"
   ]
  },
  {
   "cell_type": "code",
   "execution_count": 167,
   "id": "befa909b",
   "metadata": {},
   "outputs": [],
   "source": [
    "test_stats, pvalue, df, exp_value=stats.chi2_contingency(tb1)"
   ]
  },
  {
   "cell_type": "code",
   "execution_count": 168,
   "id": "1b8c579a",
   "metadata": {},
   "outputs": [
    {
     "name": "stdout",
     "output_type": "stream",
     "text": [
      "Pvalue 0.0\n"
     ]
    }
   ],
   "source": [
    "print('Pvalue', pvalue)"
   ]
  },
  {
   "cell_type": "markdown",
   "id": "b90829ac",
   "metadata": {},
   "source": [
    "Conclusion:-\n",
    "There is a relation between netwok and network-type."
   ]
  }
 ],
 "metadata": {
  "kernelspec": {
   "display_name": "Python 3",
   "language": "python",
   "name": "python3"
  },
  "language_info": {
   "codemirror_mode": {
    "name": "ipython",
    "version": 3
   },
   "file_extension": ".py",
   "mimetype": "text/x-python",
   "name": "python",
   "nbconvert_exporter": "python",
   "pygments_lexer": "ipython3",
   "version": "3.8.8"
  }
 },
 "nbformat": 4,
 "nbformat_minor": 5
}
