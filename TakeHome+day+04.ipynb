{
 "cells": [
  {
   "cell_type": "code",
   "execution_count": 1,
   "id": "e8f9b2fd",
   "metadata": {},
   "outputs": [],
   "source": [
    "import numpy as np \n",
    "import pandas as pd\n",
    "import seaborn as sns\n",
    "import matplotlib.pyplot as plt\n"
   ]
  },
  {
   "cell_type": "code",
   "execution_count": 2,
   "id": "e5746e34",
   "metadata": {},
   "outputs": [],
   "source": [
    "plt.rcParams['figure.figsize'] = [15,8]"
   ]
  },
  {
   "cell_type": "code",
   "execution_count": 3,
   "id": "d1094edb",
   "metadata": {},
   "outputs": [
    {
     "data": {
      "text/html": [
       "<div>\n",
       "<style scoped>\n",
       "    .dataframe tbody tr th:only-of-type {\n",
       "        vertical-align: middle;\n",
       "    }\n",
       "\n",
       "    .dataframe tbody tr th {\n",
       "        vertical-align: top;\n",
       "    }\n",
       "\n",
       "    .dataframe thead th {\n",
       "        text-align: right;\n",
       "    }\n",
       "</style>\n",
       "<table border=\"1\" class=\"dataframe\">\n",
       "  <thead>\n",
       "    <tr style=\"text-align: right;\">\n",
       "      <th></th>\n",
       "      <th>Global_active_power</th>\n",
       "      <th>Global_reactive_power</th>\n",
       "      <th>Voltage</th>\n",
       "      <th>Global_intensity</th>\n",
       "      <th>Kitchen_consumption</th>\n",
       "      <th>Laundry_consumption</th>\n",
       "      <th>Other_appliances_consumption</th>\n",
       "    </tr>\n",
       "  </thead>\n",
       "  <tbody>\n",
       "    <tr>\n",
       "      <th>0</th>\n",
       "      <td>2.242</td>\n",
       "      <td>0.162</td>\n",
       "      <td>237.33</td>\n",
       "      <td>10.0</td>\n",
       "      <td>1</td>\n",
       "      <td>7</td>\n",
       "      <td>17</td>\n",
       "    </tr>\n",
       "    <tr>\n",
       "      <th>1</th>\n",
       "      <td>3.714</td>\n",
       "      <td>0.296</td>\n",
       "      <td>235.15</td>\n",
       "      <td>15.8</td>\n",
       "      <td>2</td>\n",
       "      <td>35</td>\n",
       "      <td>17</td>\n",
       "    </tr>\n",
       "    <tr>\n",
       "      <th>2</th>\n",
       "      <td>3.212</td>\n",
       "      <td>0.304</td>\n",
       "      <td>235.99</td>\n",
       "      <td>14.2</td>\n",
       "      <td>1</td>\n",
       "      <td>26</td>\n",
       "      <td>17</td>\n",
       "    </tr>\n",
       "    <tr>\n",
       "      <th>3</th>\n",
       "      <td>3.694</td>\n",
       "      <td>0.280</td>\n",
       "      <td>235.16</td>\n",
       "      <td>15.6</td>\n",
       "      <td>1</td>\n",
       "      <td>35</td>\n",
       "      <td>17</td>\n",
       "    </tr>\n",
       "    <tr>\n",
       "      <th>4</th>\n",
       "      <td>3.204</td>\n",
       "      <td>0.292</td>\n",
       "      <td>236.08</td>\n",
       "      <td>14.0</td>\n",
       "      <td>1</td>\n",
       "      <td>27</td>\n",
       "      <td>17</td>\n",
       "    </tr>\n",
       "  </tbody>\n",
       "</table>\n",
       "</div>"
      ],
      "text/plain": [
       "   Global_active_power  Global_reactive_power  Voltage  Global_intensity  \\\n",
       "0                2.242                  0.162   237.33              10.0   \n",
       "1                3.714                  0.296   235.15              15.8   \n",
       "2                3.212                  0.304   235.99              14.2   \n",
       "3                3.694                  0.280   235.16              15.6   \n",
       "4                3.204                  0.292   236.08              14.0   \n",
       "\n",
       "   Kitchen_consumption  Laundry_consumption  Other_appliances_consumption  \n",
       "0                    1                    7                            17  \n",
       "1                    2                   35                            17  \n",
       "2                    1                   26                            17  \n",
       "3                    1                   35                            17  \n",
       "4                    1                   27                            17  "
      ]
     },
     "execution_count": 3,
     "metadata": {},
     "output_type": "execute_result"
    }
   ],
   "source": [
    "df_power = pd.read_excel('power.xlsx')\n",
    "\n",
    "# head() to display top five rows\n",
    "df_power.head()\n"
   ]
  },
  {
   "cell_type": "code",
   "execution_count": 4,
   "id": "88ae5fc0",
   "metadata": {},
   "outputs": [
    {
     "data": {
      "text/plain": [
       "(21240, 7)"
      ]
     },
     "execution_count": 4,
     "metadata": {},
     "output_type": "execute_result"
    }
   ],
   "source": [
    "df_power.shape"
   ]
  },
  {
   "cell_type": "code",
   "execution_count": 5,
   "id": "e0356aae",
   "metadata": {
    "scrolled": true
   },
   "outputs": [
    {
     "data": {
      "text/plain": [
       "Global_active_power             float64\n",
       "Global_reactive_power           float64\n",
       "Voltage                         float64\n",
       "Global_intensity                float64\n",
       "Kitchen_consumption               int64\n",
       "Laundry_consumption               int64\n",
       "Other_appliances_consumption      int64\n",
       "dtype: object"
      ]
     },
     "execution_count": 5,
     "metadata": {},
     "output_type": "execute_result"
    }
   ],
   "source": [
    "df_power.dtypes"
   ]
  },
  {
   "cell_type": "code",
   "execution_count": 13,
   "id": "dc8561b2",
   "metadata": {
    "collapsed": true
   },
   "outputs": [
    {
     "data": {
      "image/png": "[encoded data removed]",
      "text/plain": [
       "<Figure size 1080x576 with 8 Axes>"
      ]
     },
     "metadata": {
      "needs_background": "light"
     },
     "output_type": "display_data"
    }
   ],
   "source": [
    "from warnings import filterwarnings\n",
    "filterwarnings('ignore')\n",
    "fig, ax= plt.subplots(nrows=4, ncols=2, figsize=(15,8))\n",
    "for variable, subplots in zip(df_power.columns,ax.flatten()):\n",
    "    sns.boxplot(df_power[variable], ax=subplots)\n",
    "plt.tight_layout()\n",
    "plt.show()"
   ]
  },
  {
   "cell_type": "code",
   "execution_count": 17,
   "id": "73356549",
   "metadata": {},
   "outputs": [],
   "source": [
    "Q1=df_power.quantile(0.25)\n",
    "Q3=df_power.quantile(0.75)\n",
    "IQR=Q3-Q1\n",
    "df_power=df_power[~((df_power<Q1-1.5*IQR) | (df_power>Q3+1.5*IQR)).any(axis=1)]"
   ]
  },
  {
   "cell_type": "code",
   "execution_count": 18,
   "id": "9099f1e5",
   "metadata": {},
   "outputs": [
    {
     "data": {
      "text/plain": [
       "(16724, 7)"
      ]
     },
     "execution_count": 18,
     "metadata": {},
     "output_type": "execute_result"
    }
   ],
   "source": [
    "df_power.shape"
   ]
  },
  {
   "cell_type": "code",
   "execution_count": 25,
   "id": "d36596e2",
   "metadata": {},
   "outputs": [
    {
     "data": {
      "image/png": "[encoded data removed]",
      "text/plain": [
       "<Figure size 1080x576 with 8 Axes>"
      ]
     },
     "metadata": {
      "needs_background": "light"
     },
     "output_type": "display_data"
    }
   ],
   "source": [
    "fig, ax= plt.subplots(nrows=2, ncols=4, figsize=[15,8])\n",
    "for variable, subplots in zip(df_power.columns, ax.flatten()):\n",
    "    sns.boxplot(df_power[variable],ax=subplots)\n",
    "plt.tight_layout()\n",
    "plt.show()"
   ]
  },
  {
   "cell_type": "code",
   "execution_count": 26,
   "id": "00bfd2ce",
   "metadata": {},
   "outputs": [
    {
     "data": {
      "text/html": [
       "<div>\n",
       "<style scoped>\n",
       "    .dataframe tbody tr th:only-of-type {\n",
       "        vertical-align: middle;\n",
       "    }\n",
       "\n",
       "    .dataframe tbody tr th {\n",
       "        vertical-align: top;\n",
       "    }\n",
       "\n",
       "    .dataframe thead th {\n",
       "        text-align: right;\n",
       "    }\n",
       "</style>\n",
       "<table border=\"1\" class=\"dataframe\">\n",
       "  <thead>\n",
       "    <tr style=\"text-align: right;\">\n",
       "      <th></th>\n",
       "      <th>Global_active_power</th>\n",
       "      <th>Global_reactive_power</th>\n",
       "      <th>Voltage</th>\n",
       "      <th>Global_intensity</th>\n",
       "      <th>Kitchen_consumption</th>\n",
       "      <th>Laundry_consumption</th>\n",
       "      <th>Other_appliances_consumption</th>\n",
       "    </tr>\n",
       "  </thead>\n",
       "  <tbody>\n",
       "    <tr>\n",
       "      <th>count</th>\n",
       "      <td>16724.000000</td>\n",
       "      <td>16724.000000</td>\n",
       "      <td>16724.000000</td>\n",
       "      <td>16724.000000</td>\n",
       "      <td>16724.000000</td>\n",
       "      <td>16724.000000</td>\n",
       "      <td>16724.000000</td>\n",
       "    </tr>\n",
       "    <tr>\n",
       "      <th>mean</th>\n",
       "      <td>3.197480</td>\n",
       "      <td>0.249404</td>\n",
       "      <td>237.351591</td>\n",
       "      <td>13.601495</td>\n",
       "      <td>13.151937</td>\n",
       "      <td>6.802141</td>\n",
       "      <td>17.428426</td>\n",
       "    </tr>\n",
       "    <tr>\n",
       "      <th>std</th>\n",
       "      <td>1.444141</td>\n",
       "      <td>0.132148</td>\n",
       "      <td>3.289317</td>\n",
       "      <td>6.204866</td>\n",
       "      <td>16.384600</td>\n",
       "      <td>10.920451</td>\n",
       "      <td>0.705236</td>\n",
       "    </tr>\n",
       "    <tr>\n",
       "      <th>min</th>\n",
       "      <td>0.302000</td>\n",
       "      <td>0.046000</td>\n",
       "      <td>228.600000</td>\n",
       "      <td>1.200000</td>\n",
       "      <td>1.000000</td>\n",
       "      <td>1.000000</td>\n",
       "      <td>16.000000</td>\n",
       "    </tr>\n",
       "    <tr>\n",
       "      <th>25%</th>\n",
       "      <td>1.858000</td>\n",
       "      <td>0.144000</td>\n",
       "      <td>235.220000</td>\n",
       "      <td>7.800000</td>\n",
       "      <td>1.000000</td>\n",
       "      <td>1.000000</td>\n",
       "      <td>17.000000</td>\n",
       "    </tr>\n",
       "    <tr>\n",
       "      <th>50%</th>\n",
       "      <td>3.096000</td>\n",
       "      <td>0.230000</td>\n",
       "      <td>237.510000</td>\n",
       "      <td>13.200000</td>\n",
       "      <td>1.000000</td>\n",
       "      <td>2.000000</td>\n",
       "      <td>17.000000</td>\n",
       "    </tr>\n",
       "    <tr>\n",
       "      <th>75%</th>\n",
       "      <td>4.100000</td>\n",
       "      <td>0.332000</td>\n",
       "      <td>239.520000</td>\n",
       "      <td>17.400000</td>\n",
       "      <td>36.000000</td>\n",
       "      <td>4.000000</td>\n",
       "      <td>18.000000</td>\n",
       "    </tr>\n",
       "    <tr>\n",
       "      <th>max</th>\n",
       "      <td>7.716000</td>\n",
       "      <td>0.632000</td>\n",
       "      <td>246.150000</td>\n",
       "      <td>33.000000</td>\n",
       "      <td>40.000000</td>\n",
       "      <td>36.000000</td>\n",
       "      <td>19.000000</td>\n",
       "    </tr>\n",
       "  </tbody>\n",
       "</table>\n",
       "</div>"
      ],
      "text/plain": [
       "       Global_active_power  Global_reactive_power       Voltage  \\\n",
       "count         16724.000000           16724.000000  16724.000000   \n",
       "mean              3.197480               0.249404    237.351591   \n",
       "std               1.444141               0.132148      3.289317   \n",
       "min               0.302000               0.046000    228.600000   \n",
       "25%               1.858000               0.144000    235.220000   \n",
       "50%               3.096000               0.230000    237.510000   \n",
       "75%               4.100000               0.332000    239.520000   \n",
       "max               7.716000               0.632000    246.150000   \n",
       "\n",
       "       Global_intensity  Kitchen_consumption  Laundry_consumption  \\\n",
       "count      16724.000000         16724.000000         16724.000000   \n",
       "mean          13.601495            13.151937             6.802141   \n",
       "std            6.204866            16.384600            10.920451   \n",
       "min            1.200000             1.000000             1.000000   \n",
       "25%            7.800000             1.000000             1.000000   \n",
       "50%           13.200000             1.000000             2.000000   \n",
       "75%           17.400000            36.000000             4.000000   \n",
       "max           33.000000            40.000000            36.000000   \n",
       "\n",
       "       Other_appliances_consumption  \n",
       "count                  16724.000000  \n",
       "mean                      17.428426  \n",
       "std                        0.705236  \n",
       "min                       16.000000  \n",
       "25%                       17.000000  \n",
       "50%                       17.000000  \n",
       "75%                       18.000000  \n",
       "max                       19.000000  "
      ]
     },
     "execution_count": 26,
     "metadata": {},
     "output_type": "execute_result"
    }
   ],
   "source": [
    "df_power.describe()"
   ]
  },
  {
   "cell_type": "code",
   "execution_count": 31,
   "id": "ff32a275",
   "metadata": {},
   "outputs": [
    {
     "data": {
      "image/png": "[encoded data removed]",
      "text/plain": [
       "<Figure size 1080x576 with 2 Axes>"
      ]
     },
     "metadata": {
      "needs_background": "light"
     },
     "output_type": "display_data"
    }
   ],
   "source": [
    "sns.heatmap(df_power.isnull());\n",
    "plt.title('Heatmap for missingh value')\n",
    "plt.xlabel('Variable')\n",
    "plt.ylabel('observation')\n",
    "plt.show()"
   ]
  },
  {
   "cell_type": "code",
   "execution_count": 32,
   "id": "6b6fd98d",
   "metadata": {},
   "outputs": [],
   "source": [
    "feature= df_power.copy()"
   ]
  },
  {
   "cell_type": "code",
   "execution_count": 33,
   "id": "7ae75adb",
   "metadata": {},
   "outputs": [],
   "source": [
    "from sklearn.preprocessing import StandardScaler"
   ]
  },
  {
   "cell_type": "code",
   "execution_count": 35,
   "id": "5031367c",
   "metadata": {},
   "outputs": [
    {
     "data": {
      "text/html": [
       "<div>\n",
       "<style scoped>\n",
       "    .dataframe tbody tr th:only-of-type {\n",
       "        vertical-align: middle;\n",
       "    }\n",
       "\n",
       "    .dataframe tbody tr th {\n",
       "        vertical-align: top;\n",
       "    }\n",
       "\n",
       "    .dataframe thead th {\n",
       "        text-align: right;\n",
       "    }\n",
       "</style>\n",
       "<table border=\"1\" class=\"dataframe\">\n",
       "  <thead>\n",
       "    <tr style=\"text-align: right;\">\n",
       "      <th></th>\n",
       "      <th>Global_active_power</th>\n",
       "      <th>Global_reactive_power</th>\n",
       "      <th>Voltage</th>\n",
       "      <th>Global_intensity</th>\n",
       "      <th>Kitchen_consumption</th>\n",
       "      <th>Laundry_consumption</th>\n",
       "      <th>Other_appliances_consumption</th>\n",
       "    </tr>\n",
       "  </thead>\n",
       "  <tbody>\n",
       "    <tr>\n",
       "      <th>0</th>\n",
       "      <td>-0.661645</td>\n",
       "      <td>-0.661430</td>\n",
       "      <td>-0.006564</td>\n",
       "      <td>-0.580448</td>\n",
       "      <td>-0.741690</td>\n",
       "      <td>0.018119</td>\n",
       "      <td>-0.607511</td>\n",
       "    </tr>\n",
       "    <tr>\n",
       "      <th>1</th>\n",
       "      <td>0.357676</td>\n",
       "      <td>0.352612</td>\n",
       "      <td>-0.669335</td>\n",
       "      <td>0.354330</td>\n",
       "      <td>-0.680656</td>\n",
       "      <td>2.582192</td>\n",
       "      <td>-0.607511</td>\n",
       "    </tr>\n",
       "    <tr>\n",
       "      <th>2</th>\n",
       "      <td>0.010054</td>\n",
       "      <td>0.413151</td>\n",
       "      <td>-0.413956</td>\n",
       "      <td>0.096460</td>\n",
       "      <td>-0.741690</td>\n",
       "      <td>1.758026</td>\n",
       "      <td>-0.607511</td>\n",
       "    </tr>\n",
       "    <tr>\n",
       "      <th>3</th>\n",
       "      <td>0.343827</td>\n",
       "      <td>0.231532</td>\n",
       "      <td>-0.666295</td>\n",
       "      <td>0.322096</td>\n",
       "      <td>-0.741690</td>\n",
       "      <td>2.582192</td>\n",
       "      <td>-0.607511</td>\n",
       "    </tr>\n",
       "    <tr>\n",
       "      <th>4</th>\n",
       "      <td>0.004515</td>\n",
       "      <td>0.322342</td>\n",
       "      <td>-0.386593</td>\n",
       "      <td>0.064227</td>\n",
       "      <td>-0.741690</td>\n",
       "      <td>1.849600</td>\n",
       "      <td>-0.607511</td>\n",
       "    </tr>\n",
       "  </tbody>\n",
       "</table>\n",
       "</div>"
      ],
      "text/plain": [
       "   Global_active_power  Global_reactive_power   Voltage  Global_intensity  \\\n",
       "0            -0.661645              -0.661430 -0.006564         -0.580448   \n",
       "1             0.357676               0.352612 -0.669335          0.354330   \n",
       "2             0.010054               0.413151 -0.413956          0.096460   \n",
       "3             0.343827               0.231532 -0.666295          0.322096   \n",
       "4             0.004515               0.322342 -0.386593          0.064227   \n",
       "\n",
       "   Kitchen_consumption  Laundry_consumption  Other_appliances_consumption  \n",
       "0            -0.741690             0.018119                     -0.607511  \n",
       "1            -0.680656             2.582192                     -0.607511  \n",
       "2            -0.741690             1.758026                     -0.607511  \n",
       "3            -0.741690             2.582192                     -0.607511  \n",
       "4            -0.741690             1.849600                     -0.607511  "
      ]
     },
     "execution_count": 35,
     "metadata": {},
     "output_type": "execute_result"
    }
   ],
   "source": [
    "feature=StandardScaler().fit_transform(feature)\n",
    "scaled_feature=pd.DataFrame(feature,columns=df_power.columns)\n",
    "scaled_feature.head()"
   ]
  },
  {
   "cell_type": "markdown",
   "id": "d13d418e",
   "metadata": {},
   "source": [
    "# K- Means clustering"
   ]
  },
  {
   "cell_type": "code",
   "execution_count": 36,
   "id": "f07dcbab",
   "metadata": {},
   "outputs": [
    {
     "data": {
      "text/plain": [
       "[117068.00000000032,\n",
       " 76347.2135356142,\n",
       " 61555.7630246084,\n",
       " 52402.3197620824,\n",
       " 47249.50791185092]"
      ]
     },
     "execution_count": 36,
     "metadata": {},
     "output_type": "execute_result"
    }
   ],
   "source": [
    "from sklearn.cluster import KMeans\n",
    "wcss=[]\n",
    "for  i in range(1,8):\n",
    "    kmeans=KMeans(n_clusters=i, random_state=10)\n",
    "    kmeans.fit(scaled_feature)\n",
    "    wcss.append(kmeans.inertia_)\n",
    "wcss[0:5]"
   ]
  },
  {
   "cell_type": "code",
   "execution_count": 38,
   "id": "27771739",
   "metadata": {},
   "outputs": [
    {
     "data": {
      "image/png": "[encoded data removed]",
      "text/plain": [
       "<Figure size 1080x576 with 1 Axes>"
      ]
     },
     "metadata": {
      "needs_background": "light"
     },
     "output_type": "display_data"
    }
   ],
   "source": [
    "plt.plot(range(1,8), wcss)\n",
    "plt.title('ELbow Plot', fontsize=15)\n",
    "plt.xlabel('Number of clusters',fontsize=15)\n",
    "plt.ylabel('Within cluster sum squared', fontsize=15)\n",
    "plt.show()"
   ]
  },
  {
   "cell_type": "code",
   "execution_count": 39,
   "id": "d6537ea1",
   "metadata": {},
   "outputs": [
    {
     "name": "stdout",
     "output_type": "stream",
     "text": [
      "Collecting kneed\n",
      "  Downloading kneed-0.7.0-py2.py3-none-any.whl (9.4 kB)\n",
      "Requirement already satisfied: matplotlib in c:\\users\\user\\anaconda\\lib\\site-packages (from kneed) (3.3.4)\n",
      "Requirement already satisfied: scipy in c:\\users\\user\\anaconda\\lib\\site-packages (from kneed) (1.6.2)\n",
      "Requirement already satisfied: numpy>=1.14.2 in c:\\users\\user\\anaconda\\lib\\site-packages (from kneed) (1.20.1)\n",
      "Requirement already satisfied: pillow>=6.2.0 in c:\\users\\user\\anaconda\\lib\\site-packages (from matplotlib->kneed) (8.2.0)\n",
      "Requirement already satisfied: python-dateutil>=2.1 in c:\\users\\user\\anaconda\\lib\\site-packages (from matplotlib->kneed) (2.8.1)\n",
      "Requirement already satisfied: kiwisolver>=1.0.1 in c:\\users\\user\\anaconda\\lib\\site-packages (from matplotlib->kneed) (1.3.1)\n",
      "Requirement already satisfied: cycler>=0.10 in c:\\users\\user\\anaconda\\lib\\site-packages (from matplotlib->kneed) (0.10.0)\n",
      "Requirement already satisfied: pyparsing!=2.0.4,!=2.1.2,!=2.1.6,>=2.0.3 in c:\\users\\user\\anaconda\\lib\\site-packages (from matplotlib->kneed) (2.4.7)\n",
      "Requirement already satisfied: six in c:\\users\\user\\anaconda\\lib\\site-packages (from cycler>=0.10->matplotlib->kneed) (1.15.0)\n",
      "Installing collected packages: kneed\n",
      "Successfully installed kneed-0.7.0\n"
     ]
    }
   ],
   "source": [
    "! pip install kneed "
   ]
  },
  {
   "cell_type": "code",
   "execution_count": 40,
   "id": "127017e3",
   "metadata": {},
   "outputs": [],
   "source": [
    "from kneed.knee_locator import KneeLocator"
   ]
  },
  {
   "cell_type": "code",
   "execution_count": 41,
   "id": "f3af942f",
   "metadata": {},
   "outputs": [],
   "source": [
    "k=KneeLocator(x=range(1,8), y=wcss, curve='convex', direction='decreasing')"
   ]
  },
  {
   "cell_type": "code",
   "execution_count": 42,
   "id": "2e14ae3d",
   "metadata": {},
   "outputs": [
    {
     "data": {
      "text/plain": [
       "3"
      ]
     },
     "execution_count": 42,
     "metadata": {},
     "output_type": "execute_result"
    }
   ],
   "source": [
    "k.elbow"
   ]
  },
  {
   "cell_type": "code",
   "execution_count": 49,
   "id": "504291c9",
   "metadata": {},
   "outputs": [
    {
     "name": "stdout",
     "output_type": "stream",
     "text": [
      "for n_cluster=2, the silhouette score is 0.32854399395913186\n",
      "for n_cluster=3, the silhouette score is 0.3416254585956104\n",
      "for n_cluster=4, the silhouette score is 0.2783093083068228\n",
      "for n_cluster=5, the silhouette score is 0.2872087661116923\n",
      "for n_cluster=6, the silhouette score is 0.27428917764463195\n",
      "for n_cluster=7, the silhouette score is 0.2634628924611293\n"
     ]
    }
   ],
   "source": [
    "from sklearn.metrics import silhouette_score\n",
    "n_cluster=[2,3,4,5,6,7]\n",
    "for i in n_cluster:\n",
    "    clusters=KMeans(i, random_state=10)\n",
    "    predict=clusters.fit_predict(scaled_feature)\n",
    "    score=silhouette_score(scaled_feature, predict, random_state=10)\n",
    "    print('for n_cluster={}, the silhouette score is {}'.format(i, score))"
   ]
  },
  {
   "cell_type": "markdown",
   "id": "238cfab5",
   "metadata": {},
   "source": [
    "The optimum value of K is associated with the highest value of the silhouette score.\n",
    "Therefore the optimum value of K is 3."
   ]
  },
  {
   "cell_type": "markdown",
   "id": "241ee029",
   "metadata": {},
   "source": [
    "# Building the kmeans cluster with n_cluster =3"
   ]
  },
  {
   "cell_type": "code",
   "execution_count": 50,
   "id": "b7a90f75",
   "metadata": {},
   "outputs": [
    {
     "data": {
      "text/plain": [
       "KMeans(n_clusters=3, random_state=10)"
      ]
     },
     "execution_count": 50,
     "metadata": {},
     "output_type": "execute_result"
    }
   ],
   "source": [
    "k_model=KMeans(n_clusters=3, random_state=10)\n",
    "k_model.fit(scaled_feature)\n"
   ]
  },
  {
   "cell_type": "code",
   "execution_count": 51,
   "id": "f86a41cf",
   "metadata": {},
   "outputs": [],
   "source": [
    "df_power['Clusters']=k_model.labels_"
   ]
  },
  {
   "cell_type": "code",
   "execution_count": 53,
   "id": "a445e1b0",
   "metadata": {},
   "outputs": [
    {
     "data": {
      "text/html": [
       "<div>\n",
       "<style scoped>\n",
       "    .dataframe tbody tr th:only-of-type {\n",
       "        vertical-align: middle;\n",
       "    }\n",
       "\n",
       "    .dataframe tbody tr th {\n",
       "        vertical-align: top;\n",
       "    }\n",
       "\n",
       "    .dataframe thead th {\n",
       "        text-align: right;\n",
       "    }\n",
       "</style>\n",
       "<table border=\"1\" class=\"dataframe\">\n",
       "  <thead>\n",
       "    <tr style=\"text-align: right;\">\n",
       "      <th></th>\n",
       "      <th>Global_active_power</th>\n",
       "      <th>Global_reactive_power</th>\n",
       "      <th>Voltage</th>\n",
       "      <th>Global_intensity</th>\n",
       "      <th>Kitchen_consumption</th>\n",
       "      <th>Laundry_consumption</th>\n",
       "      <th>Other_appliances_consumption</th>\n",
       "      <th>Clusters</th>\n",
       "    </tr>\n",
       "  </thead>\n",
       "  <tbody>\n",
       "    <tr>\n",
       "      <th>0</th>\n",
       "      <td>2.242</td>\n",
       "      <td>0.162</td>\n",
       "      <td>237.33</td>\n",
       "      <td>10.0</td>\n",
       "      <td>1</td>\n",
       "      <td>7</td>\n",
       "      <td>17</td>\n",
       "      <td>1</td>\n",
       "    </tr>\n",
       "    <tr>\n",
       "      <th>1</th>\n",
       "      <td>3.714</td>\n",
       "      <td>0.296</td>\n",
       "      <td>235.15</td>\n",
       "      <td>15.8</td>\n",
       "      <td>2</td>\n",
       "      <td>35</td>\n",
       "      <td>17</td>\n",
       "      <td>2</td>\n",
       "    </tr>\n",
       "    <tr>\n",
       "      <th>2</th>\n",
       "      <td>3.212</td>\n",
       "      <td>0.304</td>\n",
       "      <td>235.99</td>\n",
       "      <td>14.2</td>\n",
       "      <td>1</td>\n",
       "      <td>26</td>\n",
       "      <td>17</td>\n",
       "      <td>2</td>\n",
       "    </tr>\n",
       "    <tr>\n",
       "      <th>3</th>\n",
       "      <td>3.694</td>\n",
       "      <td>0.280</td>\n",
       "      <td>235.16</td>\n",
       "      <td>15.6</td>\n",
       "      <td>1</td>\n",
       "      <td>35</td>\n",
       "      <td>17</td>\n",
       "      <td>2</td>\n",
       "    </tr>\n",
       "    <tr>\n",
       "      <th>4</th>\n",
       "      <td>3.204</td>\n",
       "      <td>0.292</td>\n",
       "      <td>236.08</td>\n",
       "      <td>14.0</td>\n",
       "      <td>1</td>\n",
       "      <td>27</td>\n",
       "      <td>17</td>\n",
       "      <td>2</td>\n",
       "    </tr>\n",
       "  </tbody>\n",
       "</table>\n",
       "</div>"
      ],
      "text/plain": [
       "   Global_active_power  Global_reactive_power  Voltage  Global_intensity  \\\n",
       "0                2.242                  0.162   237.33              10.0   \n",
       "1                3.714                  0.296   235.15              15.8   \n",
       "2                3.212                  0.304   235.99              14.2   \n",
       "3                3.694                  0.280   235.16              15.6   \n",
       "4                3.204                  0.292   236.08              14.0   \n",
       "\n",
       "   Kitchen_consumption  Laundry_consumption  Other_appliances_consumption  \\\n",
       "0                    1                    7                            17   \n",
       "1                    2                   35                            17   \n",
       "2                    1                   26                            17   \n",
       "3                    1                   35                            17   \n",
       "4                    1                   27                            17   \n",
       "\n",
       "   Clusters  \n",
       "0         1  \n",
       "1         2  \n",
       "2         2  \n",
       "3         2  \n",
       "4         2  "
      ]
     },
     "execution_count": 53,
     "metadata": {},
     "output_type": "execute_result"
    }
   ],
   "source": [
    "df_power.head()"
   ]
  },
  {
   "cell_type": "code",
   "execution_count": 57,
   "id": "69b81da1",
   "metadata": {},
   "outputs": [
    {
     "data": {
      "text/plain": [
       "1    9040\n",
       "0    5052\n",
       "2    2632\n",
       "Name: Clusters, dtype: int64"
      ]
     },
     "execution_count": 57,
     "metadata": {},
     "output_type": "execute_result"
    }
   ],
   "source": [
    "df_power.Clusters.value_counts()"
   ]
  },
  {
   "cell_type": "code",
   "execution_count": 58,
   "id": "4dfedcbb",
   "metadata": {},
   "outputs": [
    {
     "data": {
      "text/plain": [
       "<AxesSubplot:xlabel='Clusters', ylabel='count'>"
      ]
     },
     "execution_count": 58,
     "metadata": {},
     "output_type": "execute_result"
    },
    {
     "data": {
      "image/png": "[encoded data removed]",
      "text/plain": [
       "<Figure size 1080x576 with 1 Axes>"
      ]
     },
     "metadata": {
      "needs_background": "light"
     },
     "output_type": "display_data"
    }
   ],
   "source": [
    "sns.countplot(df_power['Clusters'])"
   ]
  },
  {
   "cell_type": "code",
   "execution_count": 68,
   "id": "f545d002",
   "metadata": {},
   "outputs": [
    {
     "data": {
      "text/html": [
       "<div>\n",
       "<style scoped>\n",
       "    .dataframe tbody tr th:only-of-type {\n",
       "        vertical-align: middle;\n",
       "    }\n",
       "\n",
       "    .dataframe tbody tr th {\n",
       "        vertical-align: top;\n",
       "    }\n",
       "\n",
       "    .dataframe thead th {\n",
       "        text-align: right;\n",
       "    }\n",
       "</style>\n",
       "<table border=\"1\" class=\"dataframe\">\n",
       "  <thead>\n",
       "    <tr style=\"text-align: right;\">\n",
       "      <th></th>\n",
       "      <th>Global_active_power</th>\n",
       "      <th>Global_reactive_power</th>\n",
       "      <th>Voltage</th>\n",
       "      <th>Global_intensity</th>\n",
       "      <th>Kitchen_consumption</th>\n",
       "      <th>Laundry_consumption</th>\n",
       "      <th>Other_appliances_consumption</th>\n",
       "    </tr>\n",
       "  </thead>\n",
       "  <tbody>\n",
       "    <tr>\n",
       "      <th>0</th>\n",
       "      <td>0.731003</td>\n",
       "      <td>0.148562</td>\n",
       "      <td>-0.424762</td>\n",
       "      <td>0.724348</td>\n",
       "      <td>1.249091</td>\n",
       "      <td>-0.430561</td>\n",
       "      <td>-0.293989</td>\n",
       "    </tr>\n",
       "    <tr>\n",
       "      <th>1</th>\n",
       "      <td>-0.752356</td>\n",
       "      <td>-0.074582</td>\n",
       "      <td>0.437979</td>\n",
       "      <td>-0.752492</td>\n",
       "      <td>-0.692633</td>\n",
       "      <td>-0.376804</td>\n",
       "      <td>0.323291</td>\n",
       "    </tr>\n",
       "    <tr>\n",
       "      <th>2</th>\n",
       "      <td>1.180954</td>\n",
       "      <td>-0.028994</td>\n",
       "      <td>-0.688994</td>\n",
       "      <td>1.194195</td>\n",
       "      <td>-0.018619</td>\n",
       "      <td>2.120634</td>\n",
       "      <td>-0.546093</td>\n",
       "    </tr>\n",
       "  </tbody>\n",
       "</table>\n",
       "</div>"
      ],
      "text/plain": [
       "   Global_active_power  Global_reactive_power   Voltage  Global_intensity  \\\n",
       "0             0.731003               0.148562 -0.424762          0.724348   \n",
       "1            -0.752356              -0.074582  0.437979         -0.752492   \n",
       "2             1.180954              -0.028994 -0.688994          1.194195   \n",
       "\n",
       "   Kitchen_consumption  Laundry_consumption  Other_appliances_consumption  \n",
       "0             1.249091            -0.430561                     -0.293989  \n",
       "1            -0.692633            -0.376804                      0.323291  \n",
       "2            -0.018619             2.120634                     -0.546093  "
      ]
     },
     "execution_count": 68,
     "metadata": {},
     "output_type": "execute_result"
    }
   ],
   "source": [
    "center=pd.DataFrame(k_model.cluster_centers_, columns=df_power.drop('Clusters', axis=1).columns)\n",
    "center"
   ]
  },
  {
   "cell_type": "code",
   "execution_count": 71,
   "id": "ae6ff376",
   "metadata": {},
   "outputs": [],
   "source": [
    "from scipy.cluster.hierarchy import linkage"
   ]
  },
  {
   "cell_type": "code",
   "execution_count": 72,
   "id": "ab80d625",
   "metadata": {},
   "outputs": [
    {
     "name": "stdout",
     "output_type": "stream",
     "text": [
      "[[5.94600000e+03 5.94700000e+03 1.38494761e-03 2.00000000e+00]\n",
      " [1.31280000e+04 1.31290000e+04 1.38494761e-03 2.00000000e+00]\n",
      " [1.39050000e+04 1.39080000e+04 1.38494761e-03 2.00000000e+00]\n",
      " [1.28110000e+04 1.28130000e+04 2.76989522e-03 2.00000000e+00]\n",
      " [1.05700000e+03 1.06000000e+03 3.04023550e-03 2.00000000e+00]\n",
      " [7.05800000e+03 7.06200000e+03 3.04023550e-03 2.00000000e+00]\n",
      " [5.16400000e+03 5.16700000e+03 3.04023550e-03 2.00000000e+00]\n",
      " [6.75200000e+03 6.75300000e+03 3.04023550e-03 2.00000000e+00]\n",
      " [1.21300000e+04 1.21320000e+04 3.04023550e-03 2.00000000e+00]\n",
      " [8.75400000e+03 8.75700000e+03 3.04023550e-03 2.00000000e+00]]\n"
     ]
    }
   ],
   "source": [
    "link_mat=linkage(scaled_feature, method='ward')\n",
    "print(link_mat[0:10])"
   ]
  },
  {
   "cell_type": "code",
   "execution_count": 73,
   "id": "05c06ffd",
   "metadata": {},
   "outputs": [],
   "source": [
    "from scipy.cluster.hierarchy import dendrogram"
   ]
  },
  {
   "cell_type": "code",
   "execution_count": null,
   "id": "2d5a38d8",
   "metadata": {},
   "outputs": [],
   "source": []
  }
 ],
 "metadata": {
  "kernelspec": {
   "display_name": "Python 3",
   "language": "python",
   "name": "python3"
  },
  "language_info": {
   "codemirror_mode": {
    "name": "ipython",
    "version": 3
   },
   "file_extension": ".py",
   "mimetype": "text/x-python",
   "name": "python",
   "nbconvert_exporter": "python",
   "pygments_lexer": "ipython3",
   "version": "3.8.8"
  }
 },
 "nbformat": 4,
 "nbformat_minor": 5
}
