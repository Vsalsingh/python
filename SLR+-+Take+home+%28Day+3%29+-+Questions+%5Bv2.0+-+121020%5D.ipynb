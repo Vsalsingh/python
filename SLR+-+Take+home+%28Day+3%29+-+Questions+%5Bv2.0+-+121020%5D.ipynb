{
 "cells": [
  {
   "cell_type": "markdown",
   "metadata": {},
   "source": [
    "<table align=\"center\" width=100%>\n",
    "    <tr>\n",
    "        <td width=\"15%\">\n",
    "            <img src=\"homework.png\">\n",
    "        </td>\n",
    "        <td>\n",
    "            <div align=\"center\">\n",
    "                <font color=\"#21618C\" size=8px>\n",
    "                    <b> Take-Home <br>(Day 3)\n",
    "                    </b>\n",
    "                </font>\n",
    "            </div>\n",
    "        </td>\n",
    "    </tr>\n",
    "</table>"
   ]
  },
  {
   "cell_type": "markdown",
   "metadata": {},
   "source": [
    "#### Import the required libraries"
   ]
  },
  {
   "cell_type": "code",
   "execution_count": 1,
   "metadata": {},
   "outputs": [],
   "source": [
    "import pandas as pd \n",
    "import numpy as np\n",
    "import matplotlib.pyplot as plt\n",
    "import seaborn as sns\n",
    "from warnings import filterwarnings\n",
    "filterwarnings('ignore')\n",
    "pd.options.display.max_columns = None\n",
    "pd.options.display.max_rows = None\n",
    "pd.options.display.float_format = '{:.6f}'.format\n",
    "from sklearn.model_selection import train_test_split\n",
    "import statsmodels\n",
    "import statsmodels.api as sm\n",
    "from scipy import stats\n",
    "from sklearn.metrics import mean_squared_error\n",
    "from sklearn.metrics import mean_absolute_error\n",
    "from sklearn.linear_model import LinearRegression\n",
    "from sklearn.preprocessing import StandardScaler \n",
    "from sklearn.linear_model import SGDRegressor\n",
    "from sklearn.linear_model import Ridge\n",
    "from sklearn.linear_model import Lasso\n",
    "from sklearn.linear_model import ElasticNet\n",
    "from sklearn.model_selection import GridSearchCV"
   ]
  },
  {
   "cell_type": "markdown",
   "metadata": {},
   "source": [
    "#### Read the data\n",
    "\n",
    "Load the csv file and print the first five observations."
   ]
  },
  {
   "cell_type": "code",
   "execution_count": 31,
   "metadata": {},
   "outputs": [
    {
     "data": {
      "text/html": [
       "<div>\n",
       "<style scoped>\n",
       "    .dataframe tbody tr th:only-of-type {\n",
       "        vertical-align: middle;\n",
       "    }\n",
       "\n",
       "    .dataframe tbody tr th {\n",
       "        vertical-align: top;\n",
       "    }\n",
       "\n",
       "    .dataframe thead th {\n",
       "        text-align: right;\n",
       "    }\n",
       "</style>\n",
       "<table border=\"1\" class=\"dataframe\">\n",
       "  <thead>\n",
       "    <tr style=\"text-align: right;\">\n",
       "      <th></th>\n",
       "      <th>Species</th>\n",
       "      <th>Weight</th>\n",
       "      <th>V_length</th>\n",
       "      <th>D_length</th>\n",
       "      <th>C_length</th>\n",
       "      <th>Height</th>\n",
       "      <th>Width</th>\n",
       "    </tr>\n",
       "  </thead>\n",
       "  <tbody>\n",
       "    <tr>\n",
       "      <th>0</th>\n",
       "      <td>Bream</td>\n",
       "      <td>242.000000</td>\n",
       "      <td>23.200000</td>\n",
       "      <td>25.400000</td>\n",
       "      <td>30.000000</td>\n",
       "      <td>11.520000</td>\n",
       "      <td>4.020000</td>\n",
       "    </tr>\n",
       "    <tr>\n",
       "      <th>1</th>\n",
       "      <td>Bream</td>\n",
       "      <td>290.000000</td>\n",
       "      <td>24.000000</td>\n",
       "      <td>26.300000</td>\n",
       "      <td>31.200000</td>\n",
       "      <td>12.480000</td>\n",
       "      <td>4.305600</td>\n",
       "    </tr>\n",
       "    <tr>\n",
       "      <th>2</th>\n",
       "      <td>Bream</td>\n",
       "      <td>340.000000</td>\n",
       "      <td>23.900000</td>\n",
       "      <td>26.500000</td>\n",
       "      <td>31.100000</td>\n",
       "      <td>12.377800</td>\n",
       "      <td>4.696100</td>\n",
       "    </tr>\n",
       "    <tr>\n",
       "      <th>3</th>\n",
       "      <td>Bream</td>\n",
       "      <td>363.000000</td>\n",
       "      <td>26.300000</td>\n",
       "      <td>29.000000</td>\n",
       "      <td>33.500000</td>\n",
       "      <td>12.730000</td>\n",
       "      <td>4.455500</td>\n",
       "    </tr>\n",
       "    <tr>\n",
       "      <th>4</th>\n",
       "      <td>Bream</td>\n",
       "      <td>430.000000</td>\n",
       "      <td>26.500000</td>\n",
       "      <td>29.000000</td>\n",
       "      <td>34.000000</td>\n",
       "      <td>12.444000</td>\n",
       "      <td>5.134000</td>\n",
       "    </tr>\n",
       "  </tbody>\n",
       "</table>\n",
       "</div>"
      ],
      "text/plain": [
       "  Species     Weight  V_length  D_length  C_length    Height    Width\n",
       "0   Bream 242.000000 23.200000 25.400000 30.000000 11.520000 4.020000\n",
       "1   Bream 290.000000 24.000000 26.300000 31.200000 12.480000 4.305600\n",
       "2   Bream 340.000000 23.900000 26.500000 31.100000 12.377800 4.696100\n",
       "3   Bream 363.000000 26.300000 29.000000 33.500000 12.730000 4.455500\n",
       "4   Bream 430.000000 26.500000 29.000000 34.000000 12.444000 5.134000"
      ]
     },
     "execution_count": 31,
     "metadata": {},
     "output_type": "execute_result"
    }
   ],
   "source": [
    "# type your code here\n",
    "df=pd.read_csv('fish_weight_predict.csv')\n",
    "df.head()"
   ]
  },
  {
   "cell_type": "markdown",
   "metadata": {},
   "source": [
    "Our objective is to predict the weight of a fish."
   ]
  },
  {
   "cell_type": "markdown",
   "metadata": {},
   "source": [
    "**The data definition is as follows:** <br>\n",
    "\n",
    "**Species:** Species of a fish\n",
    "\n",
    "**Weight:** Weight of a fish (target/dependent variable)\n",
    "\n",
    "**V_length:** Vertical length of a fish\n",
    "\n",
    "**D_length:** Diagonal length of a fish\n",
    "\n",
    "**C_length:** Cross length of a fish\n",
    "\n",
    "**Height:** Height of a fish\n",
    "\n",
    "**Width:** Diagonal width of a fish"
   ]
  },
  {
   "cell_type": "code",
   "execution_count": 32,
   "metadata": {},
   "outputs": [
    {
     "name": "stdout",
     "output_type": "stream",
     "text": [
      "<class 'pandas.core.frame.DataFrame'>\n",
      "RangeIndex: 159 entries, 0 to 158\n",
      "Data columns (total 7 columns):\n",
      " #   Column    Non-Null Count  Dtype  \n",
      "---  ------    --------------  -----  \n",
      " 0   Species   159 non-null    object \n",
      " 1   Weight    159 non-null    float64\n",
      " 2   V_length  159 non-null    float64\n",
      " 3   D_length  159 non-null    float64\n",
      " 4   C_length  159 non-null    float64\n",
      " 5   Height    159 non-null    float64\n",
      " 6   Width     159 non-null    float64\n",
      "dtypes: float64(6), object(1)\n",
      "memory usage: 8.8+ KB\n"
     ]
    }
   ],
   "source": [
    "df.info()"
   ]
  },
  {
   "cell_type": "code",
   "execution_count": 33,
   "metadata": {},
   "outputs": [
    {
     "data": {
      "text/html": [
       "<div>\n",
       "<style scoped>\n",
       "    .dataframe tbody tr th:only-of-type {\n",
       "        vertical-align: middle;\n",
       "    }\n",
       "\n",
       "    .dataframe tbody tr th {\n",
       "        vertical-align: top;\n",
       "    }\n",
       "\n",
       "    .dataframe thead th {\n",
       "        text-align: right;\n",
       "    }\n",
       "</style>\n",
       "<table border=\"1\" class=\"dataframe\">\n",
       "  <thead>\n",
       "    <tr style=\"text-align: right;\">\n",
       "      <th></th>\n",
       "      <th>Weight</th>\n",
       "      <th>V_length</th>\n",
       "      <th>D_length</th>\n",
       "      <th>C_length</th>\n",
       "      <th>Height</th>\n",
       "      <th>Width</th>\n",
       "    </tr>\n",
       "    <tr>\n",
       "      <th>Species</th>\n",
       "      <th></th>\n",
       "      <th></th>\n",
       "      <th></th>\n",
       "      <th></th>\n",
       "      <th></th>\n",
       "      <th></th>\n",
       "    </tr>\n",
       "  </thead>\n",
       "  <tbody>\n",
       "    <tr>\n",
       "      <th>Bream</th>\n",
       "      <td>242.000000</td>\n",
       "      <td>23.200000</td>\n",
       "      <td>25.400000</td>\n",
       "      <td>30.000000</td>\n",
       "      <td>11.520000</td>\n",
       "      <td>4.020000</td>\n",
       "    </tr>\n",
       "    <tr>\n",
       "      <th>Bream</th>\n",
       "      <td>290.000000</td>\n",
       "      <td>24.000000</td>\n",
       "      <td>26.300000</td>\n",
       "      <td>31.200000</td>\n",
       "      <td>12.480000</td>\n",
       "      <td>4.305600</td>\n",
       "    </tr>\n",
       "  </tbody>\n",
       "</table>\n",
       "</div>"
      ],
      "text/plain": [
       "            Weight  V_length  D_length  C_length    Height    Width\n",
       "Species                                                            \n",
       "Bream   242.000000 23.200000 25.400000 30.000000 11.520000 4.020000\n",
       "Bream   290.000000 24.000000 26.300000 31.200000 12.480000 4.305600"
      ]
     },
     "execution_count": 33,
     "metadata": {},
     "output_type": "execute_result"
    }
   ],
   "source": [
    "df.set_index(['Species'],inplace = True)\n",
    "df.head(2)"
   ]
  },
  {
   "cell_type": "markdown",
   "metadata": {},
   "source": [
    "### Let's begin with some hands-on practice exercises"
   ]
  },
  {
   "cell_type": "markdown",
   "metadata": {},
   "source": [
    "<table align=\"left\">\n",
    "    <tr>\n",
    "        <td width=\"6%\">\n",
    "            <img src=\"question_icon.png\">\n",
    "        </td>\n",
    "        <td>\n",
    "            <div align=\"left\", style=\"font-size:120%\">\n",
    "                <font color=\"#21618C\">\n",
    "                    <b>1. Build a full model on the scaled data and check whether the model is overfitting or not</b>\n",
    "                </font>\n",
    "            </div>\n",
    "        </td>\n",
    "    </tr>\n",
    "</table>"
   ]
  },
  {
   "cell_type": "code",
   "execution_count": 34,
   "metadata": {},
   "outputs": [
    {
     "data": {
      "text/html": [
       "<div>\n",
       "<style scoped>\n",
       "    .dataframe tbody tr th:only-of-type {\n",
       "        vertical-align: middle;\n",
       "    }\n",
       "\n",
       "    .dataframe tbody tr th {\n",
       "        vertical-align: top;\n",
       "    }\n",
       "\n",
       "    .dataframe thead th {\n",
       "        text-align: right;\n",
       "    }\n",
       "</style>\n",
       "<table border=\"1\" class=\"dataframe\">\n",
       "  <thead>\n",
       "    <tr style=\"text-align: right;\">\n",
       "      <th></th>\n",
       "      <th>Weight</th>\n",
       "      <th>V_length</th>\n",
       "      <th>D_length</th>\n",
       "      <th>C_length</th>\n",
       "      <th>Height</th>\n",
       "      <th>Width</th>\n",
       "    </tr>\n",
       "    <tr>\n",
       "      <th>Species</th>\n",
       "      <th></th>\n",
       "      <th></th>\n",
       "      <th></th>\n",
       "      <th></th>\n",
       "      <th></th>\n",
       "      <th></th>\n",
       "    </tr>\n",
       "  </thead>\n",
       "  <tbody>\n",
       "    <tr>\n",
       "      <th>Bream</th>\n",
       "      <td>-0.441777</td>\n",
       "      <td>-0.305789</td>\n",
       "      <td>-0.282303</td>\n",
       "      <td>-0.106020</td>\n",
       "      <td>0.596579</td>\n",
       "      <td>-0.236529</td>\n",
       "    </tr>\n",
       "    <tr>\n",
       "      <th>Bream</th>\n",
       "      <td>-0.306943</td>\n",
       "      <td>-0.225507</td>\n",
       "      <td>-0.198054</td>\n",
       "      <td>-0.002337</td>\n",
       "      <td>0.821261</td>\n",
       "      <td>-0.066579</td>\n",
       "    </tr>\n",
       "    <tr>\n",
       "      <th>Bream</th>\n",
       "      <td>-0.166491</td>\n",
       "      <td>-0.235542</td>\n",
       "      <td>-0.179332</td>\n",
       "      <td>-0.010977</td>\n",
       "      <td>0.797341</td>\n",
       "      <td>0.165793</td>\n",
       "    </tr>\n",
       "    <tr>\n",
       "      <th>Bream</th>\n",
       "      <td>-0.101883</td>\n",
       "      <td>0.005302</td>\n",
       "      <td>0.054694</td>\n",
       "      <td>0.196390</td>\n",
       "      <td>0.879771</td>\n",
       "      <td>0.022621</td>\n",
       "    </tr>\n",
       "    <tr>\n",
       "      <th>Bream</th>\n",
       "      <td>0.086322</td>\n",
       "      <td>0.025372</td>\n",
       "      <td>0.054694</td>\n",
       "      <td>0.239592</td>\n",
       "      <td>0.812835</td>\n",
       "      <td>0.426371</td>\n",
       "    </tr>\n",
       "  </tbody>\n",
       "</table>\n",
       "</div>"
      ],
      "text/plain": [
       "           Weight  V_length  D_length  C_length   Height     Width\n",
       "Species                                                           \n",
       "Bream   -0.441777 -0.305789 -0.282303 -0.106020 0.596579 -0.236529\n",
       "Bream   -0.306943 -0.225507 -0.198054 -0.002337 0.821261 -0.066579\n",
       "Bream   -0.166491 -0.235542 -0.179332 -0.010977 0.797341  0.165793\n",
       "Bream   -0.101883  0.005302  0.054694  0.196390 0.879771  0.022621\n",
       "Bream    0.086322  0.025372  0.054694  0.239592 0.812835  0.426371"
      ]
     },
     "execution_count": 34,
     "metadata": {},
     "output_type": "execute_result"
    }
   ],
   "source": [
    "# type your code her\n",
    "from sklearn.preprocessing import StandardScaler\n",
    "ss = StandardScaler()\n",
    "df=pd.DataFrame(ss.fit_transform(df),columns = df.columns,index = df.index)\n",
    "df.head()"
   ]
  },
  {
   "cell_type": "code",
   "execution_count": 51,
   "metadata": {},
   "outputs": [
    {
     "data": {
      "text/plain": [
       "0.8861940780217027"
      ]
     },
     "execution_count": 51,
     "metadata": {},
     "output_type": "execute_result"
    }
   ],
   "source": [
    "from sklearn.model_selection import train_test_split\n",
    "x=df.drop('Weight', axis=1)\n",
    "y=df['Weight']\n",
    "xtrain, xtest, ytrain, ytest=train_test_split(x,y,test_size=0.2, random_state=1)\n",
    "from sklearn.linear_model import LinearRegression \n",
    "lr=LinearRegression()\n",
    "model=lr.fit(xtrain, ytrain)\n",
    "model.score(xtrain,ytrain)"
   ]
  },
  {
   "cell_type": "code",
   "execution_count": 53,
   "metadata": {},
   "outputs": [],
   "source": [
    "pred_test=lr.fit(x,y).predict(xtest)\n",
    "pred_train=lr.fit(x,y).predict(xtrain)"
   ]
  },
  {
   "cell_type": "code",
   "execution_count": 55,
   "metadata": {},
   "outputs": [
    {
     "name": "stdout",
     "output_type": "stream",
     "text": [
      "0.33775427010450476\n",
      "0.3383801463244112\n"
     ]
    }
   ],
   "source": [
    "from sklearn.metrics import r2_score,mean_squared_error\n",
    "print(np.sqrt(mean_squared_error(ytrain,pred_train)))\n",
    "print(np.sqrt(mean_squared_error(ytest,pred_test)))\n",
    "# as we can see the rmse_test > rmse_train hence the model is overfitting but since the value is almost equal the model can\n",
    "# be significant and we can ignore the overfitting"
   ]
  },
  {
   "cell_type": "markdown",
   "metadata": {},
   "source": [
    "<table align=\"left\">\n",
    "    <tr>\n",
    "        <td width=\"6%\">\n",
    "            <img src=\"question_icon.png\">\n",
    "        </td>\n",
    "        <td>\n",
    "            <div align=\"left\", style=\"font-size:120%\">\n",
    "                <font color=\"#21618C\">\n",
    "                    <b>2. Is there multicollinearity present in the scaled data?\n",
    "                     </b>\n",
    "                </font>\n",
    "            </div>\n",
    "        </td>\n",
    "    </tr>\n",
    "</table>"
   ]
  },
  {
   "cell_type": "code",
   "execution_count": 56,
   "metadata": {},
   "outputs": [
    {
     "data": {
      "text/html": [
       "<div>\n",
       "<style scoped>\n",
       "    .dataframe tbody tr th:only-of-type {\n",
       "        vertical-align: middle;\n",
       "    }\n",
       "\n",
       "    .dataframe tbody tr th {\n",
       "        vertical-align: top;\n",
       "    }\n",
       "\n",
       "    .dataframe thead th {\n",
       "        text-align: right;\n",
       "    }\n",
       "</style>\n",
       "<table border=\"1\" class=\"dataframe\">\n",
       "  <thead>\n",
       "    <tr style=\"text-align: right;\">\n",
       "      <th></th>\n",
       "      <th>Labels</th>\n",
       "      <th>VIF</th>\n",
       "    </tr>\n",
       "  </thead>\n",
       "  <tbody>\n",
       "    <tr>\n",
       "      <th>0</th>\n",
       "      <td>V_length</td>\n",
       "      <td>1681.496487</td>\n",
       "    </tr>\n",
       "    <tr>\n",
       "      <th>1</th>\n",
       "      <td>D_length</td>\n",
       "      <td>2084.257828</td>\n",
       "    </tr>\n",
       "    <tr>\n",
       "      <th>2</th>\n",
       "      <td>C_length</td>\n",
       "      <td>422.468251</td>\n",
       "    </tr>\n",
       "    <tr>\n",
       "      <th>3</th>\n",
       "      <td>Height</td>\n",
       "      <td>14.570087</td>\n",
       "    </tr>\n",
       "    <tr>\n",
       "      <th>4</th>\n",
       "      <td>Width</td>\n",
       "      <td>12.275361</td>\n",
       "    </tr>\n",
       "  </tbody>\n",
       "</table>\n",
       "</div>"
      ],
      "text/plain": [
       "     Labels         VIF\n",
       "0  V_length 1681.496487\n",
       "1  D_length 2084.257828\n",
       "2  C_length  422.468251\n",
       "3    Height   14.570087\n",
       "4     Width   12.275361"
      ]
     },
     "execution_count": 56,
     "metadata": {},
     "output_type": "execute_result"
    }
   ],
   "source": [
    "# type your code here\n",
    "from statsmodels.stats.outliers_influence import variance_inflation_factor\n",
    "vif_data = df.drop(\"Weight\", axis = 1)\n",
    "\n",
    "num_cols = vif_data.select_dtypes(include=np.number) # Predictor Variables..\n",
    "\n",
    "mylist = [] # Store all the vif values\n",
    "\n",
    "for i in range(vif_data.shape[1]):\n",
    "    mylist.append(variance_inflation_factor(vif_data.values, i)) # values of numerical columns, Iterate over col Nos. \n",
    "    \n",
    "\n",
    "pd.DataFrame({\"Labels\": num_cols.columns, \"VIF\": mylist}) "
   ]
  },
  {
   "cell_type": "markdown",
   "metadata": {},
   "source": [
    "<table align=\"left\">\n",
    "    <tr>\n",
    "        <td width=\"6%\">\n",
    "            <img src=\"question_icon.png\">\n",
    "        </td>\n",
    "        <td>\n",
    "            <div align=\"left\", style=\"font-size:120%\">\n",
    "                <font color=\"#21618C\">\n",
    "                    <b>3. Apply the ridge regression with 'alpha = 1.5' and compare the RMSE on the test dataset with the RMSE obtained from linear regression using OLS\n",
    "                    </b>\n",
    "                </font>\n",
    "            </div>\n",
    "        </td>\n",
    "    </tr>\n",
    "</table>"
   ]
  },
  {
   "cell_type": "code",
   "execution_count": 60,
   "metadata": {},
   "outputs": [],
   "source": [
    "# type your code here\n",
    "from sklearn.linear_model import Ridge,Lasso,ElasticNet\n",
    "ridge = Ridge(alpha = 1.5,normalize=True)\n",
    "pred_ridge = ridge.fit(xtrain,ytrain).predict(xtest)\n",
    "rmse_ridge = np.sqrt(mean_squared_error(ytest,pred_ridge))"
   ]
  },
  {
   "cell_type": "code",
   "execution_count": 61,
   "metadata": {},
   "outputs": [],
   "source": [
    "import statsmodels.api as sm\n",
    "x = df.drop('Weight',axis = 1)\n",
    "y = df.Weight\n",
    "x = sm.add_constant(x)\n",
    "pred = sm.OLS(ytrain,xtrain).fit().predict(xtest)\n",
    "rmse = np.sqrt(mean_squared_error(ytest,pred))"
   ]
  },
  {
   "cell_type": "code",
   "execution_count": 62,
   "metadata": {},
   "outputs": [
    {
     "name": "stdout",
     "output_type": "stream",
     "text": [
      "0.46051557237180973 , 0.36303907250257306\n"
     ]
    }
   ],
   "source": [
    "print(rmse_ridge, ',' ,  rmse)\n",
    "# shows that rmse of ridge model is greater than the rmse for a linear regression model"
   ]
  },
  {
   "cell_type": "markdown",
   "metadata": {},
   "source": [
    "<table align=\"left\">\n",
    "    <tr>\n",
    "        <td width=\"6%\">\n",
    "            <img src=\"question_icon.png\">\n",
    "        </td>\n",
    "        <td>\n",
    "            <div align=\"left\", style=\"font-size:120%\">\n",
    "                <font color=\"#21618C\">\n",
    "                    <b>4. Build a full model using SGD. Plot a multiple barchart to compare the beta coefficients for each variable obtained by the SGD model and the full model build using OLS \n",
    "                    </b>\n",
    "                </font>\n",
    "            </div>\n",
    "        </td>\n",
    "    </tr>\n",
    "</table>"
   ]
  },
  {
   "cell_type": "code",
   "execution_count": 64,
   "metadata": {},
   "outputs": [],
   "source": [
    "# type your code here\n",
    "from sklearn.linear_model import SGDRegressor\n",
    "# Always scale the input. The most convenient way is to use a pipeline.\n",
    "sgd = SGDRegressor()\n",
    "model = sgd.fit(xtrain, ytrain)\n",
    "ypred_sgd = model.predict(xtest)"
   ]
  },
  {
   "cell_type": "code",
   "execution_count": 65,
   "metadata": {},
   "outputs": [],
   "source": [
    "lr = LinearRegression()\n",
    "model_lr = lr.fit(xtrain, ytrain)\n",
    "ypred_lr = model_lr.predict(xtest)"
   ]
  },
  {
   "cell_type": "code",
   "execution_count": 68,
   "metadata": {},
   "outputs": [
    {
     "name": "stdout",
     "output_type": "stream",
     "text": [
      "[0.21549024 0.2140277  0.20063939 0.13986015 0.23546918]\n",
      "[ 1.592907   -0.13907566 -0.92801777  0.2911234   0.206211  ]\n"
     ]
    }
   ],
   "source": [
    "print(model.coef_)\n",
    "print(model_lr.coef_)"
   ]
  },
  {
   "cell_type": "markdown",
   "metadata": {},
   "source": [
    "<table align=\"left\">\n",
    "    <tr>\n",
    "        <td width=\"6%\">\n",
    "            <img src=\"question_icon.png\">\n",
    "        </td>\n",
    "        <td>\n",
    "            <div align=\"left\", style=\"font-size:120%\">\n",
    "                <font color=\"#21618C\">\n",
    "                    <b>5. Identify the least significant variables in the data by considering 'alpha = 0.1' \n",
    "                    </b>\n",
    "                </font>\n",
    "            </div>\n",
    "        </td>\n",
    "    </tr>\n",
    "</table>"
   ]
  },
  {
   "cell_type": "code",
   "execution_count": 70,
   "metadata": {},
   "outputs": [
    {
     "data": {
      "text/plain": [
       "array([0., 0., 0., 0., 0.])"
      ]
     },
     "execution_count": 70,
     "metadata": {},
     "output_type": "execute_result"
    }
   ],
   "source": [
    "# type your code here\n",
    "lasso = Lasso(alpha = 0.1,normalize = True)\n",
    "pred = lasso.fit(xtrain,ytrain).predict(xtest)\n",
    "lasso.coef_\n",
    "# it shows that no feature is significant"
   ]
  },
  {
   "cell_type": "markdown",
   "metadata": {},
   "source": [
    "<table align=\"left\">\n",
    "    <tr>\n",
    "        <td width=\"6%\">\n",
    "            <img src=\"question_icon.png\">\n",
    "        </td>\n",
    "        <td>\n",
    "            <div align=\"left\", style=\"font-size:120%\">\n",
    "                <font color=\"#21618C\">\n",
    "                    <b>6. What is the impact of diagonal width on the weight of a fish?\n",
    "                    </b>\n",
    "                </font>\n",
    "            </div>\n",
    "        </td>\n",
    "    </tr>\n",
    "</table>"
   ]
  },
  {
   "cell_type": "code",
   "execution_count": 73,
   "metadata": {},
   "outputs": [
    {
     "name": "stdout",
     "output_type": "stream",
     "text": [
      "                                 OLS Regression Results                                \n",
      "=======================================================================================\n",
      "Dep. Variable:                 Weight   R-squared (uncentered):                   0.834\n",
      "Model:                            OLS   Adj. R-squared (uncentered):              0.833\n",
      "Method:                 Least Squares   F-statistic:                              633.4\n",
      "Date:                Fri, 26 Nov 2021   Prob (F-statistic):                    5.52e-51\n",
      "Time:                        20:10:52   Log-Likelihood:                         -65.201\n",
      "No. Observations:                 127   AIC:                                      132.4\n",
      "Df Residuals:                     126   BIC:                                      135.2\n",
      "Df Model:                           1                                                  \n",
      "Covariance Type:            nonrobust                                                  \n",
      "==============================================================================\n",
      "                 coef    std err          t      P>|t|      [0.025      0.975]\n",
      "------------------------------------------------------------------------------\n",
      "D_length       0.8916      0.035     25.168      0.000       0.821       0.962\n",
      "==============================================================================\n",
      "Omnibus:                        6.116   Durbin-Watson:                   2.106\n",
      "Prob(Omnibus):                  0.047   Jarque-Bera (JB):                5.605\n",
      "Skew:                          -0.469   Prob(JB):                       0.0607\n",
      "Kurtosis:                       3.422   Cond. No.                         1.00\n",
      "==============================================================================\n",
      "\n",
      "Notes:\n",
      "[1] R² is computed without centering (uncentered) since the model does not contain a constant.\n",
      "[2] Standard Errors assume that the covariance matrix of the errors is correctly specified.\n"
     ]
    }
   ],
   "source": [
    "x = df['D_length']\n",
    "y = df.Weight\n",
    "xtrain,xtest,ytrain,ytest = train_test_split(x,y,test_size = 0.20,random_state = 1)\n",
    "model = sm.OLS(ytrain,xtrain).fit()\n",
    "print(model.summary())\n",
    "# so with every 1 increase in D length, weight increase by 16.1184"
   ]
  },
  {
   "cell_type": "markdown",
   "metadata": {},
   "source": [
    "<table align=\"left\">\n",
    "    <tr>\n",
    "        <td width=\"6%\">\n",
    "            <img src=\"question_icon.png\">\n",
    "        </td>\n",
    "        <td>\n",
    "            <div align=\"left\", style=\"font-size:120%\">\n",
    "                <font color=\"#21618C\">\n",
    "                    <b>7. Which value of alpha from the list of values returns lowest RMSE on the test set in ridge regression\n",
    "                    </b>\n",
    "                </font>\n",
    "            </div>\n",
    "        </td>\n",
    "    </tr>\n",
    "</table>"
   ]
  },
  {
   "cell_type": "markdown",
   "metadata": {},
   "source": [
    "Consider the list of values for alpha:\n",
    "\n",
    "    list_of_alpha = [0.00001, 0.001, 0.1, 10, 100]\n",
    "    \n",
    "Consider 5-fold cross validation."
   ]
  },
  {
   "cell_type": "code",
   "execution_count": 75,
   "metadata": {},
   "outputs": [
    {
     "name": "stdout",
     "output_type": "stream",
     "text": [
      "best parameter {'alpha': 10}\n"
     ]
    }
   ],
   "source": [
    "# type your code here\n",
    "list_of_alpha = {'alpha':[0.00001, 0.001, 0.1, 10, 100]}\n",
    "from sklearn.model_selection import GridSearchCV\n",
    "ridge = Ridge()\n",
    "x=df.drop('Weight', axis=1)\n",
    "y=df['Weight']\n",
    "xtrain, xtest, ytrain, ytest=train_test_split(x,y,test_size=0.2, random_state=1)\n",
    "grid = GridSearchCV(estimator = ridge,param_grid = list_of_alpha,cv = 5,scoring = 'neg_mean_squared_error')\n",
    "grid.fit(xtrain,ytrain)\n",
    "print('best parameter',grid.best_params_)\n",
    "# so the best value of alpha is 10"
   ]
  },
  {
   "cell_type": "markdown",
   "metadata": {},
   "source": [
    "<table align=\"left\">\n",
    "    <tr>\n",
    "        <td width=\"6%\">\n",
    "            <img src=\"question_icon.png\">\n",
    "        </td>\n",
    "        <td>\n",
    "            <div align=\"left\", style=\"font-size:120%\">\n",
    "                <font color=\"#21618C\">\n",
    "                    <b>8. Select the best value for the elastic net mixing parameter from the list of values\n",
    "                    </b>\n",
    "                </font>\n",
    "            </div>\n",
    "        </td>\n",
    "    </tr>\n",
    "</table>"
   ]
  },
  {
   "cell_type": "markdown",
   "metadata": {},
   "source": [
    "Consider the below list of values:\n",
    "\n",
    "    list_of_parameter = [0.0001, 0.001, 0.01, 0.1, 1]\n",
    "\n",
    "Consider 5-fold cross validation."
   ]
  },
  {
   "cell_type": "code",
   "execution_count": 76,
   "metadata": {},
   "outputs": [
    {
     "name": "stdout",
     "output_type": "stream",
     "text": [
      "best parameter {'alpha': 0.01}\n"
     ]
    }
   ],
   "source": [
    "# type your code here\n",
    "list_of_parameter = {'alpha':[0.0001, 0.001, 0.01, 0.1, 1]}\n",
    "from sklearn.model_selection import GridSearchCV\n",
    "en = ElasticNet()\n",
    "grid = GridSearchCV(estimator = en,param_grid = list_of_parameter,cv = 5,scoring = 'neg_mean_squared_error')\n",
    "grid.fit(xtrain,ytrain)\n",
    "print('best parameter',grid.best_params_)\n",
    "# so the best parametr is 0.01"
   ]
  },
  {
   "cell_type": "markdown",
   "metadata": {},
   "source": [
    "<table align=\"left\">\n",
    "    <tr>\n",
    "        <td width=\"6%\">\n",
    "            <img src=\"question_icon.png\">\n",
    "        </td>\n",
    "        <td>\n",
    "            <div align=\"left\", style=\"font-size:120%\">\n",
    "                <font color=\"#21618C\">\n",
    "                    <b>9. Identify the best value of alpha from the list of values for lasso regression\n",
    "                    </b>\n",
    "                </font>\n",
    "            </div>\n",
    "        </td>\n",
    "    </tr>\n",
    "</table>"
   ]
  },
  {
   "cell_type": "markdown",
   "metadata": {},
   "source": [
    "Consider the list of values for alpha:\n",
    "\n",
    "    list_of_alpha = [0.0001, 0.001, 0.1, 1, 2, 3]\n",
    "    \n",
    "Consider 5-fold cross validation."
   ]
  },
  {
   "cell_type": "code",
   "execution_count": 77,
   "metadata": {},
   "outputs": [
    {
     "name": "stdout",
     "output_type": "stream",
     "text": [
      "best parameter {'alpha': 0.001}\n"
     ]
    }
   ],
   "source": [
    "# type your code here\n",
    "list_of_alpha ={'alpha': [0.0001, 0.001, 0.1, 1, 2, 3]}\n",
    "lasso = Lasso()\n",
    "grid = GridSearchCV(estimator = lasso,param_grid = list_of_alpha,cv = 5,scoring = 'neg_mean_squared_error')\n",
    "grid.fit(xtrain,ytrain)\n",
    "print('best parameter',grid.best_params_)\n",
    "# so the best alpha value is 0.001"
   ]
  },
  {
   "cell_type": "markdown",
   "metadata": {},
   "source": [
    "<table align=\"left\">\n",
    "    <tr>\n",
    "        <td width=\"6%\">\n",
    "            <img src=\"question_icon.png\">\n",
    "        </td>\n",
    "        <td>\n",
    "            <div align=\"left\", style=\"font-size:120%\">\n",
    "                <font color=\"#21618C\">\n",
    "                    <b>10. Build the elastic net regression model with 'alpha = 0.1' and best l1_ratio obtained by the GridSearchCV method. Also, compute the RMSE for test set\n",
    "                    </b>\n",
    "                </font>\n",
    "            </div>\n",
    "        </td>\n",
    "    </tr>\n",
    "</table>"
   ]
  },
  {
   "cell_type": "code",
   "execution_count": 78,
   "metadata": {},
   "outputs": [
    {
     "name": "stdout",
     "output_type": "stream",
     "text": [
      "best parameter {'alpha': 0.001}\n"
     ]
    }
   ],
   "source": [
    "# type your code here\n",
    "en = ElasticNet(alpha = 0.1,normalize = True)\n",
    "grid = GridSearchCV(estimator = en,param_grid = list_of_parameter,cv = 5,scoring = 'neg_mean_squared_error')\n",
    "grid.fit(xtrain,ytrain)\n",
    "print('best parameter',grid.best_params_)"
   ]
  },
  {
   "cell_type": "code",
   "execution_count": null,
   "metadata": {},
   "outputs": [],
   "source": []
  }
 ],
 "metadata": {
  "kernelspec": {
   "display_name": "Python 3",
   "language": "python",
   "name": "python3"
  },
  "language_info": {
   "codemirror_mode": {
    "name": "ipython",
    "version": 3
   },
   "file_extension": ".py",
   "mimetype": "text/x-python",
   "name": "python",
   "nbconvert_exporter": "python",
   "pygments_lexer": "ipython3",
   "version": "3.8.8"
  }
 },
 "nbformat": 4,
 "nbformat_minor": 2
}
