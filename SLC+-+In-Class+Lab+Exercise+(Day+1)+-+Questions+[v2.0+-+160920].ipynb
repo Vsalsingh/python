{
 "cells": [
  {
   "cell_type": "markdown",
   "metadata": {},
   "source": [
    "<table align=\"center\" width=100%>\n",
    "    <tr>\n",
    "        <td width=\"15%\">\n",
    "            <img src=\"in_class.png\">\n",
    "        </td>\n",
    "        <td>\n",
    "            <div align=\"center\">\n",
    "                <font color=\"#21618C\" size=8px>\n",
    "                    <b> Inclass - Lab <br>(Day 1)\n",
    "                    </b>\n",
    "                </font>\n",
    "            </div>\n",
    "        </td>\n",
    "    </tr>\n",
    "</table>"
   ]
  },
  {
   "cell_type": "markdown",
   "metadata": {},
   "source": [
    "### About the data set (Heart disease data)\n",
    "\n",
    "The dataset contains information about patients. The aim is to find whether or not a patient has cardiovascular disease based on the several factors from the patient profile. <br> Attribute information: \n",
    "\n",
    "**male:** Gender of patient: male(1) or female(0) \n",
    "\n",
    "**age:** Age of patient\n",
    "\n",
    "**education:** Education level of patient: 1 = Some High School; 2 = High School or GED; 3 = Some College or Vocational School; 4 = college\n",
    "\n",
    "**currentSmoker:** Whether the patient is a smoker now: Yes(1) or No(0)\n",
    "\n",
    "**cigsPerDay:** Average number of cigarettes smoked by patient per day\n",
    "\n",
    "**BPMeds:** Whether the patient is on blood pressure medications: Yes(1) or No(0)\n",
    "\n",
    "**prevalentStroke:** If the patient has a history of heart stroke: Yes(1) or No(0)\n",
    "\n",
    "**prevalentHyp:** If the patient has a history of hypertension: Yes(1) or No(0)\n",
    "\n",
    "**diabetes:**  If the patient has a diabetes: Yes(1) or No(0)\n",
    "\n",
    "**totChol:** Average cholesterol levels in mg/dL\n",
    "\n",
    "**sysBP:** Average systolic blood pressure of patient\n",
    "\n",
    "**diaBP:** Average diastolic blood pressure of patient\n",
    "\n",
    "**BMI:** BMI of patient\n",
    "\n",
    "**heartRate:** Avergae heartrate of patient\n",
    "\n",
    "**glucose:** Average blood glucose levels of patient\n",
    "\n",
    "**CVD:** Does the patient have cardiovascular disease: Yes(1) or No(0)"
   ]
  },
  {
   "cell_type": "markdown",
   "metadata": {},
   "source": [
    "## Table of Content\n",
    "\n",
    "1. **[Logistic Regression Model](#logreg)**\n",
    "2. **[Model Evaluation Metrics](#mod_eval)**\n",
    "3. **[Performance Evaluation Metrics](#perf_eval)**\n",
    "4. **[Determining optimal threshold](#opt)**"
   ]
  },
  {
   "cell_type": "markdown",
   "metadata": {},
   "source": [
    "**Import the required libraries**"
   ]
  },
  {
   "cell_type": "code",
   "execution_count": 156,
   "metadata": {},
   "outputs": [],
   "source": [
    "# type your code here\n",
    "import numpy as np\n",
    "import pandas as pd\n",
    "import matplotlib.pyplot as plt\n",
    "import seaborn as sns\n",
    "from sklearn.model_selection import train_test_split\n",
    "import statsmodels\n",
    "import statsmodels.api as sm\n",
    "from sklearn.preprocessing import StandardScaler"
   ]
  },
  {
   "cell_type": "markdown",
   "metadata": {},
   "source": [
    "#### Load the csv file"
   ]
  },
  {
   "cell_type": "code",
   "execution_count": null,
   "metadata": {},
   "outputs": [],
   "source": []
  },
  {
   "cell_type": "code",
   "execution_count": 12,
   "metadata": {
    "scrolled": false
   },
   "outputs": [
    {
     "data": {
      "application/javascript": [
       "\n",
       "        if (window._pyforest_update_imports_cell) { window._pyforest_update_imports_cell('import pandas as pd'); }\n",
       "    "
      ],
      "text/plain": [
       "<IPython.core.display.Javascript object>"
      ]
     },
     "metadata": {},
     "output_type": "display_data"
    },
    {
     "data": {
      "text/html": [
       "<div>\n",
       "<style scoped>\n",
       "    .dataframe tbody tr th:only-of-type {\n",
       "        vertical-align: middle;\n",
       "    }\n",
       "\n",
       "    .dataframe tbody tr th {\n",
       "        vertical-align: top;\n",
       "    }\n",
       "\n",
       "    .dataframe thead th {\n",
       "        text-align: right;\n",
       "    }\n",
       "</style>\n",
       "<table border=\"1\" class=\"dataframe\">\n",
       "  <thead>\n",
       "    <tr style=\"text-align: right;\">\n",
       "      <th></th>\n",
       "      <th>male</th>\n",
       "      <th>age</th>\n",
       "      <th>education</th>\n",
       "      <th>currentSmoker</th>\n",
       "      <th>cigsPerDay</th>\n",
       "      <th>BPMeds</th>\n",
       "      <th>prevalentStroke</th>\n",
       "      <th>prevalentHyp</th>\n",
       "      <th>diabetes</th>\n",
       "      <th>totChol</th>\n",
       "      <th>sysBP</th>\n",
       "      <th>diaBP</th>\n",
       "      <th>BMI</th>\n",
       "      <th>heartRate</th>\n",
       "      <th>glucose</th>\n",
       "      <th>CVD</th>\n",
       "    </tr>\n",
       "  </thead>\n",
       "  <tbody>\n",
       "    <tr>\n",
       "      <th>0</th>\n",
       "      <td>1</td>\n",
       "      <td>39</td>\n",
       "      <td>4.0</td>\n",
       "      <td>0</td>\n",
       "      <td>0.0</td>\n",
       "      <td>0.0</td>\n",
       "      <td>0</td>\n",
       "      <td>0</td>\n",
       "      <td>0</td>\n",
       "      <td>195.0</td>\n",
       "      <td>106.0</td>\n",
       "      <td>70.0</td>\n",
       "      <td>26.97</td>\n",
       "      <td>80.0</td>\n",
       "      <td>77.0</td>\n",
       "      <td>0</td>\n",
       "    </tr>\n",
       "    <tr>\n",
       "      <th>1</th>\n",
       "      <td>0</td>\n",
       "      <td>46</td>\n",
       "      <td>2.0</td>\n",
       "      <td>0</td>\n",
       "      <td>0.0</td>\n",
       "      <td>0.0</td>\n",
       "      <td>0</td>\n",
       "      <td>0</td>\n",
       "      <td>0</td>\n",
       "      <td>250.0</td>\n",
       "      <td>121.0</td>\n",
       "      <td>81.0</td>\n",
       "      <td>28.73</td>\n",
       "      <td>95.0</td>\n",
       "      <td>76.0</td>\n",
       "      <td>0</td>\n",
       "    </tr>\n",
       "    <tr>\n",
       "      <th>2</th>\n",
       "      <td>1</td>\n",
       "      <td>48</td>\n",
       "      <td>1.0</td>\n",
       "      <td>1</td>\n",
       "      <td>20.0</td>\n",
       "      <td>0.0</td>\n",
       "      <td>0</td>\n",
       "      <td>0</td>\n",
       "      <td>0</td>\n",
       "      <td>245.0</td>\n",
       "      <td>127.5</td>\n",
       "      <td>80.0</td>\n",
       "      <td>25.34</td>\n",
       "      <td>75.0</td>\n",
       "      <td>70.0</td>\n",
       "      <td>0</td>\n",
       "    </tr>\n",
       "    <tr>\n",
       "      <th>3</th>\n",
       "      <td>0</td>\n",
       "      <td>61</td>\n",
       "      <td>3.0</td>\n",
       "      <td>1</td>\n",
       "      <td>30.0</td>\n",
       "      <td>0.0</td>\n",
       "      <td>0</td>\n",
       "      <td>1</td>\n",
       "      <td>0</td>\n",
       "      <td>225.0</td>\n",
       "      <td>150.0</td>\n",
       "      <td>95.0</td>\n",
       "      <td>28.58</td>\n",
       "      <td>65.0</td>\n",
       "      <td>103.0</td>\n",
       "      <td>1</td>\n",
       "    </tr>\n",
       "    <tr>\n",
       "      <th>4</th>\n",
       "      <td>0</td>\n",
       "      <td>46</td>\n",
       "      <td>3.0</td>\n",
       "      <td>1</td>\n",
       "      <td>23.0</td>\n",
       "      <td>0.0</td>\n",
       "      <td>0</td>\n",
       "      <td>0</td>\n",
       "      <td>0</td>\n",
       "      <td>285.0</td>\n",
       "      <td>130.0</td>\n",
       "      <td>84.0</td>\n",
       "      <td>23.10</td>\n",
       "      <td>85.0</td>\n",
       "      <td>85.0</td>\n",
       "      <td>0</td>\n",
       "    </tr>\n",
       "  </tbody>\n",
       "</table>\n",
       "</div>"
      ],
      "text/plain": [
       "   male  age  education  currentSmoker  cigsPerDay  BPMeds  prevalentStroke  \\\n",
       "0     1   39        4.0              0         0.0     0.0                0   \n",
       "1     0   46        2.0              0         0.0     0.0                0   \n",
       "2     1   48        1.0              1        20.0     0.0                0   \n",
       "3     0   61        3.0              1        30.0     0.0                0   \n",
       "4     0   46        3.0              1        23.0     0.0                0   \n",
       "\n",
       "   prevalentHyp  diabetes  totChol  sysBP  diaBP    BMI  heartRate  glucose  \\\n",
       "0             0         0    195.0  106.0   70.0  26.97       80.0     77.0   \n",
       "1             0         0    250.0  121.0   81.0  28.73       95.0     76.0   \n",
       "2             0         0    245.0  127.5   80.0  25.34       75.0     70.0   \n",
       "3             1         0    225.0  150.0   95.0  28.58       65.0    103.0   \n",
       "4             0         0    285.0  130.0   84.0  23.10       85.0     85.0   \n",
       "\n",
       "   CVD  \n",
       "0    0  \n",
       "1    0  \n",
       "2    0  \n",
       "3    1  \n",
       "4    0  "
      ]
     },
     "execution_count": 12,
     "metadata": {},
     "output_type": "execute_result"
    }
   ],
   "source": [
    "# type your code here\n",
    "df=pd.read_csv('Heart_disease.csv')\n",
    "df.head()"
   ]
  },
  {
   "cell_type": "code",
   "execution_count": 10,
   "metadata": {},
   "outputs": [
    {
     "data": {
      "text/plain": [
       "(4240, 16)"
      ]
     },
     "execution_count": 10,
     "metadata": {},
     "output_type": "execute_result"
    }
   ],
   "source": [
    "df.shape"
   ]
  },
  {
   "cell_type": "markdown",
   "metadata": {},
   "source": [
    "### Let's begin with some hands-on practice exercises"
   ]
  },
  {
   "cell_type": "code",
   "execution_count": 159,
   "metadata": {
    "scrolled": true
   },
   "outputs": [
    {
     "data": {
      "text/plain": [
       "male                 0\n",
       "age                  0\n",
       "education          105\n",
       "currentSmoker        0\n",
       "cigsPerDay          29\n",
       "BPMeds              53\n",
       "prevalentStroke      0\n",
       "prevalentHyp         0\n",
       "diabetes             0\n",
       "totChol             50\n",
       "sysBP                0\n",
       "diaBP                0\n",
       "BMI                 19\n",
       "heartRate            1\n",
       "glucose            388\n",
       "CVD                  0\n",
       "dtype: int64"
      ]
     },
     "execution_count": 159,
     "metadata": {},
     "output_type": "execute_result"
    }
   ],
   "source": [
    "df.isnull().sum()"
   ]
  },
  {
   "cell_type": "code",
   "execution_count": 160,
   "metadata": {},
   "outputs": [],
   "source": [
    "df1=df.dropna()"
   ]
  },
  {
   "cell_type": "code",
   "execution_count": 161,
   "metadata": {},
   "outputs": [
    {
     "data": {
      "text/plain": [
       "(3658, 16)"
      ]
     },
     "execution_count": 161,
     "metadata": {},
     "output_type": "execute_result"
    }
   ],
   "source": [
    "df1.shape"
   ]
  },
  {
   "cell_type": "code",
   "execution_count": 162,
   "metadata": {},
   "outputs": [
    {
     "data": {
      "text/plain": [
       "male               0\n",
       "age                0\n",
       "education          0\n",
       "currentSmoker      0\n",
       "cigsPerDay         0\n",
       "BPMeds             0\n",
       "prevalentStroke    0\n",
       "prevalentHyp       0\n",
       "diabetes           0\n",
       "totChol            0\n",
       "sysBP              0\n",
       "diaBP              0\n",
       "BMI                0\n",
       "heartRate          0\n",
       "glucose            0\n",
       "CVD                0\n",
       "dtype: int64"
      ]
     },
     "execution_count": 162,
     "metadata": {},
     "output_type": "execute_result"
    }
   ],
   "source": [
    "df1.isnull().sum()"
   ]
  },
  {
   "cell_type": "code",
   "execution_count": 163,
   "metadata": {
    "scrolled": true
   },
   "outputs": [
    {
     "data": {
      "text/plain": [
       "<AxesSubplot:>"
      ]
     },
     "execution_count": 163,
     "metadata": {},
     "output_type": "execute_result"
    },
    {
     "data": {
      "image/png": "[encoded data removed]",
      "text/plain": [
       "<Figure size 1224x576 with 2 Axes>"
      ]
     },
     "metadata": {
      "needs_background": "light"
     },
     "output_type": "display_data"
    }
   ],
   "source": [
    "plt.figure(figsize=(17,8))\n",
    "sns.heatmap(df1.isnull())"
   ]
  },
  {
   "cell_type": "code",
   "execution_count": null,
   "metadata": {},
   "outputs": [],
   "source": []
  },
  {
   "cell_type": "markdown",
   "metadata": {},
   "source": [
    "<a id=\"logreg\"> </a>\n",
    "## 1. Logistic regression model"
   ]
  },
  {
   "cell_type": "markdown",
   "metadata": {},
   "source": [
    "## We shall use the heart disease dataset"
   ]
  },
  {
   "cell_type": "markdown",
   "metadata": {
    "collapsed": true
   },
   "source": [
    "<table align=\"left\">\n",
    "    <tr>\n",
    "        <td width=\"6%\">\n",
    "            <img src=\"question_icon.png\">\n",
    "        </td>\n",
    "        <td>\n",
    "            <div align=\"left\", style=\"font-size:120%\">\n",
    "                <font color=\"#21618C\">\n",
    "                    <b>1. Are all the classes of target variable 'CVD' fairly represented by records in the considered dataset ?</b>\n",
    "                </font>\n",
    "            </div>\n",
    "        </td>\n",
    "    </tr>\n",
    "</table>"
   ]
  },
  {
   "cell_type": "code",
   "execution_count": 164,
   "metadata": {},
   "outputs": [
    {
     "data": {
      "text/plain": [
       "0    84.7731\n",
       "1    15.2269\n",
       "Name: CVD, dtype: float64"
      ]
     },
     "execution_count": 164,
     "metadata": {},
     "output_type": "execute_result"
    }
   ],
   "source": [
    "# type your code here\n",
    "df1['CVD'].value_counts(normalize=True)*100\n"
   ]
  },
  {
   "cell_type": "code",
   "execution_count": 165,
   "metadata": {},
   "outputs": [
    {
     "name": "stderr",
     "output_type": "stream",
     "text": [
      "C:\\Users\\gargv\\Anaconda3\\lib\\site-packages\\seaborn\\_decorators.py:36: FutureWarning: Pass the following variable as a keyword arg: x. From version 0.12, the only valid positional argument will be `data`, and passing other arguments without an explicit keyword will result in an error or misinterpretation.\n",
      "  warnings.warn(\n"
     ]
    },
    {
     "data": {
      "text/plain": [
       "<AxesSubplot:xlabel='CVD', ylabel='count'>"
      ]
     },
     "execution_count": 165,
     "metadata": {},
     "output_type": "execute_result"
    },
    {
     "data": {
      "image/png": "[encoded data removed]",
      "text/plain": [
       "<Figure size 432x288 with 1 Axes>"
      ]
     },
     "metadata": {
      "needs_background": "light"
     },
     "output_type": "display_data"
    }
   ],
   "source": [
    "sns.countplot(df1['CVD'])"
   ]
  },
  {
   "cell_type": "markdown",
   "metadata": {
    "collapsed": true
   },
   "source": [
    "<table align=\"left\">\n",
    "    <tr>\n",
    "        <td width=\"6%\">\n",
    "            <img src=\"question_icon.png\">\n",
    "        </td>\n",
    "        <td>\n",
    "            <div align=\"left\", style=\"font-size:120%\">\n",
    "                <font color=\"#21618C\">\n",
    "                    <b>2. Predict whether or not a patient will have cardiovascular disease based on the information about blood pressure of the patient. Columns related to blood pressure are diaBP, sysBP and BPMeds.</b>\n",
    "                </font>\n",
    "            </div>\n",
    "        </td>\n",
    "    </tr>\n",
    "</table>"
   ]
  },
  {
   "cell_type": "code",
   "execution_count": 166,
   "metadata": {},
   "outputs": [],
   "source": [
    "# type your code here\n",
    "import statsmodels.api as sm\n",
    "X=df1[['diaBP','sysBP', 'BPMeds']]\n",
    "X=sm.add_constant(X)\n",
    "y=df1['CVD']"
   ]
  },
  {
   "cell_type": "code",
   "execution_count": 167,
   "metadata": {},
   "outputs": [
    {
     "name": "stdout",
     "output_type": "stream",
     "text": [
      "(2926, 4) (2926,)\n",
      "(732, 4) (732,)\n"
     ]
    }
   ],
   "source": [
    "from sklearn.model_selection import train_test_split\n",
    "X_train, X_test, y_train, y_test= train_test_split(X,y, random_state=10,test_size=0.2)\n",
    "\n",
    "print(X_train.shape, y_train.shape)\n",
    "print(X_test.shape, y_test.shape)"
   ]
  },
  {
   "cell_type": "code",
   "execution_count": 168,
   "metadata": {
    "scrolled": true
   },
   "outputs": [
    {
     "name": "stdout",
     "output_type": "stream",
     "text": [
      "Optimization terminated successfully.\n",
      "         Current function value: 0.396871\n",
      "         Iterations 6\n",
      "                           Logit Regression Results                           \n",
      "==============================================================================\n",
      "Dep. Variable:                    CVD   No. Observations:                 2926\n",
      "Model:                          Logit   Df Residuals:                     2922\n",
      "Method:                           MLE   Df Model:                            3\n",
      "Date:                Tue, 30 Nov 2021   Pseudo R-squ.:                 0.04918\n",
      "Time:                        20:16:31   Log-Likelihood:                -1161.2\n",
      "converged:                       True   LL-Null:                       -1221.3\n",
      "Covariance Type:            nonrobust   LLR p-value:                 7.281e-26\n",
      "==============================================================================\n",
      "                 coef    std err          z      P>|z|      [0.025      0.975]\n",
      "------------------------------------------------------------------------------\n",
      "const         -4.6423      0.371    -12.529      0.000      -5.369      -3.916\n",
      "diaBP         -0.0052      0.007     -0.794      0.427      -0.018       0.008\n",
      "sysBP          0.0242      0.004      6.886      0.000       0.017       0.031\n",
      "BPMeds         0.4704      0.240      1.963      0.050       0.001       0.940\n",
      "==============================================================================\n"
     ]
    }
   ],
   "source": [
    "model=sm.Logit(y_train,X_train).fit()\n",
    "\n",
    "print(model.summary())"
   ]
  },
  {
   "cell_type": "code",
   "execution_count": 169,
   "metadata": {
    "scrolled": true
   },
   "outputs": [],
   "source": [
    "predict=model.predict(X_test)\n"
   ]
  },
  {
   "cell_type": "code",
   "execution_count": 170,
   "metadata": {},
   "outputs": [],
   "source": [
    "y_pred=[0 if i<0.5 else 1 for i in predict ]\n"
   ]
  },
  {
   "cell_type": "markdown",
   "metadata": {
    "collapsed": true
   },
   "source": [
    "<table align=\"left\">\n",
    "    <tr>\n",
    "        <td width=\"6%\">\n",
    "            <img src=\"question_icon.png\">\n",
    "        </td>\n",
    "        <td>\n",
    "            <div align=\"left\", style=\"font-size:120%\">\n",
    "                <font color=\"#21618C\">\n",
    "                    <b>3. Predict whether or not a patient has cardiovascular disease using the categorical variables in the dataset. How does a unit change in each feature influence the odds of a patient having a cardiocascular disease?</b>\n",
    "                </font>\n",
    "            </div>\n",
    "        </td>\n",
    "    </tr>\n",
    "</table>"
   ]
  },
  {
   "cell_type": "code",
   "execution_count": 171,
   "metadata": {},
   "outputs": [
    {
     "name": "stderr",
     "output_type": "stream",
     "text": [
      "<ipython-input-171-af993c3fd4d2>:3: SettingWithCopyWarning: \n",
      "A value is trying to be set on a copy of a slice from a DataFrame.\n",
      "Try using .loc[row_indexer,col_indexer] = value instead\n",
      "\n",
      "See the caveats in the documentation: https://pandas.pydata.org/pandas-docs/stable/user_guide/indexing.html#returning-a-view-versus-a-copy\n",
      "  df1['male']=df1['male'].astype(object)\n",
      "<ipython-input-171-af993c3fd4d2>:4: SettingWithCopyWarning: \n",
      "A value is trying to be set on a copy of a slice from a DataFrame.\n",
      "Try using .loc[row_indexer,col_indexer] = value instead\n",
      "\n",
      "See the caveats in the documentation: https://pandas.pydata.org/pandas-docs/stable/user_guide/indexing.html#returning-a-view-versus-a-copy\n",
      "  df1['education']=df1['education'].astype(object)\n",
      "<ipython-input-171-af993c3fd4d2>:5: SettingWithCopyWarning: \n",
      "A value is trying to be set on a copy of a slice from a DataFrame.\n",
      "Try using .loc[row_indexer,col_indexer] = value instead\n",
      "\n",
      "See the caveats in the documentation: https://pandas.pydata.org/pandas-docs/stable/user_guide/indexing.html#returning-a-view-versus-a-copy\n",
      "  df1['currentSmoker']=df1['currentSmoker'].astype(object)\n",
      "<ipython-input-171-af993c3fd4d2>:6: SettingWithCopyWarning: \n",
      "A value is trying to be set on a copy of a slice from a DataFrame.\n",
      "Try using .loc[row_indexer,col_indexer] = value instead\n",
      "\n",
      "See the caveats in the documentation: https://pandas.pydata.org/pandas-docs/stable/user_guide/indexing.html#returning-a-view-versus-a-copy\n",
      "  df1['BPMeds']=df1['BPMeds'].astype(object)\n",
      "<ipython-input-171-af993c3fd4d2>:7: SettingWithCopyWarning: \n",
      "A value is trying to be set on a copy of a slice from a DataFrame.\n",
      "Try using .loc[row_indexer,col_indexer] = value instead\n",
      "\n",
      "See the caveats in the documentation: https://pandas.pydata.org/pandas-docs/stable/user_guide/indexing.html#returning-a-view-versus-a-copy\n",
      "  df1['prevalentStroke']=df1['prevalentStroke'].astype(object)\n",
      "<ipython-input-171-af993c3fd4d2>:8: SettingWithCopyWarning: \n",
      "A value is trying to be set on a copy of a slice from a DataFrame.\n",
      "Try using .loc[row_indexer,col_indexer] = value instead\n",
      "\n",
      "See the caveats in the documentation: https://pandas.pydata.org/pandas-docs/stable/user_guide/indexing.html#returning-a-view-versus-a-copy\n",
      "  df1['prevalentHyp']=df1['prevalentHyp'].astype(object)\n",
      "<ipython-input-171-af993c3fd4d2>:9: SettingWithCopyWarning: \n",
      "A value is trying to be set on a copy of a slice from a DataFrame.\n",
      "Try using .loc[row_indexer,col_indexer] = value instead\n",
      "\n",
      "See the caveats in the documentation: https://pandas.pydata.org/pandas-docs/stable/user_guide/indexing.html#returning-a-view-versus-a-copy\n",
      "  df1['diabetes']=df1['diabetes'].astype(object)\n"
     ]
    }
   ],
   "source": [
    "# type your code here\n",
    "\n",
    "df1['male']=df1['male'].astype(object)\n",
    "df1['education']=df1['education'].astype(object)\n",
    "df1['currentSmoker']=df1['currentSmoker'].astype(object)\n",
    "df1['BPMeds']=df1['BPMeds'].astype(object)\n",
    "df1['prevalentStroke']=df1['prevalentStroke'].astype(object)\n",
    "df1['prevalentHyp']=df1['prevalentHyp'].astype(object)\n",
    "df1['diabetes']=df1['diabetes'].astype(object)"
   ]
  },
  {
   "cell_type": "code",
   "execution_count": 172,
   "metadata": {},
   "outputs": [],
   "source": [
    "\n",
    "X=df1.select_dtypes(include='object')\n",
    "x=pd.get_dummies(X,drop_first=True)\n",
    "X=sm.add_constant(x)\n",
    "y=df1['CVD']\n"
   ]
  },
  {
   "cell_type": "code",
   "execution_count": 173,
   "metadata": {},
   "outputs": [
    {
     "name": "stdout",
     "output_type": "stream",
     "text": [
      "(2926, 10) (2926,)\n",
      "(732, 10) (732,)\n"
     ]
    }
   ],
   "source": [
    "from sklearn.model_selection import train_test_split\n",
    "X_train, X_test, y_train, y_test= train_test_split(X,y, random_state=10,test_size=0.2)\n",
    "\n",
    "print(X_train.shape, y_train.shape)\n",
    "print(X_test.shape, y_test.shape)"
   ]
  },
  {
   "cell_type": "code",
   "execution_count": 174,
   "metadata": {
    "scrolled": true
   },
   "outputs": [
    {
     "name": "stdout",
     "output_type": "stream",
     "text": [
      "Optimization terminated successfully.\n",
      "         Current function value: 0.392075\n",
      "         Iterations 6\n"
     ]
    },
    {
     "data": {
      "text/html": [
       "<table class=\"simpletable\">\n",
       "<caption>Logit Regression Results</caption>\n",
       "<tr>\n",
       "  <th>Dep. Variable:</th>          <td>CVD</td>       <th>  No. Observations:  </th>  <td>  2926</td>  \n",
       "</tr>\n",
       "<tr>\n",
       "  <th>Model:</th>                 <td>Logit</td>      <th>  Df Residuals:      </th>  <td>  2916</td>  \n",
       "</tr>\n",
       "<tr>\n",
       "  <th>Method:</th>                 <td>MLE</td>       <th>  Df Model:          </th>  <td>     9</td>  \n",
       "</tr>\n",
       "<tr>\n",
       "  <th>Date:</th>            <td>Tue, 30 Nov 2021</td> <th>  Pseudo R-squ.:     </th>  <td>0.06067</td> \n",
       "</tr>\n",
       "<tr>\n",
       "  <th>Time:</th>                <td>20:16:31</td>     <th>  Log-Likelihood:    </th> <td> -1147.2</td> \n",
       "</tr>\n",
       "<tr>\n",
       "  <th>converged:</th>             <td>True</td>       <th>  LL-Null:           </th> <td> -1221.3</td> \n",
       "</tr>\n",
       "<tr>\n",
       "  <th>Covariance Type:</th>     <td>nonrobust</td>    <th>  LLR p-value:       </th> <td>2.099e-27</td>\n",
       "</tr>\n",
       "</table>\n",
       "<table class=\"simpletable\">\n",
       "<tr>\n",
       "          <td></td>             <th>coef</th>     <th>std err</th>      <th>z</th>      <th>P>|z|</th>  <th>[0.025</th>    <th>0.975]</th>  \n",
       "</tr>\n",
       "<tr>\n",
       "  <th>const</th>             <td>   -2.1642</td> <td>    0.119</td> <td>  -18.132</td> <td> 0.000</td> <td>   -2.398</td> <td>   -1.930</td>\n",
       "</tr>\n",
       "<tr>\n",
       "  <th>male_1</th>            <td>    0.5230</td> <td>    0.112</td> <td>    4.662</td> <td> 0.000</td> <td>    0.303</td> <td>    0.743</td>\n",
       "</tr>\n",
       "<tr>\n",
       "  <th>education_2.0</th>     <td>   -0.5367</td> <td>    0.134</td> <td>   -4.008</td> <td> 0.000</td> <td>   -0.799</td> <td>   -0.274</td>\n",
       "</tr>\n",
       "<tr>\n",
       "  <th>education_3.0</th>     <td>   -0.4741</td> <td>    0.164</td> <td>   -2.889</td> <td> 0.004</td> <td>   -0.796</td> <td>   -0.152</td>\n",
       "</tr>\n",
       "<tr>\n",
       "  <th>education_4.0</th>     <td>   -0.2968</td> <td>    0.174</td> <td>   -1.709</td> <td> 0.087</td> <td>   -0.637</td> <td>    0.044</td>\n",
       "</tr>\n",
       "<tr>\n",
       "  <th>currentSmoker_1</th>   <td>    0.0344</td> <td>    0.112</td> <td>    0.307</td> <td> 0.759</td> <td>   -0.185</td> <td>    0.254</td>\n",
       "</tr>\n",
       "<tr>\n",
       "  <th>BPMeds_1.0</th>        <td>    0.6933</td> <td>    0.238</td> <td>    2.916</td> <td> 0.004</td> <td>    0.227</td> <td>    1.159</td>\n",
       "</tr>\n",
       "<tr>\n",
       "  <th>prevalentStroke_1</th> <td>    0.6703</td> <td>    0.510</td> <td>    1.315</td> <td> 0.189</td> <td>   -0.329</td> <td>    1.670</td>\n",
       "</tr>\n",
       "<tr>\n",
       "  <th>prevalentHyp_1</th>    <td>    0.8270</td> <td>    0.114</td> <td>    7.285</td> <td> 0.000</td> <td>    0.605</td> <td>    1.050</td>\n",
       "</tr>\n",
       "<tr>\n",
       "  <th>diabetes_1</th>        <td>    0.8346</td> <td>    0.257</td> <td>    3.247</td> <td> 0.001</td> <td>    0.331</td> <td>    1.338</td>\n",
       "</tr>\n",
       "</table>"
      ],
      "text/plain": [
       "<class 'statsmodels.iolib.summary.Summary'>\n",
       "\"\"\"\n",
       "                           Logit Regression Results                           \n",
       "==============================================================================\n",
       "Dep. Variable:                    CVD   No. Observations:                 2926\n",
       "Model:                          Logit   Df Residuals:                     2916\n",
       "Method:                           MLE   Df Model:                            9\n",
       "Date:                Tue, 30 Nov 2021   Pseudo R-squ.:                 0.06067\n",
       "Time:                        20:16:31   Log-Likelihood:                -1147.2\n",
       "converged:                       True   LL-Null:                       -1221.3\n",
       "Covariance Type:            nonrobust   LLR p-value:                 2.099e-27\n",
       "=====================================================================================\n",
       "                        coef    std err          z      P>|z|      [0.025      0.975]\n",
       "-------------------------------------------------------------------------------------\n",
       "const                -2.1642      0.119    -18.132      0.000      -2.398      -1.930\n",
       "male_1                0.5230      0.112      4.662      0.000       0.303       0.743\n",
       "education_2.0        -0.5367      0.134     -4.008      0.000      -0.799      -0.274\n",
       "education_3.0        -0.4741      0.164     -2.889      0.004      -0.796      -0.152\n",
       "education_4.0        -0.2968      0.174     -1.709      0.087      -0.637       0.044\n",
       "currentSmoker_1       0.0344      0.112      0.307      0.759      -0.185       0.254\n",
       "BPMeds_1.0            0.6933      0.238      2.916      0.004       0.227       1.159\n",
       "prevalentStroke_1     0.6703      0.510      1.315      0.189      -0.329       1.670\n",
       "prevalentHyp_1        0.8270      0.114      7.285      0.000       0.605       1.050\n",
       "diabetes_1            0.8346      0.257      3.247      0.001       0.331       1.338\n",
       "=====================================================================================\n",
       "\"\"\""
      ]
     },
     "execution_count": 174,
     "metadata": {},
     "output_type": "execute_result"
    }
   ],
   "source": [
    "model=sm.Logit(y_train,X_train).fit()\n",
    "model.summary()"
   ]
  },
  {
   "cell_type": "code",
   "execution_count": 175,
   "metadata": {},
   "outputs": [
    {
     "data": {
      "text/html": [
       "<div>\n",
       "<style scoped>\n",
       "    .dataframe tbody tr th:only-of-type {\n",
       "        vertical-align: middle;\n",
       "    }\n",
       "\n",
       "    .dataframe tbody tr th {\n",
       "        vertical-align: top;\n",
       "    }\n",
       "\n",
       "    .dataframe thead th {\n",
       "        text-align: right;\n",
       "    }\n",
       "</style>\n",
       "<table border=\"1\" class=\"dataframe\">\n",
       "  <thead>\n",
       "    <tr style=\"text-align: right;\">\n",
       "      <th></th>\n",
       "      <th>Odds</th>\n",
       "    </tr>\n",
       "  </thead>\n",
       "  <tbody>\n",
       "    <tr>\n",
       "      <th>const</th>\n",
       "      <td>0.114844</td>\n",
       "    </tr>\n",
       "    <tr>\n",
       "      <th>male_1</th>\n",
       "      <td>1.687104</td>\n",
       "    </tr>\n",
       "    <tr>\n",
       "      <th>education_2.0</th>\n",
       "      <td>0.584690</td>\n",
       "    </tr>\n",
       "    <tr>\n",
       "      <th>education_3.0</th>\n",
       "      <td>0.622438</td>\n",
       "    </tr>\n",
       "    <tr>\n",
       "      <th>education_4.0</th>\n",
       "      <td>0.743165</td>\n",
       "    </tr>\n",
       "    <tr>\n",
       "      <th>currentSmoker_1</th>\n",
       "      <td>1.035042</td>\n",
       "    </tr>\n",
       "    <tr>\n",
       "      <th>BPMeds_1.0</th>\n",
       "      <td>2.000332</td>\n",
       "    </tr>\n",
       "    <tr>\n",
       "      <th>prevalentStroke_1</th>\n",
       "      <td>1.954872</td>\n",
       "    </tr>\n",
       "    <tr>\n",
       "      <th>prevalentHyp_1</th>\n",
       "      <td>2.286532</td>\n",
       "    </tr>\n",
       "    <tr>\n",
       "      <th>diabetes_1</th>\n",
       "      <td>2.303822</td>\n",
       "    </tr>\n",
       "  </tbody>\n",
       "</table>\n",
       "</div>"
      ],
      "text/plain": [
       "                       Odds\n",
       "const              0.114844\n",
       "male_1             1.687104\n",
       "education_2.0      0.584690\n",
       "education_3.0      0.622438\n",
       "education_4.0      0.743165\n",
       "currentSmoker_1    1.035042\n",
       "BPMeds_1.0         2.000332\n",
       "prevalentStroke_1  1.954872\n",
       "prevalentHyp_1     2.286532\n",
       "diabetes_1         2.303822"
      ]
     },
     "execution_count": 175,
     "metadata": {},
     "output_type": "execute_result"
    }
   ],
   "source": [
    "df1_odds=pd.DataFrame(np.exp(model.params),columns = ['Odds'])\n",
    "df1_odds"
   ]
  },
  {
   "cell_type": "markdown",
   "metadata": {
    "collapsed": true
   },
   "source": [
    "<table align=\"left\">\n",
    "    <tr>\n",
    "        <td width=\"6%\">\n",
    "            <img src=\"question_icon.png\">\n",
    "        </td>\n",
    "        <td>\n",
    "            <div align=\"left\", style=\"font-size:120%\">\n",
    "                <font color=\"#21618C\">\n",
    "                    <b>4. Predit if a patient has cardiovascular disease based on whether or not the patient has history of hypertension. Calculate the odds ratio.</b>\n",
    "                </font>\n",
    "            </div>\n",
    "        </td>\n",
    "    </tr>\n",
    "</table>"
   ]
  },
  {
   "cell_type": "code",
   "execution_count": 176,
   "metadata": {},
   "outputs": [],
   "source": [
    "# type your code here\n",
    "X=pd.get_dummies(df1['prevalentHyp'],drop_first=True)\n",
    "y=df1.CVD\n",
    "X=sm.add_constant(X)"
   ]
  },
  {
   "cell_type": "code",
   "execution_count": 177,
   "metadata": {},
   "outputs": [
    {
     "name": "stdout",
     "output_type": "stream",
     "text": [
      "(2926, 2) (2926,)\n",
      "(732, 2) (732,)\n"
     ]
    }
   ],
   "source": [
    "from sklearn.model_selection import train_test_split\n",
    "X_train, X_test, y_train, y_test= train_test_split(X,y, random_state=10,test_size=0.2)\n",
    "\n",
    "print(X_train.shape, y_train.shape)\n",
    "print(X_test.shape, y_test.shape)"
   ]
  },
  {
   "cell_type": "code",
   "execution_count": 178,
   "metadata": {},
   "outputs": [
    {
     "name": "stdout",
     "output_type": "stream",
     "text": [
      "Optimization terminated successfully.\n",
      "         Current function value: 0.403699\n",
      "         Iterations 6\n"
     ]
    }
   ],
   "source": [
    "model=sm.Logit(y_train,X_train).fit()"
   ]
  },
  {
   "cell_type": "code",
   "execution_count": 179,
   "metadata": {},
   "outputs": [
    {
     "name": "stdout",
     "output_type": "stream",
     "text": [
      "           Odds\n",
      "const  0.119114\n",
      "1      2.612156\n",
      "Odds of having heart disease given he has a history 2.612156295224312\n",
      "Odds of having heart disease given he does not have a history 0.38282548476454303\n",
      "Odds ratio  6.823360510680002\n"
     ]
    }
   ],
   "source": [
    "df1_odds=pd.DataFrame(np.exp(model.params),columns=['Odds'])\n",
    "odds_hyp=df1_odds.iloc[1,0]\n",
    "odds_no_hyp=(1/df1_odds.iloc[1,0])\n",
    "\n",
    "print(df1_odds)\n",
    "print('Odds of having heart disease given he has a history',odds_hyp)\n",
    "print('Odds of having heart disease given he does not have a history',odds_no_hyp)\n",
    "print('Odds ratio ',odds_hyp/odds_no_hyp)\n"
   ]
  },
  {
   "cell_type": "markdown",
   "metadata": {},
   "source": [
    "<a id=\"mod_eval\"> </a>\n",
    "## 2. Model Evaluation Metrics"
   ]
  },
  {
   "cell_type": "markdown",
   "metadata": {
    "collapsed": true
   },
   "source": [
    "<table align=\"left\">\n",
    "    <tr>\n",
    "        <td width=\"6%\">\n",
    "            <img src=\"question_icon.png\">\n",
    "        </td>\n",
    "        <td>\n",
    "            <div align=\"left\", style=\"font-size:120%\">\n",
    "                <font color=\"#21618C\">\n",
    "                    <b>5. Build a full model to predict if a patient will have a cardiovascular disease. Find the value of Mcfadden's R<sup>2</sup>.\n",
    "                </font>\n",
    "            </div>\n",
    "        </td>\n",
    "    </tr>\n",
    "</table>"
   ]
  },
  {
   "cell_type": "code",
   "execution_count": 180,
   "metadata": {},
   "outputs": [],
   "source": [
    "# type your code here\n",
    "numeric=df1.select_dtypes(include=np.number).drop(['CVD'],axis=1)\n",
    "cat=df1.select_dtypes(include='object')\n",
    "cat1=pd.get_dummies(cat,drop_first=True)\n",
    "X=pd.concat([numeric,cat1],axis=1)\n",
    "X=sm.add_constant(X)\n",
    "y=df1.CVD"
   ]
  },
  {
   "cell_type": "code",
   "execution_count": 181,
   "metadata": {},
   "outputs": [
    {
     "name": "stdout",
     "output_type": "stream",
     "text": [
      "(2926, 18) (2926,)\n",
      "(732, 18) (732,)\n"
     ]
    }
   ],
   "source": [
    "from sklearn.model_selection import train_test_split\n",
    "X_train, X_test, y_train, y_test= train_test_split(X,y, random_state=10,test_size=0.2)\n",
    "\n",
    "print(X_train.shape, y_train.shape)\n",
    "print(X_test.shape, y_test.shape)"
   ]
  },
  {
   "cell_type": "code",
   "execution_count": 182,
   "metadata": {
    "scrolled": true
   },
   "outputs": [
    {
     "name": "stdout",
     "output_type": "stream",
     "text": [
      "Optimization terminated successfully.\n",
      "         Current function value: 0.372817\n",
      "         Iterations 7\n"
     ]
    },
    {
     "data": {
      "text/html": [
       "<table class=\"simpletable\">\n",
       "<caption>Logit Regression Results</caption>\n",
       "<tr>\n",
       "  <th>Dep. Variable:</th>          <td>CVD</td>       <th>  No. Observations:  </th>  <td>  2926</td>  \n",
       "</tr>\n",
       "<tr>\n",
       "  <th>Model:</th>                 <td>Logit</td>      <th>  Df Residuals:      </th>  <td>  2908</td>  \n",
       "</tr>\n",
       "<tr>\n",
       "  <th>Method:</th>                 <td>MLE</td>       <th>  Df Model:          </th>  <td>    17</td>  \n",
       "</tr>\n",
       "<tr>\n",
       "  <th>Date:</th>            <td>Tue, 30 Nov 2021</td> <th>  Pseudo R-squ.:     </th>  <td>0.1068</td>  \n",
       "</tr>\n",
       "<tr>\n",
       "  <th>Time:</th>                <td>20:16:31</td>     <th>  Log-Likelihood:    </th> <td> -1090.9</td> \n",
       "</tr>\n",
       "<tr>\n",
       "  <th>converged:</th>             <td>True</td>       <th>  LL-Null:           </th> <td> -1221.3</td> \n",
       "</tr>\n",
       "<tr>\n",
       "  <th>Covariance Type:</th>     <td>nonrobust</td>    <th>  LLR p-value:       </th> <td>1.242e-45</td>\n",
       "</tr>\n",
       "</table>\n",
       "<table class=\"simpletable\">\n",
       "<tr>\n",
       "          <td></td>             <th>coef</th>     <th>std err</th>      <th>z</th>      <th>P>|z|</th>  <th>[0.025</th>    <th>0.975]</th>  \n",
       "</tr>\n",
       "<tr>\n",
       "  <th>const</th>             <td>   -8.2491</td> <td>    0.795</td> <td>  -10.377</td> <td> 0.000</td> <td>   -9.807</td> <td>   -6.691</td>\n",
       "</tr>\n",
       "<tr>\n",
       "  <th>age</th>               <td>    0.0590</td> <td>    0.008</td> <td>    7.735</td> <td> 0.000</td> <td>    0.044</td> <td>    0.074</td>\n",
       "</tr>\n",
       "<tr>\n",
       "  <th>cigsPerDay</th>        <td>    0.0086</td> <td>    0.007</td> <td>    1.174</td> <td> 0.241</td> <td>   -0.006</td> <td>    0.023</td>\n",
       "</tr>\n",
       "<tr>\n",
       "  <th>totChol</th>           <td>    0.0014</td> <td>    0.001</td> <td>    1.067</td> <td> 0.286</td> <td>   -0.001</td> <td>    0.004</td>\n",
       "</tr>\n",
       "<tr>\n",
       "  <th>sysBP</th>             <td>    0.0124</td> <td>    0.004</td> <td>    2.904</td> <td> 0.004</td> <td>    0.004</td> <td>    0.021</td>\n",
       "</tr>\n",
       "<tr>\n",
       "  <th>diaBP</th>             <td>   -0.0009</td> <td>    0.007</td> <td>   -0.125</td> <td> 0.901</td> <td>   -0.015</td> <td>    0.013</td>\n",
       "</tr>\n",
       "<tr>\n",
       "  <th>BMI</th>               <td>    0.0206</td> <td>    0.014</td> <td>    1.464</td> <td> 0.143</td> <td>   -0.007</td> <td>    0.048</td>\n",
       "</tr>\n",
       "<tr>\n",
       "  <th>heartRate</th>         <td>    0.0010</td> <td>    0.005</td> <td>    0.208</td> <td> 0.835</td> <td>   -0.008</td> <td>    0.010</td>\n",
       "</tr>\n",
       "<tr>\n",
       "  <th>glucose</th>           <td>    0.0058</td> <td>    0.003</td> <td>    2.230</td> <td> 0.026</td> <td>    0.001</td> <td>    0.011</td>\n",
       "</tr>\n",
       "<tr>\n",
       "  <th>male_1</th>            <td>    0.5808</td> <td>    0.124</td> <td>    4.693</td> <td> 0.000</td> <td>    0.338</td> <td>    0.823</td>\n",
       "</tr>\n",
       "<tr>\n",
       "  <th>education_2.0</th>     <td>   -0.2545</td> <td>    0.141</td> <td>   -1.809</td> <td> 0.070</td> <td>   -0.530</td> <td>    0.021</td>\n",
       "</tr>\n",
       "<tr>\n",
       "  <th>education_3.0</th>     <td>   -0.2815</td> <td>    0.170</td> <td>   -1.653</td> <td> 0.098</td> <td>   -0.615</td> <td>    0.052</td>\n",
       "</tr>\n",
       "<tr>\n",
       "  <th>education_4.0</th>     <td>   -0.0078</td> <td>    0.180</td> <td>   -0.043</td> <td> 0.966</td> <td>   -0.361</td> <td>    0.345</td>\n",
       "</tr>\n",
       "<tr>\n",
       "  <th>currentSmoker_1</th>   <td>    0.1291</td> <td>    0.179</td> <td>    0.723</td> <td> 0.470</td> <td>   -0.221</td> <td>    0.479</td>\n",
       "</tr>\n",
       "<tr>\n",
       "  <th>BPMeds_1.0</th>        <td>    0.4419</td> <td>    0.249</td> <td>    1.776</td> <td> 0.076</td> <td>   -0.046</td> <td>    0.930</td>\n",
       "</tr>\n",
       "<tr>\n",
       "  <th>prevalentStroke_1</th> <td>    0.6032</td> <td>    0.516</td> <td>    1.169</td> <td> 0.242</td> <td>   -0.408</td> <td>    1.615</td>\n",
       "</tr>\n",
       "<tr>\n",
       "  <th>prevalentHyp_1</th>    <td>    0.1676</td> <td>    0.156</td> <td>    1.072</td> <td> 0.284</td> <td>   -0.139</td> <td>    0.474</td>\n",
       "</tr>\n",
       "<tr>\n",
       "  <th>diabetes_1</th>        <td>    0.1162</td> <td>    0.353</td> <td>    0.329</td> <td> 0.742</td> <td>   -0.577</td> <td>    0.809</td>\n",
       "</tr>\n",
       "</table>"
      ],
      "text/plain": [
       "<class 'statsmodels.iolib.summary.Summary'>\n",
       "\"\"\"\n",
       "                           Logit Regression Results                           \n",
       "==============================================================================\n",
       "Dep. Variable:                    CVD   No. Observations:                 2926\n",
       "Model:                          Logit   Df Residuals:                     2908\n",
       "Method:                           MLE   Df Model:                           17\n",
       "Date:                Tue, 30 Nov 2021   Pseudo R-squ.:                  0.1068\n",
       "Time:                        20:16:31   Log-Likelihood:                -1090.9\n",
       "converged:                       True   LL-Null:                       -1221.3\n",
       "Covariance Type:            nonrobust   LLR p-value:                 1.242e-45\n",
       "=====================================================================================\n",
       "                        coef    std err          z      P>|z|      [0.025      0.975]\n",
       "-------------------------------------------------------------------------------------\n",
       "const                -8.2491      0.795    -10.377      0.000      -9.807      -6.691\n",
       "age                   0.0590      0.008      7.735      0.000       0.044       0.074\n",
       "cigsPerDay            0.0086      0.007      1.174      0.241      -0.006       0.023\n",
       "totChol               0.0014      0.001      1.067      0.286      -0.001       0.004\n",
       "sysBP                 0.0124      0.004      2.904      0.004       0.004       0.021\n",
       "diaBP                -0.0009      0.007     -0.125      0.901      -0.015       0.013\n",
       "BMI                   0.0206      0.014      1.464      0.143      -0.007       0.048\n",
       "heartRate             0.0010      0.005      0.208      0.835      -0.008       0.010\n",
       "glucose               0.0058      0.003      2.230      0.026       0.001       0.011\n",
       "male_1                0.5808      0.124      4.693      0.000       0.338       0.823\n",
       "education_2.0        -0.2545      0.141     -1.809      0.070      -0.530       0.021\n",
       "education_3.0        -0.2815      0.170     -1.653      0.098      -0.615       0.052\n",
       "education_4.0        -0.0078      0.180     -0.043      0.966      -0.361       0.345\n",
       "currentSmoker_1       0.1291      0.179      0.723      0.470      -0.221       0.479\n",
       "BPMeds_1.0            0.4419      0.249      1.776      0.076      -0.046       0.930\n",
       "prevalentStroke_1     0.6032      0.516      1.169      0.242      -0.408       1.615\n",
       "prevalentHyp_1        0.1676      0.156      1.072      0.284      -0.139       0.474\n",
       "diabetes_1            0.1162      0.353      0.329      0.742      -0.577       0.809\n",
       "=====================================================================================\n",
       "\"\"\""
      ]
     },
     "execution_count": 182,
     "metadata": {},
     "output_type": "execute_result"
    }
   ],
   "source": [
    "model5=sm.Logit(y_train,X_train).fit()\n",
    "model5.summary()"
   ]
  },
  {
   "cell_type": "code",
   "execution_count": 183,
   "metadata": {},
   "outputs": [],
   "source": [
    "y_pred1=model5.predict(X_test)\n",
    "y_pred=[0 if i<0.5 else 1 for i in y_pred1]"
   ]
  },
  {
   "cell_type": "markdown",
   "metadata": {
    "collapsed": true
   },
   "source": [
    "<table align=\"left\">\n",
    "    <tr>\n",
    "        <td width=\"6%\">\n",
    "            <img src=\"question_icon.png\">\n",
    "        </td>\n",
    "        <td>\n",
    "            <div align=\"left\", style=\"font-size:120%\">\n",
    "                <font color=\"#21618C\">\n",
    "                    <b>6. Find the significant variables in the full model when all the variables are considered in prediction of whether or not a patient has cardiovascular disease.\n",
    "                    </b>\n",
    "                </font>\n",
    "            </div>\n",
    "        </td>\n",
    "    </tr>\n",
    "</table>"
   ]
  },
  {
   "cell_type": "code",
   "execution_count": 184,
   "metadata": {},
   "outputs": [
    {
     "data": {
      "text/plain": [
       "Index(['const', 1], dtype='object')"
      ]
     },
     "execution_count": 184,
     "metadata": {},
     "output_type": "execute_result"
    }
   ],
   "source": [
    "# type your code her\n",
    "model.pvalues[model.pvalues<0.05].index"
   ]
  },
  {
   "cell_type": "markdown",
   "metadata": {
    "collapsed": true
   },
   "source": [
    "<table align=\"left\">\n",
    "    <tr>\n",
    "        <td width=\"6%\">\n",
    "            <img src=\"question_icon.png\">\n",
    "        </td>\n",
    "        <td>\n",
    "            <div align=\"left\", style=\"font-size:120%\">\n",
    "                <font color=\"#21618C\">\n",
    "                    <b>7. How do the coefficients of each feature form the dataset impact the odds of a patient having a cardiovascular disease?\n",
    "                    </b>\n",
    "                </font>\n",
    "            </div>\n",
    "        </td>\n",
    "    </tr>\n",
    "</table>"
   ]
  },
  {
   "cell_type": "code",
   "execution_count": 185,
   "metadata": {
    "scrolled": true
   },
   "outputs": [
    {
     "data": {
      "text/html": [
       "<div>\n",
       "<style scoped>\n",
       "    .dataframe tbody tr th:only-of-type {\n",
       "        vertical-align: middle;\n",
       "    }\n",
       "\n",
       "    .dataframe tbody tr th {\n",
       "        vertical-align: top;\n",
       "    }\n",
       "\n",
       "    .dataframe thead th {\n",
       "        text-align: right;\n",
       "    }\n",
       "</style>\n",
       "<table border=\"1\" class=\"dataframe\">\n",
       "  <thead>\n",
       "    <tr style=\"text-align: right;\">\n",
       "      <th></th>\n",
       "      <th>Odds</th>\n",
       "    </tr>\n",
       "  </thead>\n",
       "  <tbody>\n",
       "    <tr>\n",
       "      <th>const</th>\n",
       "      <td>-2.127678</td>\n",
       "    </tr>\n",
       "    <tr>\n",
       "      <th>1</th>\n",
       "      <td>0.960176</td>\n",
       "    </tr>\n",
       "  </tbody>\n",
       "</table>\n",
       "</div>"
      ],
      "text/plain": [
       "           Odds\n",
       "const -2.127678\n",
       "1      0.960176"
      ]
     },
     "execution_count": 185,
     "metadata": {},
     "output_type": "execute_result"
    }
   ],
   "source": [
    "# type your code here\n",
    "pd.DataFrame(model.params,columns=['Odds'])"
   ]
  },
  {
   "cell_type": "markdown",
   "metadata": {},
   "source": [
    "<a id=\"perf_eval\"> </a>\n",
    "## 3. Performance evaluation metrics"
   ]
  },
  {
   "cell_type": "markdown",
   "metadata": {
    "collapsed": true
   },
   "source": [
    "<table align=\"left\">\n",
    "    <tr>\n",
    "        <td width=\"6%\">\n",
    "            <img src=\"question_icon.png\">\n",
    "        </td>\n",
    "        <td>\n",
    "            <div align=\"left\", style=\"font-size:120%\">\n",
    "                <font color=\"#21618C\">\n",
    "                        <b>8. For the full model, calculate the accuracy manually using the confusion matrix. Consider 0.5 as the probability threshold.</b>\n",
    "                </font>\n",
    "            </div>\n",
    "        </td>\n",
    "    </tr>\n",
    "</table>"
   ]
  },
  {
   "cell_type": "code",
   "execution_count": 186,
   "metadata": {
    "scrolled": true
   },
   "outputs": [
    {
     "data": {
      "text/html": [
       "<div>\n",
       "<style scoped>\n",
       "    .dataframe tbody tr th:only-of-type {\n",
       "        vertical-align: middle;\n",
       "    }\n",
       "\n",
       "    .dataframe tbody tr th {\n",
       "        vertical-align: top;\n",
       "    }\n",
       "\n",
       "    .dataframe thead th {\n",
       "        text-align: right;\n",
       "    }\n",
       "</style>\n",
       "<table border=\"1\" class=\"dataframe\">\n",
       "  <thead>\n",
       "    <tr style=\"text-align: right;\">\n",
       "      <th></th>\n",
       "      <th>Odds</th>\n",
       "    </tr>\n",
       "  </thead>\n",
       "  <tbody>\n",
       "    <tr>\n",
       "      <th>const</th>\n",
       "      <td>-2.127678</td>\n",
       "    </tr>\n",
       "    <tr>\n",
       "      <th>1</th>\n",
       "      <td>0.960176</td>\n",
       "    </tr>\n",
       "  </tbody>\n",
       "</table>\n",
       "</div>"
      ],
      "text/plain": [
       "           Odds\n",
       "const -2.127678\n",
       "1      0.960176"
      ]
     },
     "execution_count": 186,
     "metadata": {},
     "output_type": "execute_result"
    }
   ],
   "source": [
    "# type your code here\n",
    "pd.DataFrame(model.params,columns=['Odds'])"
   ]
  },
  {
   "cell_type": "code",
   "execution_count": 187,
   "metadata": {},
   "outputs": [],
   "source": [
    "# type your code here\n",
    "from sklearn.metrics import accuracy_score, confusion_matrix\n",
    "cm=confusion_matrix\n",
    "ac= accuracy_score"
   ]
  },
  {
   "cell_type": "code",
   "execution_count": 188,
   "metadata": {},
   "outputs": [],
   "source": [
    "y_pred=model5.predict(X_test)\n",
    "y_pred=[0 if i<0.5 else 1 for i in y_pred]"
   ]
  },
  {
   "cell_type": "code",
   "execution_count": 189,
   "metadata": {},
   "outputs": [
    {
     "data": {
      "text/html": [
       "<div>\n",
       "<style scoped>\n",
       "    .dataframe tbody tr th:only-of-type {\n",
       "        vertical-align: middle;\n",
       "    }\n",
       "\n",
       "    .dataframe tbody tr th {\n",
       "        vertical-align: top;\n",
       "    }\n",
       "\n",
       "    .dataframe thead th {\n",
       "        text-align: right;\n",
       "    }\n",
       "</style>\n",
       "<table border=\"1\" class=\"dataframe\">\n",
       "  <thead>\n",
       "    <tr style=\"text-align: right;\">\n",
       "      <th></th>\n",
       "      <th>Predicted:0</th>\n",
       "      <th>Predicted:1</th>\n",
       "    </tr>\n",
       "  </thead>\n",
       "  <tbody>\n",
       "    <tr>\n",
       "      <th>Actual:0</th>\n",
       "      <td>604</td>\n",
       "      <td>1</td>\n",
       "    </tr>\n",
       "    <tr>\n",
       "      <th>Actual:1</th>\n",
       "      <td>116</td>\n",
       "      <td>11</td>\n",
       "    </tr>\n",
       "  </tbody>\n",
       "</table>\n",
       "</div>"
      ],
      "text/plain": [
       "          Predicted:0  Predicted:1\n",
       "Actual:0          604            1\n",
       "Actual:1          116           11"
      ]
     },
     "execution_count": 189,
     "metadata": {},
     "output_type": "execute_result"
    }
   ],
   "source": [
    "cm1=confusion_matrix(y_test,y_pred)\n",
    "q1=pd.DataFrame(cm1,columns=['Predicted:0','Predicted:1'],index=['Actual:0','Actual:1'])\n",
    "q1"
   ]
  },
  {
   "cell_type": "code",
   "execution_count": null,
   "metadata": {},
   "outputs": [],
   "source": []
  },
  {
   "cell_type": "code",
   "execution_count": 190,
   "metadata": {},
   "outputs": [
    {
     "data": {
      "text/plain": [
       "0.8401639344262295"
      ]
     },
     "execution_count": 190,
     "metadata": {},
     "output_type": "execute_result"
    }
   ],
   "source": [
    "accuracy_score(y_test,y_pred)"
   ]
  },
  {
   "cell_type": "code",
   "execution_count": 191,
   "metadata": {},
   "outputs": [],
   "source": [
    "from sklearn.metrics import classification_report"
   ]
  },
  {
   "cell_type": "code",
   "execution_count": 192,
   "metadata": {
    "scrolled": true
   },
   "outputs": [
    {
     "name": "stdout",
     "output_type": "stream",
     "text": [
      "              precision    recall  f1-score   support\n",
      "\n",
      "           0       0.84      1.00      0.91       605\n",
      "           1       0.92      0.09      0.16       127\n",
      "\n",
      "    accuracy                           0.84       732\n",
      "   macro avg       0.88      0.54      0.53       732\n",
      "weighted avg       0.85      0.84      0.78       732\n",
      "\n"
     ]
    }
   ],
   "source": [
    "print(classification_report(y_test,y_pred))"
   ]
  },
  {
   "cell_type": "code",
   "execution_count": null,
   "metadata": {},
   "outputs": [],
   "source": []
  },
  {
   "cell_type": "code",
   "execution_count": null,
   "metadata": {},
   "outputs": [],
   "source": []
  },
  {
   "cell_type": "code",
   "execution_count": null,
   "metadata": {},
   "outputs": [],
   "source": []
  },
  {
   "cell_type": "markdown",
   "metadata": {
    "collapsed": true
   },
   "source": [
    "<table align=\"left\">\n",
    "    <tr>\n",
    "        <td width=\"6%\">\n",
    "            <img src=\"question_icon.png\">\n",
    "        </td>\n",
    "        <td>\n",
    "            <div align=\"left\", style=\"font-size:120%\">\n",
    "                <font color=\"#21618C\">\n",
    "                    <b>9.  Calculate value of kappa for the full model built in question 5. Consider threshold value as 0.18</b>\n",
    "                </font>\n",
    "            </div>\n",
    "        </td>\n",
    "    </tr>\n",
    "</table>"
   ]
  },
  {
   "cell_type": "code",
   "execution_count": 193,
   "metadata": {},
   "outputs": [
    {
     "name": "stdout",
     "output_type": "stream",
     "text": [
      "(2926, 18) (2926,)\n",
      "(732, 18) (732,)\n",
      "Optimization terminated successfully.\n",
      "         Current function value: 0.372817\n",
      "         Iterations 7\n"
     ]
    },
    {
     "data": {
      "text/html": [
       "<table class=\"simpletable\">\n",
       "<caption>Logit Regression Results</caption>\n",
       "<tr>\n",
       "  <th>Dep. Variable:</th>          <td>CVD</td>       <th>  No. Observations:  </th>  <td>  2926</td>  \n",
       "</tr>\n",
       "<tr>\n",
       "  <th>Model:</th>                 <td>Logit</td>      <th>  Df Residuals:      </th>  <td>  2908</td>  \n",
       "</tr>\n",
       "<tr>\n",
       "  <th>Method:</th>                 <td>MLE</td>       <th>  Df Model:          </th>  <td>    17</td>  \n",
       "</tr>\n",
       "<tr>\n",
       "  <th>Date:</th>            <td>Tue, 30 Nov 2021</td> <th>  Pseudo R-squ.:     </th>  <td>0.1068</td>  \n",
       "</tr>\n",
       "<tr>\n",
       "  <th>Time:</th>                <td>20:16:31</td>     <th>  Log-Likelihood:    </th> <td> -1090.9</td> \n",
       "</tr>\n",
       "<tr>\n",
       "  <th>converged:</th>             <td>True</td>       <th>  LL-Null:           </th> <td> -1221.3</td> \n",
       "</tr>\n",
       "<tr>\n",
       "  <th>Covariance Type:</th>     <td>nonrobust</td>    <th>  LLR p-value:       </th> <td>1.242e-45</td>\n",
       "</tr>\n",
       "</table>\n",
       "<table class=\"simpletable\">\n",
       "<tr>\n",
       "          <td></td>             <th>coef</th>     <th>std err</th>      <th>z</th>      <th>P>|z|</th>  <th>[0.025</th>    <th>0.975]</th>  \n",
       "</tr>\n",
       "<tr>\n",
       "  <th>const</th>             <td>   -8.2491</td> <td>    0.795</td> <td>  -10.377</td> <td> 0.000</td> <td>   -9.807</td> <td>   -6.691</td>\n",
       "</tr>\n",
       "<tr>\n",
       "  <th>age</th>               <td>    0.0590</td> <td>    0.008</td> <td>    7.735</td> <td> 0.000</td> <td>    0.044</td> <td>    0.074</td>\n",
       "</tr>\n",
       "<tr>\n",
       "  <th>cigsPerDay</th>        <td>    0.0086</td> <td>    0.007</td> <td>    1.174</td> <td> 0.241</td> <td>   -0.006</td> <td>    0.023</td>\n",
       "</tr>\n",
       "<tr>\n",
       "  <th>totChol</th>           <td>    0.0014</td> <td>    0.001</td> <td>    1.067</td> <td> 0.286</td> <td>   -0.001</td> <td>    0.004</td>\n",
       "</tr>\n",
       "<tr>\n",
       "  <th>sysBP</th>             <td>    0.0124</td> <td>    0.004</td> <td>    2.904</td> <td> 0.004</td> <td>    0.004</td> <td>    0.021</td>\n",
       "</tr>\n",
       "<tr>\n",
       "  <th>diaBP</th>             <td>   -0.0009</td> <td>    0.007</td> <td>   -0.125</td> <td> 0.901</td> <td>   -0.015</td> <td>    0.013</td>\n",
       "</tr>\n",
       "<tr>\n",
       "  <th>BMI</th>               <td>    0.0206</td> <td>    0.014</td> <td>    1.464</td> <td> 0.143</td> <td>   -0.007</td> <td>    0.048</td>\n",
       "</tr>\n",
       "<tr>\n",
       "  <th>heartRate</th>         <td>    0.0010</td> <td>    0.005</td> <td>    0.208</td> <td> 0.835</td> <td>   -0.008</td> <td>    0.010</td>\n",
       "</tr>\n",
       "<tr>\n",
       "  <th>glucose</th>           <td>    0.0058</td> <td>    0.003</td> <td>    2.230</td> <td> 0.026</td> <td>    0.001</td> <td>    0.011</td>\n",
       "</tr>\n",
       "<tr>\n",
       "  <th>male_1</th>            <td>    0.5808</td> <td>    0.124</td> <td>    4.693</td> <td> 0.000</td> <td>    0.338</td> <td>    0.823</td>\n",
       "</tr>\n",
       "<tr>\n",
       "  <th>education_2.0</th>     <td>   -0.2545</td> <td>    0.141</td> <td>   -1.809</td> <td> 0.070</td> <td>   -0.530</td> <td>    0.021</td>\n",
       "</tr>\n",
       "<tr>\n",
       "  <th>education_3.0</th>     <td>   -0.2815</td> <td>    0.170</td> <td>   -1.653</td> <td> 0.098</td> <td>   -0.615</td> <td>    0.052</td>\n",
       "</tr>\n",
       "<tr>\n",
       "  <th>education_4.0</th>     <td>   -0.0078</td> <td>    0.180</td> <td>   -0.043</td> <td> 0.966</td> <td>   -0.361</td> <td>    0.345</td>\n",
       "</tr>\n",
       "<tr>\n",
       "  <th>currentSmoker_1</th>   <td>    0.1291</td> <td>    0.179</td> <td>    0.723</td> <td> 0.470</td> <td>   -0.221</td> <td>    0.479</td>\n",
       "</tr>\n",
       "<tr>\n",
       "  <th>BPMeds_1.0</th>        <td>    0.4419</td> <td>    0.249</td> <td>    1.776</td> <td> 0.076</td> <td>   -0.046</td> <td>    0.930</td>\n",
       "</tr>\n",
       "<tr>\n",
       "  <th>prevalentStroke_1</th> <td>    0.6032</td> <td>    0.516</td> <td>    1.169</td> <td> 0.242</td> <td>   -0.408</td> <td>    1.615</td>\n",
       "</tr>\n",
       "<tr>\n",
       "  <th>prevalentHyp_1</th>    <td>    0.1676</td> <td>    0.156</td> <td>    1.072</td> <td> 0.284</td> <td>   -0.139</td> <td>    0.474</td>\n",
       "</tr>\n",
       "<tr>\n",
       "  <th>diabetes_1</th>        <td>    0.1162</td> <td>    0.353</td> <td>    0.329</td> <td> 0.742</td> <td>   -0.577</td> <td>    0.809</td>\n",
       "</tr>\n",
       "</table>"
      ],
      "text/plain": [
       "<class 'statsmodels.iolib.summary.Summary'>\n",
       "\"\"\"\n",
       "                           Logit Regression Results                           \n",
       "==============================================================================\n",
       "Dep. Variable:                    CVD   No. Observations:                 2926\n",
       "Model:                          Logit   Df Residuals:                     2908\n",
       "Method:                           MLE   Df Model:                           17\n",
       "Date:                Tue, 30 Nov 2021   Pseudo R-squ.:                  0.1068\n",
       "Time:                        20:16:31   Log-Likelihood:                -1090.9\n",
       "converged:                       True   LL-Null:                       -1221.3\n",
       "Covariance Type:            nonrobust   LLR p-value:                 1.242e-45\n",
       "=====================================================================================\n",
       "                        coef    std err          z      P>|z|      [0.025      0.975]\n",
       "-------------------------------------------------------------------------------------\n",
       "const                -8.2491      0.795    -10.377      0.000      -9.807      -6.691\n",
       "age                   0.0590      0.008      7.735      0.000       0.044       0.074\n",
       "cigsPerDay            0.0086      0.007      1.174      0.241      -0.006       0.023\n",
       "totChol               0.0014      0.001      1.067      0.286      -0.001       0.004\n",
       "sysBP                 0.0124      0.004      2.904      0.004       0.004       0.021\n",
       "diaBP                -0.0009      0.007     -0.125      0.901      -0.015       0.013\n",
       "BMI                   0.0206      0.014      1.464      0.143      -0.007       0.048\n",
       "heartRate             0.0010      0.005      0.208      0.835      -0.008       0.010\n",
       "glucose               0.0058      0.003      2.230      0.026       0.001       0.011\n",
       "male_1                0.5808      0.124      4.693      0.000       0.338       0.823\n",
       "education_2.0        -0.2545      0.141     -1.809      0.070      -0.530       0.021\n",
       "education_3.0        -0.2815      0.170     -1.653      0.098      -0.615       0.052\n",
       "education_4.0        -0.0078      0.180     -0.043      0.966      -0.361       0.345\n",
       "currentSmoker_1       0.1291      0.179      0.723      0.470      -0.221       0.479\n",
       "BPMeds_1.0            0.4419      0.249      1.776      0.076      -0.046       0.930\n",
       "prevalentStroke_1     0.6032      0.516      1.169      0.242      -0.408       1.615\n",
       "prevalentHyp_1        0.1676      0.156      1.072      0.284      -0.139       0.474\n",
       "diabetes_1            0.1162      0.353      0.329      0.742      -0.577       0.809\n",
       "=====================================================================================\n",
       "\"\"\""
      ]
     },
     "execution_count": 193,
     "metadata": {},
     "output_type": "execute_result"
    }
   ],
   "source": [
    "# type your code here\n",
    "numeric=df1.select_dtypes(include=np.number).drop(['CVD'],axis=1)\n",
    "cat=df1.select_dtypes(include='object')\n",
    "cat1=pd.get_dummies(cat,drop_first=True)\n",
    "X=pd.concat([numeric,cat1],axis=1)\n",
    "X=sm.add_constant(X)\n",
    "y=df1.CVD\n",
    "\n",
    "from sklearn.model_selection import train_test_split\n",
    "X_train, X_test, y_train, y_test= train_test_split(X,y, random_state=10,test_size=0.2)\n",
    "\n",
    "print(X_train.shape, y_train.shape)\n",
    "print(X_test.shape, y_test.shape)\n",
    "\n",
    "model=sm.Logit(y_train,X_train).fit()\n",
    "model.summary()"
   ]
  },
  {
   "cell_type": "code",
   "execution_count": 194,
   "metadata": {},
   "outputs": [],
   "source": [
    "y_prob=model.predict(X_test)\n",
    "y_pred=[0 if i<0.18 else 1 for i in y_prob]"
   ]
  },
  {
   "cell_type": "code",
   "execution_count": 195,
   "metadata": {},
   "outputs": [
    {
     "data": {
      "text/plain": [
       "0.2636315922477306"
      ]
     },
     "execution_count": 195,
     "metadata": {},
     "output_type": "execute_result"
    }
   ],
   "source": [
    "# type your code here\n",
    "from sklearn.metrics import cohen_kappa_score\n",
    "cohen_kappa_score(y_test,y_pred)"
   ]
  },
  {
   "cell_type": "markdown",
   "metadata": {
    "collapsed": true
   },
   "source": [
    "<table align=\"left\">\n",
    "    <tr>\n",
    "        <td width=\"6%\">\n",
    "            <img src=\"question_icon.png\">\n",
    "        </td>\n",
    "        <td>\n",
    "            <div align=\"left\", style=\"font-size:120%\">\n",
    "                <font color=\"#21618C\">\n",
    "                    <b>10. Identify the features from the dataset that are involved in multicollinearity. After that, split the updated data using train_test_split.</b>\n",
    "                </font>\n",
    "            </div>\n",
    "        </td>\n",
    "    </tr>\n",
    "</table>"
   ]
  },
  {
   "cell_type": "code",
   "execution_count": 196,
   "metadata": {
    "scrolled": false
   },
   "outputs": [
    {
     "data": {
      "text/html": [
       "<div>\n",
       "<style scoped>\n",
       "    .dataframe tbody tr th:only-of-type {\n",
       "        vertical-align: middle;\n",
       "    }\n",
       "\n",
       "    .dataframe tbody tr th {\n",
       "        vertical-align: top;\n",
       "    }\n",
       "\n",
       "    .dataframe thead th {\n",
       "        text-align: right;\n",
       "    }\n",
       "</style>\n",
       "<table border=\"1\" class=\"dataframe\">\n",
       "  <thead>\n",
       "    <tr style=\"text-align: right;\">\n",
       "      <th></th>\n",
       "      <th>age</th>\n",
       "      <th>cigsPerDay</th>\n",
       "      <th>totChol</th>\n",
       "      <th>sysBP</th>\n",
       "      <th>diaBP</th>\n",
       "      <th>BMI</th>\n",
       "      <th>heartRate</th>\n",
       "      <th>glucose</th>\n",
       "      <th>CVD</th>\n",
       "    </tr>\n",
       "  </thead>\n",
       "  <tbody>\n",
       "    <tr>\n",
       "      <th>age</th>\n",
       "      <td>1.000000</td>\n",
       "      <td>-0.189295</td>\n",
       "      <td>0.268252</td>\n",
       "      <td>0.388267</td>\n",
       "      <td>0.208283</td>\n",
       "      <td>0.137511</td>\n",
       "      <td>-0.002722</td>\n",
       "      <td>0.118349</td>\n",
       "      <td>0.233983</td>\n",
       "    </tr>\n",
       "    <tr>\n",
       "      <th>cigsPerDay</th>\n",
       "      <td>-0.189295</td>\n",
       "      <td>1.000000</td>\n",
       "      <td>-0.030400</td>\n",
       "      <td>-0.094781</td>\n",
       "      <td>-0.056746</td>\n",
       "      <td>-0.087395</td>\n",
       "      <td>0.064030</td>\n",
       "      <td>-0.053726</td>\n",
       "      <td>0.052014</td>\n",
       "    </tr>\n",
       "    <tr>\n",
       "      <th>totChol</th>\n",
       "      <td>0.268252</td>\n",
       "      <td>-0.030400</td>\n",
       "      <td>1.000000</td>\n",
       "      <td>0.219925</td>\n",
       "      <td>0.174422</td>\n",
       "      <td>0.121056</td>\n",
       "      <td>0.093053</td>\n",
       "      <td>0.049884</td>\n",
       "      <td>0.091338</td>\n",
       "    </tr>\n",
       "    <tr>\n",
       "      <th>sysBP</th>\n",
       "      <td>0.388267</td>\n",
       "      <td>-0.094781</td>\n",
       "      <td>0.219925</td>\n",
       "      <td>1.000000</td>\n",
       "      <td>0.786669</td>\n",
       "      <td>0.330917</td>\n",
       "      <td>0.184797</td>\n",
       "      <td>0.134651</td>\n",
       "      <td>0.222821</td>\n",
       "    </tr>\n",
       "    <tr>\n",
       "      <th>diaBP</th>\n",
       "      <td>0.208283</td>\n",
       "      <td>-0.056746</td>\n",
       "      <td>0.174422</td>\n",
       "      <td>0.786669</td>\n",
       "      <td>1.000000</td>\n",
       "      <td>0.385348</td>\n",
       "      <td>0.178744</td>\n",
       "      <td>0.063540</td>\n",
       "      <td>0.150124</td>\n",
       "    </tr>\n",
       "    <tr>\n",
       "      <th>BMI</th>\n",
       "      <td>0.137511</td>\n",
       "      <td>-0.087395</td>\n",
       "      <td>0.121056</td>\n",
       "      <td>0.330917</td>\n",
       "      <td>0.385348</td>\n",
       "      <td>1.000000</td>\n",
       "      <td>0.074131</td>\n",
       "      <td>0.083683</td>\n",
       "      <td>0.082055</td>\n",
       "    </tr>\n",
       "    <tr>\n",
       "      <th>heartRate</th>\n",
       "      <td>-0.002722</td>\n",
       "      <td>0.064030</td>\n",
       "      <td>0.093053</td>\n",
       "      <td>0.184797</td>\n",
       "      <td>0.178744</td>\n",
       "      <td>0.074131</td>\n",
       "      <td>1.000000</td>\n",
       "      <td>0.097074</td>\n",
       "      <td>0.020514</td>\n",
       "    </tr>\n",
       "    <tr>\n",
       "      <th>glucose</th>\n",
       "      <td>0.118349</td>\n",
       "      <td>-0.053726</td>\n",
       "      <td>0.049884</td>\n",
       "      <td>0.134651</td>\n",
       "      <td>0.063540</td>\n",
       "      <td>0.083683</td>\n",
       "      <td>0.097074</td>\n",
       "      <td>1.000000</td>\n",
       "      <td>0.121990</td>\n",
       "    </tr>\n",
       "    <tr>\n",
       "      <th>CVD</th>\n",
       "      <td>0.233983</td>\n",
       "      <td>0.052014</td>\n",
       "      <td>0.091338</td>\n",
       "      <td>0.222821</td>\n",
       "      <td>0.150124</td>\n",
       "      <td>0.082055</td>\n",
       "      <td>0.020514</td>\n",
       "      <td>0.121990</td>\n",
       "      <td>1.000000</td>\n",
       "    </tr>\n",
       "  </tbody>\n",
       "</table>\n",
       "</div>"
      ],
      "text/plain": [
       "                 age  cigsPerDay   totChol     sysBP     diaBP       BMI  \\\n",
       "age         1.000000   -0.189295  0.268252  0.388267  0.208283  0.137511   \n",
       "cigsPerDay -0.189295    1.000000 -0.030400 -0.094781 -0.056746 -0.087395   \n",
       "totChol     0.268252   -0.030400  1.000000  0.219925  0.174422  0.121056   \n",
       "sysBP       0.388267   -0.094781  0.219925  1.000000  0.786669  0.330917   \n",
       "diaBP       0.208283   -0.056746  0.174422  0.786669  1.000000  0.385348   \n",
       "BMI         0.137511   -0.087395  0.121056  0.330917  0.385348  1.000000   \n",
       "heartRate  -0.002722    0.064030  0.093053  0.184797  0.178744  0.074131   \n",
       "glucose     0.118349   -0.053726  0.049884  0.134651  0.063540  0.083683   \n",
       "CVD         0.233983    0.052014  0.091338  0.222821  0.150124  0.082055   \n",
       "\n",
       "            heartRate   glucose       CVD  \n",
       "age         -0.002722  0.118349  0.233983  \n",
       "cigsPerDay   0.064030 -0.053726  0.052014  \n",
       "totChol      0.093053  0.049884  0.091338  \n",
       "sysBP        0.184797  0.134651  0.222821  \n",
       "diaBP        0.178744  0.063540  0.150124  \n",
       "BMI          0.074131  0.083683  0.082055  \n",
       "heartRate    1.000000  0.097074  0.020514  \n",
       "glucose      0.097074  1.000000  0.121990  \n",
       "CVD          0.020514  0.121990  1.000000  "
      ]
     },
     "execution_count": 196,
     "metadata": {},
     "output_type": "execute_result"
    }
   ],
   "source": [
    "# type your code here\n",
    "df1.corr()"
   ]
  },
  {
   "cell_type": "code",
   "execution_count": 197,
   "metadata": {},
   "outputs": [
    {
     "data": {
      "text/plain": [
       "<AxesSubplot:>"
      ]
     },
     "execution_count": 197,
     "metadata": {},
     "output_type": "execute_result"
    },
    {
     "data": {
      "image/png": "[encoded data removed]",
      "text/plain": [
       "<Figure size 720x720 with 2 Axes>"
      ]
     },
     "metadata": {
      "needs_background": "light"
     },
     "output_type": "display_data"
    }
   ],
   "source": [
    "plt.figure(figsize=(10,10))\n",
    "sns.heatmap(df1.corr(),annot=True)"
   ]
  },
  {
   "cell_type": "code",
   "execution_count": 198,
   "metadata": {
    "scrolled": true
   },
   "outputs": [
    {
     "data": {
      "text/html": [
       "<div>\n",
       "<style scoped>\n",
       "    .dataframe tbody tr th:only-of-type {\n",
       "        vertical-align: middle;\n",
       "    }\n",
       "\n",
       "    .dataframe tbody tr th {\n",
       "        vertical-align: top;\n",
       "    }\n",
       "\n",
       "    .dataframe thead th {\n",
       "        text-align: right;\n",
       "    }\n",
       "</style>\n",
       "<table border=\"1\" class=\"dataframe\">\n",
       "  <thead>\n",
       "    <tr style=\"text-align: right;\">\n",
       "      <th></th>\n",
       "      <th>sign</th>\n",
       "      <th>vif</th>\n",
       "    </tr>\n",
       "  </thead>\n",
       "  <tbody>\n",
       "    <tr>\n",
       "      <th>0</th>\n",
       "      <td>age</td>\n",
       "      <td>39.537894</td>\n",
       "    </tr>\n",
       "    <tr>\n",
       "      <th>1</th>\n",
       "      <td>cigsPerDay</td>\n",
       "      <td>1.606417</td>\n",
       "    </tr>\n",
       "    <tr>\n",
       "      <th>2</th>\n",
       "      <td>totChol</td>\n",
       "      <td>31.117984</td>\n",
       "    </tr>\n",
       "    <tr>\n",
       "      <th>3</th>\n",
       "      <td>sysBP</td>\n",
       "      <td>112.210023</td>\n",
       "    </tr>\n",
       "    <tr>\n",
       "      <th>4</th>\n",
       "      <td>diaBP</td>\n",
       "      <td>128.887196</td>\n",
       "    </tr>\n",
       "    <tr>\n",
       "      <th>5</th>\n",
       "      <td>BMI</td>\n",
       "      <td>44.191190</td>\n",
       "    </tr>\n",
       "    <tr>\n",
       "      <th>6</th>\n",
       "      <td>heartRate</td>\n",
       "      <td>35.341436</td>\n",
       "    </tr>\n",
       "    <tr>\n",
       "      <th>7</th>\n",
       "      <td>glucose</td>\n",
       "      <td>12.790453</td>\n",
       "    </tr>\n",
       "  </tbody>\n",
       "</table>\n",
       "</div>"
      ],
      "text/plain": [
       "         sign         vif\n",
       "0         age   39.537894\n",
       "1  cigsPerDay    1.606417\n",
       "2     totChol   31.117984\n",
       "3       sysBP  112.210023\n",
       "4       diaBP  128.887196\n",
       "5         BMI   44.191190\n",
       "6   heartRate   35.341436\n",
       "7     glucose   12.790453"
      ]
     },
     "execution_count": 198,
     "metadata": {},
     "output_type": "execute_result"
    }
   ],
   "source": [
    "from statsmodels.stats.outliers_influence import variance_inflation_factor\n",
    "\n",
    "VIF = pd.DataFrame()\n",
    "\n",
    "df_num = df1.select_dtypes(include = [np.number]).drop(\"CVD\" , axis = 1)\n",
    "\n",
    "VIF[\"sign\"] = df_num.columns\n",
    "\n",
    "VIF[\"vif\"] = [variance_inflation_factor(df_num.values , i) for i in range(df_num.shape[1])]\n",
    "VIF"
   ]
  },
  {
   "cell_type": "markdown",
   "metadata": {},
   "source": [
    "We can remove sysBP, diaBP, age, BBMI, heart Rate"
   ]
  },
  {
   "cell_type": "code",
   "execution_count": 199,
   "metadata": {},
   "outputs": [
    {
     "name": "stdout",
     "output_type": "stream",
     "text": [
      "(2926, 17) (2926,)\n",
      "(732, 17) (732,)\n"
     ]
    }
   ],
   "source": [
    "# type your code here\n",
    "numeric=df1.select_dtypes(include=np.number).drop(['CVD','diaBP'],axis=1)\n",
    "cat=df1.select_dtypes(include='object')\n",
    "cat1=pd.get_dummies(cat,drop_first=True)\n",
    "X=pd.concat([numeric,cat1],axis=1)\n",
    "X=sm.add_constant(X)\n",
    "y=df1.CVD\n",
    "\n",
    "from sklearn.model_selection import train_test_split\n",
    "X_train, X_test, y_train, y_test= train_test_split(X,y, random_state=10,test_size=0.2)\n",
    "\n",
    "print(X_train.shape, y_train.shape)\n",
    "print(X_test.shape, y_test.shape)"
   ]
  },
  {
   "cell_type": "code",
   "execution_count": 200,
   "metadata": {},
   "outputs": [
    {
     "name": "stdout",
     "output_type": "stream",
     "text": [
      "Optimization terminated successfully.\n",
      "         Current function value: 0.372819\n",
      "         Iterations 7\n"
     ]
    },
    {
     "data": {
      "text/html": [
       "<table class=\"simpletable\">\n",
       "<caption>Logit Regression Results</caption>\n",
       "<tr>\n",
       "  <th>Dep. Variable:</th>          <td>CVD</td>       <th>  No. Observations:  </th>  <td>  2926</td>  \n",
       "</tr>\n",
       "<tr>\n",
       "  <th>Model:</th>                 <td>Logit</td>      <th>  Df Residuals:      </th>  <td>  2909</td>  \n",
       "</tr>\n",
       "<tr>\n",
       "  <th>Method:</th>                 <td>MLE</td>       <th>  Df Model:          </th>  <td>    16</td>  \n",
       "</tr>\n",
       "<tr>\n",
       "  <th>Date:</th>            <td>Tue, 30 Nov 2021</td> <th>  Pseudo R-squ.:     </th>  <td>0.1068</td>  \n",
       "</tr>\n",
       "<tr>\n",
       "  <th>Time:</th>                <td>20:16:33</td>     <th>  Log-Likelihood:    </th> <td> -1090.9</td> \n",
       "</tr>\n",
       "<tr>\n",
       "  <th>converged:</th>             <td>True</td>       <th>  LL-Null:           </th> <td> -1221.3</td> \n",
       "</tr>\n",
       "<tr>\n",
       "  <th>Covariance Type:</th>     <td>nonrobust</td>    <th>  LLR p-value:       </th> <td>3.038e-46</td>\n",
       "</tr>\n",
       "</table>\n",
       "<table class=\"simpletable\">\n",
       "<tr>\n",
       "          <td></td>             <th>coef</th>     <th>std err</th>      <th>z</th>      <th>P>|z|</th>  <th>[0.025</th>    <th>0.975]</th>  \n",
       "</tr>\n",
       "<tr>\n",
       "  <th>const</th>             <td>   -8.2770</td> <td>    0.763</td> <td>  -10.850</td> <td> 0.000</td> <td>   -9.772</td> <td>   -6.782</td>\n",
       "</tr>\n",
       "<tr>\n",
       "  <th>age</th>               <td>    0.0592</td> <td>    0.007</td> <td>    7.934</td> <td> 0.000</td> <td>    0.045</td> <td>    0.074</td>\n",
       "</tr>\n",
       "<tr>\n",
       "  <th>cigsPerDay</th>        <td>    0.0086</td> <td>    0.007</td> <td>    1.171</td> <td> 0.241</td> <td>   -0.006</td> <td>    0.023</td>\n",
       "</tr>\n",
       "<tr>\n",
       "  <th>totChol</th>           <td>    0.0014</td> <td>    0.001</td> <td>    1.066</td> <td> 0.286</td> <td>   -0.001</td> <td>    0.004</td>\n",
       "</tr>\n",
       "<tr>\n",
       "  <th>sysBP</th>             <td>    0.0120</td> <td>    0.003</td> <td>    3.651</td> <td> 0.000</td> <td>    0.006</td> <td>    0.019</td>\n",
       "</tr>\n",
       "<tr>\n",
       "  <th>BMI</th>               <td>    0.0203</td> <td>    0.014</td> <td>    1.469</td> <td> 0.142</td> <td>   -0.007</td> <td>    0.047</td>\n",
       "</tr>\n",
       "<tr>\n",
       "  <th>heartRate</th>         <td>    0.0010</td> <td>    0.005</td> <td>    0.205</td> <td> 0.838</td> <td>   -0.008</td> <td>    0.010</td>\n",
       "</tr>\n",
       "<tr>\n",
       "  <th>glucose</th>           <td>    0.0058</td> <td>    0.003</td> <td>    2.233</td> <td> 0.026</td> <td>    0.001</td> <td>    0.011</td>\n",
       "</tr>\n",
       "<tr>\n",
       "  <th>male_1</th>            <td>    0.5788</td> <td>    0.123</td> <td>    4.714</td> <td> 0.000</td> <td>    0.338</td> <td>    0.820</td>\n",
       "</tr>\n",
       "<tr>\n",
       "  <th>education_2.0</th>     <td>   -0.2549</td> <td>    0.141</td> <td>   -1.813</td> <td> 0.070</td> <td>   -0.530</td> <td>    0.021</td>\n",
       "</tr>\n",
       "<tr>\n",
       "  <th>education_3.0</th>     <td>   -0.2825</td> <td>    0.170</td> <td>   -1.661</td> <td> 0.097</td> <td>   -0.616</td> <td>    0.051</td>\n",
       "</tr>\n",
       "<tr>\n",
       "  <th>education_4.0</th>     <td>   -0.0091</td> <td>    0.180</td> <td>   -0.051</td> <td> 0.959</td> <td>   -0.362</td> <td>    0.343</td>\n",
       "</tr>\n",
       "<tr>\n",
       "  <th>currentSmoker_1</th>   <td>    0.1298</td> <td>    0.178</td> <td>    0.728</td> <td> 0.467</td> <td>   -0.220</td> <td>    0.480</td>\n",
       "</tr>\n",
       "<tr>\n",
       "  <th>BPMeds_1.0</th>        <td>    0.4431</td> <td>    0.249</td> <td>    1.783</td> <td> 0.075</td> <td>   -0.044</td> <td>    0.930</td>\n",
       "</tr>\n",
       "<tr>\n",
       "  <th>prevalentStroke_1</th> <td>    0.6017</td> <td>    0.516</td> <td>    1.166</td> <td> 0.243</td> <td>   -0.409</td> <td>    1.613</td>\n",
       "</tr>\n",
       "<tr>\n",
       "  <th>prevalentHyp_1</th>    <td>    0.1648</td> <td>    0.155</td> <td>    1.066</td> <td> 0.287</td> <td>   -0.138</td> <td>    0.468</td>\n",
       "</tr>\n",
       "<tr>\n",
       "  <th>diabetes_1</th>        <td>    0.1176</td> <td>    0.353</td> <td>    0.333</td> <td> 0.739</td> <td>   -0.575</td> <td>    0.810</td>\n",
       "</tr>\n",
       "</table>"
      ],
      "text/plain": [
       "<class 'statsmodels.iolib.summary.Summary'>\n",
       "\"\"\"\n",
       "                           Logit Regression Results                           \n",
       "==============================================================================\n",
       "Dep. Variable:                    CVD   No. Observations:                 2926\n",
       "Model:                          Logit   Df Residuals:                     2909\n",
       "Method:                           MLE   Df Model:                           16\n",
       "Date:                Tue, 30 Nov 2021   Pseudo R-squ.:                  0.1068\n",
       "Time:                        20:16:33   Log-Likelihood:                -1090.9\n",
       "converged:                       True   LL-Null:                       -1221.3\n",
       "Covariance Type:            nonrobust   LLR p-value:                 3.038e-46\n",
       "=====================================================================================\n",
       "                        coef    std err          z      P>|z|      [0.025      0.975]\n",
       "-------------------------------------------------------------------------------------\n",
       "const                -8.2770      0.763    -10.850      0.000      -9.772      -6.782\n",
       "age                   0.0592      0.007      7.934      0.000       0.045       0.074\n",
       "cigsPerDay            0.0086      0.007      1.171      0.241      -0.006       0.023\n",
       "totChol               0.0014      0.001      1.066      0.286      -0.001       0.004\n",
       "sysBP                 0.0120      0.003      3.651      0.000       0.006       0.019\n",
       "BMI                   0.0203      0.014      1.469      0.142      -0.007       0.047\n",
       "heartRate             0.0010      0.005      0.205      0.838      -0.008       0.010\n",
       "glucose               0.0058      0.003      2.233      0.026       0.001       0.011\n",
       "male_1                0.5788      0.123      4.714      0.000       0.338       0.820\n",
       "education_2.0        -0.2549      0.141     -1.813      0.070      -0.530       0.021\n",
       "education_3.0        -0.2825      0.170     -1.661      0.097      -0.616       0.051\n",
       "education_4.0        -0.0091      0.180     -0.051      0.959      -0.362       0.343\n",
       "currentSmoker_1       0.1298      0.178      0.728      0.467      -0.220       0.480\n",
       "BPMeds_1.0            0.4431      0.249      1.783      0.075      -0.044       0.930\n",
       "prevalentStroke_1     0.6017      0.516      1.166      0.243      -0.409       1.613\n",
       "prevalentHyp_1        0.1648      0.155      1.066      0.287      -0.138       0.468\n",
       "diabetes_1            0.1176      0.353      0.333      0.739      -0.575       0.810\n",
       "=====================================================================================\n",
       "\"\"\""
      ]
     },
     "execution_count": 200,
     "metadata": {},
     "output_type": "execute_result"
    }
   ],
   "source": [
    "model=sm.Logit(y_train,X_train).fit()\n",
    "model.summary()"
   ]
  },
  {
   "cell_type": "markdown",
   "metadata": {
    "collapsed": true
   },
   "source": [
    "<table align=\"left\">\n",
    "    <tr>\n",
    "        <td width=\"6%\">\n",
    "            <img src=\"question_icon.png\">\n",
    "        </td>\n",
    "        <td>\n",
    "            <div align=\"left\", style=\"font-size:120%\">\n",
    "                <font color=\"#21618C\">\n",
    "                    <b>11. Use the data obtained from Q10 and identify 5 features that contribute most in the prediction of target variable.<br></b>\n",
    "                </font>\n",
    "            </div>\n",
    "        </td>\n",
    "    </tr>\n",
    "</table>"
   ]
  },
  {
   "cell_type": "code",
   "execution_count": 228,
   "metadata": {},
   "outputs": [
    {
     "name": "stderr",
     "output_type": "stream",
     "text": [
      "C:\\Users\\gargv\\Anaconda3\\lib\\site-packages\\sklearn\\linear_model\\_logistic.py:763: ConvergenceWarning: lbfgs failed to converge (status=1):\n",
      "STOP: TOTAL NO. of ITERATIONS REACHED LIMIT.\n",
      "\n",
      "Increase the number of iterations (max_iter) or scale the data as shown in:\n",
      "    https://scikit-learn.org/stable/modules/preprocessing.html\n",
      "Please also refer to the documentation for alternative solver options:\n",
      "    https://scikit-learn.org/stable/modules/linear_model.html#logistic-regression\n",
      "  n_iter_i = _check_optimize_result(\n",
      "C:\\Users\\gargv\\Anaconda3\\lib\\site-packages\\sklearn\\linear_model\\_logistic.py:763: ConvergenceWarning: lbfgs failed to converge (status=1):\n",
      "STOP: TOTAL NO. of ITERATIONS REACHED LIMIT.\n",
      "\n",
      "Increase the number of iterations (max_iter) or scale the data as shown in:\n",
      "    https://scikit-learn.org/stable/modules/preprocessing.html\n",
      "Please also refer to the documentation for alternative solver options:\n",
      "    https://scikit-learn.org/stable/modules/linear_model.html#logistic-regression\n",
      "  n_iter_i = _check_optimize_result(\n",
      "C:\\Users\\gargv\\Anaconda3\\lib\\site-packages\\sklearn\\linear_model\\_logistic.py:763: ConvergenceWarning: lbfgs failed to converge (status=1):\n",
      "STOP: TOTAL NO. of ITERATIONS REACHED LIMIT.\n",
      "\n",
      "Increase the number of iterations (max_iter) or scale the data as shown in:\n",
      "    https://scikit-learn.org/stable/modules/preprocessing.html\n",
      "Please also refer to the documentation for alternative solver options:\n",
      "    https://scikit-learn.org/stable/modules/linear_model.html#logistic-regression\n",
      "  n_iter_i = _check_optimize_result(\n",
      "C:\\Users\\gargv\\Anaconda3\\lib\\site-packages\\sklearn\\linear_model\\_logistic.py:763: ConvergenceWarning: lbfgs failed to converge (status=1):\n",
      "STOP: TOTAL NO. of ITERATIONS REACHED LIMIT.\n",
      "\n",
      "Increase the number of iterations (max_iter) or scale the data as shown in:\n",
      "    https://scikit-learn.org/stable/modules/preprocessing.html\n",
      "Please also refer to the documentation for alternative solver options:\n",
      "    https://scikit-learn.org/stable/modules/linear_model.html#logistic-regression\n",
      "  n_iter_i = _check_optimize_result(\n",
      "C:\\Users\\gargv\\Anaconda3\\lib\\site-packages\\sklearn\\linear_model\\_logistic.py:763: ConvergenceWarning: lbfgs failed to converge (status=1):\n",
      "STOP: TOTAL NO. of ITERATIONS REACHED LIMIT.\n",
      "\n",
      "Increase the number of iterations (max_iter) or scale the data as shown in:\n",
      "    https://scikit-learn.org/stable/modules/preprocessing.html\n",
      "Please also refer to the documentation for alternative solver options:\n",
      "    https://scikit-learn.org/stable/modules/linear_model.html#logistic-regression\n",
      "  n_iter_i = _check_optimize_result(\n",
      "C:\\Users\\gargv\\Anaconda3\\lib\\site-packages\\sklearn\\linear_model\\_logistic.py:763: ConvergenceWarning: lbfgs failed to converge (status=1):\n",
      "STOP: TOTAL NO. of ITERATIONS REACHED LIMIT.\n",
      "\n",
      "Increase the number of iterations (max_iter) or scale the data as shown in:\n",
      "    https://scikit-learn.org/stable/modules/preprocessing.html\n",
      "Please also refer to the documentation for alternative solver options:\n",
      "    https://scikit-learn.org/stable/modules/linear_model.html#logistic-regression\n",
      "  n_iter_i = _check_optimize_result(\n",
      "C:\\Users\\gargv\\Anaconda3\\lib\\site-packages\\sklearn\\linear_model\\_logistic.py:763: ConvergenceWarning: lbfgs failed to converge (status=1):\n",
      "STOP: TOTAL NO. of ITERATIONS REACHED LIMIT.\n",
      "\n",
      "Increase the number of iterations (max_iter) or scale the data as shown in:\n",
      "    https://scikit-learn.org/stable/modules/preprocessing.html\n",
      "Please also refer to the documentation for alternative solver options:\n",
      "    https://scikit-learn.org/stable/modules/linear_model.html#logistic-regression\n",
      "  n_iter_i = _check_optimize_result(\n",
      "C:\\Users\\gargv\\Anaconda3\\lib\\site-packages\\sklearn\\linear_model\\_logistic.py:763: ConvergenceWarning: lbfgs failed to converge (status=1):\n",
      "STOP: TOTAL NO. of ITERATIONS REACHED LIMIT.\n",
      "\n",
      "Increase the number of iterations (max_iter) or scale the data as shown in:\n",
      "    https://scikit-learn.org/stable/modules/preprocessing.html\n",
      "Please also refer to the documentation for alternative solver options:\n",
      "    https://scikit-learn.org/stable/modules/linear_model.html#logistic-regression\n",
      "  n_iter_i = _check_optimize_result(\n"
     ]
    }
   ],
   "source": [
    "# type your code here\n",
    "from sklearn.feature_selection import RFE\n",
    "from sklearn.linear_model import LogisticRegression\n",
    "lr=LogisticRegression()\n",
    "RFE_model=RFE(estimator=lr,n_features_to_select=5)\n",
    "model1=RFE_model.fit(X_train,y_train)\n"
   ]
  },
  {
   "cell_type": "code",
   "execution_count": 202,
   "metadata": {},
   "outputs": [
    {
     "data": {
      "text/plain": [
       "array([False, False, False, False, False, False, False, False,  True,\n",
       "       False, False, False, False,  True,  True,  True,  True])"
      ]
     },
     "execution_count": 202,
     "metadata": {},
     "output_type": "execute_result"
    }
   ],
   "source": [
    "model1.support_"
   ]
  },
  {
   "cell_type": "code",
   "execution_count": null,
   "metadata": {
    "scrolled": true
   },
   "outputs": [],
   "source": []
  },
  {
   "cell_type": "code",
   "execution_count": 229,
   "metadata": {},
   "outputs": [
    {
     "data": {
      "text/html": [
       "<div>\n",
       "<style scoped>\n",
       "    .dataframe tbody tr th:only-of-type {\n",
       "        vertical-align: middle;\n",
       "    }\n",
       "\n",
       "    .dataframe tbody tr th {\n",
       "        vertical-align: top;\n",
       "    }\n",
       "\n",
       "    .dataframe thead th {\n",
       "        text-align: right;\n",
       "    }\n",
       "</style>\n",
       "<table border=\"1\" class=\"dataframe\">\n",
       "  <thead>\n",
       "    <tr style=\"text-align: right;\">\n",
       "      <th></th>\n",
       "      <th>0</th>\n",
       "    </tr>\n",
       "  </thead>\n",
       "  <tbody>\n",
       "    <tr>\n",
       "      <th>const</th>\n",
       "      <td>False</td>\n",
       "    </tr>\n",
       "    <tr>\n",
       "      <th>age</th>\n",
       "      <td>False</td>\n",
       "    </tr>\n",
       "    <tr>\n",
       "      <th>cigsPerDay</th>\n",
       "      <td>False</td>\n",
       "    </tr>\n",
       "    <tr>\n",
       "      <th>totChol</th>\n",
       "      <td>False</td>\n",
       "    </tr>\n",
       "    <tr>\n",
       "      <th>sysBP</th>\n",
       "      <td>False</td>\n",
       "    </tr>\n",
       "    <tr>\n",
       "      <th>diaBP</th>\n",
       "      <td>False</td>\n",
       "    </tr>\n",
       "    <tr>\n",
       "      <th>BMI</th>\n",
       "      <td>False</td>\n",
       "    </tr>\n",
       "    <tr>\n",
       "      <th>heartRate</th>\n",
       "      <td>False</td>\n",
       "    </tr>\n",
       "    <tr>\n",
       "      <th>glucose</th>\n",
       "      <td>False</td>\n",
       "    </tr>\n",
       "    <tr>\n",
       "      <th>male_1</th>\n",
       "      <td>True</td>\n",
       "    </tr>\n",
       "    <tr>\n",
       "      <th>education_2.0</th>\n",
       "      <td>False</td>\n",
       "    </tr>\n",
       "    <tr>\n",
       "      <th>education_3.0</th>\n",
       "      <td>False</td>\n",
       "    </tr>\n",
       "    <tr>\n",
       "      <th>education_4.0</th>\n",
       "      <td>False</td>\n",
       "    </tr>\n",
       "    <tr>\n",
       "      <th>currentSmoker_1</th>\n",
       "      <td>False</td>\n",
       "    </tr>\n",
       "    <tr>\n",
       "      <th>BPMeds_1.0</th>\n",
       "      <td>True</td>\n",
       "    </tr>\n",
       "    <tr>\n",
       "      <th>prevalentStroke_1</th>\n",
       "      <td>True</td>\n",
       "    </tr>\n",
       "    <tr>\n",
       "      <th>prevalentHyp_1</th>\n",
       "      <td>True</td>\n",
       "    </tr>\n",
       "    <tr>\n",
       "      <th>diabetes_1</th>\n",
       "      <td>True</td>\n",
       "    </tr>\n",
       "  </tbody>\n",
       "</table>\n",
       "</div>"
      ],
      "text/plain": [
       "                       0\n",
       "const              False\n",
       "age                False\n",
       "cigsPerDay         False\n",
       "totChol            False\n",
       "sysBP              False\n",
       "diaBP              False\n",
       "BMI                False\n",
       "heartRate          False\n",
       "glucose            False\n",
       "male_1              True\n",
       "education_2.0      False\n",
       "education_3.0      False\n",
       "education_4.0      False\n",
       "currentSmoker_1    False\n",
       "BPMeds_1.0          True\n",
       "prevalentStroke_1   True\n",
       "prevalentHyp_1      True\n",
       "diabetes_1          True"
      ]
     },
     "execution_count": 229,
     "metadata": {},
     "output_type": "execute_result"
    }
   ],
   "source": [
    "df2=pd.DataFrame(model1.support_,index=X.columns)\n",
    "df2"
   ]
  },
  {
   "cell_type": "markdown",
   "metadata": {
    "collapsed": true
   },
   "source": [
    "<table align=\"left\">\n",
    "    <tr>\n",
    "        <td width=\"6%\">\n",
    "            <img src=\"question_icon.png\">\n",
    "        </td>\n",
    "        <td>\n",
    "            <div align=\"left\", style=\"font-size:120%\">\n",
    "                <font color=\"#21618C\">\n",
    "                    <b>12. Build a model using the features obtained in question 11. For the model find: \n",
    "                        <ol>                       \n",
    "                         <li>Accuracy</li>\n",
    "                        <li>F<sub>1</sub> score</li>\n",
    "                        </ol>\n",
    "                        </b>\n",
    "                </font>\n",
    "            </div>\n",
    "        </td>\n",
    "    </tr>\n",
    "</table>"
   ]
  },
  {
   "cell_type": "code",
   "execution_count": 204,
   "metadata": {},
   "outputs": [
    {
     "name": "stdout",
     "output_type": "stream",
     "text": [
      "(2926, 6) (2926,)\n",
      "(732, 6) (732,)\n"
     ]
    }
   ],
   "source": [
    "X=X[['male_1','BPMeds_1.0','prevalentStroke_1','prevalentHyp_1','diabetes_1']]\n",
    "X=sm.add_constant(X)\n",
    "y=df1.CVD\n",
    "\n",
    "from sklearn.model_selection import train_test_split\n",
    "X_train12, X_test12, y_train12, y_test12= train_test_split(X,y, random_state=10,test_size=0.2)\n",
    "\n",
    "print(X_train12.shape, y_train12.shape)\n",
    "print(X_test12.shape, y_test12.shape)"
   ]
  },
  {
   "cell_type": "code",
   "execution_count": 205,
   "metadata": {},
   "outputs": [
    {
     "name": "stdout",
     "output_type": "stream",
     "text": [
      "Optimization terminated successfully.\n",
      "         Current function value: 0.395494\n",
      "         Iterations 6\n",
      "                           Logit Regression Results                           \n",
      "==============================================================================\n",
      "Dep. Variable:                    CVD   No. Observations:                 2926\n",
      "Model:                          Logit   Df Residuals:                     2920\n",
      "Method:                           MLE   Df Model:                            5\n",
      "Date:                Tue, 30 Nov 2021   Pseudo R-squ.:                 0.05248\n",
      "Time:                        20:16:34   Log-Likelihood:                -1157.2\n",
      "converged:                       True   LL-Null:                       -1221.3\n",
      "Covariance Type:            nonrobust   LLR p-value:                 5.803e-26\n",
      "=====================================================================================\n",
      "                        coef    std err          z      P>|z|      [0.025      0.975]\n",
      "-------------------------------------------------------------------------------------\n",
      "const                -2.4291      0.094    -25.762      0.000      -2.614      -2.244\n",
      "male_1                0.5560      0.108      5.155      0.000       0.345       0.767\n",
      "BPMeds_1.0            0.6855      0.236      2.911      0.004       0.224       1.147\n",
      "prevalentStroke_1     0.7139      0.502      1.422      0.155      -0.270       1.698\n",
      "prevalentHyp_1        0.8533      0.112      7.595      0.000       0.633       1.074\n",
      "diabetes_1            0.8898      0.255      3.496      0.000       0.391       1.389\n",
      "=====================================================================================\n"
     ]
    }
   ],
   "source": [
    "model12=sm.Logit(y_train12,X_train12).fit()\n",
    "\n",
    "print(model12.summary())\n",
    "pred=model12.predict(X_test12)\n",
    "y_pred12=[0 if x<0.5 else 1 for x in pred]"
   ]
  },
  {
   "cell_type": "code",
   "execution_count": 206,
   "metadata": {},
   "outputs": [
    {
     "name": "stdout",
     "output_type": "stream",
     "text": [
      "Accuracy 0.8265027322404371\n",
      "F1 Score 0.0\n"
     ]
    }
   ],
   "source": [
    "from sklearn.metrics import f1_score\n",
    "print('Accuracy', accuracy_score(y_test12,y_pred12))\n",
    "print('F1 Score', f1_score(y_test12,y_pred12))"
   ]
  },
  {
   "cell_type": "code",
   "execution_count": 207,
   "metadata": {},
   "outputs": [
    {
     "name": "stdout",
     "output_type": "stream",
     "text": [
      "              precision    recall  f1-score   support\n",
      "\n",
      "           0       0.83      1.00      0.91       605\n",
      "           1       0.00      0.00      0.00       127\n",
      "\n",
      "    accuracy                           0.83       732\n",
      "   macro avg       0.41      0.50      0.45       732\n",
      "weighted avg       0.68      0.83      0.75       732\n",
      "\n"
     ]
    },
    {
     "name": "stderr",
     "output_type": "stream",
     "text": [
      "C:\\Users\\gargv\\Anaconda3\\lib\\site-packages\\sklearn\\metrics\\_classification.py:1245: UndefinedMetricWarning: Precision and F-score are ill-defined and being set to 0.0 in labels with no predicted samples. Use `zero_division` parameter to control this behavior.\n",
      "  _warn_prf(average, modifier, msg_start, len(result))\n",
      "C:\\Users\\gargv\\Anaconda3\\lib\\site-packages\\sklearn\\metrics\\_classification.py:1245: UndefinedMetricWarning: Precision and F-score are ill-defined and being set to 0.0 in labels with no predicted samples. Use `zero_division` parameter to control this behavior.\n",
      "  _warn_prf(average, modifier, msg_start, len(result))\n",
      "C:\\Users\\gargv\\Anaconda3\\lib\\site-packages\\sklearn\\metrics\\_classification.py:1245: UndefinedMetricWarning: Precision and F-score are ill-defined and being set to 0.0 in labels with no predicted samples. Use `zero_division` parameter to control this behavior.\n",
      "  _warn_prf(average, modifier, msg_start, len(result))\n"
     ]
    }
   ],
   "source": [
    "print(classification_report(y_test12,y_pred12))"
   ]
  },
  {
   "cell_type": "markdown",
   "metadata": {
    "collapsed": true
   },
   "source": [
    "<table align=\"left\">\n",
    "    <tr>\n",
    "        <td width=\"6%\">\n",
    "            <img src=\"question_icon.png\">\n",
    "        </td>\n",
    "        <td>\n",
    "            <div align=\"left\", style=\"font-size:120%\">\n",
    "                <font color=\"#21618C\">\n",
    "                    <b>13. Compare the full model in question 5 and the model built in question 12 using their ROC curves. </b>\n",
    "                </font>\n",
    "            </div>\n",
    "        </td>\n",
    "    </tr>\n",
    "</table>"
   ]
  },
  {
   "cell_type": "code",
   "execution_count": 209,
   "metadata": {
    "scrolled": true
   },
   "outputs": [
    {
     "data": {
      "image/png": "[encoded data removed]",
      "text/plain": [
       "<Figure size 432x288 with 1 Axes>"
      ]
     },
     "metadata": {
      "needs_background": "light"
     },
     "output_type": "display_data"
    }
   ],
   "source": [
    "from sklearn.metrics import roc_curve, roc_auc_score\n",
    "# type your code here\n",
    "# the roc_curve() returns the values for false positive rate, true positive rate and threshold\n",
    "# pass the actual target values and predicted probabilities to the function\n",
    "fpr, tpr, thresholds = roc_curve(y_test, y_pred1)\n",
    "\n",
    "# plot the ROC curve\n",
    "plt.plot(fpr, tpr)\n",
    "\n",
    "# set limits for x and y axes\n",
    "plt.xlim([0.0, 1.0])\n",
    "plt.ylim([0.0, 1.0])\n",
    "\n",
    "# plot the straight line showing worst prediction for the model\n",
    "plt.plot([0, 1], [0, 1],'r--')\n",
    "\n",
    "# add plot and axes labels\n",
    "# set text size using 'fontsize'\n",
    "plt.title('ROC curve for Admission Prediction Classifier (Full Model)', fontsize = 15)\n",
    "plt.xlabel('False positive rate (1-Specificity)', fontsize = 15)\n",
    "plt.ylabel('True positive rate (Sensitivity)', fontsize = 15)\n",
    "\n",
    "# add the AUC score to the plot\n",
    "# 'x' and 'y' gives position of the text\n",
    "# 's' is the text \n",
    "# use round() to round-off the AUC score upto 4 digits\n",
    "plt.text(x = 0.02, y = 0.9, s = ('AUC Score:', round(roc_auc_score(y_test, y_pred1),4)))\n",
    "\n",
    "\n",
    "fpr1, tpr1, thresholds1 = roc_curve(y_test12, pred)\n",
    "\n",
    "# plot the ROC curve\n",
    "plt.plot(fpr1, tpr1)\n",
    "\n",
    "# set limits for x and y axes\n",
    "plt.xlim([0.0, 1.0])\n",
    "plt.ylim([0.0, 1.0])\n",
    "\n",
    "# plot the straight line showing worst prediction for the model\n",
    "plt.plot([0, 1], [0, 1],'r--')\n",
    "\n",
    "# add plot and axes labels\n",
    "# set text size using 'fontsize'\n",
    "plt.title('ROC curve for Admission Prediction Classifier (Full Model)', fontsize = 15)\n",
    "plt.xlabel('False positive rate (1-Specificity)', fontsize = 15)\n",
    "plt.ylabel('True positive rate (Sensitivity)', fontsize = 15)\n",
    "\n",
    "# add the AUC score to the plot\n",
    "# 'x' and 'y' gives position of the text\n",
    "# 's' is the text \n",
    "# use round() to round-off the AUC score upto 4 digits\n",
    "plt.text(x = 0.02, y = 0.9, s = ('AUC Score:', round(roc_auc_score(y_test12, pred),4)))\n",
    "\n",
    "                               \n",
    "# plot the grid\n",
    "plt.grid(True)"
   ]
  },
  {
   "cell_type": "markdown",
   "metadata": {
    "collapsed": true
   },
   "source": [
    "<table align=\"left\">\n",
    "    <tr>\n",
    "        <td width=\"6%\">\n",
    "            <img src=\"question_icon.png\">\n",
    "        </td>\n",
    "        <td>\n",
    "            <div align=\"left\", style=\"font-size:120%\">\n",
    "                <font color=\"#21618C\">\n",
    "                    <b>14. Build a logistic regression model using information about heart rate of the patients. Compute the AUC score.</b>\n",
    "                </font>\n",
    "            </div>\n",
    "        </td>\n",
    "    </tr>\n",
    "</table>"
   ]
  },
  {
   "cell_type": "code",
   "execution_count": 210,
   "metadata": {},
   "outputs": [
    {
     "name": "stdout",
     "output_type": "stream",
     "text": [
      "(2926, 2) (2926,)\n",
      "(732, 2) (732,)\n"
     ]
    }
   ],
   "source": [
    "# type your code here\n",
    "X14=df1['heartRate']\n",
    "X14=sm.add_constant(X14)\n",
    "y14=df1.CVD\n",
    "X_train14,X_test14, y_train14, y_test14=train_test_split(X14,y14,random_state=10, test_size=0.2)\n",
    "\n",
    "print(X_train14.shape, y_train14.shape)\n",
    "print(X_test14.shape, y_test14.shape)"
   ]
  },
  {
   "cell_type": "code",
   "execution_count": 211,
   "metadata": {},
   "outputs": [
    {
     "name": "stdout",
     "output_type": "stream",
     "text": [
      "Optimization terminated successfully.\n",
      "         Current function value: 0.417035\n",
      "         Iterations 6\n",
      "                           Logit Regression Results                           \n",
      "==============================================================================\n",
      "Dep. Variable:                    CVD   No. Observations:                 2926\n",
      "Model:                          Logit   Df Residuals:                     2924\n",
      "Method:                           MLE   Df Model:                            1\n",
      "Date:                Tue, 30 Nov 2021   Pseudo R-squ.:               0.0008669\n",
      "Time:                        20:18:06   Log-Likelihood:                -1220.2\n",
      "converged:                       True   LL-Null:                       -1221.3\n",
      "Covariance Type:            nonrobust   LLR p-value:                    0.1456\n",
      "==============================================================================\n",
      "                 coef    std err          z      P>|z|      [0.025      0.975]\n",
      "------------------------------------------------------------------------------\n",
      "const         -2.2303      0.328     -6.802      0.000      -2.873      -1.588\n",
      "heartRate      0.0062      0.004      1.463      0.143      -0.002       0.014\n",
      "==============================================================================\n"
     ]
    }
   ],
   "source": [
    "model14=sm.Logit(y_train14,X_train14).fit()\n",
    "print(model14.summary())"
   ]
  },
  {
   "cell_type": "code",
   "execution_count": 212,
   "metadata": {},
   "outputs": [],
   "source": [
    "pred14=model14.predict(X_test14)\n",
    "pred=[0 if x<0.5 else 1 for x in pred14]"
   ]
  },
  {
   "cell_type": "code",
   "execution_count": 213,
   "metadata": {},
   "outputs": [
    {
     "data": {
      "text/plain": [
       "0.4910978069890024"
      ]
     },
     "execution_count": 213,
     "metadata": {},
     "output_type": "execute_result"
    }
   ],
   "source": [
    "roc_auc_score(y_test14, pred14)"
   ]
  },
  {
   "cell_type": "markdown",
   "metadata": {
    "collapsed": true
   },
   "source": [
    "<table align=\"left\">\n",
    "    <tr>\n",
    "        <td width=\"6%\">\n",
    "            <img src=\"question_icon.png\">\n",
    "        </td>\n",
    "        <td>\n",
    "            <div align=\"left\", style=\"font-size:120%\">\n",
    "                <font color=\"#21618C\">\n",
    "                    <b>15. Calculate the cross entropy for the model built in question 14.</b>\n",
    "                </font>\n",
    "            </div>\n",
    "        </td>\n",
    "    </tr>\n",
    "</table>"
   ]
  },
  {
   "cell_type": "code",
   "execution_count": 214,
   "metadata": {},
   "outputs": [
    {
     "name": "stdout",
     "output_type": "stream",
     "text": [
      "Log Loss 0.46459286633732927\n"
     ]
    }
   ],
   "source": [
    "# type your code here\n",
    "from sklearn.metrics import log_loss\n",
    "print('Log Loss',log_loss(y_test14,pred14))"
   ]
  },
  {
   "cell_type": "markdown",
   "metadata": {
    "collapsed": true
   },
   "source": [
    "<table align=\"left\">\n",
    "    <tr>\n",
    "        <td width=\"6%\">\n",
    "            <img src=\"question_icon.png\">\n",
    "        </td>\n",
    "        <td>\n",
    "            <div align=\"left\", style=\"font-size:120%\">\n",
    "                <font color=\"#21618C\">\n",
    "                    <b>16. Compare the model built in question 14 to the full model built in question 5.</b>\n",
    "                </font>\n",
    "            </div>\n",
    "        </td>\n",
    "    </tr>\n",
    "</table>"
   ]
  },
  {
   "cell_type": "code",
   "execution_count": 215,
   "metadata": {},
   "outputs": [
    {
     "name": "stdout",
     "output_type": "stream",
     "text": [
      "2440.4867720403295\n",
      "2181.722253115115\n"
     ]
    }
   ],
   "source": [
    "# type your code here\n",
    "d_heart=-2*model14.llf\n",
    "\n",
    "d_5=-2*model5.llf\n",
    "\n",
    "print(d_heart)\n",
    "print(d_5)"
   ]
  },
  {
   "cell_type": "markdown",
   "metadata": {
    "collapsed": true
   },
   "source": [
    "<table align=\"left\">\n",
    "    <tr>\n",
    "        <td width=\"6%\">\n",
    "            <img src=\"question_icon.png\">\n",
    "        </td>\n",
    "        <td>\n",
    "            <div align=\"left\", style=\"font-size:120%\">\n",
    "                <font color=\"#21618C\">\n",
    "                    <b>17. What is the cross entropy for the full model? Use the full model in Q5.</b>\n",
    "                </font>\n",
    "            </div>\n",
    "        </td>\n",
    "    </tr>\n",
    "</table>"
   ]
  },
  {
   "cell_type": "code",
   "execution_count": 216,
   "metadata": {},
   "outputs": [
    {
     "name": "stdout",
     "output_type": "stream",
     "text": [
      "Log Loss 9.76728558762361\n"
     ]
    }
   ],
   "source": [
    "# type your code here\n",
    "from sklearn.metrics import log_loss\n",
    "print('Log Loss',log_loss(y_test,y_pred))"
   ]
  },
  {
   "cell_type": "markdown",
   "metadata": {
    "collapsed": true
   },
   "source": [
    "<table align=\"left\">\n",
    "    <tr>\n",
    "        <td width=\"6%\">\n",
    "            <img src=\"question_icon.png\">\n",
    "        </td>\n",
    "        <td>\n",
    "            <div align=\"left\", style=\"font-size:120%\">\n",
    "                <font color=\"#21618C\">\n",
    "                    <b>18. Predict whether a patient has cardiovascular disease based on smoking habits of the patient. For the model find the following:<br> <ol type = \"a\">\n",
    "                        <li> Precision </li>\n",
    "                        <li> Recall</li>   \n",
    "                        <li> F<sub>1</sub> score </li>\n",
    "                        </ol>\n",
    "                    </b>\n",
    "                </font>\n",
    "            </div>\n",
    "        </td>\n",
    "    </tr>\n",
    "</table>"
   ]
  },
  {
   "cell_type": "code",
   "execution_count": 217,
   "metadata": {},
   "outputs": [],
   "source": [
    "# type your code here\n",
    "X=df1['currentSmoker'].astype(dtype=np.number)\n",
    "X=sm.add_constant(X)\n",
    "y=df1.CVD"
   ]
  },
  {
   "cell_type": "code",
   "execution_count": 218,
   "metadata": {},
   "outputs": [
    {
     "name": "stdout",
     "output_type": "stream",
     "text": [
      "(2926, 2) (2926,)\n",
      "(732, 2) (732,)\n"
     ]
    }
   ],
   "source": [
    "X_train,X_test, y_train, y_test=train_test_split(X,y,random_state=10, test_size=0.2)\n",
    "\n",
    "print(X_train.shape, y_train.shape)\n",
    "print(X_test.shape, y_test.shape)"
   ]
  },
  {
   "cell_type": "code",
   "execution_count": 219,
   "metadata": {
    "scrolled": false
   },
   "outputs": [
    {
     "name": "stdout",
     "output_type": "stream",
     "text": [
      "Optimization terminated successfully.\n",
      "         Current function value: 0.417384\n",
      "         Iterations 6\n",
      "                           Logit Regression Results                           \n",
      "==============================================================================\n",
      "Dep. Variable:                    CVD   No. Observations:                 2926\n",
      "Model:                          Logit   Df Residuals:                     2924\n",
      "Method:                           MLE   Df Model:                            1\n",
      "Date:                Tue, 30 Nov 2021   Pseudo R-squ.:               2.934e-05\n",
      "Time:                        20:18:06   Log-Likelihood:                -1221.3\n",
      "converged:                       True   LL-Null:                       -1221.3\n",
      "Covariance Type:            nonrobust   LLR p-value:                    0.7889\n",
      "=================================================================================\n",
      "                    coef    std err          z      P>|z|      [0.025      0.975]\n",
      "---------------------------------------------------------------------------------\n",
      "const            -1.7451      0.073    -24.045      0.000      -1.887      -1.603\n",
      "currentSmoker    -0.0280      0.104     -0.268      0.789      -0.233       0.177\n",
      "=================================================================================\n"
     ]
    }
   ],
   "source": [
    "model18=sm.Logit(y_train,X_train).fit()\n",
    "print(model18.summary())"
   ]
  },
  {
   "cell_type": "code",
   "execution_count": 220,
   "metadata": {},
   "outputs": [],
   "source": [
    "pred=model18.predict(X_test)\n",
    "pred=[0 if x<0.5 else 1 for x in pred]"
   ]
  },
  {
   "cell_type": "code",
   "execution_count": 221,
   "metadata": {},
   "outputs": [
    {
     "name": "stdout",
     "output_type": "stream",
     "text": [
      "              precision    recall  f1-score   support\n",
      "\n",
      "           0       0.83      1.00      0.91       605\n",
      "           1       0.00      0.00      0.00       127\n",
      "\n",
      "    accuracy                           0.83       732\n",
      "   macro avg       0.41      0.50      0.45       732\n",
      "weighted avg       0.68      0.83      0.75       732\n",
      "\n"
     ]
    },
    {
     "name": "stderr",
     "output_type": "stream",
     "text": [
      "C:\\Users\\gargv\\Anaconda3\\lib\\site-packages\\sklearn\\metrics\\_classification.py:1245: UndefinedMetricWarning: Precision and F-score are ill-defined and being set to 0.0 in labels with no predicted samples. Use `zero_division` parameter to control this behavior.\n",
      "  _warn_prf(average, modifier, msg_start, len(result))\n",
      "C:\\Users\\gargv\\Anaconda3\\lib\\site-packages\\sklearn\\metrics\\_classification.py:1245: UndefinedMetricWarning: Precision and F-score are ill-defined and being set to 0.0 in labels with no predicted samples. Use `zero_division` parameter to control this behavior.\n",
      "  _warn_prf(average, modifier, msg_start, len(result))\n",
      "C:\\Users\\gargv\\Anaconda3\\lib\\site-packages\\sklearn\\metrics\\_classification.py:1245: UndefinedMetricWarning: Precision and F-score are ill-defined and being set to 0.0 in labels with no predicted samples. Use `zero_division` parameter to control this behavior.\n",
      "  _warn_prf(average, modifier, msg_start, len(result))\n"
     ]
    }
   ],
   "source": [
    "print(classification_report(y_test,pred))"
   ]
  },
  {
   "cell_type": "markdown",
   "metadata": {},
   "source": [
    "<a id=\"opt\"> </a>\n",
    "## 4. Determining optimal threshold"
   ]
  },
  {
   "cell_type": "markdown",
   "metadata": {
    "collapsed": true
   },
   "source": [
    "<table align=\"left\">\n",
    "    <tr>\n",
    "        <td width=\"6%\">\n",
    "            <img src=\"question_icon.png\">\n",
    "        </td>\n",
    "        <td>\n",
    "            <div align=\"left\", style=\"font-size:120%\">\n",
    "                <font color=\"#21618C\">\n",
    "                    <b>19. Obtain the optimal value threshold for the full model using the Youden's index.</b>\n",
    "                </font>\n",
    "            </div>\n",
    "        </td>\n",
    "    </tr>\n",
    "</table>"
   ]
  },
  {
   "cell_type": "code",
   "execution_count": 222,
   "metadata": {
    "scrolled": false
   },
   "outputs": [
    {
     "name": "stdout",
     "output_type": "stream",
     "text": [
      "(2926, 18) (2926,)\n",
      "(732, 18) (732,)\n",
      "Optimization terminated successfully.\n",
      "         Current function value: 0.372817\n",
      "         Iterations 7\n"
     ]
    }
   ],
   "source": [
    "# type your code here\n",
    "# type your code here\n",
    "numeric=df1.select_dtypes(include=np.number).drop(['CVD'],axis=1)\n",
    "cat=df1.select_dtypes(include='object')\n",
    "cat1=pd.get_dummies(cat,drop_first=True)\n",
    "X=pd.concat([numeric,cat1],axis=1)\n",
    "X=sm.add_constant(X)\n",
    "y=df1.CVD\n",
    "\n",
    "from sklearn.model_selection import train_test_split\n",
    "X_train, X_test, y_train, y_test= train_test_split(X,y, random_state=10,test_size=0.2)\n",
    "\n",
    "print(X_train.shape, y_train.shape)\n",
    "print(X_test.shape, y_test.shape)\n",
    "\n",
    "model5=sm.Logit(y_train,X_train).fit()\n",
    "model5.summary()\n",
    "\n",
    "y_pred1=model5.predict(X_test)\n",
    "y_pred=[0 if i<0.5 else 1 for i in y_pred1]"
   ]
  },
  {
   "cell_type": "code",
   "execution_count": 223,
   "metadata": {},
   "outputs": [
    {
     "data": {
      "text/plain": [
       "CVD\n",
       "0      0.826503\n",
       "1      0.173497\n",
       "dtype: float64"
      ]
     },
     "execution_count": 223,
     "metadata": {},
     "output_type": "execute_result"
    }
   ],
   "source": [
    "pd.DataFrame(y_test).value_counts(normalize=True)"
   ]
  },
  {
   "cell_type": "code",
   "execution_count": 224,
   "metadata": {},
   "outputs": [
    {
     "data": {
      "text/html": [
       "<table class=\"simpletable\">\n",
       "<caption>Logit Regression Results</caption>\n",
       "<tr>\n",
       "  <th>Dep. Variable:</th>          <td>CVD</td>       <th>  No. Observations:  </th>  <td>  2926</td>  \n",
       "</tr>\n",
       "<tr>\n",
       "  <th>Model:</th>                 <td>Logit</td>      <th>  Df Residuals:      </th>  <td>  2908</td>  \n",
       "</tr>\n",
       "<tr>\n",
       "  <th>Method:</th>                 <td>MLE</td>       <th>  Df Model:          </th>  <td>    17</td>  \n",
       "</tr>\n",
       "<tr>\n",
       "  <th>Date:</th>            <td>Tue, 30 Nov 2021</td> <th>  Pseudo R-squ.:     </th>  <td>0.1068</td>  \n",
       "</tr>\n",
       "<tr>\n",
       "  <th>Time:</th>                <td>20:18:06</td>     <th>  Log-Likelihood:    </th> <td> -1090.9</td> \n",
       "</tr>\n",
       "<tr>\n",
       "  <th>converged:</th>             <td>True</td>       <th>  LL-Null:           </th> <td> -1221.3</td> \n",
       "</tr>\n",
       "<tr>\n",
       "  <th>Covariance Type:</th>     <td>nonrobust</td>    <th>  LLR p-value:       </th> <td>1.242e-45</td>\n",
       "</tr>\n",
       "</table>\n",
       "<table class=\"simpletable\">\n",
       "<tr>\n",
       "          <td></td>             <th>coef</th>     <th>std err</th>      <th>z</th>      <th>P>|z|</th>  <th>[0.025</th>    <th>0.975]</th>  \n",
       "</tr>\n",
       "<tr>\n",
       "  <th>const</th>             <td>   -8.2491</td> <td>    0.795</td> <td>  -10.377</td> <td> 0.000</td> <td>   -9.807</td> <td>   -6.691</td>\n",
       "</tr>\n",
       "<tr>\n",
       "  <th>age</th>               <td>    0.0590</td> <td>    0.008</td> <td>    7.735</td> <td> 0.000</td> <td>    0.044</td> <td>    0.074</td>\n",
       "</tr>\n",
       "<tr>\n",
       "  <th>cigsPerDay</th>        <td>    0.0086</td> <td>    0.007</td> <td>    1.174</td> <td> 0.241</td> <td>   -0.006</td> <td>    0.023</td>\n",
       "</tr>\n",
       "<tr>\n",
       "  <th>totChol</th>           <td>    0.0014</td> <td>    0.001</td> <td>    1.067</td> <td> 0.286</td> <td>   -0.001</td> <td>    0.004</td>\n",
       "</tr>\n",
       "<tr>\n",
       "  <th>sysBP</th>             <td>    0.0124</td> <td>    0.004</td> <td>    2.904</td> <td> 0.004</td> <td>    0.004</td> <td>    0.021</td>\n",
       "</tr>\n",
       "<tr>\n",
       "  <th>diaBP</th>             <td>   -0.0009</td> <td>    0.007</td> <td>   -0.125</td> <td> 0.901</td> <td>   -0.015</td> <td>    0.013</td>\n",
       "</tr>\n",
       "<tr>\n",
       "  <th>BMI</th>               <td>    0.0206</td> <td>    0.014</td> <td>    1.464</td> <td> 0.143</td> <td>   -0.007</td> <td>    0.048</td>\n",
       "</tr>\n",
       "<tr>\n",
       "  <th>heartRate</th>         <td>    0.0010</td> <td>    0.005</td> <td>    0.208</td> <td> 0.835</td> <td>   -0.008</td> <td>    0.010</td>\n",
       "</tr>\n",
       "<tr>\n",
       "  <th>glucose</th>           <td>    0.0058</td> <td>    0.003</td> <td>    2.230</td> <td> 0.026</td> <td>    0.001</td> <td>    0.011</td>\n",
       "</tr>\n",
       "<tr>\n",
       "  <th>male_1</th>            <td>    0.5808</td> <td>    0.124</td> <td>    4.693</td> <td> 0.000</td> <td>    0.338</td> <td>    0.823</td>\n",
       "</tr>\n",
       "<tr>\n",
       "  <th>education_2.0</th>     <td>   -0.2545</td> <td>    0.141</td> <td>   -1.809</td> <td> 0.070</td> <td>   -0.530</td> <td>    0.021</td>\n",
       "</tr>\n",
       "<tr>\n",
       "  <th>education_3.0</th>     <td>   -0.2815</td> <td>    0.170</td> <td>   -1.653</td> <td> 0.098</td> <td>   -0.615</td> <td>    0.052</td>\n",
       "</tr>\n",
       "<tr>\n",
       "  <th>education_4.0</th>     <td>   -0.0078</td> <td>    0.180</td> <td>   -0.043</td> <td> 0.966</td> <td>   -0.361</td> <td>    0.345</td>\n",
       "</tr>\n",
       "<tr>\n",
       "  <th>currentSmoker_1</th>   <td>    0.1291</td> <td>    0.179</td> <td>    0.723</td> <td> 0.470</td> <td>   -0.221</td> <td>    0.479</td>\n",
       "</tr>\n",
       "<tr>\n",
       "  <th>BPMeds_1.0</th>        <td>    0.4419</td> <td>    0.249</td> <td>    1.776</td> <td> 0.076</td> <td>   -0.046</td> <td>    0.930</td>\n",
       "</tr>\n",
       "<tr>\n",
       "  <th>prevalentStroke_1</th> <td>    0.6032</td> <td>    0.516</td> <td>    1.169</td> <td> 0.242</td> <td>   -0.408</td> <td>    1.615</td>\n",
       "</tr>\n",
       "<tr>\n",
       "  <th>prevalentHyp_1</th>    <td>    0.1676</td> <td>    0.156</td> <td>    1.072</td> <td> 0.284</td> <td>   -0.139</td> <td>    0.474</td>\n",
       "</tr>\n",
       "<tr>\n",
       "  <th>diabetes_1</th>        <td>    0.1162</td> <td>    0.353</td> <td>    0.329</td> <td> 0.742</td> <td>   -0.577</td> <td>    0.809</td>\n",
       "</tr>\n",
       "</table>"
      ],
      "text/plain": [
       "<class 'statsmodels.iolib.summary.Summary'>\n",
       "\"\"\"\n",
       "                           Logit Regression Results                           \n",
       "==============================================================================\n",
       "Dep. Variable:                    CVD   No. Observations:                 2926\n",
       "Model:                          Logit   Df Residuals:                     2908\n",
       "Method:                           MLE   Df Model:                           17\n",
       "Date:                Tue, 30 Nov 2021   Pseudo R-squ.:                  0.1068\n",
       "Time:                        20:18:06   Log-Likelihood:                -1090.9\n",
       "converged:                       True   LL-Null:                       -1221.3\n",
       "Covariance Type:            nonrobust   LLR p-value:                 1.242e-45\n",
       "=====================================================================================\n",
       "                        coef    std err          z      P>|z|      [0.025      0.975]\n",
       "-------------------------------------------------------------------------------------\n",
       "const                -8.2491      0.795    -10.377      0.000      -9.807      -6.691\n",
       "age                   0.0590      0.008      7.735      0.000       0.044       0.074\n",
       "cigsPerDay            0.0086      0.007      1.174      0.241      -0.006       0.023\n",
       "totChol               0.0014      0.001      1.067      0.286      -0.001       0.004\n",
       "sysBP                 0.0124      0.004      2.904      0.004       0.004       0.021\n",
       "diaBP                -0.0009      0.007     -0.125      0.901      -0.015       0.013\n",
       "BMI                   0.0206      0.014      1.464      0.143      -0.007       0.048\n",
       "heartRate             0.0010      0.005      0.208      0.835      -0.008       0.010\n",
       "glucose               0.0058      0.003      2.230      0.026       0.001       0.011\n",
       "male_1                0.5808      0.124      4.693      0.000       0.338       0.823\n",
       "education_2.0        -0.2545      0.141     -1.809      0.070      -0.530       0.021\n",
       "education_3.0        -0.2815      0.170     -1.653      0.098      -0.615       0.052\n",
       "education_4.0        -0.0078      0.180     -0.043      0.966      -0.361       0.345\n",
       "currentSmoker_1       0.1291      0.179      0.723      0.470      -0.221       0.479\n",
       "BPMeds_1.0            0.4419      0.249      1.776      0.076      -0.046       0.930\n",
       "prevalentStroke_1     0.6032      0.516      1.169      0.242      -0.408       1.615\n",
       "prevalentHyp_1        0.1676      0.156      1.072      0.284      -0.139       0.474\n",
       "diabetes_1            0.1162      0.353      0.329      0.742      -0.577       0.809\n",
       "=====================================================================================\n",
       "\"\"\""
      ]
     },
     "execution_count": 224,
     "metadata": {},
     "output_type": "execute_result"
    }
   ],
   "source": [
    "model5.summary()\n"
   ]
  },
  {
   "cell_type": "code",
   "execution_count": 225,
   "metadata": {
    "scrolled": true
   },
   "outputs": [
    {
     "data": {
      "text/html": [
       "<div>\n",
       "<style scoped>\n",
       "    .dataframe tbody tr th:only-of-type {\n",
       "        vertical-align: middle;\n",
       "    }\n",
       "\n",
       "    .dataframe tbody tr th {\n",
       "        vertical-align: top;\n",
       "    }\n",
       "\n",
       "    .dataframe thead th {\n",
       "        text-align: right;\n",
       "    }\n",
       "</style>\n",
       "<table border=\"1\" class=\"dataframe\">\n",
       "  <thead>\n",
       "    <tr style=\"text-align: right;\">\n",
       "      <th></th>\n",
       "      <th>TPR</th>\n",
       "      <th>FPR</th>\n",
       "      <th>Thresholds</th>\n",
       "      <th>Difference</th>\n",
       "    </tr>\n",
       "  </thead>\n",
       "  <tbody>\n",
       "    <tr>\n",
       "      <th>0</th>\n",
       "      <td>0.779528</td>\n",
       "      <td>0.376860</td>\n",
       "      <td>0.134758</td>\n",
       "      <td>0.402668</td>\n",
       "    </tr>\n",
       "    <tr>\n",
       "      <th>1</th>\n",
       "      <td>0.716535</td>\n",
       "      <td>0.314050</td>\n",
       "      <td>0.153150</td>\n",
       "      <td>0.402486</td>\n",
       "    </tr>\n",
       "    <tr>\n",
       "      <th>2</th>\n",
       "      <td>0.771654</td>\n",
       "      <td>0.373554</td>\n",
       "      <td>0.136901</td>\n",
       "      <td>0.398100</td>\n",
       "    </tr>\n",
       "    <tr>\n",
       "      <th>3</th>\n",
       "      <td>0.740157</td>\n",
       "      <td>0.342149</td>\n",
       "      <td>0.147086</td>\n",
       "      <td>0.398009</td>\n",
       "    </tr>\n",
       "    <tr>\n",
       "      <th>4</th>\n",
       "      <td>0.755906</td>\n",
       "      <td>0.358678</td>\n",
       "      <td>0.141405</td>\n",
       "      <td>0.397228</td>\n",
       "    </tr>\n",
       "  </tbody>\n",
       "</table>\n",
       "</div>"
      ],
      "text/plain": [
       "        TPR       FPR  Thresholds  Difference\n",
       "0  0.779528  0.376860    0.134758    0.402668\n",
       "1  0.716535  0.314050    0.153150    0.402486\n",
       "2  0.771654  0.373554    0.136901    0.398100\n",
       "3  0.740157  0.342149    0.147086    0.398009\n",
       "4  0.755906  0.358678    0.141405    0.397228"
      ]
     },
     "execution_count": 225,
     "metadata": {},
     "output_type": "execute_result"
    }
   ],
   "source": [
    "fpr , tpr , thresholds = roc_curve(y_test, y_pred1)\n",
    "\n",
    "youdens_table = pd.DataFrame({'TPR': tpr,\n",
    "                             'FPR': fpr,\n",
    "                             'Thresholds': thresholds})\n",
    "\n",
    "youdens_table['Difference'] = youdens_table['TPR'] - youdens_table['FPR']\n",
    "\n",
    "youdens_table = youdens_table.sort_values('Difference' , ascending=False).reset_index(drop = True)\n",
    "\n",
    "youdens_table.head()"
   ]
  },
  {
   "cell_type": "code",
   "execution_count": 231,
   "metadata": {},
   "outputs": [
    {
     "data": {
      "text/plain": [
       "array([1.90252982, 0.90252982, 0.55305502, 0.5469853 , 0.47552498,\n",
       "       0.46480609, 0.45290563, 0.44415104, 0.43452669, 0.42781425,\n",
       "       0.42207885, 0.40140525, 0.39771121, 0.3916056 , 0.37633706,\n",
       "       0.35320259, 0.35182687, 0.34655052, 0.34607446, 0.3444171 ,\n",
       "       0.34395799, 0.33007096, 0.32738561, 0.31827588, 0.31739064,\n",
       "       0.31498075, 0.31448854, 0.31090023, 0.31068453, 0.30120452,\n",
       "       0.30001557, 0.29308153, 0.29276449, 0.29224032, 0.28657376,\n",
       "       0.28537711, 0.28515855, 0.27866864, 0.27759592, 0.27747056,\n",
       "       0.27664966, 0.26670991, 0.26340979, 0.26039252, 0.25834179,\n",
       "       0.25427621, 0.25424748, 0.2485328 , 0.24808681, 0.24795122,\n",
       "       0.2465357 , 0.2453502 , 0.24396664, 0.23941881, 0.23909548,\n",
       "       0.23607715, 0.23573255, 0.23325847, 0.22953095, 0.22869051,\n",
       "       0.22676972, 0.22527646, 0.22336138, 0.21922735, 0.21900281,\n",
       "       0.21788836, 0.2171712 , 0.21299284, 0.21274951, 0.20722985,\n",
       "       0.20634941, 0.20516317, 0.20512841, 0.20230317, 0.2022193 ,\n",
       "       0.19921552, 0.19749103, 0.19664656, 0.19621899, 0.19531189,\n",
       "       0.19442778, 0.19282342, 0.19233749, 0.19093802, 0.19081482,\n",
       "       0.18215072, 0.18134765, 0.17923321, 0.17837572, 0.1770625 ,\n",
       "       0.1753168 , 0.17088042, 0.1708077 , 0.16630133, 0.1658003 ,\n",
       "       0.16387222, 0.16359958, 0.16159015, 0.16046052, 0.15944431,\n",
       "       0.15944088, 0.15572089, 0.15539927, 0.15374383, 0.15314987,\n",
       "       0.14963192, 0.14939906, 0.1476867 , 0.14715482, 0.14712855,\n",
       "       0.14708565, 0.14415649, 0.1438842 , 0.14154074, 0.14140512,\n",
       "       0.13878524, 0.13821495, 0.1380558 , 0.13690115, 0.13559741,\n",
       "       0.13475821, 0.12584403, 0.12574209, 0.12560415, 0.12489838,\n",
       "       0.12394693, 0.12373101, 0.11894343, 0.11788681, 0.11223593,\n",
       "       0.11216681, 0.10768997, 0.10754842, 0.10666341, 0.10629225,\n",
       "       0.10466523, 0.10440757, 0.102188  , 0.10163262, 0.09852358,\n",
       "       0.09837963, 0.09213552, 0.09212757, 0.09182847, 0.09177888,\n",
       "       0.08892412, 0.08863731, 0.08813863, 0.08729588, 0.08616993,\n",
       "       0.08606108, 0.07570918, 0.07507656, 0.06891046, 0.06885848,\n",
       "       0.06867129, 0.06846128, 0.06753079, 0.0675012 , 0.06625889,\n",
       "       0.06615756, 0.06329357, 0.06289813, 0.05137811, 0.05132762,\n",
       "       0.05003822, 0.04999516, 0.04352288, 0.04335348, 0.03480128,\n",
       "       0.0347286 , 0.02213915, 0.02060129, 0.01587412])"
      ]
     },
     "execution_count": 231,
     "metadata": {},
     "output_type": "execute_result"
    }
   ],
   "source": [
    "thresholds"
   ]
  },
  {
   "cell_type": "markdown",
   "metadata": {
    "collapsed": true
   },
   "source": [
    "<table align=\"left\">\n",
    "    <tr>\n",
    "        <td width=\"6%\">\n",
    "            <img src=\"question_icon.png\">\n",
    "        </td>\n",
    "        <td>\n",
    "            <div align=\"left\", style=\"font-size:120%\">\n",
    "                <font color=\"#21618C\">\n",
    "                    <b>20. Consider the costs of false negatives and false positives as 3 and 1.3 respectively to obtain the optimal cut-off probability for which the total cost will be minimum.</b>\n",
    "                </font>\n",
    "            </div>\n",
    "        </td>\n",
    "    </tr>\n",
    "</table>"
   ]
  },
  {
   "cell_type": "code",
   "execution_count": 13,
   "metadata": {},
   "outputs": [
    {
     "data": {
      "text/html": [
       "<div>\n",
       "<style scoped>\n",
       "    .dataframe tbody tr th:only-of-type {\n",
       "        vertical-align: middle;\n",
       "    }\n",
       "\n",
       "    .dataframe tbody tr th {\n",
       "        vertical-align: top;\n",
       "    }\n",
       "\n",
       "    .dataframe thead th {\n",
       "        text-align: right;\n",
       "    }\n",
       "</style>\n",
       "<table border=\"1\" class=\"dataframe\">\n",
       "  <thead>\n",
       "    <tr style=\"text-align: right;\">\n",
       "      <th></th>\n",
       "      <th>male</th>\n",
       "      <th>age</th>\n",
       "      <th>education</th>\n",
       "      <th>currentSmoker</th>\n",
       "      <th>cigsPerDay</th>\n",
       "      <th>BPMeds</th>\n",
       "      <th>prevalentStroke</th>\n",
       "      <th>prevalentHyp</th>\n",
       "      <th>diabetes</th>\n",
       "      <th>totChol</th>\n",
       "      <th>sysBP</th>\n",
       "      <th>diaBP</th>\n",
       "      <th>BMI</th>\n",
       "      <th>heartRate</th>\n",
       "      <th>glucose</th>\n",
       "      <th>CVD</th>\n",
       "    </tr>\n",
       "  </thead>\n",
       "  <tbody>\n",
       "    <tr>\n",
       "      <th>0</th>\n",
       "      <td>1</td>\n",
       "      <td>39</td>\n",
       "      <td>4.0</td>\n",
       "      <td>0</td>\n",
       "      <td>0.0</td>\n",
       "      <td>0.0</td>\n",
       "      <td>0</td>\n",
       "      <td>0</td>\n",
       "      <td>0</td>\n",
       "      <td>195.0</td>\n",
       "      <td>106.0</td>\n",
       "      <td>70.0</td>\n",
       "      <td>26.97</td>\n",
       "      <td>80.0</td>\n",
       "      <td>77.0</td>\n",
       "      <td>0</td>\n",
       "    </tr>\n",
       "    <tr>\n",
       "      <th>1</th>\n",
       "      <td>0</td>\n",
       "      <td>46</td>\n",
       "      <td>2.0</td>\n",
       "      <td>0</td>\n",
       "      <td>0.0</td>\n",
       "      <td>0.0</td>\n",
       "      <td>0</td>\n",
       "      <td>0</td>\n",
       "      <td>0</td>\n",
       "      <td>250.0</td>\n",
       "      <td>121.0</td>\n",
       "      <td>81.0</td>\n",
       "      <td>28.73</td>\n",
       "      <td>95.0</td>\n",
       "      <td>76.0</td>\n",
       "      <td>0</td>\n",
       "    </tr>\n",
       "    <tr>\n",
       "      <th>2</th>\n",
       "      <td>1</td>\n",
       "      <td>48</td>\n",
       "      <td>1.0</td>\n",
       "      <td>1</td>\n",
       "      <td>20.0</td>\n",
       "      <td>0.0</td>\n",
       "      <td>0</td>\n",
       "      <td>0</td>\n",
       "      <td>0</td>\n",
       "      <td>245.0</td>\n",
       "      <td>127.5</td>\n",
       "      <td>80.0</td>\n",
       "      <td>25.34</td>\n",
       "      <td>75.0</td>\n",
       "      <td>70.0</td>\n",
       "      <td>0</td>\n",
       "    </tr>\n",
       "    <tr>\n",
       "      <th>3</th>\n",
       "      <td>0</td>\n",
       "      <td>61</td>\n",
       "      <td>3.0</td>\n",
       "      <td>1</td>\n",
       "      <td>30.0</td>\n",
       "      <td>0.0</td>\n",
       "      <td>0</td>\n",
       "      <td>1</td>\n",
       "      <td>0</td>\n",
       "      <td>225.0</td>\n",
       "      <td>150.0</td>\n",
       "      <td>95.0</td>\n",
       "      <td>28.58</td>\n",
       "      <td>65.0</td>\n",
       "      <td>103.0</td>\n",
       "      <td>1</td>\n",
       "    </tr>\n",
       "    <tr>\n",
       "      <th>4</th>\n",
       "      <td>0</td>\n",
       "      <td>46</td>\n",
       "      <td>3.0</td>\n",
       "      <td>1</td>\n",
       "      <td>23.0</td>\n",
       "      <td>0.0</td>\n",
       "      <td>0</td>\n",
       "      <td>0</td>\n",
       "      <td>0</td>\n",
       "      <td>285.0</td>\n",
       "      <td>130.0</td>\n",
       "      <td>84.0</td>\n",
       "      <td>23.10</td>\n",
       "      <td>85.0</td>\n",
       "      <td>85.0</td>\n",
       "      <td>0</td>\n",
       "    </tr>\n",
       "    <tr>\n",
       "      <th>...</th>\n",
       "      <td>...</td>\n",
       "      <td>...</td>\n",
       "      <td>...</td>\n",
       "      <td>...</td>\n",
       "      <td>...</td>\n",
       "      <td>...</td>\n",
       "      <td>...</td>\n",
       "      <td>...</td>\n",
       "      <td>...</td>\n",
       "      <td>...</td>\n",
       "      <td>...</td>\n",
       "      <td>...</td>\n",
       "      <td>...</td>\n",
       "      <td>...</td>\n",
       "      <td>...</td>\n",
       "      <td>...</td>\n",
       "    </tr>\n",
       "    <tr>\n",
       "      <th>4235</th>\n",
       "      <td>0</td>\n",
       "      <td>48</td>\n",
       "      <td>2.0</td>\n",
       "      <td>1</td>\n",
       "      <td>20.0</td>\n",
       "      <td>NaN</td>\n",
       "      <td>0</td>\n",
       "      <td>0</td>\n",
       "      <td>0</td>\n",
       "      <td>248.0</td>\n",
       "      <td>131.0</td>\n",
       "      <td>72.0</td>\n",
       "      <td>22.00</td>\n",
       "      <td>84.0</td>\n",
       "      <td>86.0</td>\n",
       "      <td>0</td>\n",
       "    </tr>\n",
       "    <tr>\n",
       "      <th>4236</th>\n",
       "      <td>0</td>\n",
       "      <td>44</td>\n",
       "      <td>1.0</td>\n",
       "      <td>1</td>\n",
       "      <td>15.0</td>\n",
       "      <td>0.0</td>\n",
       "      <td>0</td>\n",
       "      <td>0</td>\n",
       "      <td>0</td>\n",
       "      <td>210.0</td>\n",
       "      <td>126.5</td>\n",
       "      <td>87.0</td>\n",
       "      <td>19.16</td>\n",
       "      <td>86.0</td>\n",
       "      <td>NaN</td>\n",
       "      <td>0</td>\n",
       "    </tr>\n",
       "    <tr>\n",
       "      <th>4237</th>\n",
       "      <td>0</td>\n",
       "      <td>52</td>\n",
       "      <td>2.0</td>\n",
       "      <td>0</td>\n",
       "      <td>0.0</td>\n",
       "      <td>0.0</td>\n",
       "      <td>0</td>\n",
       "      <td>0</td>\n",
       "      <td>0</td>\n",
       "      <td>269.0</td>\n",
       "      <td>133.5</td>\n",
       "      <td>83.0</td>\n",
       "      <td>21.47</td>\n",
       "      <td>80.0</td>\n",
       "      <td>107.0</td>\n",
       "      <td>0</td>\n",
       "    </tr>\n",
       "    <tr>\n",
       "      <th>4238</th>\n",
       "      <td>1</td>\n",
       "      <td>40</td>\n",
       "      <td>3.0</td>\n",
       "      <td>0</td>\n",
       "      <td>0.0</td>\n",
       "      <td>0.0</td>\n",
       "      <td>0</td>\n",
       "      <td>1</td>\n",
       "      <td>0</td>\n",
       "      <td>185.0</td>\n",
       "      <td>141.0</td>\n",
       "      <td>98.0</td>\n",
       "      <td>25.60</td>\n",
       "      <td>67.0</td>\n",
       "      <td>72.0</td>\n",
       "      <td>0</td>\n",
       "    </tr>\n",
       "    <tr>\n",
       "      <th>4239</th>\n",
       "      <td>0</td>\n",
       "      <td>39</td>\n",
       "      <td>3.0</td>\n",
       "      <td>1</td>\n",
       "      <td>30.0</td>\n",
       "      <td>0.0</td>\n",
       "      <td>0</td>\n",
       "      <td>0</td>\n",
       "      <td>0</td>\n",
       "      <td>196.0</td>\n",
       "      <td>133.0</td>\n",
       "      <td>86.0</td>\n",
       "      <td>20.91</td>\n",
       "      <td>85.0</td>\n",
       "      <td>80.0</td>\n",
       "      <td>0</td>\n",
       "    </tr>\n",
       "  </tbody>\n",
       "</table>\n",
       "<p>4240 rows × 16 columns</p>\n",
       "</div>"
      ],
      "text/plain": [
       "      male  age  education  currentSmoker  cigsPerDay  BPMeds  \\\n",
       "0        1   39        4.0              0         0.0     0.0   \n",
       "1        0   46        2.0              0         0.0     0.0   \n",
       "2        1   48        1.0              1        20.0     0.0   \n",
       "3        0   61        3.0              1        30.0     0.0   \n",
       "4        0   46        3.0              1        23.0     0.0   \n",
       "...    ...  ...        ...            ...         ...     ...   \n",
       "4235     0   48        2.0              1        20.0     NaN   \n",
       "4236     0   44        1.0              1        15.0     0.0   \n",
       "4237     0   52        2.0              0         0.0     0.0   \n",
       "4238     1   40        3.0              0         0.0     0.0   \n",
       "4239     0   39        3.0              1        30.0     0.0   \n",
       "\n",
       "      prevalentStroke  prevalentHyp  diabetes  totChol  sysBP  diaBP    BMI  \\\n",
       "0                   0             0         0    195.0  106.0   70.0  26.97   \n",
       "1                   0             0         0    250.0  121.0   81.0  28.73   \n",
       "2                   0             0         0    245.0  127.5   80.0  25.34   \n",
       "3                   0             1         0    225.0  150.0   95.0  28.58   \n",
       "4                   0             0         0    285.0  130.0   84.0  23.10   \n",
       "...               ...           ...       ...      ...    ...    ...    ...   \n",
       "4235                0             0         0    248.0  131.0   72.0  22.00   \n",
       "4236                0             0         0    210.0  126.5   87.0  19.16   \n",
       "4237                0             0         0    269.0  133.5   83.0  21.47   \n",
       "4238                0             1         0    185.0  141.0   98.0  25.60   \n",
       "4239                0             0         0    196.0  133.0   86.0  20.91   \n",
       "\n",
       "      heartRate  glucose  CVD  \n",
       "0          80.0     77.0    0  \n",
       "1          95.0     76.0    0  \n",
       "2          75.0     70.0    0  \n",
       "3          65.0    103.0    1  \n",
       "4          85.0     85.0    0  \n",
       "...         ...      ...  ...  \n",
       "4235       84.0     86.0    0  \n",
       "4236       86.0      NaN    0  \n",
       "4237       80.0    107.0    0  \n",
       "4238       67.0     72.0    0  \n",
       "4239       85.0     80.0    0  \n",
       "\n",
       "[4240 rows x 16 columns]"
      ]
     },
     "execution_count": 13,
     "metadata": {},
     "output_type": "execute_result"
    }
   ],
   "source": [
    "# type your code here\n",
    "df"
   ]
  },
  {
   "cell_type": "code",
   "execution_count": 16,
   "metadata": {},
   "outputs": [
    {
     "data": {
      "text/plain": [
       "male                0.285997\n",
       "age                 0.228867\n",
       "education           0.688730\n",
       "currentSmoker       0.023595\n",
       "cigsPerDay          1.247052\n",
       "BPMeds              5.551462\n",
       "prevalentStroke    12.912160\n",
       "prevalentHyp        0.818827\n",
       "diabetes            5.995907\n",
       "totChol             0.871881\n",
       "sysBP               1.145285\n",
       "diaBP               0.713250\n",
       "BMI                 0.982183\n",
       "heartRate           0.644372\n",
       "glucose             6.214948\n",
       "CVD                 1.940516\n",
       "dtype: float64"
      ]
     },
     "execution_count": 16,
     "metadata": {},
     "output_type": "execute_result"
    }
   ],
   "source": [
    "df.skew()"
   ]
  }
 ],
 "metadata": {
  "kernelspec": {
   "display_name": "Python 3",
   "language": "python",
   "name": "python3"
  },
  "language_info": {
   "codemirror_mode": {
    "name": "ipython",
    "version": 3
   },
   "file_extension": ".py",
   "mimetype": "text/x-python",
   "name": "python",
   "nbconvert_exporter": "python",
   "pygments_lexer": "ipython3",
   "version": "3.8.8"
  }
 },
 "nbformat": 4,
 "nbformat_minor": 2
}
